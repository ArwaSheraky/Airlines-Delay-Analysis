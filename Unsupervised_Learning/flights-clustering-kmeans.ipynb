{
 "cells": [
  {
   "cell_type": "markdown",
   "metadata": {},
   "source": [
    "# K-means Clustering"
   ]
  },
  {
   "cell_type": "code",
   "execution_count": 1,
   "metadata": {},
   "outputs": [],
   "source": [
    "# import the library\n",
    "%matplotlib inline\n",
    "\n",
    "import pandas as pd\n",
    "import numpy as np\n",
    "import collections\n",
    "import matplotlib.pyplot as plt\n",
    "import seaborn as sns\n",
    "\n",
    "from sklearn.cluster import KMeans\n",
    "from sklearn.preprocessing import StandardScaler\n",
    "from sklearn.preprocessing import LabelEncoder\n",
    "from sklearn.metrics.pairwise import euclidean_distances\n",
    "\n",
    "# convert scientific notation to decimals\n",
    "pd.set_option('display.float_format', lambda x: '%.2f' % x)\n",
    "sns.set_style('whitegrid')"
   ]
  },
  {
   "cell_type": "markdown",
   "metadata": {},
   "source": [
    "# Problem definition\n",
    "Clustering airlines according to average delay, distance, etc."
   ]
  },
  {
   "cell_type": "markdown",
   "metadata": {},
   "source": [
    "____________\n",
    "# Load the Data"
   ]
  },
  {
   "cell_type": "markdown",
   "metadata": {},
   "source": [
    "### Cleaned, Merged dataset can be downloaded from here: https://www.kaggle.com/arwasheraky/cleaned-flight-delays-2015"
   ]
  },
  {
   "cell_type": "code",
   "execution_count": 2,
   "metadata": {},
   "outputs": [
    {
     "name": "stdout",
     "output_type": "stream",
     "text": [
      "Index(['MONTH', 'FLIGHT_NUMBER', 'TAIL_NUMBER', 'SCHEDULED_DEPARTURE',\n",
      "       'DEPARTURE_TIME', 'DEPARTURE_DELAY', 'SCHEDULED_TIME', 'DISTANCE',\n",
      "       'SCHEDULED_ARRIVAL', 'ARRIVAL_TIME', 'ARRIVAL_DELAY', 'DIVERTED',\n",
      "       'CANCELLED', 'CANCELLATION_REASON', 'AIR_SYSTEM_DELAY',\n",
      "       'SECURITY_DELAY', 'AIRLINE_DELAY', 'LATE_AIRCRAFT_DELAY',\n",
      "       'WEATHER_DELAY', 'DATE', 'CLASS', 'AIRLINE_CODE', 'AIRLINE_NAME',\n",
      "       'ORIGIN_AC', 'ORIGIN_NAME', 'ORIGIN_STATE', 'ORIGIN_LATITUDE',\n",
      "       'ORIGIN_LONGITUDE', 'DESTINATION_AC', 'DESTINATION_NAME', 'DEST_STATE',\n",
      "       'DEST_LATITUDE', 'DEST_LONGITUDE'],\n",
      "      dtype='object')\n"
     ]
    },
    {
     "data": {
      "text/html": [
       "<div>\n",
       "<style scoped>\n",
       "    .dataframe tbody tr th:only-of-type {\n",
       "        vertical-align: middle;\n",
       "    }\n",
       "\n",
       "    .dataframe tbody tr th {\n",
       "        vertical-align: top;\n",
       "    }\n",
       "\n",
       "    .dataframe thead th {\n",
       "        text-align: right;\n",
       "    }\n",
       "</style>\n",
       "<table border=\"1\" class=\"dataframe\">\n",
       "  <thead>\n",
       "    <tr style=\"text-align: right;\">\n",
       "      <th></th>\n",
       "      <th>MONTH</th>\n",
       "      <th>FLIGHT_NUMBER</th>\n",
       "      <th>TAIL_NUMBER</th>\n",
       "      <th>SCHEDULED_DEPARTURE</th>\n",
       "      <th>DEPARTURE_TIME</th>\n",
       "      <th>DEPARTURE_DELAY</th>\n",
       "      <th>SCHEDULED_TIME</th>\n",
       "      <th>DISTANCE</th>\n",
       "      <th>SCHEDULED_ARRIVAL</th>\n",
       "      <th>ARRIVAL_TIME</th>\n",
       "      <th>...</th>\n",
       "      <th>ORIGIN_AC</th>\n",
       "      <th>ORIGIN_NAME</th>\n",
       "      <th>ORIGIN_STATE</th>\n",
       "      <th>ORIGIN_LATITUDE</th>\n",
       "      <th>ORIGIN_LONGITUDE</th>\n",
       "      <th>DESTINATION_AC</th>\n",
       "      <th>DESTINATION_NAME</th>\n",
       "      <th>DEST_STATE</th>\n",
       "      <th>DEST_LATITUDE</th>\n",
       "      <th>DEST_LONGITUDE</th>\n",
       "    </tr>\n",
       "  </thead>\n",
       "  <tbody>\n",
       "    <tr>\n",
       "      <th>0</th>\n",
       "      <td>1</td>\n",
       "      <td>98</td>\n",
       "      <td>N407AS</td>\n",
       "      <td>00:05:00</td>\n",
       "      <td>23:54:00</td>\n",
       "      <td>-11.00</td>\n",
       "      <td>205.00</td>\n",
       "      <td>1448</td>\n",
       "      <td>04:30:00</td>\n",
       "      <td>04:08:00</td>\n",
       "      <td>...</td>\n",
       "      <td>ANC</td>\n",
       "      <td>Ted Stevens Anchorage International Airport</td>\n",
       "      <td>AK</td>\n",
       "      <td>61.17</td>\n",
       "      <td>-150.00</td>\n",
       "      <td>SEA</td>\n",
       "      <td>Seattle-Tacoma International Airport</td>\n",
       "      <td>WA</td>\n",
       "      <td>47.45</td>\n",
       "      <td>-122.31</td>\n",
       "    </tr>\n",
       "    <tr>\n",
       "      <th>1</th>\n",
       "      <td>1</td>\n",
       "      <td>2336</td>\n",
       "      <td>N3KUAA</td>\n",
       "      <td>00:10:00</td>\n",
       "      <td>00:02:00</td>\n",
       "      <td>-8.00</td>\n",
       "      <td>280.00</td>\n",
       "      <td>2330</td>\n",
       "      <td>07:50:00</td>\n",
       "      <td>07:41:00</td>\n",
       "      <td>...</td>\n",
       "      <td>LAX</td>\n",
       "      <td>Los Angeles International Airport</td>\n",
       "      <td>CA</td>\n",
       "      <td>33.94</td>\n",
       "      <td>-118.41</td>\n",
       "      <td>PBI</td>\n",
       "      <td>Palm Beach International Airport</td>\n",
       "      <td>FL</td>\n",
       "      <td>26.68</td>\n",
       "      <td>-80.10</td>\n",
       "    </tr>\n",
       "    <tr>\n",
       "      <th>2</th>\n",
       "      <td>1</td>\n",
       "      <td>840</td>\n",
       "      <td>N171US</td>\n",
       "      <td>00:20:00</td>\n",
       "      <td>00:18:00</td>\n",
       "      <td>-2.00</td>\n",
       "      <td>286.00</td>\n",
       "      <td>2296</td>\n",
       "      <td>08:06:00</td>\n",
       "      <td>08:11:00</td>\n",
       "      <td>...</td>\n",
       "      <td>SFO</td>\n",
       "      <td>San Francisco International Airport</td>\n",
       "      <td>CA</td>\n",
       "      <td>37.62</td>\n",
       "      <td>-122.37</td>\n",
       "      <td>CLT</td>\n",
       "      <td>Charlotte Douglas International Airport</td>\n",
       "      <td>NC</td>\n",
       "      <td>35.21</td>\n",
       "      <td>-80.94</td>\n",
       "    </tr>\n",
       "    <tr>\n",
       "      <th>3</th>\n",
       "      <td>1</td>\n",
       "      <td>258</td>\n",
       "      <td>N3HYAA</td>\n",
       "      <td>00:20:00</td>\n",
       "      <td>00:15:00</td>\n",
       "      <td>-5.00</td>\n",
       "      <td>285.00</td>\n",
       "      <td>2342</td>\n",
       "      <td>08:05:00</td>\n",
       "      <td>07:56:00</td>\n",
       "      <td>...</td>\n",
       "      <td>LAX</td>\n",
       "      <td>Los Angeles International Airport</td>\n",
       "      <td>CA</td>\n",
       "      <td>33.94</td>\n",
       "      <td>-118.41</td>\n",
       "      <td>MIA</td>\n",
       "      <td>Miami International Airport</td>\n",
       "      <td>FL</td>\n",
       "      <td>25.79</td>\n",
       "      <td>-80.29</td>\n",
       "    </tr>\n",
       "    <tr>\n",
       "      <th>4</th>\n",
       "      <td>1</td>\n",
       "      <td>135</td>\n",
       "      <td>N527AS</td>\n",
       "      <td>00:25:00</td>\n",
       "      <td>00:24:00</td>\n",
       "      <td>-1.00</td>\n",
       "      <td>235.00</td>\n",
       "      <td>1448</td>\n",
       "      <td>03:20:00</td>\n",
       "      <td>02:59:00</td>\n",
       "      <td>...</td>\n",
       "      <td>SEA</td>\n",
       "      <td>Seattle-Tacoma International Airport</td>\n",
       "      <td>WA</td>\n",
       "      <td>47.45</td>\n",
       "      <td>-122.31</td>\n",
       "      <td>ANC</td>\n",
       "      <td>Ted Stevens Anchorage International Airport</td>\n",
       "      <td>AK</td>\n",
       "      <td>61.17</td>\n",
       "      <td>-150.00</td>\n",
       "    </tr>\n",
       "  </tbody>\n",
       "</table>\n",
       "<p>5 rows × 33 columns</p>\n",
       "</div>"
      ],
      "text/plain": [
       "   MONTH  FLIGHT_NUMBER TAIL_NUMBER SCHEDULED_DEPARTURE DEPARTURE_TIME  \\\n",
       "0      1             98      N407AS            00:05:00       23:54:00   \n",
       "1      1           2336      N3KUAA            00:10:00       00:02:00   \n",
       "2      1            840      N171US            00:20:00       00:18:00   \n",
       "3      1            258      N3HYAA            00:20:00       00:15:00   \n",
       "4      1            135      N527AS            00:25:00       00:24:00   \n",
       "\n",
       "   DEPARTURE_DELAY  SCHEDULED_TIME  DISTANCE SCHEDULED_ARRIVAL ARRIVAL_TIME  \\\n",
       "0           -11.00          205.00      1448          04:30:00     04:08:00   \n",
       "1            -8.00          280.00      2330          07:50:00     07:41:00   \n",
       "2            -2.00          286.00      2296          08:06:00     08:11:00   \n",
       "3            -5.00          285.00      2342          08:05:00     07:56:00   \n",
       "4            -1.00          235.00      1448          03:20:00     02:59:00   \n",
       "\n",
       "       ...        ORIGIN_AC                                  ORIGIN_NAME  \\\n",
       "0      ...              ANC  Ted Stevens Anchorage International Airport   \n",
       "1      ...              LAX            Los Angeles International Airport   \n",
       "2      ...              SFO          San Francisco International Airport   \n",
       "3      ...              LAX            Los Angeles International Airport   \n",
       "4      ...              SEA         Seattle-Tacoma International Airport   \n",
       "\n",
       "   ORIGIN_STATE ORIGIN_LATITUDE  ORIGIN_LONGITUDE  DESTINATION_AC  \\\n",
       "0            AK           61.17           -150.00             SEA   \n",
       "1            CA           33.94           -118.41             PBI   \n",
       "2            CA           37.62           -122.37             CLT   \n",
       "3            CA           33.94           -118.41             MIA   \n",
       "4            WA           47.45           -122.31             ANC   \n",
       "\n",
       "                              DESTINATION_NAME  DEST_STATE  DEST_LATITUDE  \\\n",
       "0         Seattle-Tacoma International Airport          WA          47.45   \n",
       "1             Palm Beach International Airport          FL          26.68   \n",
       "2      Charlotte Douglas International Airport          NC          35.21   \n",
       "3                  Miami International Airport          FL          25.79   \n",
       "4  Ted Stevens Anchorage International Airport          AK          61.17   \n",
       "\n",
       "  DEST_LONGITUDE  \n",
       "0        -122.31  \n",
       "1         -80.10  \n",
       "2         -80.94  \n",
       "3         -80.29  \n",
       "4        -150.00  \n",
       "\n",
       "[5 rows x 33 columns]"
      ]
     },
     "execution_count": 2,
     "metadata": {},
     "output_type": "execute_result"
    }
   ],
   "source": [
    "df_flights = pd.read_csv('../data/flightsmerged.csv', low_memory=False)\n",
    "print(df_flights.columns)\n",
    "df_flights.head()"
   ]
  },
  {
   "cell_type": "markdown",
   "metadata": {},
   "source": [
    "_________________\n",
    "# Feature Engineering"
   ]
  },
  {
   "cell_type": "code",
   "execution_count": 3,
   "metadata": {
    "scrolled": true
   },
   "outputs": [
    {
     "name": "stdout",
     "output_type": "stream",
     "text": [
      "Original dataset :  (5697506, 33)\n",
      "Now :  (5596829, 31)\n"
     ]
    }
   ],
   "source": [
    "# Keep just the delayed flights\n",
    "\n",
    "df = df_flights[df_flights['CLASS'] == 'Delayed']\n",
    "df = df.drop(columns = ['CANCELLATION_REASON','CANCELLED'])\n",
    "print(\"Original dataset : \",df_flights.shape)\n",
    "print(\"Now : \",df.shape)"
   ]
  },
  {
   "cell_type": "markdown",
   "metadata": {},
   "source": [
    "## Add a column"
   ]
  },
  {
   "cell_type": "code",
   "execution_count": 4,
   "metadata": {},
   "outputs": [
    {
     "data": {
      "text/plain": [
       "0   -16.50\n",
       "1    -8.50\n",
       "2     1.50\n",
       "3    -7.00\n",
       "4   -11.00\n",
       "5     1.50\n",
       "6   -11.50\n",
       "7     2.00\n",
       "8   -12.00\n",
       "9    -6.00\n",
       "Name: AVG_DELAY, dtype: float64"
      ]
     },
     "execution_count": 4,
     "metadata": {},
     "output_type": "execute_result"
    }
   ],
   "source": [
    "# Average delay column\n",
    "\n",
    "df['AVG_DELAY'] = 0\n",
    "df['AVG_DELAY'] = (df['DEPARTURE_DELAY'] + df['ARRIVAL_DELAY']) / 2.0\n",
    "df['AVG_DELAY'].head(10)\n"
   ]
  },
  {
   "cell_type": "code",
   "execution_count": 5,
   "metadata": {},
   "outputs": [
    {
     "data": {
      "image/png": "[encoded data removed]",
      "text/plain": [
       "<Figure size 720x432 with 1 Axes>"
      ]
     },
     "metadata": {
      "needs_background": "light"
     },
     "output_type": "display_data"
    }
   ],
   "source": [
    "plt.figure(figsize=(10,6))\n",
    "plt.hist(df['AVG_DELAY'], bins=50, color='purple')\n",
    "plt.xlabel(\"Average Delay\")\n",
    "plt.ylabel(\"Frequency\")\n",
    "plt.show()"
   ]
  },
  {
   "cell_type": "code",
   "execution_count": 6,
   "metadata": {},
   "outputs": [],
   "source": [
    "df = df.dropna()"
   ]
  },
  {
   "cell_type": "markdown",
   "metadata": {},
   "source": [
    "## Label Encodeing"
   ]
  },
  {
   "cell_type": "code",
   "execution_count": 38,
   "metadata": {},
   "outputs": [],
   "source": [
    "# get_dummies\n",
    "\n",
    "# Convert MONTH to STRING\n",
    "df['MONTH'] = df['MONTH'].replace(to_replace = list(range(1, 13)),\n",
    "                                  value=['1','2','3','4','5','6','7','8','9','10','11','12'])\n",
    "\n",
    "categorical = ['MONTH']\n",
    "\n",
    "df_dummies = pd.get_dummies(df[categorical])\n",
    "df = pd.concat([df, df_dummies], axis=1)"
   ]
  },
  {
   "cell_type": "markdown",
   "metadata": {},
   "source": [
    "## Select Model Columns"
   ]
  },
  {
   "cell_type": "code",
   "execution_count": 41,
   "metadata": {},
   "outputs": [],
   "source": [
    "X_columns = ['DISTANCE','AVG_DELAY'] #+ list(df_dummies.columns)"
   ]
  },
  {
   "cell_type": "code",
   "execution_count": 42,
   "metadata": {},
   "outputs": [
    {
     "data": {
      "text/html": [
       "<div>\n",
       "<style scoped>\n",
       "    .dataframe tbody tr th:only-of-type {\n",
       "        vertical-align: middle;\n",
       "    }\n",
       "\n",
       "    .dataframe tbody tr th {\n",
       "        vertical-align: top;\n",
       "    }\n",
       "\n",
       "    .dataframe thead th {\n",
       "        text-align: right;\n",
       "    }\n",
       "</style>\n",
       "<table border=\"1\" class=\"dataframe\">\n",
       "  <thead>\n",
       "    <tr style=\"text-align: right;\">\n",
       "      <th></th>\n",
       "      <th>DISTANCE</th>\n",
       "      <th>AVG_DELAY</th>\n",
       "    </tr>\n",
       "  </thead>\n",
       "  <tbody>\n",
       "    <tr>\n",
       "      <th>0</th>\n",
       "      <td>1.02</td>\n",
       "      <td>-0.92</td>\n",
       "    </tr>\n",
       "    <tr>\n",
       "      <th>1</th>\n",
       "      <td>2.47</td>\n",
       "      <td>-0.55</td>\n",
       "    </tr>\n",
       "    <tr>\n",
       "      <th>2</th>\n",
       "      <td>2.41</td>\n",
       "      <td>-0.08</td>\n",
       "    </tr>\n",
       "    <tr>\n",
       "      <th>3</th>\n",
       "      <td>2.49</td>\n",
       "      <td>-0.48</td>\n",
       "    </tr>\n",
       "    <tr>\n",
       "      <th>4</th>\n",
       "      <td>1.02</td>\n",
       "      <td>-0.66</td>\n",
       "    </tr>\n",
       "  </tbody>\n",
       "</table>\n",
       "</div>"
      ],
      "text/plain": [
       "   DISTANCE  AVG_DELAY\n",
       "0      1.02      -0.92\n",
       "1      2.47      -0.55\n",
       "2      2.41      -0.08\n",
       "3      2.49      -0.48\n",
       "4      1.02      -0.66"
      ]
     },
     "execution_count": 42,
     "metadata": {},
     "output_type": "execute_result"
    }
   ],
   "source": [
    "# normalize the columns\n",
    "df_norm = df.copy()\n",
    "df_norm = df_norm[X_columns]\n",
    "\n",
    "for col in X_columns:\n",
    "    df_norm[col] = df[col].astype(float)\n",
    "    df_norm[col] = StandardScaler().fit_transform(df_norm[col].values.reshape(-1, 1))\n",
    "\n",
    "df_norm.head()"
   ]
  },
  {
   "cell_type": "markdown",
   "metadata": {},
   "source": [
    "_______\n",
    "# Model Training"
   ]
  },
  {
   "cell_type": "code",
   "execution_count": 43,
   "metadata": {},
   "outputs": [
    {
     "name": "stdout",
     "output_type": "stream",
     "text": [
      "{0, 1, 2}\n",
      "Counter({1: 3722244, 0: 898170, 2: 488608})\n"
     ]
    }
   ],
   "source": [
    "k = 3\n",
    "kmeans = KMeans(n_clusters=k).fit(df_norm.values)\n",
    "\n",
    "print(set(kmeans.labels_))\n",
    "print(collections.Counter(kmeans.labels_))"
   ]
  },
  {
   "cell_type": "code",
   "execution_count": 61,
   "metadata": {},
   "outputs": [],
   "source": [
    "df_results = df.copy()\n",
    "df_norm['cluster'] = kmeans.labels_\n",
    "df_results['cluster'] = kmeans.labels_"
   ]
  },
  {
   "cell_type": "markdown",
   "metadata": {},
   "source": [
    "____________\n",
    "# Analyze the Results"
   ]
  },
  {
   "cell_type": "code",
   "execution_count": 63,
   "metadata": {
    "scrolled": false
   },
   "outputs": [
    {
     "name": "stdout",
     "output_type": "stream",
     "text": [
      "Cluster  0  :  [(15, 1783), (745, 1569), (3, 1564)]\n",
      "Cluster  1  :  [(469, 2535), (604, 2442), (657, 2270)]\n",
      "Cluster  2  :  [(719, 415), (356, 384), (711, 381)]\n",
      "DISTANCE\n"
     ]
    },
    {
     "data": {
      "image/png": "[encoded data removed]",
      "text/plain": [
       "<Figure size 1152x216 with 3 Axes>"
      ]
     },
     "metadata": {
      "needs_background": "light"
     },
     "output_type": "display_data"
    },
    {
     "name": "stdout",
     "output_type": "stream",
     "text": [
      "AVG_DELAY\n"
     ]
    },
    {
     "data": {
      "image/png": "[encoded data removed]",
      "text/plain": [
       "<Figure size 1152x216 with 3 Axes>"
      ]
     },
     "metadata": {
      "needs_background": "light"
     },
     "output_type": "display_data"
    }
   ],
   "source": [
    "\n",
    "df_results = df_results.reset_index()\n",
    "\n",
    "for cluster in sorted(set(kmeans.labels_)):\n",
    "    print(\"Cluster \",cluster,\" : \",\n",
    "          collections.Counter(df_results[df_results['cluster']==cluster]['FLIGHT_NUMBER']).most_common(3))\n",
    "\n",
    "colors = ['red','purple','orange']\n",
    "n_clusters = len(set(kmeans.labels_))\n",
    "\n",
    "for col in X_columns:\n",
    "    print(col)\n",
    "    i = 1\n",
    "    plt.figure(figsize=(16,3))\n",
    "    \n",
    "    for cluster in sorted(set(kmeans.labels_)):\n",
    "        plt.subplot(1, n_clusters, i)\n",
    "        plt.xlim([df_results[col].min(),df_results[col].max()])\n",
    "        plt.hist(df_results[df_results['cluster']==cluster][col], bins=10, label=str(cluster), alpha=0.7, color=colors[i-1])\n",
    "        i += 1\n",
    "        \n",
    "    plt.show()"
   ]
  },
  {
   "cell_type": "code",
   "execution_count": null,
   "metadata": {},
   "outputs": [],
   "source": []
  }
 ],
 "metadata": {
  "kernelspec": {
   "display_name": "Python 3",
   "language": "python",
   "name": "python3"
  },
  "language_info": {
   "codemirror_mode": {
    "name": "ipython",
    "version": 3
   },
   "file_extension": ".py",
   "mimetype": "text/x-python",
   "name": "python",
   "nbconvert_exporter": "python",
   "pygments_lexer": "ipython3",
   "version": "3.7.1"
  }
 },
 "nbformat": 4,
 "nbformat_minor": 2
}
