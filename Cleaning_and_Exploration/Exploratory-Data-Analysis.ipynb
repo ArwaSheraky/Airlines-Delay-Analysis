{
 "cells": [
  {
   "cell_type": "markdown",
   "metadata": {},
   "source": [
    "# Exploratory Data Analysis"
   ]
  },
  {
   "cell_type": "code",
   "execution_count": 1,
   "metadata": {},
   "outputs": [],
   "source": [
    "# import the library\n",
    "%matplotlib inline\n",
    "\n",
    "import pandas as pd\n",
    "import numpy as np\n",
    "import scipy\n",
    "import matplotlib.pyplot as plt\n",
    "import seaborn as sns\n",
    "import datetime\n",
    "from scipy.stats import kurtosis\n",
    "from scipy.stats import skew\n",
    "\n",
    "sns.set_style('whitegrid')\n",
    "\n",
    "pd.set_option('display.float_format', lambda x: '%.2f' % x)"
   ]
  },
  {
   "cell_type": "markdown",
   "metadata": {},
   "source": [
    "## Data Perspective\n",
    "- One variable\n",
    "    - Numeric variables:\n",
    "        - continuous: average income\n",
    "        - discrete: population\n",
    "    - Categorical variables:\n",
    "        - ordinal: grade\n",
    "        - nominal: house, apartment, townhouse, etc.\n",
    "- Multiple variables:\n",
    "    - Numeric x Numeric\n",
    "    - Categorical x Numeric\n",
    "    - Categorical x Categorical"
   ]
  },
  {
   "cell_type": "markdown",
   "metadata": {},
   "source": [
    "## 1. Load Cleaned Data"
   ]
  },
  {
   "cell_type": "code",
   "execution_count": 2,
   "metadata": {},
   "outputs": [
    {
     "name": "stdout",
     "output_type": "stream",
     "text": [
      "Index(['MONTH', 'FLIGHT_NUMBER', 'TAIL_NUMBER', 'ORIGIN_AC', 'DESTINATION_AC',\n",
      "       'SCHEDULED_DEPARTURE', 'DEPARTURE_TIME', 'DEPARTURE_DELAY',\n",
      "       'SCHEDULED_TIME', 'ELAPSED_TIME', 'AIR_TIME', 'DISTANCE',\n",
      "       'SCHEDULED_ARRIVAL', 'ARRIVAL_TIME', 'ARRIVAL_DELAY', 'DIVERTED',\n",
      "       'CANCELLED', 'CANCELLATION_REASON', 'AIR_SYSTEM_DELAY',\n",
      "       'SECURITY_DELAY', 'AIRLINE_DELAY', 'LATE_AIRCRAFT_DELAY',\n",
      "       'WEATHER_DELAY', 'DATE', 'AIRLINE_CODE', 'AIRLINE_NAME',\n",
      "       'ORIGIN_AIRPORT', 'DESTINATION_AIRPORT'],\n",
      "      dtype='object')\n"
     ]
    },
    {
     "data": {
      "text/html": [
       "<div>\n",
       "<style scoped>\n",
       "    .dataframe tbody tr th:only-of-type {\n",
       "        vertical-align: middle;\n",
       "    }\n",
       "\n",
       "    .dataframe tbody tr th {\n",
       "        vertical-align: top;\n",
       "    }\n",
       "\n",
       "    .dataframe thead th {\n",
       "        text-align: right;\n",
       "    }\n",
       "</style>\n",
       "<table border=\"1\" class=\"dataframe\">\n",
       "  <thead>\n",
       "    <tr style=\"text-align: right;\">\n",
       "      <th></th>\n",
       "      <th>MONTH</th>\n",
       "      <th>FLIGHT_NUMBER</th>\n",
       "      <th>TAIL_NUMBER</th>\n",
       "      <th>ORIGIN_AC</th>\n",
       "      <th>DESTINATION_AC</th>\n",
       "      <th>SCHEDULED_DEPARTURE</th>\n",
       "      <th>DEPARTURE_TIME</th>\n",
       "      <th>DEPARTURE_DELAY</th>\n",
       "      <th>SCHEDULED_TIME</th>\n",
       "      <th>ELAPSED_TIME</th>\n",
       "      <th>...</th>\n",
       "      <th>AIR_SYSTEM_DELAY</th>\n",
       "      <th>SECURITY_DELAY</th>\n",
       "      <th>AIRLINE_DELAY</th>\n",
       "      <th>LATE_AIRCRAFT_DELAY</th>\n",
       "      <th>WEATHER_DELAY</th>\n",
       "      <th>DATE</th>\n",
       "      <th>AIRLINE_CODE</th>\n",
       "      <th>AIRLINE_NAME</th>\n",
       "      <th>ORIGIN_AIRPORT</th>\n",
       "      <th>DESTINATION_AIRPORT</th>\n",
       "    </tr>\n",
       "  </thead>\n",
       "  <tbody>\n",
       "    <tr>\n",
       "      <th>0</th>\n",
       "      <td>1</td>\n",
       "      <td>98</td>\n",
       "      <td>N407AS</td>\n",
       "      <td>ANC</td>\n",
       "      <td>SEA</td>\n",
       "      <td>00:05:00</td>\n",
       "      <td>23:54:00</td>\n",
       "      <td>-11.00</td>\n",
       "      <td>205.00</td>\n",
       "      <td>194.00</td>\n",
       "      <td>...</td>\n",
       "      <td>nan</td>\n",
       "      <td>nan</td>\n",
       "      <td>nan</td>\n",
       "      <td>nan</td>\n",
       "      <td>nan</td>\n",
       "      <td>2015-01-01</td>\n",
       "      <td>AS</td>\n",
       "      <td>Alaska Airlines Inc.</td>\n",
       "      <td>Ted Stevens Anchorage International Airport</td>\n",
       "      <td>Seattle-Tacoma International Airport</td>\n",
       "    </tr>\n",
       "    <tr>\n",
       "      <th>1</th>\n",
       "      <td>1</td>\n",
       "      <td>2336</td>\n",
       "      <td>N3KUAA</td>\n",
       "      <td>LAX</td>\n",
       "      <td>PBI</td>\n",
       "      <td>00:10:00</td>\n",
       "      <td>00:02:00</td>\n",
       "      <td>-8.00</td>\n",
       "      <td>280.00</td>\n",
       "      <td>279.00</td>\n",
       "      <td>...</td>\n",
       "      <td>nan</td>\n",
       "      <td>nan</td>\n",
       "      <td>nan</td>\n",
       "      <td>nan</td>\n",
       "      <td>nan</td>\n",
       "      <td>2015-01-01</td>\n",
       "      <td>AA</td>\n",
       "      <td>American Airlines Inc.</td>\n",
       "      <td>Los Angeles International Airport</td>\n",
       "      <td>Palm Beach International Airport</td>\n",
       "    </tr>\n",
       "    <tr>\n",
       "      <th>2</th>\n",
       "      <td>1</td>\n",
       "      <td>840</td>\n",
       "      <td>N171US</td>\n",
       "      <td>SFO</td>\n",
       "      <td>CLT</td>\n",
       "      <td>00:20:00</td>\n",
       "      <td>00:18:00</td>\n",
       "      <td>-2.00</td>\n",
       "      <td>286.00</td>\n",
       "      <td>293.00</td>\n",
       "      <td>...</td>\n",
       "      <td>nan</td>\n",
       "      <td>nan</td>\n",
       "      <td>nan</td>\n",
       "      <td>nan</td>\n",
       "      <td>nan</td>\n",
       "      <td>2015-01-01</td>\n",
       "      <td>US</td>\n",
       "      <td>US Airways Inc.</td>\n",
       "      <td>San Francisco International Airport</td>\n",
       "      <td>Charlotte Douglas International Airport</td>\n",
       "    </tr>\n",
       "    <tr>\n",
       "      <th>3</th>\n",
       "      <td>1</td>\n",
       "      <td>258</td>\n",
       "      <td>N3HYAA</td>\n",
       "      <td>LAX</td>\n",
       "      <td>MIA</td>\n",
       "      <td>00:20:00</td>\n",
       "      <td>00:15:00</td>\n",
       "      <td>-5.00</td>\n",
       "      <td>285.00</td>\n",
       "      <td>281.00</td>\n",
       "      <td>...</td>\n",
       "      <td>nan</td>\n",
       "      <td>nan</td>\n",
       "      <td>nan</td>\n",
       "      <td>nan</td>\n",
       "      <td>nan</td>\n",
       "      <td>2015-01-01</td>\n",
       "      <td>AA</td>\n",
       "      <td>American Airlines Inc.</td>\n",
       "      <td>Los Angeles International Airport</td>\n",
       "      <td>Miami International Airport</td>\n",
       "    </tr>\n",
       "    <tr>\n",
       "      <th>4</th>\n",
       "      <td>1</td>\n",
       "      <td>135</td>\n",
       "      <td>N527AS</td>\n",
       "      <td>SEA</td>\n",
       "      <td>ANC</td>\n",
       "      <td>00:25:00</td>\n",
       "      <td>00:24:00</td>\n",
       "      <td>-1.00</td>\n",
       "      <td>235.00</td>\n",
       "      <td>215.00</td>\n",
       "      <td>...</td>\n",
       "      <td>nan</td>\n",
       "      <td>nan</td>\n",
       "      <td>nan</td>\n",
       "      <td>nan</td>\n",
       "      <td>nan</td>\n",
       "      <td>2015-01-01</td>\n",
       "      <td>AS</td>\n",
       "      <td>Alaska Airlines Inc.</td>\n",
       "      <td>Seattle-Tacoma International Airport</td>\n",
       "      <td>Ted Stevens Anchorage International Airport</td>\n",
       "    </tr>\n",
       "  </tbody>\n",
       "</table>\n",
       "<p>5 rows × 28 columns</p>\n",
       "</div>"
      ],
      "text/plain": [
       "   MONTH  FLIGHT_NUMBER TAIL_NUMBER ORIGIN_AC DESTINATION_AC  \\\n",
       "0      1             98      N407AS       ANC            SEA   \n",
       "1      1           2336      N3KUAA       LAX            PBI   \n",
       "2      1            840      N171US       SFO            CLT   \n",
       "3      1            258      N3HYAA       LAX            MIA   \n",
       "4      1            135      N527AS       SEA            ANC   \n",
       "\n",
       "  SCHEDULED_DEPARTURE DEPARTURE_TIME  DEPARTURE_DELAY  SCHEDULED_TIME  \\\n",
       "0            00:05:00       23:54:00           -11.00          205.00   \n",
       "1            00:10:00       00:02:00            -8.00          280.00   \n",
       "2            00:20:00       00:18:00            -2.00          286.00   \n",
       "3            00:20:00       00:15:00            -5.00          285.00   \n",
       "4            00:25:00       00:24:00            -1.00          235.00   \n",
       "\n",
       "   ELAPSED_TIME                     ...                       \\\n",
       "0        194.00                     ...                        \n",
       "1        279.00                     ...                        \n",
       "2        293.00                     ...                        \n",
       "3        281.00                     ...                        \n",
       "4        215.00                     ...                        \n",
       "\n",
       "   AIR_SYSTEM_DELAY  SECURITY_DELAY AIRLINE_DELAY LATE_AIRCRAFT_DELAY  \\\n",
       "0               nan             nan           nan                 nan   \n",
       "1               nan             nan           nan                 nan   \n",
       "2               nan             nan           nan                 nan   \n",
       "3               nan             nan           nan                 nan   \n",
       "4               nan             nan           nan                 nan   \n",
       "\n",
       "   WEATHER_DELAY        DATE  AIRLINE_CODE            AIRLINE_NAME  \\\n",
       "0            nan  2015-01-01            AS    Alaska Airlines Inc.   \n",
       "1            nan  2015-01-01            AA  American Airlines Inc.   \n",
       "2            nan  2015-01-01            US         US Airways Inc.   \n",
       "3            nan  2015-01-01            AA  American Airlines Inc.   \n",
       "4            nan  2015-01-01            AS    Alaska Airlines Inc.   \n",
       "\n",
       "                                ORIGIN_AIRPORT  \\\n",
       "0  Ted Stevens Anchorage International Airport   \n",
       "1            Los Angeles International Airport   \n",
       "2          San Francisco International Airport   \n",
       "3            Los Angeles International Airport   \n",
       "4         Seattle-Tacoma International Airport   \n",
       "\n",
       "                           DESTINATION_AIRPORT  \n",
       "0         Seattle-Tacoma International Airport  \n",
       "1             Palm Beach International Airport  \n",
       "2      Charlotte Douglas International Airport  \n",
       "3                  Miami International Airport  \n",
       "4  Ted Stevens Anchorage International Airport  \n",
       "\n",
       "[5 rows x 28 columns]"
      ]
     },
     "execution_count": 2,
     "metadata": {},
     "output_type": "execute_result"
    }
   ],
   "source": [
    "df = pd.read_csv('data/flightsmerged.csv', low_memory=False)\n",
    "print(df.columns)\n",
    "df.head()"
   ]
  },
  {
   "cell_type": "markdown",
   "metadata": {},
   "source": [
    "## 2. One Variable"
   ]
  },
  {
   "cell_type": "markdown",
   "metadata": {},
   "source": [
    "### 2.1. Numeric"
   ]
  },
  {
   "cell_type": "code",
   "execution_count": 11,
   "metadata": {},
   "outputs": [
    {
     "name": "stdout",
     "output_type": "stream",
     "text": [
      "Arrival delays (minutes)\n",
      "count   5593995.00\n",
      "mean          0.34\n",
      "std          23.54\n",
      "min         -87.00\n",
      "25%         -13.00\n",
      "50%          -5.00\n",
      "75%           6.00\n",
      "max         123.00\n",
      "Name: ARRIVAL_DELAY, dtype: float64\n"
     ]
    },
    {
     "data": {
      "image/png": "[encoded data removed]",
      "text/plain": [
       "<Figure size 432x288 with 1 Axes>"
      ]
     },
     "metadata": {
      "needs_background": "light"
     },
     "output_type": "display_data"
    },
    {
     "name": "stdout",
     "output_type": "stream",
     "text": [
      "mean :  0.33759826385257763\n",
      "variance  :  554.3356926401426\n",
      "skewness :  1.9682326306756401\n",
      "kurtosis :  5.158618746329688\n",
      "\n",
      "Departure delays (minutes)\n",
      "count   5611364.00\n",
      "mean          5.40\n",
      "std          20.34\n",
      "min         -82.00\n",
      "25%          -5.00\n",
      "50%          -2.00\n",
      "75%           6.00\n",
      "max         124.00\n",
      "Name: DEPARTURE_DELAY, dtype: float64\n"
     ]
    },
    {
     "data": {
      "image/png": "[encoded data removed]",
      "text/plain": [
       "<Figure size 432x288 with 1 Axes>"
      ]
     },
     "metadata": {
      "needs_background": "light"
     },
     "output_type": "display_data"
    },
    {
     "name": "stdout",
     "output_type": "stream",
     "text": [
      "mean :  5.39861645047443\n",
      "variance  :  413.7022509874646\n",
      "skewness :  2.820813379195494\n",
      "kurtosis :  8.916643672767233\n"
     ]
    }
   ],
   "source": [
    "#Analyze arrival delay distribution\n",
    "\n",
    "print('Arrival delays (minutes)')\n",
    "print(df['ARRIVAL_DELAY'].describe())\n",
    "plt.hist(df['ARRIVAL_DELAY'], bins=100)\n",
    "plt.title('Mean Arrival Delays')\n",
    "plt.savefig(\"Charts/arrival.png\", dpi=100)\n",
    "plt.show()\n",
    "\n",
    "print(\"mean : \", np.mean(df['ARRIVAL_DELAY']))\n",
    "print(\"variance  : \", np.var(df['ARRIVAL_DELAY']))\n",
    "print(\"skewness : \",df['ARRIVAL_DELAY'].skew())\n",
    "print(\"kurtosis : \",df['ARRIVAL_DELAY'].kurtosis())\n",
    "print('')\n",
    "\n",
    "print('Departure delays (minutes)')\n",
    "print(df['DEPARTURE_DELAY'].describe())\n",
    "plt.hist(df['DEPARTURE_DELAY'], bins=100)\n",
    "plt.title('Mean Departure Delays')\n",
    "plt.savefig(\"Charts/departure.png\", dpi=100)\n",
    "plt.show()\n",
    "\n",
    "print(\"mean : \", np.mean(df['DEPARTURE_DELAY']))\n",
    "print(\"variance  : \", np.var(df['DEPARTURE_DELAY']))\n",
    "print(\"skewness : \",df['DEPARTURE_DELAY'].skew())\n",
    "print(\"kurtosis : \",df['DEPARTURE_DELAY'].kurtosis())"
   ]
  },
  {
   "cell_type": "markdown",
   "metadata": {},
   "source": [
    "##### Conclusion: The arrival and departure delay data is highly positively skewed with heavy outliers "
   ]
  },
  {
   "cell_type": "markdown",
   "metadata": {},
   "source": [
    "### 2.2. Categorical"
   ]
  },
  {
   "cell_type": "code",
   "execution_count": 6,
   "metadata": {
    "scrolled": false
   },
   "outputs": [
    {
     "name": "stdout",
     "output_type": "stream",
     "text": [
      "Weather                48538\n",
      "Airline                25008\n",
      "National Air System    15702\n",
      "Security                  22\n",
      "Name: CANCELLATION_REASON, dtype: int64\n"
     ]
    },
    {
     "data": {
      "image/png": "[encoded data removed]",
      "text/plain": [
       "<Figure size 864x432 with 1 Axes>"
      ]
     },
     "metadata": {
      "needs_background": "light"
     },
     "output_type": "display_data"
    }
   ],
   "source": [
    "print(df['CANCELLATION_REASON'].value_counts())\n",
    "\n",
    "# Bar Chart\n",
    "plt.figure(figsize=(12,6))\n",
    "plt.title('# Flight Cancelled')\n",
    "plt.xlabel('Cancellation Reasons')\n",
    "plt.ylabel('# Flights')\n",
    "\n",
    "labels = df['CANCELLATION_REASON'].value_counts().index\n",
    "values = df['CANCELLATION_REASON'].value_counts().values\n",
    "\n",
    "y_pos = range(len(labels))\n",
    "plt.bar(y_pos, values, align='center', alpha=0.7, color=['red','purple','navy','gray'], width=0.5)\n",
    "plt.xticks(y_pos, labels)\n",
    "\n",
    "plt.savefig('Charts/cancellation_reasons.png')\n",
    "plt.show()"
   ]
  },
  {
   "cell_type": "markdown",
   "metadata": {},
   "source": [
    "#### Conclusion: 'Weather' is the main reason of flight cancellation."
   ]
  },
  {
   "cell_type": "markdown",
   "metadata": {},
   "source": [
    "## 3. Multiple Variables"
   ]
  },
  {
   "cell_type": "markdown",
   "metadata": {},
   "source": [
    "### 3.1. Numeric X Numeric"
   ]
  },
  {
   "cell_type": "code",
   "execution_count": null,
   "metadata": {
    "scrolled": false
   },
   "outputs": [],
   "source": [
    "#Correlation\n",
    "\n",
    "correlation_matrix = df.corr()\n",
    "plt.figure(figsize=(16, 9))\n",
    "sns.heatmap(correlation_matrix, square=True)\n",
    "plt.show()\n"
   ]
  },
  {
   "cell_type": "markdown",
   "metadata": {},
   "source": [
    "### 3.2. Numeric X Categorical"
   ]
  },
  {
   "cell_type": "code",
   "execution_count": null,
   "metadata": {
    "scrolled": false
   },
   "outputs": [],
   "source": [
    "# Linechart of arrival delay distribution by month \n",
    "f,ax=plt.subplots(1,2,figsize=(12,6))\n",
    "\n",
    "df[['MONTH','ARRIVAL_DELAY']].groupby(['MONTH']).mean().plot(ax=ax[0])\n",
    "ax[0].set_title('Average delay per month')\n",
    "\n",
    "df[['MONTH','ARRIVAL_DELAY']].groupby(['MONTH']).sum().plot(ax=ax[1],color=['purple'])\n",
    "ax[1].set_title('Delay (minutes) per month')\n",
    "plt.show()"
   ]
  },
  {
   "cell_type": "markdown",
   "metadata": {},
   "source": [
    "###### Conclusion: April has the lowest average arrival delays and June has highest "
   ]
  },
  {
   "cell_type": "markdown",
   "metadata": {},
   "source": [
    "## 4. Business Prespective"
   ]
  },
  {
   "cell_type": "markdown",
   "metadata": {},
   "source": [
    "### 4.1. What is the average delay for each airline ?"
   ]
  },
  {
   "cell_type": "code",
   "execution_count": null,
   "metadata": {},
   "outputs": [],
   "source": [
    "\n",
    "airline_arr_group = df.groupby('AIRLINE_NAME')['ARRIVAL_DELAY'].mean().round().sort_values()\n",
    "airline_dep_group = df.groupby('AIRLINE_NAME')['DEPARTURE_DELAY'].mean().round().sort_values()\n",
    "\n",
    "#Plotting\n",
    "pd.concat(\n",
    "    [airline_arr_group.rename('Mean Arrival Delay'), airline_dep_group.rename('Mean Departure Delay')],\n",
    "    axis=1, sort=False).plot.bar(figsize=(16,8), title='Mean Delays for Airlines' )\n"
   ]
  },
  {
   "cell_type": "code",
   "execution_count": null,
   "metadata": {},
   "outputs": [],
   "source": [
    "#Another Visualization\n",
    "\n",
    "fig = plt.figure(figsize=(12, 16))\n",
    "ax1 = plt.subplot(211)\n",
    "\n",
    "plt.title('Average Arrival Delays for Airlines')\n",
    "plt.xlabel('Average delay per minutes')\n",
    "plt.ylabel('Airlines Names')\n",
    "sns.barplot(x=airline_arr_group.values, y=airline_arr_group.index, orient='h')\n",
    "\n",
    "ax2 = plt.subplot(212, sharex = ax1, sharey = ax1)\n",
    "\n",
    "plt.title('Average Departure Delays for Airlines')\n",
    "plt.xlabel('Average delay per minutes')\n",
    "plt.ylabel('Airlines Names')\n",
    "sns.barplot(x=airline_dep_group.values, y=airline_dep_group.index, orient='h')\n",
    "\n",
    "plt.show()\n"
   ]
  },
  {
   "cell_type": "markdown",
   "metadata": {},
   "source": [
    "### 4.2. What is the average arrival and departure delay times based on airport ?"
   ]
  },
  {
   "cell_type": "code",
   "execution_count": 10,
   "metadata": {
    "scrolled": false
   },
   "outputs": [
    {
     "name": "stdout",
     "output_type": "stream",
     "text": [
      "Average Departure delays:\n",
      " ORIGIN_AIRPORT\n",
      "Valdez Airport                                                           -10.00\n",
      "Yakutat Airport                                                           -8.00\n",
      "Canyonlands Field                                                         -6.00\n",
      "Pocatello Regional Airport                                                -6.00\n",
      "Elko Regional Airport                                                     -6.00\n",
      "Merle K. (Mudhole) Smith Airport                                          -5.00\n",
      "Ford Airport                                                              -4.00\n",
      "Lewiston-Nez Perce County Airport                                         -4.00\n",
      "Dickinson Theodore Roosevelt Regional Airport                             -4.00\n",
      "Bert Mooney Airport                                                       -4.00\n",
      "Bellingham International Airport                                          -4.00\n",
      "Brainerd Lakes Regional Airport                                           -3.00\n",
      "Jamestown Regional Airport                                                -3.00\n",
      "Magic Valley Regional Airport (Joslin Field)                              -3.00\n",
      "Lea County Regional Airport                                               -3.00\n",
      "Falls International Airport                                               -3.00\n",
      "Great Falls International Airport                                         -3.00\n",
      "Deadhorse Airport (Prudhoe Bay Airport)                                   -3.00\n",
      "Range Regional Airport (Chisholm-Hibbing Airport)                         -3.00\n",
      "Rhinelander-Oneida County Airport                                         -2.00\n",
      "Delta County Airport                                                      -2.00\n",
      "Yuma International Airport                                                -2.00\n",
      "Idaho Falls Regional Airport                                              -2.00\n",
      "Rock Springs-Sweetwater County Airport                                    -2.00\n",
      "Hilo International Airport                                                -2.00\n",
      "Helena Regional Airport                                                   -2.00\n",
      "Alpena County Regional Airport                                            -2.00\n",
      "Lihue Airport                                                             -2.00\n",
      "Minot International Airport                                               -1.00\n",
      "Garden City Regional Airport                                              -1.00\n",
      "                                                                          ...  \n",
      "Oakland International Airport                                              7.00\n",
      "Orlando International Airport                                              7.00\n",
      "Barnstable Municipal Airport                                               7.00\n",
      "LaGuardia Airport (Marine Air Terminal)                                    7.00\n",
      "Palm Beach International Airport                                           7.00\n",
      "George Bush Intercontinental Airport                                       7.00\n",
      "Plattsburgh International Airport                                          7.00\n",
      "Del Norte County Airport (Jack McNamara Field)                             7.00\n",
      "John F. Kennedy International Airport (New York International Airport)     7.00\n",
      "Denver International Airport                                               8.00\n",
      "Dallas/Fort Worth International Airport                                    8.00\n",
      "Aspen-Pitkin County Airport                                                8.00\n",
      "Miami International Airport                                                8.00\n",
      "Newark Liberty International Airport                                       8.00\n",
      "Ithaca Tompkins Regional Airport                                           8.00\n",
      "Rafael Hernández Airport                                                   8.00\n",
      "William P. Hobby Airport                                                   9.00\n",
      "Mammoth Yosemite Airport                                                   9.00\n",
      "Chicago Midway International Airport                                       9.00\n",
      "Dallas Love Field                                                          9.00\n",
      "Chicago O'Hare International Airport                                       9.00\n",
      "Southwest Oregon Regional Airport (North Bend Municipal)                   9.00\n",
      "Baltimore-Washington International Airport                                 9.00\n",
      "Guam International Airport                                                10.00\n",
      "Northeast Florida Regional Airport (St. Augustine Airport)                10.00\n",
      "St. Cloud Regional Airport                                                10.00\n",
      "Adak Airport                                                              11.00\n",
      "Wilmington Airport                                                        11.00\n",
      "Martha's Vineyard Airport                                                 11.00\n",
      "Gustavus Airport                                                          12.00\n",
      "Name: DEPARTURE_DELAY, Length: 322, dtype: float64\n",
      "_______________________\n",
      "\n",
      "Average Arrival delays:\n",
      " DESTINATION_AIRPORT\n",
      "Valdez Airport                                               -14.00\n",
      "Canyonlands Field                                            -12.00\n",
      "Ford Airport                                                  -9.00\n",
      "Lewiston-Nez Perce County Airport                             -8.00\n",
      "Bellingham International Airport                              -8.00\n",
      "Falls International Airport                                   -8.00\n",
      "Brainerd Lakes Regional Airport                               -7.00\n",
      "Bert Mooney Airport                                           -6.00\n",
      "Rock Springs-Sweetwater County Airport                        -5.00\n",
      "Hays Regional Airport                                         -5.00\n",
      "Bemidji Regional Airport                                      -5.00\n",
      "Devils Lake Regional Airport                                  -5.00\n",
      "Laramie Regional Airport                                      -5.00\n",
      "Rhinelander-Oneida County Airport                             -5.00\n",
      "Dillingham Airport                                            -4.00\n",
      "Gillette-Campbell County Airport                              -4.00\n",
      "Aberdeen Regional Airport                                     -4.00\n",
      "Dickinson Theodore Roosevelt Regional Airport                 -4.00\n",
      "Alpena County Regional Airport                                -4.00\n",
      "Helena Regional Airport                                       -4.00\n",
      "Adak Airport                                                  -4.00\n",
      "Delta County Airport                                          -3.00\n",
      "Salt Lake City International Airport                          -3.00\n",
      "Missoula International Airport                                -3.00\n",
      "Pueblo Memorial Airport                                       -3.00\n",
      "Range Regional Airport (Chisholm-Hibbing Airport)             -3.00\n",
      "Central Nebraska Regional Airport                             -2.00\n",
      "Northeast Florida Regional Airport (St. Augustine Airport)    -2.00\n",
      "Hartsfield-Jackson Atlanta International Airport              -2.00\n",
      "Santa Maria Public Airport (Capt G. Allan Hancock Field)      -2.00\n",
      "                                                              ...  \n",
      "Sioux Falls Regional Airport                                   5.00\n",
      "Southwest Georgia Regional Airport                             5.00\n",
      "Redding Municipal Airport                                      5.00\n",
      "Columbus Metropolitan Airport                                  5.00\n",
      "City of Colorado Springs Municipal Airport                     5.00\n",
      "Joplin Regional Airport                                        5.00\n",
      "Baton Rouge Metropolitan Airport                               5.00\n",
      "Montrose Regional Airport                                      6.00\n",
      "Corpus Christi International Airport                           6.00\n",
      "Gunnison-Crested Butte Regional Airport                        6.00\n",
      "Albert J. Ellis Airport                                        6.00\n",
      "Trenton Mercer Airport                                         6.00\n",
      "Atlantic City International Airport                            6.00\n",
      "Wilkes-Barre/Scranton International Airport                    6.00\n",
      "Fort Smith Regional Airport                                    6.00\n",
      "Cedar City Regional Airport                                    6.00\n",
      "Arnold Palmer Regional Airport                                 6.00\n",
      "Coastal Carolina Regional Airport (Craven County Regional)     7.00\n",
      "Mammoth Yosemite Airport                                       7.00\n",
      "Sawyer International Airport                                   7.00\n",
      "Mercedita Airport                                              8.00\n",
      "Jack Brooks Regional Airport (Southeast Texas Regional)        9.00\n",
      "Guam International Airport                                     9.00\n",
      "Southwest Oregon Regional Airport (North Bend Municipal)       9.00\n",
      "Rafael Hernández Airport                                       9.00\n",
      "Gustavus Airport                                               9.00\n",
      "Plattsburgh International Airport                             10.00\n",
      "Wilmington Airport                                            10.00\n",
      "Aspen-Pitkin County Airport                                   10.00\n",
      "St. Cloud Regional Airport                                    17.00\n",
      "Name: ARRIVAL_DELAY, Length: 322, dtype: float64\n"
     ]
    }
   ],
   "source": [
    "\n",
    "origin_airport_group = df.groupby(by='ORIGIN_AIRPORT')['DEPARTURE_DELAY'].mean().round().sort_values()\n",
    "dest_airport_group = df.groupby(by='DESTINATION_AIRPORT')['ARRIVAL_DELAY'].mean().round().sort_values()\n",
    "\n",
    "print(\"Average Departure delays:\\n\",origin_airport_group)\n",
    "print(\"_______________________\\n\")\n",
    "print(\"Average Arrival delays:\\n\",dest_airport_group)\n"
   ]
  },
  {
   "cell_type": "markdown",
   "metadata": {},
   "source": [
    "##### Conclusion:\n",
    "1. Flights departing from Gustavus Airport have the highest average delays.\n",
    "2. Flights arriving to St. Cloud Regional Airport have the highest average delays.\n",
    "3. Flights depart early from Valdez Airport, and also arrive early to it."
   ]
  },
  {
   "cell_type": "markdown",
   "metadata": {},
   "source": [
    "### 4.3. What is the impact of the weather on flights?"
   ]
  },
  {
   "cell_type": "code",
   "execution_count": 9,
   "metadata": {},
   "outputs": [
    {
     "name": "stdout",
     "output_type": "stream",
     "text": [
      "MONTH\n",
      "9      2060\n",
      "10     2434\n",
      "4      4458\n",
      "11     4567\n",
      "7      4764\n",
      "8      5015\n",
      "5      5632\n",
      "12     7992\n",
      "6      9034\n",
      "3     10950\n",
      "1     11938\n",
      "2     20426\n",
      "Name: CANCELLED, dtype: int64\n"
     ]
    },
    {
     "data": {
      "image/png": "[encoded data removed]",
      "text/plain": [
       "<Figure size 864x504 with 1 Axes>"
      ]
     },
     "metadata": {
      "needs_background": "light"
     },
     "output_type": "display_data"
    }
   ],
   "source": [
    "#As discussed above, weather is the most common reason for cancellation.\n",
    "#For more illustration:\n",
    "\n",
    "month_cancel_group = df.groupby('MONTH')['CANCELLED'].sum().sort_values()\n",
    "print(month_cancel_group)\n",
    "\n",
    "plt.figure(figsize=(12,7))\n",
    "\n",
    "plt.title('Cancelled flights per month')\n",
    "plt.xlabel('# Cancelled flights')\n",
    "plt.ylabel('Month')\n",
    "sns.barplot(x=month_cancel_group.values, y=month_cancel_group.index, orient='h')\n",
    "\n",
    "plt.show()"
   ]
  },
  {
   "cell_type": "markdown",
   "metadata": {},
   "source": [
    "#### Feb has the higher number of cancelled flights, then Jan and March - Winter."
   ]
  }
 ],
 "metadata": {
  "kernelspec": {
   "display_name": "Python 3",
   "language": "python",
   "name": "python3"
  },
  "language_info": {
   "codemirror_mode": {
    "name": "ipython",
    "version": 3
   },
   "file_extension": ".py",
   "mimetype": "text/x-python",
   "name": "python",
   "nbconvert_exporter": "python",
   "pygments_lexer": "ipython3",
   "version": "3.7.1"
  }
 },
 "nbformat": 4,
 "nbformat_minor": 2
}
