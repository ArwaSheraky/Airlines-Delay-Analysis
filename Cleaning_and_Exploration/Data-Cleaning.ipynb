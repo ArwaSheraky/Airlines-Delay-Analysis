{
 "cells": [
  {
   "cell_type": "markdown",
   "metadata": {},
   "source": [
    "# Data Cleaning"
   ]
  },
  {
   "cell_type": "code",
   "execution_count": 1,
   "metadata": {},
   "outputs": [],
   "source": [
    "# import the library\n",
    "%matplotlib inline\n",
    "\n",
    "import pandas as pd\n",
    "import numpy as np\n",
    "import scipy\n",
    "import matplotlib.pyplot as plt\n",
    "import seaborn as sns\n",
    "\n",
    "sns.set_style('whitegrid')\n",
    "\n",
    "# convert scientific notation to decimals\n",
    "pd.set_option('display.float_format', lambda x: '%.2f' % x)"
   ]
  },
  {
   "cell_type": "markdown",
   "metadata": {},
   "source": [
    "# 1. Load Datasets"
   ]
  },
  {
   "cell_type": "code",
   "execution_count": 27,
   "metadata": {},
   "outputs": [],
   "source": [
    "#Source file: https://www.kaggle.com/usdot/flight-delays#flights.csv\n",
    "\n",
    "#Main dataset\n",
    "df_delayed_flights = pd.read_csv('../data/flights.csv', low_memory=False)\n",
    "\n",
    "#Complementary datasets\n",
    "df_airports = pd.read_csv('../data/airports.csv', low_memory=False)\n",
    "df_airlines = pd.read_csv('../data/airlines.csv', low_memory=False)"
   ]
  },
  {
   "cell_type": "markdown",
   "metadata": {},
   "source": [
    "# 2. Summarize the data"
   ]
  },
  {
   "cell_type": "code",
   "execution_count": 4,
   "metadata": {
    "scrolled": true
   },
   "outputs": [
    {
     "name": "stdout",
     "output_type": "stream",
     "text": [
      "------- Main Dataset, Flights -------\n",
      "(5819079, 31)\n",
      "Index(['YEAR', 'MONTH', 'DAY', 'DAY_OF_WEEK', 'AIRLINE', 'FLIGHT_NUMBER',\n",
      "       'TAIL_NUMBER', 'ORIGIN_AIRPORT', 'DESTINATION_AIRPORT',\n",
      "       'SCHEDULED_DEPARTURE', 'DEPARTURE_TIME', 'DEPARTURE_DELAY', 'TAXI_OUT',\n",
      "       'WHEELS_OFF', 'SCHEDULED_TIME', 'ELAPSED_TIME', 'AIR_TIME', 'DISTANCE',\n",
      "       'WHEELS_ON', 'TAXI_IN', 'SCHEDULED_ARRIVAL', 'ARRIVAL_TIME',\n",
      "       'ARRIVAL_DELAY', 'DIVERTED', 'CANCELLED', 'CANCELLATION_REASON',\n",
      "       'AIR_SYSTEM_DELAY', 'SECURITY_DELAY', 'AIRLINE_DELAY',\n",
      "       'LATE_AIRCRAFT_DELAY', 'WEATHER_DELAY'],\n",
      "      dtype='object')\n",
      "   YEAR  MONTH  DAY  DAY_OF_WEEK AIRLINE  FLIGHT_NUMBER TAIL_NUMBER  \\\n",
      "0  2015      1    1            4      AS             98      N407AS   \n",
      "1  2015      1    1            4      AA           2336      N3KUAA   \n",
      "2  2015      1    1            4      US            840      N171US   \n",
      "3  2015      1    1            4      AA            258      N3HYAA   \n",
      "4  2015      1    1            4      AS            135      N527AS   \n",
      "\n",
      "  ORIGIN_AIRPORT DESTINATION_AIRPORT  SCHEDULED_DEPARTURE      ...        \\\n",
      "0            ANC                 SEA                    5      ...         \n",
      "1            LAX                 PBI                   10      ...         \n",
      "2            SFO                 CLT                   20      ...         \n",
      "3            LAX                 MIA                   20      ...         \n",
      "4            SEA                 ANC                   25      ...         \n",
      "\n",
      "   ARRIVAL_TIME  ARRIVAL_DELAY  DIVERTED  CANCELLED  CANCELLATION_REASON  \\\n",
      "0        408.00         -22.00         0          0                  NaN   \n",
      "1        741.00          -9.00         0          0                  NaN   \n",
      "2        811.00           5.00         0          0                  NaN   \n",
      "3        756.00          -9.00         0          0                  NaN   \n",
      "4        259.00         -21.00         0          0                  NaN   \n",
      "\n",
      "   AIR_SYSTEM_DELAY  SECURITY_DELAY  AIRLINE_DELAY  LATE_AIRCRAFT_DELAY  \\\n",
      "0               nan             nan            nan                  nan   \n",
      "1               nan             nan            nan                  nan   \n",
      "2               nan             nan            nan                  nan   \n",
      "3               nan             nan            nan                  nan   \n",
      "4               nan             nan            nan                  nan   \n",
      "\n",
      "   WEATHER_DELAY  \n",
      "0            nan  \n",
      "1            nan  \n",
      "2            nan  \n",
      "3            nan  \n",
      "4            nan  \n",
      "\n",
      "[5 rows x 31 columns]\n",
      "            YEAR      MONTH        DAY  DAY_OF_WEEK  FLIGHT_NUMBER  \\\n",
      "count 5819079.00 5819079.00 5819079.00   5819079.00     5819079.00   \n",
      "mean     2015.00       6.52      15.70         3.93        2173.09   \n",
      "std         0.00       3.41       8.78         1.99        1757.06   \n",
      "min      2015.00       1.00       1.00         1.00           1.00   \n",
      "25%      2015.00       4.00       8.00         2.00         730.00   \n",
      "50%      2015.00       7.00      16.00         4.00        1690.00   \n",
      "75%      2015.00       9.00      23.00         6.00        3230.00   \n",
      "max      2015.00      12.00      31.00         7.00        9855.00   \n",
      "\n",
      "       SCHEDULED_DEPARTURE  DEPARTURE_TIME  DEPARTURE_DELAY   TAXI_OUT  \\\n",
      "count           5819079.00      5732926.00       5732926.00 5730032.00   \n",
      "mean               1329.60         1335.20             9.37      16.07   \n",
      "std                 483.75          496.42            37.08       8.90   \n",
      "min                   1.00            1.00           -82.00       1.00   \n",
      "25%                 917.00          921.00            -5.00      11.00   \n",
      "50%                1325.00         1330.00            -2.00      14.00   \n",
      "75%                1730.00         1740.00             7.00      19.00   \n",
      "max                2359.00         2400.00          1988.00     225.00   \n",
      "\n",
      "       WHEELS_OFF      ...        SCHEDULED_ARRIVAL  ARRIVAL_TIME  \\\n",
      "count  5730032.00      ...               5819079.00    5726566.00   \n",
      "mean      1357.17      ...                  1493.81       1476.49   \n",
      "std        498.01      ...                   507.16        526.32   \n",
      "min          1.00      ...                     1.00          1.00   \n",
      "25%        935.00      ...                  1110.00       1059.00   \n",
      "50%       1343.00      ...                  1520.00       1512.00   \n",
      "75%       1754.00      ...                  1918.00       1917.00   \n",
      "max       2400.00      ...                  2400.00       2400.00   \n",
      "\n",
      "       ARRIVAL_DELAY   DIVERTED  CANCELLED  AIR_SYSTEM_DELAY  SECURITY_DELAY  \\\n",
      "count     5714008.00 5819079.00 5819079.00        1063439.00      1063439.00   \n",
      "mean            4.41       0.00       0.02             13.48            0.08   \n",
      "std            39.27       0.05       0.12             28.00            2.14   \n",
      "min           -87.00       0.00       0.00              0.00            0.00   \n",
      "25%           -13.00       0.00       0.00              0.00            0.00   \n",
      "50%            -5.00       0.00       0.00              2.00            0.00   \n",
      "75%             8.00       0.00       0.00             18.00            0.00   \n",
      "max          1971.00       1.00       1.00           1134.00          573.00   \n",
      "\n",
      "       AIRLINE_DELAY  LATE_AIRCRAFT_DELAY  WEATHER_DELAY  \n",
      "count     1063439.00           1063439.00     1063439.00  \n",
      "mean           18.97                23.47           2.92  \n",
      "std            48.16                43.20          20.43  \n",
      "min             0.00                 0.00           0.00  \n",
      "25%             0.00                 0.00           0.00  \n",
      "50%             2.00                 3.00           0.00  \n",
      "75%            19.00                29.00           0.00  \n",
      "max          1971.00              1331.00        1211.00  \n",
      "\n",
      "[8 rows x 26 columns]\n",
      "\n",
      " ------- Airports -------\n",
      "(322, 7)\n",
      "Index(['IATA_CODE', 'AIRPORT', 'CITY', 'STATE', 'COUNTRY', 'LATITUDE',\n",
      "       'LONGITUDE'],\n",
      "      dtype='object')\n",
      "  IATA_CODE                              AIRPORT         CITY STATE COUNTRY  \\\n",
      "0       ABE  Lehigh Valley International Airport    Allentown    PA     USA   \n",
      "1       ABI             Abilene Regional Airport      Abilene    TX     USA   \n",
      "2       ABQ    Albuquerque International Sunport  Albuquerque    NM     USA   \n",
      "3       ABR            Aberdeen Regional Airport     Aberdeen    SD     USA   \n",
      "4       ABY   Southwest Georgia Regional Airport       Albany    GA     USA   \n",
      "\n",
      "   LATITUDE  LONGITUDE  \n",
      "0     40.65     -75.44  \n",
      "1     32.41     -99.68  \n",
      "2     35.04    -106.61  \n",
      "3     45.45     -98.42  \n",
      "4     31.54     -84.19  \n",
      "       LATITUDE  LONGITUDE\n",
      "count    319.00     319.00\n",
      "mean      38.98     -98.38\n",
      "std        8.62      21.52\n",
      "min       13.48    -176.65\n",
      "25%       33.65    -110.84\n",
      "50%       39.30     -93.40\n",
      "75%       43.15     -82.72\n",
      "max       71.29     -64.80\n",
      "\n",
      " ------- Airlines -------\n",
      "(14, 2)\n",
      "Index(['IATA_CODE', 'AIRLINE'], dtype='object')\n",
      "  IATA_CODE                 AIRLINE\n",
      "0        UA   United Air Lines Inc.\n",
      "1        AA  American Airlines Inc.\n",
      "2        US         US Airways Inc.\n",
      "3        F9  Frontier Airlines Inc.\n",
      "4        B6         JetBlue Airways\n",
      "       IATA_CODE                 AIRLINE\n",
      "count         14                      14\n",
      "unique        14                      14\n",
      "top           AS  Frontier Airlines Inc.\n",
      "freq           1                       1\n"
     ]
    }
   ],
   "source": [
    "print('------- Main Dataset, Flights -------')\n",
    "print(df_delayed_flights.shape)\n",
    "print(df_delayed_flights.columns)\n",
    "print(df_delayed_flights.head())\n",
    "print(df_delayed_flights.describe())\n",
    "\n",
    "print('\\n ------- Airports -------')\n",
    "print(df_airports.shape)\n",
    "print(df_airports.columns)\n",
    "print(df_airports.head())\n",
    "print(df_airports.describe())\n",
    "\n",
    "print('\\n ------- Airlines -------')\n",
    "print(df_airlines.shape)\n",
    "print(df_airlines.columns)\n",
    "print(df_airlines.head())\n",
    "print(df_airlines.describe())"
   ]
  },
  {
   "cell_type": "markdown",
   "metadata": {},
   "source": [
    "# 3. Data Cleaning"
   ]
  },
  {
   "cell_type": "markdown",
   "metadata": {},
   "source": [
    "## 3.1. Merge Columns - DATE"
   ]
  },
  {
   "cell_type": "code",
   "execution_count": 28,
   "metadata": {},
   "outputs": [
    {
     "name": "stdout",
     "output_type": "stream",
     "text": [
      "Index(['YEAR', 'MONTH', 'DAY', 'DAY_OF_WEEK', 'AIRLINE', 'FLIGHT_NUMBER',\n",
      "       'TAIL_NUMBER', 'ORIGIN_AIRPORT', 'DESTINATION_AIRPORT',\n",
      "       'SCHEDULED_DEPARTURE', 'DEPARTURE_TIME', 'DEPARTURE_DELAY', 'TAXI_OUT',\n",
      "       'WHEELS_OFF', 'SCHEDULED_TIME', 'ELAPSED_TIME', 'AIR_TIME', 'DISTANCE',\n",
      "       'WHEELS_ON', 'TAXI_IN', 'SCHEDULED_ARRIVAL', 'ARRIVAL_TIME',\n",
      "       'ARRIVAL_DELAY', 'DIVERTED', 'CANCELLED', 'CANCELLATION_REASON',\n",
      "       'AIR_SYSTEM_DELAY', 'SECURITY_DELAY', 'AIRLINE_DELAY',\n",
      "       'LATE_AIRCRAFT_DELAY', 'WEATHER_DELAY', 'DATE'],\n",
      "      dtype='object')\n"
     ]
    }
   ],
   "source": [
    "df_delayed_flights['DATE'] = pd.to_datetime(df_delayed_flights[['YEAR','MONTH', 'DAY']])\n",
    "print(df_delayed_flights.columns)"
   ]
  },
  {
   "cell_type": "markdown",
   "metadata": {},
   "source": [
    "## 3.2. Remove not relevant and duplicated columns"
   ]
  },
  {
   "cell_type": "code",
   "execution_count": 29,
   "metadata": {},
   "outputs": [
    {
     "name": "stdout",
     "output_type": "stream",
     "text": [
      "Index(['MONTH', 'AIRLINE', 'FLIGHT_NUMBER', 'TAIL_NUMBER', 'ORIGIN_AIRPORT',\n",
      "       'DESTINATION_AIRPORT', 'SCHEDULED_DEPARTURE', 'DEPARTURE_TIME',\n",
      "       'DEPARTURE_DELAY', 'SCHEDULED_TIME', 'ELAPSED_TIME', 'AIR_TIME',\n",
      "       'DISTANCE', 'SCHEDULED_ARRIVAL', 'ARRIVAL_TIME', 'ARRIVAL_DELAY',\n",
      "       'DIVERTED', 'CANCELLED', 'CANCELLATION_REASON', 'AIR_SYSTEM_DELAY',\n",
      "       'SECURITY_DELAY', 'AIRLINE_DELAY', 'LATE_AIRCRAFT_DELAY',\n",
      "       'WEATHER_DELAY', 'DATE'],\n",
      "      dtype='object')\n",
      "Index(['IATA_CODE', 'AIRPORT'], dtype='object')\n"
     ]
    }
   ],
   "source": [
    "df_delayed_flights = df_delayed_flights.drop(['YEAR','DAY','DAY_OF_WEEK'], axis=1)\n",
    "df_delayed_flights = df_delayed_flights.drop(['TAXI_OUT','TAXI_IN','WHEELS_OFF', 'WHEELS_ON','AIR_TIME','ELAPSED_TIME'], axis=1)\n",
    "print(df_delayed_flights.columns)\n",
    "\n",
    "df_airports = df_airports[['IATA_CODE','AIRPORT']]\n",
    "print(df_airports.columns)\n"
   ]
  },
  {
   "cell_type": "markdown",
   "metadata": {},
   "source": [
    "## 3.3. Rename Columns"
   ]
  },
  {
   "cell_type": "code",
   "execution_count": 30,
   "metadata": {},
   "outputs": [],
   "source": [
    "df_airports.columns = ['AIRPORT_CODE','AIRPORT_NAME']\n",
    "df_airlines.columns = ['AIRLINE_CODE','AIRLINE_NAME']"
   ]
  },
  {
   "cell_type": "markdown",
   "metadata": {},
   "source": [
    "## 3.4. Change type"
   ]
  },
  {
   "cell_type": "code",
   "execution_count": 31,
   "metadata": {},
   "outputs": [],
   "source": [
    "# Function to convert from 'HHMM' string to datetime.time\n",
    "# Reference: https://www.kaggle.com/fabiendaniel/predicting-flight-delays-tutorial\n",
    "\n",
    "import datetime\n",
    "\n",
    "def format_time(time_string):\n",
    "    \n",
    "    if isinstance(time_string, datetime.time):\n",
    "        return time_string\n",
    "    \n",
    "    if pd.isnull(time_string):\n",
    "        return np.nan\n",
    "    \n",
    "    else:\n",
    "        if time_string == 2400: #12 midnight\n",
    "            time_string = 0\n",
    "            \n",
    "        time_string = \"{0:04d}\".format(int(time_string)) #Format the string to be as 4 decimals (hh:mm)\n",
    "        formated_time = datetime.time(int(time_string[0:2]), int(time_string[2:4])) #Split the 4 digits into 2 parts\n",
    "        return formated_time"
   ]
  },
  {
   "cell_type": "code",
   "execution_count": 32,
   "metadata": {
    "scrolled": true
   },
   "outputs": [
    {
     "data": {
      "text/html": [
       "<div>\n",
       "<style scoped>\n",
       "    .dataframe tbody tr th:only-of-type {\n",
       "        vertical-align: middle;\n",
       "    }\n",
       "\n",
       "    .dataframe tbody tr th {\n",
       "        vertical-align: top;\n",
       "    }\n",
       "\n",
       "    .dataframe thead th {\n",
       "        text-align: right;\n",
       "    }\n",
       "</style>\n",
       "<table border=\"1\" class=\"dataframe\">\n",
       "  <thead>\n",
       "    <tr style=\"text-align: right;\">\n",
       "      <th></th>\n",
       "      <th>SCHEDULED_DEPARTURE</th>\n",
       "      <th>SCHEDULED_ARRIVAL</th>\n",
       "      <th>DEPARTURE_TIME</th>\n",
       "      <th>ARRIVAL_TIME</th>\n",
       "      <th>DEPARTURE_DELAY</th>\n",
       "      <th>ARRIVAL_DELAY</th>\n",
       "    </tr>\n",
       "  </thead>\n",
       "  <tbody>\n",
       "    <tr>\n",
       "      <th>0</th>\n",
       "      <td>00:05:00</td>\n",
       "      <td>04:30:00</td>\n",
       "      <td>23:54:00</td>\n",
       "      <td>04:08:00</td>\n",
       "      <td>-11.00</td>\n",
       "      <td>-22.00</td>\n",
       "    </tr>\n",
       "    <tr>\n",
       "      <th>1</th>\n",
       "      <td>00:10:00</td>\n",
       "      <td>07:50:00</td>\n",
       "      <td>00:02:00</td>\n",
       "      <td>07:41:00</td>\n",
       "      <td>-8.00</td>\n",
       "      <td>-9.00</td>\n",
       "    </tr>\n",
       "    <tr>\n",
       "      <th>2</th>\n",
       "      <td>00:20:00</td>\n",
       "      <td>08:06:00</td>\n",
       "      <td>00:18:00</td>\n",
       "      <td>08:11:00</td>\n",
       "      <td>-2.00</td>\n",
       "      <td>5.00</td>\n",
       "    </tr>\n",
       "    <tr>\n",
       "      <th>3</th>\n",
       "      <td>00:20:00</td>\n",
       "      <td>08:05:00</td>\n",
       "      <td>00:15:00</td>\n",
       "      <td>07:56:00</td>\n",
       "      <td>-5.00</td>\n",
       "      <td>-9.00</td>\n",
       "    </tr>\n",
       "    <tr>\n",
       "      <th>4</th>\n",
       "      <td>00:25:00</td>\n",
       "      <td>03:20:00</td>\n",
       "      <td>00:24:00</td>\n",
       "      <td>02:59:00</td>\n",
       "      <td>-1.00</td>\n",
       "      <td>-21.00</td>\n",
       "    </tr>\n",
       "    <tr>\n",
       "      <th>5</th>\n",
       "      <td>00:25:00</td>\n",
       "      <td>06:02:00</td>\n",
       "      <td>00:20:00</td>\n",
       "      <td>06:10:00</td>\n",
       "      <td>-5.00</td>\n",
       "      <td>8.00</td>\n",
       "    </tr>\n",
       "  </tbody>\n",
       "</table>\n",
       "</div>"
      ],
      "text/plain": [
       "  SCHEDULED_DEPARTURE SCHEDULED_ARRIVAL DEPARTURE_TIME ARRIVAL_TIME  \\\n",
       "0            00:05:00          04:30:00       23:54:00     04:08:00   \n",
       "1            00:10:00          07:50:00       00:02:00     07:41:00   \n",
       "2            00:20:00          08:06:00       00:18:00     08:11:00   \n",
       "3            00:20:00          08:05:00       00:15:00     07:56:00   \n",
       "4            00:25:00          03:20:00       00:24:00     02:59:00   \n",
       "5            00:25:00          06:02:00       00:20:00     06:10:00   \n",
       "\n",
       "   DEPARTURE_DELAY  ARRIVAL_DELAY  \n",
       "0           -11.00         -22.00  \n",
       "1            -8.00          -9.00  \n",
       "2            -2.00           5.00  \n",
       "3            -5.00          -9.00  \n",
       "4            -1.00         -21.00  \n",
       "5            -5.00           8.00  "
      ]
     },
     "execution_count": 32,
     "metadata": {},
     "output_type": "execute_result"
    }
   ],
   "source": [
    "# Call the Function:\n",
    "\n",
    "df_delayed_flights['SCHEDULED_DEPARTURE'] = df_delayed_flights['SCHEDULED_DEPARTURE'].apply(format_time)\n",
    "df_delayed_flights['DEPARTURE_TIME'] = df_delayed_flights['DEPARTURE_TIME'].apply(format_time)\n",
    "df_delayed_flights['SCHEDULED_ARRIVAL'] =df_delayed_flights['SCHEDULED_ARRIVAL'].apply(format_time)\n",
    "df_delayed_flights['ARRIVAL_TIME'] = df_delayed_flights['ARRIVAL_TIME'].apply(format_time)\n",
    "\n",
    "#Print a sample..\n",
    "df_delayed_flights.loc[:5, ['SCHEDULED_DEPARTURE', 'SCHEDULED_ARRIVAL', 'DEPARTURE_TIME',\n",
    "                            'ARRIVAL_TIME', 'DEPARTURE_DELAY', 'ARRIVAL_DELAY']]"
   ]
  },
  {
   "cell_type": "markdown",
   "metadata": {},
   "source": [
    "## 3.5. Change Values"
   ]
  },
  {
   "cell_type": "code",
   "execution_count": 33,
   "metadata": {},
   "outputs": [
    {
     "data": {
      "text/plain": [
       "Weather                48851\n",
       "Airline                25262\n",
       "National Air System    15749\n",
       "Security                  22\n",
       "Name: CANCELLATION_REASON, dtype: int64"
      ]
     },
     "execution_count": 33,
     "metadata": {},
     "output_type": "execute_result"
    }
   ],
   "source": [
    "#Replace cancallation reason with meaningful values\n",
    "df_delayed_flights[\"CANCELLATION_REASON\"].replace({'A':'Airline',\n",
    "                                                   'B':'Weather',\n",
    "                                                   'C':'National Air System',\n",
    "                                                   'D':'Security'}, inplace=True)\n",
    "\n",
    "df_delayed_flights[\"CANCELLATION_REASON\"].value_counts()"
   ]
  },
  {
   "cell_type": "markdown",
   "metadata": {},
   "source": [
    "## 3.6. Missing values"
   ]
  },
  {
   "cell_type": "code",
   "execution_count": 34,
   "metadata": {},
   "outputs": [
    {
     "name": "stdout",
     "output_type": "stream",
     "text": [
      "Delayed Flights Missing Values:\n",
      " MONTH                        0\n",
      "AIRLINE                      0\n",
      "FLIGHT_NUMBER                0\n",
      "TAIL_NUMBER              14721\n",
      "ORIGIN_AIRPORT               0\n",
      "DESTINATION_AIRPORT          0\n",
      "SCHEDULED_DEPARTURE          0\n",
      "DEPARTURE_TIME           86153\n",
      "DEPARTURE_DELAY          86153\n",
      "SCHEDULED_TIME               6\n",
      "ELAPSED_TIME            105071\n",
      "AIR_TIME                105071\n",
      "DISTANCE                     0\n",
      "SCHEDULED_ARRIVAL            0\n",
      "ARRIVAL_TIME             92513\n",
      "ARRIVAL_DELAY           105071\n",
      "DIVERTED                     0\n",
      "CANCELLED                    0\n",
      "CANCELLATION_REASON    5729195\n",
      "AIR_SYSTEM_DELAY       4755640\n",
      "SECURITY_DELAY         4755640\n",
      "AIRLINE_DELAY          4755640\n",
      "LATE_AIRCRAFT_DELAY    4755640\n",
      "WEATHER_DELAY          4755640\n",
      "DATE                         0\n",
      "dtype: int64\n",
      "Airlines Missing Values:\n",
      " AIRLINE_CODE    0\n",
      "AIRLINE_NAME    0\n",
      "dtype: int64\n",
      "Airports Missing Values:\n",
      " AIRPORT_CODE    0\n",
      "AIRPORT_NAME    0\n",
      "dtype: int64\n"
     ]
    }
   ],
   "source": [
    "print(\"Delayed Flights Missing Values:\\n\", df_delayed_flights.isnull().sum())\n",
    "print(\"Airlines Missing Values:\\n\", df_airlines.isnull().sum())\n",
    "print(\"Airports Missing Values:\\n\", df_airports.isnull().sum())"
   ]
  },
  {
   "cell_type": "markdown",
   "metadata": {},
   "source": [
    "### a. CANCELLATION_REASON"
   ]
  },
  {
   "cell_type": "code",
   "execution_count": 35,
   "metadata": {},
   "outputs": [
    {
     "name": "stdout",
     "output_type": "stream",
     "text": [
      "Total number of delayed flights:  5819079\n",
      "Cancelled flights=  89884\n",
      "Weather                48851\n",
      "Airline                25262\n",
      "National Air System    15749\n",
      "Security                  22\n",
      "Name: CANCELLATION_REASON, dtype: int64\n"
     ]
    }
   ],
   "source": [
    "print(\"Total number of delayed flights: \", len(df_delayed_flights))\n",
    "print(\"Cancelled flights= \", sum(df_delayed_flights['CANCELLED']))\n",
    "print(df_delayed_flights['CANCELLATION_REASON'].value_counts())"
   ]
  },
  {
   "cell_type": "markdown",
   "metadata": {},
   "source": [
    "#### Conclusion: Number of missing data under the variable \"CANCELLATION_REASON\" is large since when the flight was not cancelled, no reason code was assigned. We can replace no values with  \"Not Cancelled\":"
   ]
  },
  {
   "cell_type": "code",
   "execution_count": 36,
   "metadata": {},
   "outputs": [
    {
     "name": "stdout",
     "output_type": "stream",
     "text": [
      "Not_Cancelled          5729195\n",
      "Weather                  48851\n",
      "Airline                  25262\n",
      "National Air System      15749\n",
      "Security                    22\n",
      "Name: CANCELLATION_REASON, dtype: int64\n"
     ]
    }
   ],
   "source": [
    "df_delayed_flights['CANCELLATION_REASON'] = df_delayed_flights['CANCELLATION_REASON'].fillna('Not_Cancelled')\n",
    "df_delayed_flights['CANCELLATION_REASON'].isnull().sum()\n",
    "print(df_delayed_flights['CANCELLATION_REASON'].value_counts())"
   ]
  },
  {
   "cell_type": "markdown",
   "metadata": {},
   "source": [
    "### b. DEPARTURE_DELAY & ARRIVAL_DELAY"
   ]
  },
  {
   "cell_type": "code",
   "execution_count": 37,
   "metadata": {
    "scrolled": false
   },
   "outputs": [
    {
     "data": {
      "text/plain": [
       "Int64Index([     32,      42,      68,      82,      90,     128,     131,\n",
       "                147,     166,     206,\n",
       "            ...\n",
       "            5813861, 5814553, 5816650, 5816994, 5817980, 5818090, 5818157,\n",
       "            5818318, 5818777, 5818843],\n",
       "           dtype='int64', length=86153)"
      ]
     },
     "execution_count": 37,
     "metadata": {},
     "output_type": "execute_result"
    }
   ],
   "source": [
    "df_delayed_flights[(df_delayed_flights['DEPARTURE_DELAY'].isnull()) &\n",
    "                   (df_delayed_flights['ARRIVAL_DELAY'].isnull())].index"
   ]
  },
  {
   "cell_type": "markdown",
   "metadata": {},
   "source": [
    "#### Conclosion: Flights with no departure delay, doesn't have arrival delay too. (same flights in both columns)"
   ]
  },
  {
   "cell_type": "code",
   "execution_count": 20,
   "metadata": {},
   "outputs": [
    {
     "name": "stdout",
     "output_type": "stream",
     "text": [
      "AIRLINE\n",
      "HA    0.49\n",
      "AS    1.79\n",
      "US    6.14\n",
      "DL    7.37\n",
      "OO    7.80\n",
      "EV    8.72\n",
      "AA    8.90\n",
      "VX    9.02\n",
      "MQ   10.13\n",
      "WN   10.58\n",
      "B6   11.51\n",
      "F9   13.35\n",
      "UA   14.44\n",
      "NK   15.94\n",
      "Name: DEPARTURE_DELAY, dtype: float64\n",
      "AIRLINE\n",
      "AS   -0.98\n",
      "DL    0.19\n",
      "HA    2.02\n",
      "AA    3.45\n",
      "US    3.71\n",
      "WN    4.37\n",
      "VX    4.74\n",
      "UA    5.43\n",
      "OO    5.85\n",
      "MQ    6.46\n",
      "EV    6.59\n",
      "B6    6.68\n",
      "F9   12.50\n",
      "NK   14.47\n",
      "Name: ARRIVAL_DELAY, dtype: float64\n"
     ]
    }
   ],
   "source": [
    "\n",
    "airlines_dep_delays = df_delayed_flights.groupby('AIRLINE', sort=False)['DEPARTURE_DELAY'].mean()\n",
    "airlines_arr_delays = df_delayed_flights.groupby('AIRLINE', sort=False)['ARRIVAL_DELAY'].mean()\n",
    "\n",
    "print(airlines_dep_delays.sort_values())\n",
    "print(airlines_arr_delays.sort_values())"
   ]
  },
  {
   "cell_type": "code",
   "execution_count": 21,
   "metadata": {},
   "outputs": [],
   "source": [
    "# Fill missing values with mean delay for each airline.\n",
    "\n",
    "for idx in df_delayed_flights.index[df_delayed_flights['DEPARTURE_DELAY'].isnull()]:    \n",
    "    \n",
    "    if(df_delayed_flights.loc[idx,'CANCELLED'] == 1):\n",
    "        \n",
    "    \n",
    "    \n",
    "    else:\n",
    "    airline_code = df_delayed_flights.loc[idx,'AIRLINE']\n",
    "    df_delayed_flights.at[idx,'DEPARTURE_DELAY'] = airlines_dep_delays.at[airline_code]\n",
    "    df_delayed_flights.at[idx,'DEPARTURE_DELAY'] = airlines_arr_delays.at[airline_code]"
   ]
  },
  {
   "cell_type": "code",
   "execution_count": 38,
   "metadata": {},
   "outputs": [
    {
     "data": {
      "text/plain": [
       "86153"
      ]
     },
     "execution_count": 38,
     "metadata": {},
     "output_type": "execute_result"
    }
   ],
   "source": [
    "# Remove flights with missing delays\n",
    "missing = []\n",
    "missing += list(df_delayed_flights[df_delayed_flights['DEPARTURE_DELAY'].isnull()].index)\n",
    "\n",
    "len(missing)"
   ]
  },
  {
   "cell_type": "code",
   "execution_count": 41,
   "metadata": {},
   "outputs": [
    {
     "name": "stdout",
     "output_type": "stream",
     "text": [
      "5732926\n"
     ]
    }
   ],
   "source": [
    "df_delayed_flights = df_delayed_flights[~df_delayed_flights.index.isin(missing)]\n",
    "print(len(df_delayed_flights))"
   ]
  },
  {
   "cell_type": "markdown",
   "metadata": {},
   "source": [
    "# 4. Remove Outliers"
   ]
  },
  {
   "cell_type": "code",
   "execution_count": 42,
   "metadata": {
    "scrolled": true
   },
   "outputs": [
    {
     "data": {
      "image/png": "[encoded data removed]",
      "text/plain": [
       "<Figure size 432x288 with 1 Axes>"
      ]
     },
     "metadata": {
      "needs_background": "light"
     },
     "output_type": "display_data"
    }
   ],
   "source": [
    "df_delayed_flights[[\"DEPARTURE_DELAY\",\"ARRIVAL_DELAY\"]].plot.box()\n",
    "plt.show()"
   ]
  },
  {
   "cell_type": "code",
   "execution_count": 43,
   "metadata": {},
   "outputs": [
    {
     "name": "stderr",
     "output_type": "stream",
     "text": [
      "C:\\Users\\A-Sha\\Anaconda3\\lib\\site-packages\\numpy\\lib\\histograms.py:754: RuntimeWarning: invalid value encountered in greater_equal\n",
      "  keep = (tmp_a >= first_edge)\n",
      "C:\\Users\\A-Sha\\Anaconda3\\lib\\site-packages\\numpy\\lib\\histograms.py:755: RuntimeWarning: invalid value encountered in less_equal\n",
      "  keep &= (tmp_a <= last_edge)\n"
     ]
    },
    {
     "data": {
      "image/png": "[encoded data removed]",
      "text/plain": [
       "<Figure size 432x288 with 1 Axes>"
      ]
     },
     "metadata": {
      "needs_background": "light"
     },
     "output_type": "display_data"
    },
    {
     "data": {
      "image/png": "[encoded data removed]",
      "text/plain": [
       "<Figure size 432x288 with 1 Axes>"
      ]
     },
     "metadata": {
      "needs_background": "light"
     },
     "output_type": "display_data"
    }
   ],
   "source": [
    "plt.hist(df_delayed_flights['ARRIVAL_DELAY'], bins=150)\n",
    "plt.title(\"Arrival Delays\")\n",
    "plt.show()\n",
    "\n",
    "plt.hist(df_delayed_flights['DEPARTURE_DELAY'], bins=150)\n",
    "plt.title(\"Departure Delays\")\n",
    "plt.show()"
   ]
  },
  {
   "cell_type": "code",
   "execution_count": 44,
   "metadata": {},
   "outputs": [
    {
     "name": "stdout",
     "output_type": "stream",
     "text": [
      "Arrival Delays:\t \t Mean = 4.407057357987598 \t SD = 39.27129365752419\n",
      "Departure Delays:\t Mean = 9.370158275198389 \t SD = 37.080939262729146\n"
     ]
    }
   ],
   "source": [
    "#Determine Outliers\n",
    "\n",
    "mean_arrival_delays = np.mean(df_delayed_flights['ARRIVAL_DELAY'] )\n",
    "sd_arrival_delays = np.std(df_delayed_flights['ARRIVAL_DELAY'])\n",
    "\n",
    "mean_departure_delays = np.mean(df_delayed_flights['DEPARTURE_DELAY'])\n",
    "sd_departure_delays = np.std(df_delayed_flights['DEPARTURE_DELAY'])\n",
    "\n",
    "print('Arrival Delays:\\t \\t Mean = {0} \\t SD = {1}'.format(mean_arrival_delays, sd_arrival_delays))\n",
    "print('Departure Delays:\\t Mean = {0} \\t SD = {1}'.format(mean_departure_delays, sd_departure_delays))\n"
   ]
  },
  {
   "cell_type": "code",
   "execution_count": 45,
   "metadata": {},
   "outputs": [
    {
     "name": "stdout",
     "output_type": "stream",
     "text": [
      "(5606713,)\n",
      "With removing on-time flights:\n",
      "Arrival Delays:\t \t Mean = 4.5066007253308324 \t SD = 39.70668408480284\n",
      "Departure Delays:\t Mean = 9.941291362037587 \t SD = 38.11990930423063\n"
     ]
    }
   ],
   "source": [
    "#Arrrival_delay or Departure_delay != 0 \n",
    "\n",
    "arrival_delays = df_delayed_flights[df_delayed_flights['ARRIVAL_DELAY'] != 0.00]['ARRIVAL_DELAY']\n",
    "departure_delays = df_delayed_flights[df_delayed_flights['DEPARTURE_DELAY'] != 0.00]['DEPARTURE_DELAY']\n",
    "\n",
    "print(arrival_delays.shape)\n",
    "\n",
    "\n",
    "mean_ad = np.mean(arrival_delays)\n",
    "sd_ad = np.std(arrival_delays)\n",
    "\n",
    "mean_dd = np.mean(departure_delays)\n",
    "sd_dd = np.std(departure_delays)\n",
    "\n",
    "print(\"With removing on-time flights:\")\n",
    "\n",
    "print('Arrival Delays:\\t \\t Mean = {0} \\t SD = {1}'.format(mean_ad, sd_ad))\n",
    "print('Departure Delays:\\t Mean = {0} \\t SD = {1}'.format(mean_dd, sd_dd))\n"
   ]
  },
  {
   "cell_type": "code",
   "execution_count": 46,
   "metadata": {},
   "outputs": [
    {
     "name": "stdout",
     "output_type": "stream",
     "text": [
      "\n",
      "# Flights to remove 218364\n"
     ]
    }
   ],
   "source": [
    "# Removing\n",
    "flights_to_remove = []\n",
    "\n",
    "# remove based on arrival and departure delays (normal distribution)\n",
    "flights_to_remove = flights_to_remove + list(df_delayed_flights[df_delayed_flights['ARRIVAL_DELAY'] > mean_ad + 3.0* sd_ad].index)\n",
    "flights_to_remove = flights_to_remove + list(df_delayed_flights[df_delayed_flights['ARRIVAL_DELAY'] < mean_ad - 3.0* sd_ad].index)\n",
    "\n",
    "flights_to_remove = flights_to_remove + list(df_delayed_flights[df_delayed_flights['DEPARTURE_DELAY'] > mean_dd + 3.0* sd_dd].index)\n",
    "flights_to_remove = flights_to_remove + list(df_delayed_flights[df_delayed_flights['DEPARTURE_DELAY'] < mean_dd - 3.0* sd_dd].index)\n",
    "\n",
    "print('')\n",
    "print('# Flights to remove', len(flights_to_remove))\n"
   ]
  },
  {
   "cell_type": "code",
   "execution_count": 47,
   "metadata": {},
   "outputs": [
    {
     "name": "stdout",
     "output_type": "stream",
     "text": [
      "Was:  (5732926, 25)  Now:  (5611364, 25)\n"
     ]
    }
   ],
   "source": [
    "\n",
    "new_delayed_flights = df_delayed_flights[~df_delayed_flights.index.isin(flights_to_remove)]\n",
    "print(\"Was: \", df_delayed_flights.shape, \" Now: \", new_delayed_flights.shape)\n"
   ]
  },
  {
   "cell_type": "code",
   "execution_count": 48,
   "metadata": {},
   "outputs": [
    {
     "data": {
      "image/png": "[encoded data removed]",
      "text/plain": [
       "<Figure size 432x288 with 1 Axes>"
      ]
     },
     "metadata": {
      "needs_background": "light"
     },
     "output_type": "display_data"
    },
    {
     "data": {
      "image/png": "[encoded data removed]",
      "text/plain": [
       "<Figure size 432x288 with 1 Axes>"
      ]
     },
     "metadata": {
      "needs_background": "light"
     },
     "output_type": "display_data"
    }
   ],
   "source": [
    "\n",
    "plt.hist(new_delayed_flights['ARRIVAL_DELAY'], bins=150)\n",
    "plt.title(\"Arrival Delays\")\n",
    "plt.show()\n",
    "\n",
    "plt.hist(new_delayed_flights['DEPARTURE_DELAY'], bins=150)\n",
    "plt.title(\"Departure Delays\")\n",
    "plt.show()"
   ]
  },
  {
   "cell_type": "markdown",
   "metadata": {},
   "source": [
    "## 5. Merging datasets"
   ]
  },
  {
   "cell_type": "code",
   "execution_count": 52,
   "metadata": {
    "scrolled": true
   },
   "outputs": [],
   "source": [
    "df_merge_v1 = new_delayed_flights.copy()\n",
    "\n",
    "#Merge Airlines and Flights dfs\n",
    "df_merge_v1 = pd.merge(new_delayed_flights, df_airlines, left_on='AIRLINE', right_on='AIRLINE_CODE', how='left')\n",
    "\n",
    "#Merge Airports and Flights dfs on Origin_Airport and Airport_Code\n",
    "df_merge_v1 = pd.merge(df_merge_v1, df_airports, left_on='ORIGIN_AIRPORT', right_on='AIRPORT_CODE', how='left')\n",
    "df_merge_v1.rename(columns={'ORIGIN_AIRPORT':'ORIGIN_AC', #Origin Airport Code\n",
    "                            'AIRPORT_NAME':'ORIGIN_AIRPORT', #Origin Airport Name\n",
    "                            'DESTINATION_AIRPORT': 'DESTINATION_AC'}, inplace=True) #Dest Airport Code\n",
    "df_merge_v1.drop(['AIRLINE','AIRPORT_CODE'], axis=1, inplace=True)\n",
    "\n",
    "#Merge Airports and Flights dfs on Destination_Airport and Airport_Code\n",
    "df_merge_v1 = pd.merge(df_merge_v1, df_airports, left_on='DESTINATION_AC', right_on='AIRPORT_CODE', how='left')\n",
    "df_merge_v1.rename(columns={'AIRPORT_NAME':'DESTINATION_AIRPORT'}, inplace=True) #Dest Airport Name\n",
    "\n",
    "df_merge_v1.drop('AIRPORT_CODE', axis=1, inplace=True)"
   ]
  },
  {
   "cell_type": "code",
   "execution_count": 53,
   "metadata": {},
   "outputs": [
    {
     "name": "stdout",
     "output_type": "stream",
     "text": [
      "Merged Dataframe Columns: \n",
      " Index(['MONTH', 'FLIGHT_NUMBER', 'TAIL_NUMBER', 'ORIGIN_AC', 'DESTINATION_AC',\n",
      "       'SCHEDULED_DEPARTURE', 'DEPARTURE_TIME', 'DEPARTURE_DELAY',\n",
      "       'SCHEDULED_TIME', 'ELAPSED_TIME', 'AIR_TIME', 'DISTANCE',\n",
      "       'SCHEDULED_ARRIVAL', 'ARRIVAL_TIME', 'ARRIVAL_DELAY', 'DIVERTED',\n",
      "       'CANCELLED', 'CANCELLATION_REASON', 'AIR_SYSTEM_DELAY',\n",
      "       'SECURITY_DELAY', 'AIRLINE_DELAY', 'LATE_AIRCRAFT_DELAY',\n",
      "       'WEATHER_DELAY', 'DATE', 'AIRLINE_CODE', 'AIRLINE_NAME',\n",
      "       'ORIGIN_AIRPORT', 'DESTINATION_AIRPORT'],\n",
      "      dtype='object')\n"
     ]
    },
    {
     "data": {
      "text/html": [
       "<div>\n",
       "<style scoped>\n",
       "    .dataframe tbody tr th:only-of-type {\n",
       "        vertical-align: middle;\n",
       "    }\n",
       "\n",
       "    .dataframe tbody tr th {\n",
       "        vertical-align: top;\n",
       "    }\n",
       "\n",
       "    .dataframe thead th {\n",
       "        text-align: right;\n",
       "    }\n",
       "</style>\n",
       "<table border=\"1\" class=\"dataframe\">\n",
       "  <thead>\n",
       "    <tr style=\"text-align: right;\">\n",
       "      <th></th>\n",
       "      <th>ORIGIN_AIRPORT</th>\n",
       "      <th>ORIGIN_AC</th>\n",
       "      <th>DESTINATION_AIRPORT</th>\n",
       "      <th>DESTINATION_AC</th>\n",
       "    </tr>\n",
       "  </thead>\n",
       "  <tbody>\n",
       "    <tr>\n",
       "      <th>0</th>\n",
       "      <td>Ted Stevens Anchorage International Airport</td>\n",
       "      <td>ANC</td>\n",
       "      <td>Seattle-Tacoma International Airport</td>\n",
       "      <td>SEA</td>\n",
       "    </tr>\n",
       "    <tr>\n",
       "      <th>1</th>\n",
       "      <td>Los Angeles International Airport</td>\n",
       "      <td>LAX</td>\n",
       "      <td>Palm Beach International Airport</td>\n",
       "      <td>PBI</td>\n",
       "    </tr>\n",
       "    <tr>\n",
       "      <th>2</th>\n",
       "      <td>San Francisco International Airport</td>\n",
       "      <td>SFO</td>\n",
       "      <td>Charlotte Douglas International Airport</td>\n",
       "      <td>CLT</td>\n",
       "    </tr>\n",
       "    <tr>\n",
       "      <th>3</th>\n",
       "      <td>Los Angeles International Airport</td>\n",
       "      <td>LAX</td>\n",
       "      <td>Miami International Airport</td>\n",
       "      <td>MIA</td>\n",
       "    </tr>\n",
       "    <tr>\n",
       "      <th>4</th>\n",
       "      <td>Seattle-Tacoma International Airport</td>\n",
       "      <td>SEA</td>\n",
       "      <td>Ted Stevens Anchorage International Airport</td>\n",
       "      <td>ANC</td>\n",
       "    </tr>\n",
       "    <tr>\n",
       "      <th>5</th>\n",
       "      <td>San Francisco International Airport</td>\n",
       "      <td>SFO</td>\n",
       "      <td>Minneapolis-Saint Paul International Airport</td>\n",
       "      <td>MSP</td>\n",
       "    </tr>\n",
       "    <tr>\n",
       "      <th>6</th>\n",
       "      <td>McCarran International Airport</td>\n",
       "      <td>LAS</td>\n",
       "      <td>Minneapolis-Saint Paul International Airport</td>\n",
       "      <td>MSP</td>\n",
       "    </tr>\n",
       "    <tr>\n",
       "      <th>7</th>\n",
       "      <td>Los Angeles International Airport</td>\n",
       "      <td>LAX</td>\n",
       "      <td>Charlotte Douglas International Airport</td>\n",
       "      <td>CLT</td>\n",
       "    </tr>\n",
       "    <tr>\n",
       "      <th>8</th>\n",
       "      <td>San Francisco International Airport</td>\n",
       "      <td>SFO</td>\n",
       "      <td>Dallas/Fort Worth International Airport</td>\n",
       "      <td>DFW</td>\n",
       "    </tr>\n",
       "    <tr>\n",
       "      <th>9</th>\n",
       "      <td>McCarran International Airport</td>\n",
       "      <td>LAS</td>\n",
       "      <td>Hartsfield-Jackson Atlanta International Airport</td>\n",
       "      <td>ATL</td>\n",
       "    </tr>\n",
       "    <tr>\n",
       "      <th>10</th>\n",
       "      <td>Denver International Airport</td>\n",
       "      <td>DEN</td>\n",
       "      <td>Hartsfield-Jackson Atlanta International Airport</td>\n",
       "      <td>ATL</td>\n",
       "    </tr>\n",
       "    <tr>\n",
       "      <th>11</th>\n",
       "      <td>McCarran International Airport</td>\n",
       "      <td>LAS</td>\n",
       "      <td>Miami International Airport</td>\n",
       "      <td>MIA</td>\n",
       "    </tr>\n",
       "    <tr>\n",
       "      <th>12</th>\n",
       "      <td>Los Angeles International Airport</td>\n",
       "      <td>LAX</td>\n",
       "      <td>Minneapolis-Saint Paul International Airport</td>\n",
       "      <td>MSP</td>\n",
       "    </tr>\n",
       "    <tr>\n",
       "      <th>13</th>\n",
       "      <td>Salt Lake City International Airport</td>\n",
       "      <td>SLC</td>\n",
       "      <td>Hartsfield-Jackson Atlanta International Airport</td>\n",
       "      <td>ATL</td>\n",
       "    </tr>\n",
       "    <tr>\n",
       "      <th>14</th>\n",
       "      <td>Seattle-Tacoma International Airport</td>\n",
       "      <td>SEA</td>\n",
       "      <td>Minneapolis-Saint Paul International Airport</td>\n",
       "      <td>MSP</td>\n",
       "    </tr>\n",
       "    <tr>\n",
       "      <th>15</th>\n",
       "      <td>Ted Stevens Anchorage International Airport</td>\n",
       "      <td>ANC</td>\n",
       "      <td>Seattle-Tacoma International Airport</td>\n",
       "      <td>SEA</td>\n",
       "    </tr>\n",
       "    <tr>\n",
       "      <th>16</th>\n",
       "      <td>Ted Stevens Anchorage International Airport</td>\n",
       "      <td>ANC</td>\n",
       "      <td>Seattle-Tacoma International Airport</td>\n",
       "      <td>SEA</td>\n",
       "    </tr>\n",
       "    <tr>\n",
       "      <th>17</th>\n",
       "      <td>San Francisco International Airport</td>\n",
       "      <td>SFO</td>\n",
       "      <td>George Bush Intercontinental Airport</td>\n",
       "      <td>IAH</td>\n",
       "    </tr>\n",
       "    <tr>\n",
       "      <th>18</th>\n",
       "      <td>Ted Stevens Anchorage International Airport</td>\n",
       "      <td>ANC</td>\n",
       "      <td>Portland International Airport</td>\n",
       "      <td>PDX</td>\n",
       "    </tr>\n",
       "    <tr>\n",
       "      <th>19</th>\n",
       "      <td>Portland International Airport</td>\n",
       "      <td>PDX</td>\n",
       "      <td>Minneapolis-Saint Paul International Airport</td>\n",
       "      <td>MSP</td>\n",
       "    </tr>\n",
       "    <tr>\n",
       "      <th>20</th>\n",
       "      <td>McCarran International Airport</td>\n",
       "      <td>LAS</td>\n",
       "      <td>Kansas City International Airport</td>\n",
       "      <td>MCI</td>\n",
       "    </tr>\n",
       "    <tr>\n",
       "      <th>21</th>\n",
       "      <td>Seattle-Tacoma International Airport</td>\n",
       "      <td>SEA</td>\n",
       "      <td>Miami International Airport</td>\n",
       "      <td>MIA</td>\n",
       "    </tr>\n",
       "    <tr>\n",
       "      <th>22</th>\n",
       "      <td>McCarran International Airport</td>\n",
       "      <td>LAS</td>\n",
       "      <td>Dallas/Fort Worth International Airport</td>\n",
       "      <td>DFW</td>\n",
       "    </tr>\n",
       "    <tr>\n",
       "      <th>23</th>\n",
       "      <td>Los Angeles International Airport</td>\n",
       "      <td>LAX</td>\n",
       "      <td>Miami International Airport</td>\n",
       "      <td>MIA</td>\n",
       "    </tr>\n",
       "    <tr>\n",
       "      <th>24</th>\n",
       "      <td>McCarran International Airport</td>\n",
       "      <td>LAS</td>\n",
       "      <td>Minneapolis-Saint Paul International Airport</td>\n",
       "      <td>MSP</td>\n",
       "    </tr>\n",
       "    <tr>\n",
       "      <th>25</th>\n",
       "      <td>Los Angeles International Airport</td>\n",
       "      <td>LAX</td>\n",
       "      <td>George Bush Intercontinental Airport</td>\n",
       "      <td>IAH</td>\n",
       "    </tr>\n",
       "    <tr>\n",
       "      <th>26</th>\n",
       "      <td>Fairbanks International Airport</td>\n",
       "      <td>FAI</td>\n",
       "      <td>Seattle-Tacoma International Airport</td>\n",
       "      <td>SEA</td>\n",
       "    </tr>\n",
       "    <tr>\n",
       "      <th>27</th>\n",
       "      <td>Minneapolis-Saint Paul International Airport</td>\n",
       "      <td>MSP</td>\n",
       "      <td>Fort Lauderdale-Hollywood International Airport</td>\n",
       "      <td>FLL</td>\n",
       "    </tr>\n",
       "    <tr>\n",
       "      <th>28</th>\n",
       "      <td>McCarran International Airport</td>\n",
       "      <td>LAS</td>\n",
       "      <td>Charlotte Douglas International Airport</td>\n",
       "      <td>CLT</td>\n",
       "    </tr>\n",
       "    <tr>\n",
       "      <th>29</th>\n",
       "      <td>Denver International Airport</td>\n",
       "      <td>DEN</td>\n",
       "      <td>Miami International Airport</td>\n",
       "      <td>MIA</td>\n",
       "    </tr>\n",
       "    <tr>\n",
       "      <th>...</th>\n",
       "      <td>...</td>\n",
       "      <td>...</td>\n",
       "      <td>...</td>\n",
       "      <td>...</td>\n",
       "    </tr>\n",
       "    <tr>\n",
       "      <th>5611334</th>\n",
       "      <td>Los Angeles International Airport</td>\n",
       "      <td>LAX</td>\n",
       "      <td>Chicago O'Hare International Airport</td>\n",
       "      <td>ORD</td>\n",
       "    </tr>\n",
       "    <tr>\n",
       "      <th>5611335</th>\n",
       "      <td>Los Angeles International Airport</td>\n",
       "      <td>LAX</td>\n",
       "      <td>Miami International Airport</td>\n",
       "      <td>MIA</td>\n",
       "    </tr>\n",
       "    <tr>\n",
       "      <th>5611336</th>\n",
       "      <td>Phoenix Sky Harbor International Airport</td>\n",
       "      <td>PHX</td>\n",
       "      <td>John F. Kennedy International Airport (New Yor...</td>\n",
       "      <td>JFK</td>\n",
       "    </tr>\n",
       "    <tr>\n",
       "      <th>5611337</th>\n",
       "      <td>Seattle-Tacoma International Airport</td>\n",
       "      <td>SEA</td>\n",
       "      <td>Minneapolis-Saint Paul International Airport</td>\n",
       "      <td>MSP</td>\n",
       "    </tr>\n",
       "    <tr>\n",
       "      <th>5611338</th>\n",
       "      <td>McCarran International Airport</td>\n",
       "      <td>LAS</td>\n",
       "      <td>Ted Stevens Anchorage International Airport</td>\n",
       "      <td>ANC</td>\n",
       "    </tr>\n",
       "    <tr>\n",
       "      <th>5611339</th>\n",
       "      <td>Seattle-Tacoma International Airport</td>\n",
       "      <td>SEA</td>\n",
       "      <td>Ted Stevens Anchorage International Airport</td>\n",
       "      <td>ANC</td>\n",
       "    </tr>\n",
       "    <tr>\n",
       "      <th>5611340</th>\n",
       "      <td>Los Angeles International Airport</td>\n",
       "      <td>LAX</td>\n",
       "      <td>Ted Stevens Anchorage International Airport</td>\n",
       "      <td>ANC</td>\n",
       "    </tr>\n",
       "    <tr>\n",
       "      <th>5611341</th>\n",
       "      <td>Los Angeles International Airport</td>\n",
       "      <td>LAX</td>\n",
       "      <td>Seattle-Tacoma International Airport</td>\n",
       "      <td>SEA</td>\n",
       "    </tr>\n",
       "    <tr>\n",
       "      <th>5611342</th>\n",
       "      <td>Kona International Airport at Keahole</td>\n",
       "      <td>KOA</td>\n",
       "      <td>Seattle-Tacoma International Airport</td>\n",
       "      <td>SEA</td>\n",
       "    </tr>\n",
       "    <tr>\n",
       "      <th>5611343</th>\n",
       "      <td>Fort Lauderdale-Hollywood International Airport</td>\n",
       "      <td>FLL</td>\n",
       "      <td>Rafael Hernández Airport</td>\n",
       "      <td>BQN</td>\n",
       "    </tr>\n",
       "    <tr>\n",
       "      <th>5611344</th>\n",
       "      <td>Phoenix Sky Harbor International Airport</td>\n",
       "      <td>PHX</td>\n",
       "      <td>Detroit Metropolitan Airport</td>\n",
       "      <td>DTW</td>\n",
       "    </tr>\n",
       "    <tr>\n",
       "      <th>5611345</th>\n",
       "      <td>Denver International Airport</td>\n",
       "      <td>DEN</td>\n",
       "      <td>Southwest Florida International Airport</td>\n",
       "      <td>RSW</td>\n",
       "    </tr>\n",
       "    <tr>\n",
       "      <th>5611346</th>\n",
       "      <td>Denver International Airport</td>\n",
       "      <td>DEN</td>\n",
       "      <td>Orlando International Airport</td>\n",
       "      <td>MCO</td>\n",
       "    </tr>\n",
       "    <tr>\n",
       "      <th>5611347</th>\n",
       "      <td>Denver International Airport</td>\n",
       "      <td>DEN</td>\n",
       "      <td>Raleigh-Durham International Airport</td>\n",
       "      <td>RDU</td>\n",
       "    </tr>\n",
       "    <tr>\n",
       "      <th>5611348</th>\n",
       "      <td>Denver International Airport</td>\n",
       "      <td>DEN</td>\n",
       "      <td>Tampa International Airport</td>\n",
       "      <td>TPA</td>\n",
       "    </tr>\n",
       "    <tr>\n",
       "      <th>5611349</th>\n",
       "      <td>Seattle-Tacoma International Airport</td>\n",
       "      <td>SEA</td>\n",
       "      <td>George Bush Intercontinental Airport</td>\n",
       "      <td>IAH</td>\n",
       "    </tr>\n",
       "    <tr>\n",
       "      <th>5611350</th>\n",
       "      <td>McCarran International Airport</td>\n",
       "      <td>LAS</td>\n",
       "      <td>Washington Dulles International Airport</td>\n",
       "      <td>IAD</td>\n",
       "    </tr>\n",
       "    <tr>\n",
       "      <th>5611351</th>\n",
       "      <td>Portland International Airport</td>\n",
       "      <td>PDX</td>\n",
       "      <td>George Bush Intercontinental Airport</td>\n",
       "      <td>IAH</td>\n",
       "    </tr>\n",
       "    <tr>\n",
       "      <th>5611352</th>\n",
       "      <td>McCarran International Airport</td>\n",
       "      <td>LAS</td>\n",
       "      <td>Newark Liberty International Airport</td>\n",
       "      <td>EWR</td>\n",
       "    </tr>\n",
       "    <tr>\n",
       "      <th>5611353</th>\n",
       "      <td>Denver International Airport</td>\n",
       "      <td>DEN</td>\n",
       "      <td>Miami International Airport</td>\n",
       "      <td>MIA</td>\n",
       "    </tr>\n",
       "    <tr>\n",
       "      <th>5611354</th>\n",
       "      <td>Los Angeles International Airport</td>\n",
       "      <td>LAX</td>\n",
       "      <td>Chicago O'Hare International Airport</td>\n",
       "      <td>ORD</td>\n",
       "    </tr>\n",
       "    <tr>\n",
       "      <th>5611355</th>\n",
       "      <td>Reno/Tahoe International Airport</td>\n",
       "      <td>RNO</td>\n",
       "      <td>John F. Kennedy International Airport (New Yor...</td>\n",
       "      <td>JFK</td>\n",
       "    </tr>\n",
       "    <tr>\n",
       "      <th>5611356</th>\n",
       "      <td>Salt Lake City International Airport</td>\n",
       "      <td>SLC</td>\n",
       "      <td>Orlando International Airport</td>\n",
       "      <td>MCO</td>\n",
       "    </tr>\n",
       "    <tr>\n",
       "      <th>5611357</th>\n",
       "      <td>Denver International Airport</td>\n",
       "      <td>DEN</td>\n",
       "      <td>John F. Kennedy International Airport (New Yor...</td>\n",
       "      <td>JFK</td>\n",
       "    </tr>\n",
       "    <tr>\n",
       "      <th>5611358</th>\n",
       "      <td>Albuquerque International Sunport</td>\n",
       "      <td>ABQ</td>\n",
       "      <td>John F. Kennedy International Airport (New Yor...</td>\n",
       "      <td>JFK</td>\n",
       "    </tr>\n",
       "    <tr>\n",
       "      <th>5611359</th>\n",
       "      <td>Los Angeles International Airport</td>\n",
       "      <td>LAX</td>\n",
       "      <td>Gen. Edward Lawrence Logan International Airport</td>\n",
       "      <td>BOS</td>\n",
       "    </tr>\n",
       "    <tr>\n",
       "      <th>5611360</th>\n",
       "      <td>John F. Kennedy International Airport (New Yor...</td>\n",
       "      <td>JFK</td>\n",
       "      <td>Mercedita Airport</td>\n",
       "      <td>PSE</td>\n",
       "    </tr>\n",
       "    <tr>\n",
       "      <th>5611361</th>\n",
       "      <td>John F. Kennedy International Airport (New Yor...</td>\n",
       "      <td>JFK</td>\n",
       "      <td>Luis Muñoz Marín International Airport</td>\n",
       "      <td>SJU</td>\n",
       "    </tr>\n",
       "    <tr>\n",
       "      <th>5611362</th>\n",
       "      <td>Orlando International Airport</td>\n",
       "      <td>MCO</td>\n",
       "      <td>Luis Muñoz Marín International Airport</td>\n",
       "      <td>SJU</td>\n",
       "    </tr>\n",
       "    <tr>\n",
       "      <th>5611363</th>\n",
       "      <td>John F. Kennedy International Airport (New Yor...</td>\n",
       "      <td>JFK</td>\n",
       "      <td>Rafael Hernández Airport</td>\n",
       "      <td>BQN</td>\n",
       "    </tr>\n",
       "  </tbody>\n",
       "</table>\n",
       "<p>5611364 rows × 4 columns</p>\n",
       "</div>"
      ],
      "text/plain": [
       "                                            ORIGIN_AIRPORT ORIGIN_AC  \\\n",
       "0              Ted Stevens Anchorage International Airport       ANC   \n",
       "1                        Los Angeles International Airport       LAX   \n",
       "2                      San Francisco International Airport       SFO   \n",
       "3                        Los Angeles International Airport       LAX   \n",
       "4                     Seattle-Tacoma International Airport       SEA   \n",
       "5                      San Francisco International Airport       SFO   \n",
       "6                           McCarran International Airport       LAS   \n",
       "7                        Los Angeles International Airport       LAX   \n",
       "8                      San Francisco International Airport       SFO   \n",
       "9                           McCarran International Airport       LAS   \n",
       "10                            Denver International Airport       DEN   \n",
       "11                          McCarran International Airport       LAS   \n",
       "12                       Los Angeles International Airport       LAX   \n",
       "13                    Salt Lake City International Airport       SLC   \n",
       "14                    Seattle-Tacoma International Airport       SEA   \n",
       "15             Ted Stevens Anchorage International Airport       ANC   \n",
       "16             Ted Stevens Anchorage International Airport       ANC   \n",
       "17                     San Francisco International Airport       SFO   \n",
       "18             Ted Stevens Anchorage International Airport       ANC   \n",
       "19                          Portland International Airport       PDX   \n",
       "20                          McCarran International Airport       LAS   \n",
       "21                    Seattle-Tacoma International Airport       SEA   \n",
       "22                          McCarran International Airport       LAS   \n",
       "23                       Los Angeles International Airport       LAX   \n",
       "24                          McCarran International Airport       LAS   \n",
       "25                       Los Angeles International Airport       LAX   \n",
       "26                         Fairbanks International Airport       FAI   \n",
       "27            Minneapolis-Saint Paul International Airport       MSP   \n",
       "28                          McCarran International Airport       LAS   \n",
       "29                            Denver International Airport       DEN   \n",
       "...                                                    ...       ...   \n",
       "5611334                  Los Angeles International Airport       LAX   \n",
       "5611335                  Los Angeles International Airport       LAX   \n",
       "5611336           Phoenix Sky Harbor International Airport       PHX   \n",
       "5611337               Seattle-Tacoma International Airport       SEA   \n",
       "5611338                     McCarran International Airport       LAS   \n",
       "5611339               Seattle-Tacoma International Airport       SEA   \n",
       "5611340                  Los Angeles International Airport       LAX   \n",
       "5611341                  Los Angeles International Airport       LAX   \n",
       "5611342              Kona International Airport at Keahole       KOA   \n",
       "5611343    Fort Lauderdale-Hollywood International Airport       FLL   \n",
       "5611344           Phoenix Sky Harbor International Airport       PHX   \n",
       "5611345                       Denver International Airport       DEN   \n",
       "5611346                       Denver International Airport       DEN   \n",
       "5611347                       Denver International Airport       DEN   \n",
       "5611348                       Denver International Airport       DEN   \n",
       "5611349               Seattle-Tacoma International Airport       SEA   \n",
       "5611350                     McCarran International Airport       LAS   \n",
       "5611351                     Portland International Airport       PDX   \n",
       "5611352                     McCarran International Airport       LAS   \n",
       "5611353                       Denver International Airport       DEN   \n",
       "5611354                  Los Angeles International Airport       LAX   \n",
       "5611355                   Reno/Tahoe International Airport       RNO   \n",
       "5611356               Salt Lake City International Airport       SLC   \n",
       "5611357                       Denver International Airport       DEN   \n",
       "5611358                  Albuquerque International Sunport       ABQ   \n",
       "5611359                  Los Angeles International Airport       LAX   \n",
       "5611360  John F. Kennedy International Airport (New Yor...       JFK   \n",
       "5611361  John F. Kennedy International Airport (New Yor...       JFK   \n",
       "5611362                      Orlando International Airport       MCO   \n",
       "5611363  John F. Kennedy International Airport (New Yor...       JFK   \n",
       "\n",
       "                                       DESTINATION_AIRPORT DESTINATION_AC  \n",
       "0                     Seattle-Tacoma International Airport            SEA  \n",
       "1                         Palm Beach International Airport            PBI  \n",
       "2                  Charlotte Douglas International Airport            CLT  \n",
       "3                              Miami International Airport            MIA  \n",
       "4              Ted Stevens Anchorage International Airport            ANC  \n",
       "5             Minneapolis-Saint Paul International Airport            MSP  \n",
       "6             Minneapolis-Saint Paul International Airport            MSP  \n",
       "7                  Charlotte Douglas International Airport            CLT  \n",
       "8                  Dallas/Fort Worth International Airport            DFW  \n",
       "9         Hartsfield-Jackson Atlanta International Airport            ATL  \n",
       "10        Hartsfield-Jackson Atlanta International Airport            ATL  \n",
       "11                             Miami International Airport            MIA  \n",
       "12            Minneapolis-Saint Paul International Airport            MSP  \n",
       "13        Hartsfield-Jackson Atlanta International Airport            ATL  \n",
       "14            Minneapolis-Saint Paul International Airport            MSP  \n",
       "15                    Seattle-Tacoma International Airport            SEA  \n",
       "16                    Seattle-Tacoma International Airport            SEA  \n",
       "17                    George Bush Intercontinental Airport            IAH  \n",
       "18                          Portland International Airport            PDX  \n",
       "19            Minneapolis-Saint Paul International Airport            MSP  \n",
       "20                       Kansas City International Airport            MCI  \n",
       "21                             Miami International Airport            MIA  \n",
       "22                 Dallas/Fort Worth International Airport            DFW  \n",
       "23                             Miami International Airport            MIA  \n",
       "24            Minneapolis-Saint Paul International Airport            MSP  \n",
       "25                    George Bush Intercontinental Airport            IAH  \n",
       "26                    Seattle-Tacoma International Airport            SEA  \n",
       "27         Fort Lauderdale-Hollywood International Airport            FLL  \n",
       "28                 Charlotte Douglas International Airport            CLT  \n",
       "29                             Miami International Airport            MIA  \n",
       "...                                                    ...            ...  \n",
       "5611334               Chicago O'Hare International Airport            ORD  \n",
       "5611335                        Miami International Airport            MIA  \n",
       "5611336  John F. Kennedy International Airport (New Yor...            JFK  \n",
       "5611337       Minneapolis-Saint Paul International Airport            MSP  \n",
       "5611338        Ted Stevens Anchorage International Airport            ANC  \n",
       "5611339        Ted Stevens Anchorage International Airport            ANC  \n",
       "5611340        Ted Stevens Anchorage International Airport            ANC  \n",
       "5611341               Seattle-Tacoma International Airport            SEA  \n",
       "5611342               Seattle-Tacoma International Airport            SEA  \n",
       "5611343                           Rafael Hernández Airport            BQN  \n",
       "5611344                       Detroit Metropolitan Airport            DTW  \n",
       "5611345            Southwest Florida International Airport            RSW  \n",
       "5611346                      Orlando International Airport            MCO  \n",
       "5611347               Raleigh-Durham International Airport            RDU  \n",
       "5611348                        Tampa International Airport            TPA  \n",
       "5611349               George Bush Intercontinental Airport            IAH  \n",
       "5611350            Washington Dulles International Airport            IAD  \n",
       "5611351               George Bush Intercontinental Airport            IAH  \n",
       "5611352               Newark Liberty International Airport            EWR  \n",
       "5611353                        Miami International Airport            MIA  \n",
       "5611354               Chicago O'Hare International Airport            ORD  \n",
       "5611355  John F. Kennedy International Airport (New Yor...            JFK  \n",
       "5611356                      Orlando International Airport            MCO  \n",
       "5611357  John F. Kennedy International Airport (New Yor...            JFK  \n",
       "5611358  John F. Kennedy International Airport (New Yor...            JFK  \n",
       "5611359   Gen. Edward Lawrence Logan International Airport            BOS  \n",
       "5611360                                  Mercedita Airport            PSE  \n",
       "5611361             Luis Muñoz Marín International Airport            SJU  \n",
       "5611362             Luis Muñoz Marín International Airport            SJU  \n",
       "5611363                           Rafael Hernández Airport            BQN  \n",
       "\n",
       "[5611364 rows x 4 columns]"
      ]
     },
     "execution_count": 53,
     "metadata": {},
     "output_type": "execute_result"
    }
   ],
   "source": [
    "print(\"Merged Dataframe Columns: \\n\", df_merge_v1.columns)\n",
    "\n",
    "df_merge_v1[['ORIGIN_AIRPORT', 'ORIGIN_AC','DESTINATION_AIRPORT', 'DESTINATION_AC']]"
   ]
  },
  {
   "cell_type": "markdown",
   "metadata": {},
   "source": [
    "## Save file"
   ]
  },
  {
   "cell_type": "code",
   "execution_count": null,
   "metadata": {},
   "outputs": [],
   "source": [
    "df_merge_v1.to_csv('../data/flightsmerged.csv', index=False)"
   ]
  }
 ],
 "metadata": {
  "anaconda-cloud": {},
  "kernelspec": {
   "display_name": "Python 3",
   "language": "python",
   "name": "python3"
  },
  "language_info": {
   "codemirror_mode": {
    "name": "ipython",
    "version": 3
   },
   "file_extension": ".py",
   "mimetype": "text/x-python",
   "name": "python",
   "nbconvert_exporter": "python",
   "pygments_lexer": "ipython3",
   "version": "3.7.1"
  }
 },
 "nbformat": 4,
 "nbformat_minor": 1
}
