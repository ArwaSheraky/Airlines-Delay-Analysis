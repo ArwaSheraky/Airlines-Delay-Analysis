{
 "cells": [
  {
   "cell_type": "markdown",
   "metadata": {},
   "source": [
    "# Data Cleaning"
   ]
  },
  {
   "cell_type": "code",
   "execution_count": 1,
   "metadata": {},
   "outputs": [],
   "source": [
    "# import the library\n",
    "%matplotlib inline\n",
    "\n",
    "import pandas as pd\n",
    "import numpy as np\n",
    "import scipy\n",
    "import matplotlib.pyplot as plt\n",
    "import seaborn as sns\n",
    "\n",
    "sns.set_style('whitegrid')\n",
    "\n",
    "# convert scientific notation to decimals\n",
    "pd.set_option('display.float_format', lambda x: '%.2f' % x)"
   ]
  },
  {
   "cell_type": "markdown",
   "metadata": {},
   "source": [
    "# 1. Load Datasets"
   ]
  },
  {
   "cell_type": "code",
   "execution_count": 2,
   "metadata": {},
   "outputs": [],
   "source": [
    "#Source file: https://www.kaggle.com/usdot/flight-delays#flights.csv\n",
    "\n",
    "#Main dataset\n",
    "df_delayed_flights = pd.read_csv('../data/flights.csv', low_memory=False)\n",
    "\n",
    "#Complementary datasets\n",
    "df_airports = pd.read_csv('../data/airports.csv', low_memory=False)\n",
    "df_airlines = pd.read_csv('../data/airlines.csv', low_memory=False)"
   ]
  },
  {
   "cell_type": "markdown",
   "metadata": {},
   "source": [
    "# 2. Summarize the data"
   ]
  },
  {
   "cell_type": "code",
   "execution_count": 3,
   "metadata": {
    "scrolled": true
   },
   "outputs": [
    {
     "name": "stdout",
     "output_type": "stream",
     "text": [
      "------- Main Dataset, Flights -------\n",
      "(5819079, 31)\n",
      "Index(['YEAR', 'MONTH', 'DAY', 'DAY_OF_WEEK', 'AIRLINE', 'FLIGHT_NUMBER',\n",
      "       'TAIL_NUMBER', 'ORIGIN_AIRPORT', 'DESTINATION_AIRPORT',\n",
      "       'SCHEDULED_DEPARTURE', 'DEPARTURE_TIME', 'DEPARTURE_DELAY', 'TAXI_OUT',\n",
      "       'WHEELS_OFF', 'SCHEDULED_TIME', 'ELAPSED_TIME', 'AIR_TIME', 'DISTANCE',\n",
      "       'WHEELS_ON', 'TAXI_IN', 'SCHEDULED_ARRIVAL', 'ARRIVAL_TIME',\n",
      "       'ARRIVAL_DELAY', 'DIVERTED', 'CANCELLED', 'CANCELLATION_REASON',\n",
      "       'AIR_SYSTEM_DELAY', 'SECURITY_DELAY', 'AIRLINE_DELAY',\n",
      "       'LATE_AIRCRAFT_DELAY', 'WEATHER_DELAY'],\n",
      "      dtype='object')\n",
      "   YEAR  MONTH  DAY  DAY_OF_WEEK AIRLINE  FLIGHT_NUMBER TAIL_NUMBER  \\\n",
      "0  2015      1    1            4      AS             98      N407AS   \n",
      "1  2015      1    1            4      AA           2336      N3KUAA   \n",
      "2  2015      1    1            4      US            840      N171US   \n",
      "3  2015      1    1            4      AA            258      N3HYAA   \n",
      "4  2015      1    1            4      AS            135      N527AS   \n",
      "\n",
      "  ORIGIN_AIRPORT DESTINATION_AIRPORT  SCHEDULED_DEPARTURE      ...        \\\n",
      "0            ANC                 SEA                    5      ...         \n",
      "1            LAX                 PBI                   10      ...         \n",
      "2            SFO                 CLT                   20      ...         \n",
      "3            LAX                 MIA                   20      ...         \n",
      "4            SEA                 ANC                   25      ...         \n",
      "\n",
      "   ARRIVAL_TIME  ARRIVAL_DELAY  DIVERTED  CANCELLED  CANCELLATION_REASON  \\\n",
      "0        408.00         -22.00         0          0                  NaN   \n",
      "1        741.00          -9.00         0          0                  NaN   \n",
      "2        811.00           5.00         0          0                  NaN   \n",
      "3        756.00          -9.00         0          0                  NaN   \n",
      "4        259.00         -21.00         0          0                  NaN   \n",
      "\n",
      "   AIR_SYSTEM_DELAY  SECURITY_DELAY  AIRLINE_DELAY  LATE_AIRCRAFT_DELAY  \\\n",
      "0               nan             nan            nan                  nan   \n",
      "1               nan             nan            nan                  nan   \n",
      "2               nan             nan            nan                  nan   \n",
      "3               nan             nan            nan                  nan   \n",
      "4               nan             nan            nan                  nan   \n",
      "\n",
      "   WEATHER_DELAY  \n",
      "0            nan  \n",
      "1            nan  \n",
      "2            nan  \n",
      "3            nan  \n",
      "4            nan  \n",
      "\n",
      "[5 rows x 31 columns]\n",
      "            YEAR      MONTH        DAY  DAY_OF_WEEK  FLIGHT_NUMBER  \\\n",
      "count 5819079.00 5819079.00 5819079.00   5819079.00     5819079.00   \n",
      "mean     2015.00       6.52      15.70         3.93        2173.09   \n",
      "std         0.00       3.41       8.78         1.99        1757.06   \n",
      "min      2015.00       1.00       1.00         1.00           1.00   \n",
      "25%      2015.00       4.00       8.00         2.00         730.00   \n",
      "50%      2015.00       7.00      16.00         4.00        1690.00   \n",
      "75%      2015.00       9.00      23.00         6.00        3230.00   \n",
      "max      2015.00      12.00      31.00         7.00        9855.00   \n",
      "\n",
      "       SCHEDULED_DEPARTURE  DEPARTURE_TIME  DEPARTURE_DELAY   TAXI_OUT  \\\n",
      "count           5819079.00      5732926.00       5732926.00 5730032.00   \n",
      "mean               1329.60         1335.20             9.37      16.07   \n",
      "std                 483.75          496.42            37.08       8.90   \n",
      "min                   1.00            1.00           -82.00       1.00   \n",
      "25%                 917.00          921.00            -5.00      11.00   \n",
      "50%                1325.00         1330.00            -2.00      14.00   \n",
      "75%                1730.00         1740.00             7.00      19.00   \n",
      "max                2359.00         2400.00          1988.00     225.00   \n",
      "\n",
      "       WHEELS_OFF      ...        SCHEDULED_ARRIVAL  ARRIVAL_TIME  \\\n",
      "count  5730032.00      ...               5819079.00    5726566.00   \n",
      "mean      1357.17      ...                  1493.81       1476.49   \n",
      "std        498.01      ...                   507.16        526.32   \n",
      "min          1.00      ...                     1.00          1.00   \n",
      "25%        935.00      ...                  1110.00       1059.00   \n",
      "50%       1343.00      ...                  1520.00       1512.00   \n",
      "75%       1754.00      ...                  1918.00       1917.00   \n",
      "max       2400.00      ...                  2400.00       2400.00   \n",
      "\n",
      "       ARRIVAL_DELAY   DIVERTED  CANCELLED  AIR_SYSTEM_DELAY  SECURITY_DELAY  \\\n",
      "count     5714008.00 5819079.00 5819079.00        1063439.00      1063439.00   \n",
      "mean            4.41       0.00       0.02             13.48            0.08   \n",
      "std            39.27       0.05       0.12             28.00            2.14   \n",
      "min           -87.00       0.00       0.00              0.00            0.00   \n",
      "25%           -13.00       0.00       0.00              0.00            0.00   \n",
      "50%            -5.00       0.00       0.00              2.00            0.00   \n",
      "75%             8.00       0.00       0.00             18.00            0.00   \n",
      "max          1971.00       1.00       1.00           1134.00          573.00   \n",
      "\n",
      "       AIRLINE_DELAY  LATE_AIRCRAFT_DELAY  WEATHER_DELAY  \n",
      "count     1063439.00           1063439.00     1063439.00  \n",
      "mean           18.97                23.47           2.92  \n",
      "std            48.16                43.20          20.43  \n",
      "min             0.00                 0.00           0.00  \n",
      "25%             0.00                 0.00           0.00  \n",
      "50%             2.00                 3.00           0.00  \n",
      "75%            19.00                29.00           0.00  \n",
      "max          1971.00              1331.00        1211.00  \n",
      "\n",
      "[8 rows x 26 columns]\n",
      "\n",
      " ------- Airports -------\n",
      "(322, 7)\n",
      "Index(['IATA_CODE', 'AIRPORT', 'CITY', 'STATE', 'COUNTRY', 'LATITUDE',\n",
      "       'LONGITUDE'],\n",
      "      dtype='object')\n",
      "  IATA_CODE                              AIRPORT         CITY STATE COUNTRY  \\\n",
      "0       ABE  Lehigh Valley International Airport    Allentown    PA     USA   \n",
      "1       ABI             Abilene Regional Airport      Abilene    TX     USA   \n",
      "2       ABQ    Albuquerque International Sunport  Albuquerque    NM     USA   \n",
      "3       ABR            Aberdeen Regional Airport     Aberdeen    SD     USA   \n",
      "4       ABY   Southwest Georgia Regional Airport       Albany    GA     USA   \n",
      "\n",
      "   LATITUDE  LONGITUDE  \n",
      "0     40.65     -75.44  \n",
      "1     32.41     -99.68  \n",
      "2     35.04    -106.61  \n",
      "3     45.45     -98.42  \n",
      "4     31.54     -84.19  \n",
      "       LATITUDE  LONGITUDE\n",
      "count    319.00     319.00\n",
      "mean      38.98     -98.38\n",
      "std        8.62      21.52\n",
      "min       13.48    -176.65\n",
      "25%       33.65    -110.84\n",
      "50%       39.30     -93.40\n",
      "75%       43.15     -82.72\n",
      "max       71.29     -64.80\n",
      "\n",
      " ------- Airlines -------\n",
      "(14, 2)\n",
      "Index(['IATA_CODE', 'AIRLINE'], dtype='object')\n",
      "  IATA_CODE                 AIRLINE\n",
      "0        UA   United Air Lines Inc.\n",
      "1        AA  American Airlines Inc.\n",
      "2        US         US Airways Inc.\n",
      "3        F9  Frontier Airlines Inc.\n",
      "4        B6         JetBlue Airways\n",
      "       IATA_CODE          AIRLINE\n",
      "count         14               14\n",
      "unique        14               14\n",
      "top           UA  US Airways Inc.\n",
      "freq           1                1\n"
     ]
    }
   ],
   "source": [
    "print('------- Main Dataset, Flights -------')\n",
    "print(df_delayed_flights.shape)\n",
    "print(df_delayed_flights.columns)\n",
    "print(df_delayed_flights.head())\n",
    "print(df_delayed_flights.describe())\n",
    "\n",
    "print('\\n ------- Airports -------')\n",
    "print(df_airports.shape)\n",
    "print(df_airports.columns)\n",
    "print(df_airports.head())\n",
    "print(df_airports.describe())\n",
    "\n",
    "print('\\n ------- Airlines -------')\n",
    "print(df_airlines.shape)\n",
    "print(df_airlines.columns)\n",
    "print(df_airlines.head())\n",
    "print(df_airlines.describe())"
   ]
  },
  {
   "cell_type": "markdown",
   "metadata": {},
   "source": [
    "# 3. Data Cleaning"
   ]
  },
  {
   "cell_type": "markdown",
   "metadata": {},
   "source": [
    "## 3.1. Merge Columns - DATE"
   ]
  },
  {
   "cell_type": "code",
   "execution_count": 4,
   "metadata": {},
   "outputs": [
    {
     "name": "stdout",
     "output_type": "stream",
     "text": [
      "Index(['YEAR', 'MONTH', 'DAY', 'DAY_OF_WEEK', 'AIRLINE', 'FLIGHT_NUMBER',\n",
      "       'TAIL_NUMBER', 'ORIGIN_AIRPORT', 'DESTINATION_AIRPORT',\n",
      "       'SCHEDULED_DEPARTURE', 'DEPARTURE_TIME', 'DEPARTURE_DELAY', 'TAXI_OUT',\n",
      "       'WHEELS_OFF', 'SCHEDULED_TIME', 'ELAPSED_TIME', 'AIR_TIME', 'DISTANCE',\n",
      "       'WHEELS_ON', 'TAXI_IN', 'SCHEDULED_ARRIVAL', 'ARRIVAL_TIME',\n",
      "       'ARRIVAL_DELAY', 'DIVERTED', 'CANCELLED', 'CANCELLATION_REASON',\n",
      "       'AIR_SYSTEM_DELAY', 'SECURITY_DELAY', 'AIRLINE_DELAY',\n",
      "       'LATE_AIRCRAFT_DELAY', 'WEATHER_DELAY', 'DATE'],\n",
      "      dtype='object')\n"
     ]
    }
   ],
   "source": [
    "df_delayed_flights['DATE'] = pd.to_datetime(df_delayed_flights[['YEAR','MONTH', 'DAY']])\n",
    "print(df_delayed_flights.columns)"
   ]
  },
  {
   "cell_type": "markdown",
   "metadata": {},
   "source": [
    "## 3.2. Remove not relevant and duplicated columns"
   ]
  },
  {
   "cell_type": "code",
   "execution_count": 5,
   "metadata": {},
   "outputs": [
    {
     "name": "stdout",
     "output_type": "stream",
     "text": [
      "Index(['MONTH', 'AIRLINE', 'FLIGHT_NUMBER', 'TAIL_NUMBER', 'ORIGIN_AIRPORT',\n",
      "       'DESTINATION_AIRPORT', 'SCHEDULED_DEPARTURE', 'DEPARTURE_TIME',\n",
      "       'DEPARTURE_DELAY', 'SCHEDULED_TIME', 'DISTANCE', 'SCHEDULED_ARRIVAL',\n",
      "       'ARRIVAL_TIME', 'ARRIVAL_DELAY', 'DIVERTED', 'CANCELLED',\n",
      "       'CANCELLATION_REASON', 'AIR_SYSTEM_DELAY', 'SECURITY_DELAY',\n",
      "       'AIRLINE_DELAY', 'LATE_AIRCRAFT_DELAY', 'WEATHER_DELAY', 'DATE'],\n",
      "      dtype='object')\n"
     ]
    }
   ],
   "source": [
    "df_delayed_flights = df_delayed_flights.drop(['YEAR','DAY','DAY_OF_WEEK'], axis=1)\n",
    "df_delayed_flights = df_delayed_flights.drop(['TAXI_OUT','TAXI_IN','WHEELS_OFF', 'WHEELS_ON','AIR_TIME','ELAPSED_TIME'], axis=1)\n",
    "print(df_delayed_flights.columns)"
   ]
  },
  {
   "cell_type": "code",
   "execution_count": 6,
   "metadata": {},
   "outputs": [
    {
     "name": "stdout",
     "output_type": "stream",
     "text": [
      "Index(['IATA_CODE', 'AIRPORT'], dtype='object')\n"
     ]
    }
   ],
   "source": [
    "df_airports = df_airports[['IATA_CODE','AIRPORT']]\n",
    "print(df_airports.columns)"
   ]
  },
  {
   "cell_type": "markdown",
   "metadata": {},
   "source": [
    "## 3.3. Rename Columns"
   ]
  },
  {
   "cell_type": "code",
   "execution_count": 7,
   "metadata": {},
   "outputs": [],
   "source": [
    "df_airports.columns = ['AIRPORT_CODE','AIRPORT_NAME']\n",
    "df_airlines.columns = ['AIRLINE_CODE','AIRLINE_NAME']"
   ]
  },
  {
   "cell_type": "markdown",
   "metadata": {},
   "source": [
    "## 3.4. Change Types / Values"
   ]
  },
  {
   "cell_type": "code",
   "execution_count": 8,
   "metadata": {},
   "outputs": [],
   "source": [
    "# Function to convert from 'HHMM' string to datetime.time\n",
    "# Reference: https://www.kaggle.com/fabiendaniel/predicting-flight-delays-tutorial\n",
    "\n",
    "import datetime\n",
    "\n",
    "def format_time(time_string):\n",
    "    \n",
    "    if isinstance(time_string, datetime.time):\n",
    "        return time_string\n",
    "    \n",
    "    if pd.isnull(time_string):\n",
    "        return np.nan\n",
    "    \n",
    "    else:\n",
    "        if time_string == 2400: #12 midnight\n",
    "            time_string = 0\n",
    "            \n",
    "        time_string = \"{0:04d}\".format(int(time_string)) #Format the string to be as 4 decimals (hh:mm)\n",
    "        formated_time = datetime.time(int(time_string[0:2]), int(time_string[2:4])) #Split the 4 digits into 2 parts\n",
    "        return formated_time"
   ]
  },
  {
   "cell_type": "code",
   "execution_count": 9,
   "metadata": {},
   "outputs": [
    {
     "data": {
      "text/html": [
       "<div>\n",
       "<style scoped>\n",
       "    .dataframe tbody tr th:only-of-type {\n",
       "        vertical-align: middle;\n",
       "    }\n",
       "\n",
       "    .dataframe tbody tr th {\n",
       "        vertical-align: top;\n",
       "    }\n",
       "\n",
       "    .dataframe thead th {\n",
       "        text-align: right;\n",
       "    }\n",
       "</style>\n",
       "<table border=\"1\" class=\"dataframe\">\n",
       "  <thead>\n",
       "    <tr style=\"text-align: right;\">\n",
       "      <th></th>\n",
       "      <th>SCHEDULED_DEPARTURE</th>\n",
       "      <th>SCHEDULED_ARRIVAL</th>\n",
       "      <th>DEPARTURE_TIME</th>\n",
       "      <th>ARRIVAL_TIME</th>\n",
       "      <th>DEPARTURE_DELAY</th>\n",
       "      <th>ARRIVAL_DELAY</th>\n",
       "    </tr>\n",
       "  </thead>\n",
       "  <tbody>\n",
       "    <tr>\n",
       "      <th>0</th>\n",
       "      <td>00:05:00</td>\n",
       "      <td>04:30:00</td>\n",
       "      <td>23:54:00</td>\n",
       "      <td>04:08:00</td>\n",
       "      <td>-11.00</td>\n",
       "      <td>-22.00</td>\n",
       "    </tr>\n",
       "    <tr>\n",
       "      <th>1</th>\n",
       "      <td>00:10:00</td>\n",
       "      <td>07:50:00</td>\n",
       "      <td>00:02:00</td>\n",
       "      <td>07:41:00</td>\n",
       "      <td>-8.00</td>\n",
       "      <td>-9.00</td>\n",
       "    </tr>\n",
       "    <tr>\n",
       "      <th>2</th>\n",
       "      <td>00:20:00</td>\n",
       "      <td>08:06:00</td>\n",
       "      <td>00:18:00</td>\n",
       "      <td>08:11:00</td>\n",
       "      <td>-2.00</td>\n",
       "      <td>5.00</td>\n",
       "    </tr>\n",
       "    <tr>\n",
       "      <th>3</th>\n",
       "      <td>00:20:00</td>\n",
       "      <td>08:05:00</td>\n",
       "      <td>00:15:00</td>\n",
       "      <td>07:56:00</td>\n",
       "      <td>-5.00</td>\n",
       "      <td>-9.00</td>\n",
       "    </tr>\n",
       "    <tr>\n",
       "      <th>4</th>\n",
       "      <td>00:25:00</td>\n",
       "      <td>03:20:00</td>\n",
       "      <td>00:24:00</td>\n",
       "      <td>02:59:00</td>\n",
       "      <td>-1.00</td>\n",
       "      <td>-21.00</td>\n",
       "    </tr>\n",
       "    <tr>\n",
       "      <th>5</th>\n",
       "      <td>00:25:00</td>\n",
       "      <td>06:02:00</td>\n",
       "      <td>00:20:00</td>\n",
       "      <td>06:10:00</td>\n",
       "      <td>-5.00</td>\n",
       "      <td>8.00</td>\n",
       "    </tr>\n",
       "  </tbody>\n",
       "</table>\n",
       "</div>"
      ],
      "text/plain": [
       "  SCHEDULED_DEPARTURE SCHEDULED_ARRIVAL DEPARTURE_TIME ARRIVAL_TIME  \\\n",
       "0            00:05:00          04:30:00       23:54:00     04:08:00   \n",
       "1            00:10:00          07:50:00       00:02:00     07:41:00   \n",
       "2            00:20:00          08:06:00       00:18:00     08:11:00   \n",
       "3            00:20:00          08:05:00       00:15:00     07:56:00   \n",
       "4            00:25:00          03:20:00       00:24:00     02:59:00   \n",
       "5            00:25:00          06:02:00       00:20:00     06:10:00   \n",
       "\n",
       "   DEPARTURE_DELAY  ARRIVAL_DELAY  \n",
       "0           -11.00         -22.00  \n",
       "1            -8.00          -9.00  \n",
       "2            -2.00           5.00  \n",
       "3            -5.00          -9.00  \n",
       "4            -1.00         -21.00  \n",
       "5            -5.00           8.00  "
      ]
     },
     "execution_count": 9,
     "metadata": {},
     "output_type": "execute_result"
    }
   ],
   "source": [
    "# Call the Function:\n",
    "\n",
    "df_delayed_flights['SCHEDULED_DEPARTURE'] = df_delayed_flights['SCHEDULED_DEPARTURE'].apply(format_time)\n",
    "df_delayed_flights['DEPARTURE_TIME'] = df_delayed_flights['DEPARTURE_TIME'].apply(format_time)\n",
    "df_delayed_flights['SCHEDULED_ARRIVAL'] =df_delayed_flights['SCHEDULED_ARRIVAL'].apply(format_time)\n",
    "df_delayed_flights['ARRIVAL_TIME'] = df_delayed_flights['ARRIVAL_TIME'].apply(format_time)\n",
    "\n",
    "#Print a sample..\n",
    "df_delayed_flights.loc[:5, ['SCHEDULED_DEPARTURE', 'SCHEDULED_ARRIVAL', 'DEPARTURE_TIME',\n",
    "                            'ARRIVAL_TIME', 'DEPARTURE_DELAY', 'ARRIVAL_DELAY']]"
   ]
  },
  {
   "cell_type": "code",
   "execution_count": 10,
   "metadata": {},
   "outputs": [
    {
     "data": {
      "text/html": [
       "<div>\n",
       "<style scoped>\n",
       "    .dataframe tbody tr th:only-of-type {\n",
       "        vertical-align: middle;\n",
       "    }\n",
       "\n",
       "    .dataframe tbody tr th {\n",
       "        vertical-align: top;\n",
       "    }\n",
       "\n",
       "    .dataframe thead th {\n",
       "        text-align: right;\n",
       "    }\n",
       "</style>\n",
       "<table border=\"1\" class=\"dataframe\">\n",
       "  <thead>\n",
       "    <tr style=\"text-align: right;\">\n",
       "      <th></th>\n",
       "      <th>CANCELLED</th>\n",
       "      <th>DIVERTED</th>\n",
       "    </tr>\n",
       "  </thead>\n",
       "  <tbody>\n",
       "    <tr>\n",
       "      <th>0</th>\n",
       "      <td>False</td>\n",
       "      <td>False</td>\n",
       "    </tr>\n",
       "    <tr>\n",
       "      <th>1</th>\n",
       "      <td>False</td>\n",
       "      <td>False</td>\n",
       "    </tr>\n",
       "    <tr>\n",
       "      <th>2</th>\n",
       "      <td>False</td>\n",
       "      <td>False</td>\n",
       "    </tr>\n",
       "    <tr>\n",
       "      <th>3</th>\n",
       "      <td>False</td>\n",
       "      <td>False</td>\n",
       "    </tr>\n",
       "    <tr>\n",
       "      <th>4</th>\n",
       "      <td>False</td>\n",
       "      <td>False</td>\n",
       "    </tr>\n",
       "  </tbody>\n",
       "</table>\n",
       "</div>"
      ],
      "text/plain": [
       "   CANCELLED  DIVERTED\n",
       "0      False     False\n",
       "1      False     False\n",
       "2      False     False\n",
       "3      False     False\n",
       "4      False     False"
      ]
     },
     "execution_count": 10,
     "metadata": {},
     "output_type": "execute_result"
    }
   ],
   "source": [
    "# Change 0-1 columns to bool\n",
    "\n",
    "bool_cols = ['CANCELLED', 'DIVERTED']\n",
    "df_delayed_flights[bool_cols] = df_delayed_flights[bool_cols].replace(to_replace=[0,1], value=[False,True])\n",
    "df_delayed_flights[bool_cols].head()"
   ]
  },
  {
   "cell_type": "code",
   "execution_count": 11,
   "metadata": {},
   "outputs": [
    {
     "data": {
      "text/plain": [
       "Weather                48851\n",
       "Airline                25262\n",
       "National Air System    15749\n",
       "Security                  22\n",
       "Name: CANCELLATION_REASON, dtype: int64"
      ]
     },
     "execution_count": 11,
     "metadata": {},
     "output_type": "execute_result"
    }
   ],
   "source": [
    "#Replace cancellation reason with meaningful values\n",
    "\n",
    "df_delayed_flights[\"CANCELLATION_REASON\"].replace({'A':'Airline',\n",
    "                                                   'B':'Weather',\n",
    "                                                   'C':'National Air System',\n",
    "                                                   'D':'Security'}, inplace=True)\n",
    "\n",
    "df_delayed_flights[\"CANCELLATION_REASON\"].value_counts()"
   ]
  },
  {
   "cell_type": "markdown",
   "metadata": {},
   "source": [
    "## 3.5. Missing values"
   ]
  },
  {
   "cell_type": "code",
   "execution_count": 12,
   "metadata": {},
   "outputs": [
    {
     "name": "stdout",
     "output_type": "stream",
     "text": [
      "Delayed Flights Missing Values:\n",
      " MONTH                        0\n",
      "AIRLINE                      0\n",
      "FLIGHT_NUMBER                0\n",
      "TAIL_NUMBER              14721\n",
      "ORIGIN_AIRPORT               0\n",
      "DESTINATION_AIRPORT          0\n",
      "SCHEDULED_DEPARTURE          0\n",
      "DEPARTURE_TIME           86153\n",
      "DEPARTURE_DELAY          86153\n",
      "SCHEDULED_TIME               6\n",
      "DISTANCE                     0\n",
      "SCHEDULED_ARRIVAL            0\n",
      "ARRIVAL_TIME             92513\n",
      "ARRIVAL_DELAY           105071\n",
      "DIVERTED                     0\n",
      "CANCELLED                    0\n",
      "CANCELLATION_REASON    5729195\n",
      "AIR_SYSTEM_DELAY       4755640\n",
      "SECURITY_DELAY         4755640\n",
      "AIRLINE_DELAY          4755640\n",
      "LATE_AIRCRAFT_DELAY    4755640\n",
      "WEATHER_DELAY          4755640\n",
      "DATE                         0\n",
      "dtype: int64\n",
      "Airlines Missing Values:\n",
      " AIRLINE_CODE    0\n",
      "AIRLINE_NAME    0\n",
      "dtype: int64\n",
      "Airports Missing Values:\n",
      " AIRPORT_CODE    0\n",
      "AIRPORT_NAME    0\n",
      "dtype: int64\n"
     ]
    }
   ],
   "source": [
    "print(\"Delayed Flights Missing Values:\\n\", df_delayed_flights.isnull().sum())\n",
    "print(\"Airlines Missing Values:\\n\", df_airlines.isnull().sum())\n",
    "print(\"Airports Missing Values:\\n\", df_airports.isnull().sum())"
   ]
  },
  {
   "cell_type": "markdown",
   "metadata": {},
   "source": [
    "### CANCELLATION_REASON"
   ]
  },
  {
   "cell_type": "code",
   "execution_count": 13,
   "metadata": {},
   "outputs": [
    {
     "data": {
      "text/plain": [
       "False    5729195\n",
       "True       89884\n",
       "Name: CANCELLED, dtype: int64"
      ]
     },
     "execution_count": 13,
     "metadata": {},
     "output_type": "execute_result"
    }
   ],
   "source": [
    "df_delayed_flights[\"CANCELLED\"].value_counts()"
   ]
  },
  {
   "cell_type": "code",
   "execution_count": 14,
   "metadata": {
    "scrolled": true
   },
   "outputs": [
    {
     "name": "stdout",
     "output_type": "stream",
     "text": [
      "Total number of delayed flights:  5819079\n",
      "Cancelled flights=  89884\n",
      "Weather                48851\n",
      "Airline                25262\n",
      "National Air System    15749\n",
      "Security                  22\n",
      "Name: CANCELLATION_REASON, dtype: int64\n"
     ]
    }
   ],
   "source": [
    "print(\"Total number of delayed flights: \", len(df_delayed_flights))\n",
    "print(\"Cancelled flights= \", sum(df_delayed_flights['CANCELLED']))\n",
    "print(df_delayed_flights['CANCELLATION_REASON'].value_counts())"
   ]
  },
  {
   "cell_type": "markdown",
   "metadata": {},
   "source": [
    "#### Conclusion: Number of missing data under the variable \"CANCELLATION_REASON\" is large since when the flight was not cancelled, no reason code was assigned. We can replace no values with  \"Not Cancelled\":"
   ]
  },
  {
   "cell_type": "code",
   "execution_count": 15,
   "metadata": {
    "scrolled": true
   },
   "outputs": [
    {
     "name": "stdout",
     "output_type": "stream",
     "text": [
      "Not_Cancelled          5729195\n",
      "Weather                  48851\n",
      "Airline                  25262\n",
      "National Air System      15749\n",
      "Security                    22\n",
      "Name: CANCELLATION_REASON, dtype: int64\n"
     ]
    }
   ],
   "source": [
    "df_delayed_flights['CANCELLATION_REASON'] = df_delayed_flights['CANCELLATION_REASON'].fillna('Not_Cancelled')\n",
    "df_delayed_flights['CANCELLATION_REASON'].isnull().sum()\n",
    "print(df_delayed_flights['CANCELLATION_REASON'].value_counts())"
   ]
  },
  {
   "cell_type": "markdown",
   "metadata": {},
   "source": [
    "### DELAY REASONS"
   ]
  },
  {
   "cell_type": "code",
   "execution_count": 16,
   "metadata": {},
   "outputs": [],
   "source": [
    "# If the delay wasn't caused by a facter, then the delay caused by that factor = 0.\n",
    "\n",
    "delay_cause_cols = ['AIR_SYSTEM_DELAY', 'SECURITY_DELAY', 'AIRLINE_DELAY', 'LATE_AIRCRAFT_DELAY', 'WEATHER_DELAY']\n",
    "df_delayed_flights[delay_cause_cols] = df_delayed_flights[delay_cause_cols].fillna(0.0)"
   ]
  },
  {
   "cell_type": "markdown",
   "metadata": {},
   "source": [
    "### DEPARTURE_DELAY & ARRIVAL_DELAY"
   ]
  },
  {
   "cell_type": "code",
   "execution_count": 17,
   "metadata": {},
   "outputs": [
    {
     "name": "stdout",
     "output_type": "stream",
     "text": [
      "Departure Delays Missing Values =  86153\n",
      "Arrival Delays Missing Values =  105071\n",
      "Cancelled flights =  89884\n"
     ]
    }
   ],
   "source": [
    "print(\"Departure Delays Missing Values = \", df_delayed_flights['DEPARTURE_DELAY'].isnull().sum())\n",
    "print(\"Arrival Delays Missing Values = \", df_delayed_flights['ARRIVAL_DELAY'].isnull().sum())\n",
    "print(\"Cancelled flights = \", df_delayed_flights['CANCELLED'].sum())"
   ]
  },
  {
   "cell_type": "code",
   "execution_count": 18,
   "metadata": {},
   "outputs": [
    {
     "name": "stdout",
     "output_type": "stream",
     "text": [
      "Flights without departure and arrival delays =  86153\n",
      "Cancelled flights without arrival delay =  89884\n",
      "Cancelled flights without departure delay =  86153\n"
     ]
    }
   ],
   "source": [
    "print(\"Flights without departure and arrival delays = \",\n",
    "      len(df_delayed_flights[(df_delayed_flights['DEPARTURE_DELAY'].isnull())\n",
    "                             & (df_delayed_flights['ARRIVAL_DELAY'].isnull())].index))\n",
    "\n",
    "print(\"Cancelled flights without arrival delay = \",\n",
    "      len(df_delayed_flights[(df_delayed_flights['ARRIVAL_DELAY'].isnull())\n",
    "                             & (df_delayed_flights['CANCELLED'] == 1)].index))\n",
    "\n",
    "print(\"Cancelled flights without departure delay = \",\n",
    "      len(df_delayed_flights[(df_delayed_flights['DEPARTURE_DELAY'].isnull())\n",
    "                             & (df_delayed_flights['CANCELLED'] == 1)].index))"
   ]
  },
  {
   "cell_type": "markdown",
   "metadata": {},
   "source": [
    "#### Conclosions:\n",
    "- Flights without departure delay, doesn't have arrival delay too. However, there are some flights without arrival delay, although having departure delay.\n",
    "-  All cancelled flights, doesn't have arrival delay. > Makes sense."
   ]
  },
  {
   "cell_type": "code",
   "execution_count": 19,
   "metadata": {},
   "outputs": [
    {
     "name": "stdout",
     "output_type": "stream",
     "text": [
      "AIRLINE\n",
      "HA    0.49\n",
      "AS    1.79\n",
      "US    6.14\n",
      "DL    7.37\n",
      "OO    7.80\n",
      "EV    8.72\n",
      "AA    8.90\n",
      "VX    9.02\n",
      "MQ   10.13\n",
      "WN   10.58\n",
      "B6   11.51\n",
      "F9   13.35\n",
      "UA   14.44\n",
      "NK   15.94\n",
      "Name: DEPARTURE_DELAY, dtype: float64\n",
      "AIRLINE\n",
      "AS   -0.98\n",
      "DL    0.19\n",
      "HA    2.02\n",
      "AA    3.45\n",
      "US    3.71\n",
      "WN    4.37\n",
      "VX    4.74\n",
      "UA    5.43\n",
      "OO    5.85\n",
      "MQ    6.46\n",
      "EV    6.59\n",
      "B6    6.68\n",
      "F9   12.50\n",
      "NK   14.47\n",
      "Name: ARRIVAL_DELAY, dtype: float64\n"
     ]
    }
   ],
   "source": [
    "# Mean delay for each airline.\n",
    "\n",
    "airlines_dep_delays = df_delayed_flights.groupby('AIRLINE', sort=False)['DEPARTURE_DELAY'].mean()\n",
    "airlines_arr_delays = df_delayed_flights.groupby('AIRLINE', sort=False)['ARRIVAL_DELAY'].mean()\n",
    "\n",
    "print(airlines_dep_delays.sort_values())\n",
    "print(airlines_arr_delays.sort_values())"
   ]
  },
  {
   "cell_type": "code",
   "execution_count": 20,
   "metadata": {},
   "outputs": [],
   "source": [
    "# As the arrival delays is more than departure ones,\n",
    "# we'll start filling the missing values in departure delays first.\n",
    "\n",
    "for idx in df_delayed_flights.index[df_delayed_flights['DEPARTURE_DELAY'].isnull()]:    \n",
    "    \n",
    "    # If the flight isn't cancelled,\n",
    "    if(df_delayed_flights.loc[idx,'CANCELLED'] == 0):\n",
    "        \n",
    "        #  fill arr and dep delays with mean delay of that airline\n",
    "        airline_code = df_flights.loc[idx,'AIRLINE_NAME']\n",
    "        df_delayed_flights.at[idx,'DEPARTURE_DELAY'] = airlines_dep_delays.at[airline_code]\n",
    "        df_delayed_flights.at[idx,'ARRIVAL_DELAY'] = airlines_arr_delays.at[airline_code]\n"
   ]
  },
  {
   "cell_type": "code",
   "execution_count": 21,
   "metadata": {},
   "outputs": [],
   "source": [
    "# for the rest missing values in arrival delay:\n",
    "for idx in df_delayed_flights.index[df_delayed_flights['ARRIVAL_DELAY'].isnull()]:    \n",
    "    \n",
    "    # If the flight isn't cancelled, replace arrival delay with departure delay\n",
    "    if(df_delayed_flights.loc[idx,'CANCELLED'] == 0):\n",
    "        df_delayed_flights.at[idx,'ARRIVAL_DELAY'] = df_delayed_flights.loc[idx,'DEPARTURE_DELAY']\n"
   ]
  },
  {
   "cell_type": "code",
   "execution_count": 22,
   "metadata": {},
   "outputs": [
    {
     "name": "stdout",
     "output_type": "stream",
     "text": [
      "# Missing Values =  89884\n",
      "# Cancelled flights =  89884\n"
     ]
    }
   ],
   "source": [
    "print(\"# Missing Values = \", len(df_delayed_flights[(df_delayed_flights['DEPARTURE_DELAY'].isnull())\n",
    "                                   | df_delayed_flights['ARRIVAL_DELAY'].isnull()]))\n",
    "print(\"# Cancelled flights = \", df_delayed_flights['CANCELLED'].sum())"
   ]
  },
  {
   "cell_type": "markdown",
   "metadata": {},
   "source": [
    "#### The rest missing values in Arrival and Departure Delays is all Cancelled flights"
   ]
  },
  {
   "cell_type": "code",
   "execution_count": 23,
   "metadata": {},
   "outputs": [
    {
     "data": {
      "text/plain": [
       "MONTH                      0\n",
       "AIRLINE                    0\n",
       "FLIGHT_NUMBER              0\n",
       "TAIL_NUMBER            14721\n",
       "ORIGIN_AIRPORT             0\n",
       "DESTINATION_AIRPORT        0\n",
       "SCHEDULED_DEPARTURE        0\n",
       "DEPARTURE_TIME         86153\n",
       "DEPARTURE_DELAY        86153\n",
       "SCHEDULED_TIME             6\n",
       "DISTANCE                   0\n",
       "SCHEDULED_ARRIVAL          0\n",
       "ARRIVAL_TIME           92513\n",
       "ARRIVAL_DELAY          89884\n",
       "DIVERTED                   0\n",
       "CANCELLED                  0\n",
       "CANCELLATION_REASON        0\n",
       "AIR_SYSTEM_DELAY           0\n",
       "SECURITY_DELAY             0\n",
       "AIRLINE_DELAY              0\n",
       "LATE_AIRCRAFT_DELAY        0\n",
       "WEATHER_DELAY              0\n",
       "DATE                       0\n",
       "dtype: int64"
      ]
     },
     "execution_count": 23,
     "metadata": {},
     "output_type": "execute_result"
    }
   ],
   "source": [
    "df_delayed_flights.isnull().sum()"
   ]
  },
  {
   "cell_type": "markdown",
   "metadata": {},
   "source": [
    "## 3.6. Add Column - Flight Class"
   ]
  },
  {
   "cell_type": "code",
   "execution_count": 24,
   "metadata": {},
   "outputs": [],
   "source": [
    "# Add column for flight Class (On_Time, Delayed, Cancelled, early)\n",
    "\n",
    "# Default value:\n",
    "df_delayed_flights['CLASS'] = 'On_Time'"
   ]
  },
  {
   "cell_type": "code",
   "execution_count": 25,
   "metadata": {},
   "outputs": [
    {
     "name": "stdout",
     "output_type": "stream",
     "text": [
      "# Cancelled flights =  89884\n"
     ]
    }
   ],
   "source": [
    "# 1- Cancelled flights\n",
    "\n",
    "cancelled_flights = list(df_delayed_flights[df_delayed_flights['CANCELLED'] == True].index)    \n",
    "df_delayed_flights.at[cancelled_flights, 'CLASS'] = 'Cancelled'\n",
    "    \n",
    "print(\"# Cancelled flights = \", len(df_delayed_flights[df_delayed_flights['CLASS'] == 'Cancelled']))"
   ]
  },
  {
   "cell_type": "code",
   "execution_count": 30,
   "metadata": {},
   "outputs": [
    {
     "name": "stdout",
     "output_type": "stream",
     "text": [
      "# Delayed flights =  2704367\n"
     ]
    }
   ],
   "source": [
    "# 2- Delayed flights\n",
    "    \n",
    "delayed = list(df_delayed_flights[(df_delayed_flights['DEPARTURE_DELAY'] > 0) |\n",
    "                                  (df_delayed_flights['ARRIVAL_DELAY'] > 0)].index)  \n",
    "\n",
    "df_delayed_flights.at[delayed, 'CLASS'] = 'Delayed'\n",
    "print(\"# Delayed flights = \", len(df_delayed_flights[df_delayed_flights['CLASS'] == 'Delayed']))"
   ]
  },
  {
   "cell_type": "code",
   "execution_count": 31,
   "metadata": {},
   "outputs": [
    {
     "name": "stdout",
     "output_type": "stream",
     "text": [
      "# Early flights =  2714602\n"
     ]
    }
   ],
   "source": [
    "# 3- Early flights\n",
    "\n",
    "early_flights = list(df_delayed_flights[(df_delayed_flights['DEPARTURE_DELAY'] < 0) &\n",
    "                                        (df_delayed_flights['ARRIVAL_DELAY'] < 0)].index)\n",
    "\n",
    "df_delayed_flights.at[early_flights, 'CLASS'] = 'Early'\n",
    "print(\"# Early flights = \", len(early_flights))\n",
    "\n",
    "# Remove the early flights\n",
    "#df = df[~df.index.isin(early_flights)]\n",
    "#print(\"Was: \", df.shape, \" Now: \", df.shape)\n"
   ]
  },
  {
   "cell_type": "code",
   "execution_count": 32,
   "metadata": {},
   "outputs": [
    {
     "name": "stdout",
     "output_type": "stream",
     "text": [
      "On-time flights =  312766\n"
     ]
    }
   ],
   "source": [
    "# 4- On-time flights\n",
    "\n",
    "print(\"On-time flights = \",len(df_delayed_flights[df_delayed_flights['CLASS'] == 'On_Time']))"
   ]
  },
  {
   "cell_type": "code",
   "execution_count": 33,
   "metadata": {},
   "outputs": [
    {
     "data": {
      "text/plain": [
       "Early        2714602\n",
       "Delayed      2704367\n",
       "On_Time       312766\n",
       "Cancelled      87344\n",
       "Name: CLASS, dtype: int64"
      ]
     },
     "execution_count": 33,
     "metadata": {},
     "output_type": "execute_result"
    }
   ],
   "source": [
    "df_delayed_flights['CLASS'].value_counts()"
   ]
  },
  {
   "cell_type": "markdown",
   "metadata": {},
   "source": [
    "### Another Approach :"
   ]
  },
  {
   "cell_type": "code",
   "execution_count": null,
   "metadata": {},
   "outputs": [],
   "source": [
    "# # Determine number of delayed vs. cancelled flights\n",
    "# df_delay = df_delayed_flights[(df_delayed_flights['DEPARTURE_DELAY'] > 0) |\n",
    "#                               (df_delayed_flights['ARRIVAL_DELAY'] > 0)]\n",
    "\n",
    "# df_delay['CLASS'] = 'Delayed'\n",
    "# len(df_delay)"
   ]
  },
  {
   "cell_type": "code",
   "execution_count": null,
   "metadata": {},
   "outputs": [],
   "source": [
    "# df_cancel = df_delayed_flights[df_delayed_flights['CANCELLED'] == True]\n",
    "# df_cancel['CLASS'] = 'Cancelled'\n",
    "# len(df_cancel)"
   ]
  },
  {
   "cell_type": "code",
   "execution_count": null,
   "metadata": {},
   "outputs": [],
   "source": [
    "# # Determine number of early flights\n",
    "# df_early = df_delayed_flights[(df_delayed_flights['DEPARTURE_DELAY'] < 0) &\n",
    "#                               (df_delayed_flights['ARRIVAL_DELAY'] < 0)]\n",
    "\n",
    "# df_delay['CLASS'] = 'Early'\n",
    "# len(df_delay)"
   ]
  },
  {
   "cell_type": "code",
   "execution_count": null,
   "metadata": {
    "scrolled": false
   },
   "outputs": [],
   "source": [
    "# df_ontime = df_delayed_flights[(~df_delayed_flights.index.isin(df_delay.index))\n",
    "#                                &(~df_delayed_flights.index.isin(df_cancel.index))\n",
    "#                                &(~df_delayed_flights.index.isin(df_early.index))]\n",
    "\n",
    "# df_ontime['CLASS'] = 'On_Time'\n",
    "# len(df_ontime)"
   ]
  },
  {
   "cell_type": "code",
   "execution_count": null,
   "metadata": {},
   "outputs": [],
   "source": [
    "# df_join = pd.concat([df_delay, df_cancel, df_ontime, df_early], sort=False)"
   ]
  },
  {
   "cell_type": "code",
   "execution_count": null,
   "metadata": {
    "scrolled": false
   },
   "outputs": [],
   "source": [
    "# # issue with the concat of the three dataframes. Nan's skus the number of joins. \n",
    "# len(df_join), len(df_delayed_flights)"
   ]
  },
  {
   "cell_type": "code",
   "execution_count": null,
   "metadata": {
    "scrolled": true
   },
   "outputs": [],
   "source": [
    "# df_join['CLASS'] = df_join['CLASS'].fillna('On_Time')"
   ]
  },
  {
   "cell_type": "code",
   "execution_count": null,
   "metadata": {},
   "outputs": [],
   "source": [
    "# df_join['CLASS'].value_counts()"
   ]
  },
  {
   "cell_type": "code",
   "execution_count": null,
   "metadata": {
    "scrolled": true
   },
   "outputs": [],
   "source": [
    "# df_join.head()"
   ]
  },
  {
   "cell_type": "markdown",
   "metadata": {},
   "source": [
    "#### Conclusion: 5808476 delayed flights observed vs. 89884 number of cancelled flights"
   ]
  },
  {
   "cell_type": "markdown",
   "metadata": {},
   "source": [
    "# 4. Remove Outliers"
   ]
  },
  {
   "cell_type": "code",
   "execution_count": 34,
   "metadata": {
    "scrolled": true
   },
   "outputs": [
    {
     "data": {
      "image/png": "[encoded data removed]",
      "text/plain": [
       "<Figure size 432x288 with 1 Axes>"
      ]
     },
     "metadata": {
      "needs_background": "light"
     },
     "output_type": "display_data"
    }
   ],
   "source": [
    "df_delayed_flights[[\"DEPARTURE_DELAY\",\"ARRIVAL_DELAY\"]].plot.box()\n",
    "plt.show()"
   ]
  },
  {
   "cell_type": "code",
   "execution_count": 35,
   "metadata": {},
   "outputs": [
    {
     "name": "stderr",
     "output_type": "stream",
     "text": [
      "C:\\Users\\A-Sha\\Anaconda3\\lib\\site-packages\\numpy\\lib\\histograms.py:754: RuntimeWarning: invalid value encountered in greater_equal\n",
      "  keep = (tmp_a >= first_edge)\n",
      "C:\\Users\\A-Sha\\Anaconda3\\lib\\site-packages\\numpy\\lib\\histograms.py:755: RuntimeWarning: invalid value encountered in less_equal\n",
      "  keep &= (tmp_a <= last_edge)\n"
     ]
    },
    {
     "data": {
      "image/png": "[encoded data removed]",
      "text/plain": [
       "<Figure size 432x288 with 1 Axes>"
      ]
     },
     "metadata": {
      "needs_background": "light"
     },
     "output_type": "display_data"
    },
    {
     "data": {
      "image/png": "[encoded data removed]",
      "text/plain": [
       "<Figure size 432x288 with 1 Axes>"
      ]
     },
     "metadata": {
      "needs_background": "light"
     },
     "output_type": "display_data"
    }
   ],
   "source": [
    "plt.hist(df_delayed_flights['ARRIVAL_DELAY'], bins=150)\n",
    "plt.title(\"Arrival Delays\")\n",
    "plt.show()\n",
    "\n",
    "plt.hist(df_delayed_flights['DEPARTURE_DELAY'], bins=150)\n",
    "plt.title(\"Departure Delays\")\n",
    "plt.show()"
   ]
  },
  {
   "cell_type": "code",
   "execution_count": 36,
   "metadata": {},
   "outputs": [
    {
     "name": "stdout",
     "output_type": "stream",
     "text": [
      "Arrival Delays:\t \t Mean = 4.464009341626529 \t SD = 39.36796042230013\n",
      "Departure Delays:\t Mean = 9.370158275198389 \t SD = 37.080939262729146\n"
     ]
    }
   ],
   "source": [
    "#Determine Outliers\n",
    "\n",
    "mean_arrival_delays = np.mean(df_delayed_flights['ARRIVAL_DELAY'] )\n",
    "sd_arrival_delays = np.std(df_delayed_flights['ARRIVAL_DELAY'])\n",
    "\n",
    "mean_departure_delays = np.mean(df_delayed_flights['DEPARTURE_DELAY'])\n",
    "sd_departure_delays = np.std(df_delayed_flights['DEPARTURE_DELAY'])\n",
    "\n",
    "print('Arrival Delays:\\t \\t Mean = {0} \\t SD = {1}'.format(mean_arrival_delays, sd_arrival_delays))\n",
    "print('Departure Delays:\\t Mean = {0} \\t SD = {1}'.format(mean_departure_delays, sd_departure_delays))\n"
   ]
  },
  {
   "cell_type": "code",
   "execution_count": 37,
   "metadata": {},
   "outputs": [
    {
     "name": "stdout",
     "output_type": "stream",
     "text": [
      "(5692062,)\n",
      "With removing on-time flights:\n",
      "Arrival Delays:\t \t Mean = 4.565220883734861 \t SD = 39.805946370311176\n",
      "Departure Delays:\t Mean = 9.941291362037587 \t SD = 38.11990930423063\n"
     ]
    }
   ],
   "source": [
    "#Arrrival_delay or Departure_delay != 0 \n",
    "\n",
    "arrival_delays = df_delayed_flights[df_delayed_flights['ARRIVAL_DELAY'] != 0.00]['ARRIVAL_DELAY']\n",
    "departure_delays = df_delayed_flights[df_delayed_flights['DEPARTURE_DELAY'] != 0.00]['DEPARTURE_DELAY']\n",
    "\n",
    "print(arrival_delays.shape)\n",
    "\n",
    "\n",
    "mean_ad = np.mean(arrival_delays)\n",
    "sd_ad = np.std(arrival_delays)\n",
    "\n",
    "mean_dd = np.mean(departure_delays)\n",
    "sd_dd = np.std(departure_delays)\n",
    "\n",
    "print(\"With removing on-time flights:\")\n",
    "\n",
    "print('Arrival Delays:\\t \\t Mean = {0} \\t SD = {1}'.format(mean_ad, sd_ad))\n",
    "print('Departure Delays:\\t Mean = {0} \\t SD = {1}'.format(mean_dd, sd_dd))\n"
   ]
  },
  {
   "cell_type": "code",
   "execution_count": 38,
   "metadata": {},
   "outputs": [
    {
     "name": "stdout",
     "output_type": "stream",
     "text": [
      "\n",
      "# Flights to remove 219310\n"
     ]
    }
   ],
   "source": [
    "# Removing\n",
    "flights_to_remove = []\n",
    "\n",
    "# remove based on arrival and departure delays (normal distribution)\n",
    "flights_to_remove = flights_to_remove + list(df_delayed_flights[df_delayed_flights['ARRIVAL_DELAY'] > mean_ad + 3.0* sd_ad].index)\n",
    "flights_to_remove = flights_to_remove + list(df_delayed_flights[df_delayed_flights['ARRIVAL_DELAY'] < mean_ad - 3.0* sd_ad].index)\n",
    "\n",
    "flights_to_remove = flights_to_remove + list(df_delayed_flights[df_delayed_flights['DEPARTURE_DELAY'] > mean_dd + 3.0* sd_dd].index)\n",
    "flights_to_remove = flights_to_remove + list(df_delayed_flights[df_delayed_flights['DEPARTURE_DELAY'] < mean_dd - 3.0* sd_dd].index)\n",
    "\n",
    "print('')\n",
    "print('# Flights to remove', len(flights_to_remove))\n"
   ]
  },
  {
   "cell_type": "code",
   "execution_count": 39,
   "metadata": {},
   "outputs": [
    {
     "name": "stdout",
     "output_type": "stream",
     "text": [
      "Was:  (5819079, 24)  Now:  (5697506, 24)\n"
     ]
    }
   ],
   "source": [
    "new_delayed_flights = df_delayed_flights[~df_delayed_flights.index.isin(flights_to_remove)]\n",
    "print(\"Was: \", df_delayed_flights.shape, \" Now: \", new_delayed_flights.shape)"
   ]
  },
  {
   "cell_type": "code",
   "execution_count": 40,
   "metadata": {},
   "outputs": [
    {
     "data": {
      "image/png": "[encoded data removed]",
      "text/plain": [
       "<Figure size 432x288 with 1 Axes>"
      ]
     },
     "metadata": {
      "needs_background": "light"
     },
     "output_type": "display_data"
    },
    {
     "data": {
      "image/png": "[encoded data removed]",
      "text/plain": [
       "<Figure size 432x288 with 1 Axes>"
      ]
     },
     "metadata": {
      "needs_background": "light"
     },
     "output_type": "display_data"
    }
   ],
   "source": [
    "plt.hist(new_delayed_flights['ARRIVAL_DELAY'], bins=150)\n",
    "plt.title(\"Arrival Delays\")\n",
    "plt.show()\n",
    "\n",
    "plt.hist(new_delayed_flights['DEPARTURE_DELAY'], bins=150)\n",
    "plt.title(\"Departure Delays\")\n",
    "plt.show()"
   ]
  },
  {
   "cell_type": "markdown",
   "metadata": {},
   "source": [
    "## 5. Merging datasets"
   ]
  },
  {
   "cell_type": "code",
   "execution_count": 41,
   "metadata": {
    "scrolled": true
   },
   "outputs": [],
   "source": [
    "df_merge_v1 = new_delayed_flights.copy()\n",
    "\n",
    "#Merge Airlines and Flights dfs\n",
    "df_merge_v1 = pd.merge(new_delayed_flights, df_airlines, left_on='AIRLINE', right_on='AIRLINE_CODE', how='left')\n",
    "\n",
    "#Merge Airports and Flights dfs on Origin_Airport and Airport_Code\n",
    "df_merge_v1 = pd.merge(df_merge_v1, df_airports, left_on='ORIGIN_AIRPORT', right_on='AIRPORT_CODE', how='left')\n",
    "df_merge_v1.rename(columns={'ORIGIN_AIRPORT':'ORIGIN_AC', #Origin Airport Code\n",
    "                            'AIRPORT_NAME':'ORIGIN_AIRPORT', #Origin Airport Name\n",
    "                            'DESTINATION_AIRPORT': 'DESTINATION_AC'}, inplace=True) #Dest Airport Code\n",
    "df_merge_v1.drop(['AIRLINE','AIRPORT_CODE'], axis=1, inplace=True)\n",
    "\n",
    "#Merge Airports and Flights dfs on Destination_Airport and Airport_Code\n",
    "df_merge_v1 = pd.merge(df_merge_v1, df_airports, left_on='DESTINATION_AC', right_on='AIRPORT_CODE', how='left')\n",
    "df_merge_v1.rename(columns={'AIRPORT_NAME':'DESTINATION_AIRPORT'}, inplace=True) #Dest Airport Name\n",
    "\n",
    "df_merge_v1.drop('AIRPORT_CODE', axis=1, inplace=True)"
   ]
  },
  {
   "cell_type": "code",
   "execution_count": 42,
   "metadata": {},
   "outputs": [
    {
     "name": "stdout",
     "output_type": "stream",
     "text": [
      "Merged Dataframe Columns: \n",
      " Index(['MONTH', 'FLIGHT_NUMBER', 'TAIL_NUMBER', 'ORIGIN_AC', 'DESTINATION_AC',\n",
      "       'SCHEDULED_DEPARTURE', 'DEPARTURE_TIME', 'DEPARTURE_DELAY',\n",
      "       'SCHEDULED_TIME', 'DISTANCE', 'SCHEDULED_ARRIVAL', 'ARRIVAL_TIME',\n",
      "       'ARRIVAL_DELAY', 'DIVERTED', 'CANCELLED', 'CANCELLATION_REASON',\n",
      "       'AIR_SYSTEM_DELAY', 'SECURITY_DELAY', 'AIRLINE_DELAY',\n",
      "       'LATE_AIRCRAFT_DELAY', 'WEATHER_DELAY', 'DATE', 'CLASS', 'AIRLINE_CODE',\n",
      "       'AIRLINE_NAME', 'ORIGIN_AIRPORT', 'DESTINATION_AIRPORT'],\n",
      "      dtype='object')\n"
     ]
    },
    {
     "data": {
      "text/html": [
       "<div>\n",
       "<style scoped>\n",
       "    .dataframe tbody tr th:only-of-type {\n",
       "        vertical-align: middle;\n",
       "    }\n",
       "\n",
       "    .dataframe tbody tr th {\n",
       "        vertical-align: top;\n",
       "    }\n",
       "\n",
       "    .dataframe thead th {\n",
       "        text-align: right;\n",
       "    }\n",
       "</style>\n",
       "<table border=\"1\" class=\"dataframe\">\n",
       "  <thead>\n",
       "    <tr style=\"text-align: right;\">\n",
       "      <th></th>\n",
       "      <th>ORIGIN_AIRPORT</th>\n",
       "      <th>ORIGIN_AC</th>\n",
       "      <th>DESTINATION_AIRPORT</th>\n",
       "      <th>DESTINATION_AC</th>\n",
       "    </tr>\n",
       "  </thead>\n",
       "  <tbody>\n",
       "    <tr>\n",
       "      <th>0</th>\n",
       "      <td>Ted Stevens Anchorage International Airport</td>\n",
       "      <td>ANC</td>\n",
       "      <td>Seattle-Tacoma International Airport</td>\n",
       "      <td>SEA</td>\n",
       "    </tr>\n",
       "    <tr>\n",
       "      <th>1</th>\n",
       "      <td>Los Angeles International Airport</td>\n",
       "      <td>LAX</td>\n",
       "      <td>Palm Beach International Airport</td>\n",
       "      <td>PBI</td>\n",
       "    </tr>\n",
       "    <tr>\n",
       "      <th>2</th>\n",
       "      <td>San Francisco International Airport</td>\n",
       "      <td>SFO</td>\n",
       "      <td>Charlotte Douglas International Airport</td>\n",
       "      <td>CLT</td>\n",
       "    </tr>\n",
       "    <tr>\n",
       "      <th>3</th>\n",
       "      <td>Los Angeles International Airport</td>\n",
       "      <td>LAX</td>\n",
       "      <td>Miami International Airport</td>\n",
       "      <td>MIA</td>\n",
       "    </tr>\n",
       "    <tr>\n",
       "      <th>4</th>\n",
       "      <td>Seattle-Tacoma International Airport</td>\n",
       "      <td>SEA</td>\n",
       "      <td>Ted Stevens Anchorage International Airport</td>\n",
       "      <td>ANC</td>\n",
       "    </tr>\n",
       "  </tbody>\n",
       "</table>\n",
       "</div>"
      ],
      "text/plain": [
       "                                ORIGIN_AIRPORT ORIGIN_AC  \\\n",
       "0  Ted Stevens Anchorage International Airport       ANC   \n",
       "1            Los Angeles International Airport       LAX   \n",
       "2          San Francisco International Airport       SFO   \n",
       "3            Los Angeles International Airport       LAX   \n",
       "4         Seattle-Tacoma International Airport       SEA   \n",
       "\n",
       "                           DESTINATION_AIRPORT DESTINATION_AC  \n",
       "0         Seattle-Tacoma International Airport            SEA  \n",
       "1             Palm Beach International Airport            PBI  \n",
       "2      Charlotte Douglas International Airport            CLT  \n",
       "3                  Miami International Airport            MIA  \n",
       "4  Ted Stevens Anchorage International Airport            ANC  "
      ]
     },
     "execution_count": 42,
     "metadata": {},
     "output_type": "execute_result"
    }
   ],
   "source": [
    "print(\"Merged Dataframe Columns: \\n\", df_merge_v1.columns)\n",
    "\n",
    "df_merge_v1[['ORIGIN_AIRPORT', 'ORIGIN_AC','DESTINATION_AIRPORT', 'DESTINATION_AC']].head()"
   ]
  },
  {
   "cell_type": "markdown",
   "metadata": {},
   "source": [
    "## Save file"
   ]
  },
  {
   "cell_type": "code",
   "execution_count": null,
   "metadata": {},
   "outputs": [],
   "source": [
    "df_merge_v1.to_csv('../data/flightsmerged.csv', index=False)"
   ]
  },
  {
   "cell_type": "code",
   "execution_count": null,
   "metadata": {},
   "outputs": [],
   "source": []
  }
 ],
 "metadata": {
  "anaconda-cloud": {},
  "kernelspec": {
   "display_name": "Python 3",
   "language": "python",
   "name": "python3"
  },
  "language_info": {
   "codemirror_mode": {
    "name": "ipython",
    "version": 3
   },
   "file_extension": ".py",
   "mimetype": "text/x-python",
   "name": "python",
   "nbconvert_exporter": "python",
   "pygments_lexer": "ipython3",
   "version": "3.7.1"
  }
 },
 "nbformat": 4,
 "nbformat_minor": 1
}
