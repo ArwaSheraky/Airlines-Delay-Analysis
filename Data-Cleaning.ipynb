{
 "cells": [
  {
   "cell_type": "markdown",
   "metadata": {},
   "source": [
    "# Data Cleaning"
   ]
  },
  {
   "cell_type": "code",
   "execution_count": null,
   "metadata": {},
   "outputs": [],
   "source": [
    "# import the library\n",
    "%matplotlib inline\n",
    "\n",
    "import pandas as pd\n",
    "import numpy as np\n",
    "import scipy\n",
    "import matplotlib.pyplot as plt\n",
    "\n",
    "# convert scientific notation to decimals\n",
    "pd.set_option('display.float_format', lambda x: '%.2f' % x)"
   ]
  },
  {
   "cell_type": "markdown",
   "metadata": {},
   "source": [
    "## 1. Load Datasets"
   ]
  },
  {
   "cell_type": "code",
   "execution_count": null,
   "metadata": {},
   "outputs": [],
   "source": [
    "#Source file: https://www.kaggle.com/usdot/flight-delays#flights.csv\n",
    "\n",
    "#Main dataset\n",
    "df_delayed_flights = pd.read_csv('data/flights.csv', low_memory=False)\n",
    "\n",
    "#Complementary datasets\n",
    "df_airports = pd.read_csv('data/airports.csv', low_memory=False)\n",
    "df_airlines = pd.read_csv('data/airlines.csv', low_memory=False)"
   ]
  },
  {
   "cell_type": "markdown",
   "metadata": {},
   "source": [
    "## 2. Summarize the data"
   ]
  },
  {
   "cell_type": "code",
   "execution_count": null,
   "metadata": {
    "scrolled": true
   },
   "outputs": [],
   "source": [
    "print('------- Main Dataset, Flights -------')\n",
    "print(df_delayed_flights.shape)\n",
    "print(df_delayed_flights.columns)\n",
    "print(df_delayed_flights.head())\n",
    "print(df_delayed_flights.describe())\n",
    "\n",
    "print('\\n ------- Airports -------')\n",
    "print(df_airports.shape)\n",
    "print(df_airports.columns)\n",
    "print(df_airports.head())\n",
    "print(df_airports.describe())\n",
    "\n",
    "print('\\n ------- Airlines -------')\n",
    "print(df_airlines.shape)\n",
    "print(df_airlines.columns)\n",
    "print(df_airlines.head())\n",
    "print(df_airlines.describe())"
   ]
  },
  {
   "cell_type": "markdown",
   "metadata": {},
   "source": [
    "## 3. Data Cleaning"
   ]
  },
  {
   "cell_type": "markdown",
   "metadata": {},
   "source": [
    "### 3.1. Missing values"
   ]
  },
  {
   "cell_type": "code",
   "execution_count": null,
   "metadata": {},
   "outputs": [],
   "source": [
    "print(\"Delayed Flights Missing Values:\\n\", df_delayed_flights.isnull().sum())\n",
    "print(\"Airlines Missing Values:\\n\", df_airlines.isnull().sum())\n",
    "print(\"Airports Missing Values:\\n\", df_airports.isnull().sum())"
   ]
  },
  {
   "cell_type": "markdown",
   "metadata": {},
   "source": [
    "### Missing Values: CANCELLATION_REASON"
   ]
  },
  {
   "cell_type": "code",
   "execution_count": null,
   "metadata": {},
   "outputs": [],
   "source": [
    "print(\"Total number of flights: \", len(df_delayed_flights))\n",
    "print(\"Cancelled flights: \")\n",
    "#Number of missing data in CANCELLATION_REASON is large, because when the flight was not cancelled, no value was added.\n",
    "\n",
    "#Fill the missing value with new defined value `NC` = Not Cancelled\n",
    "df_delayed_flights['CANCELLATION_REASON'] = df_delayed_flights['CANCELLATION_REASON'].fillna('NC')\n",
    "df_delayed_flights['CANCELLATION_REASON'].isnull().sum()\n",
    "print(df_delayed_flights['CANCELLATION_REASON'][df_delayed_flights['CANCELLATION_REASON'] != 'NC'])\n"
   ]
  },
  {
   "cell_type": "markdown",
   "metadata": {},
   "source": [
    "### Missing Values: "
   ]
  },
  {
   "cell_type": "code",
   "execution_count": null,
   "metadata": {},
   "outputs": [],
   "source": [
    "df_merge['ARRIVAL_DELAY'] = df_merge['ARRIVAL_DELAY'].replace('0.00', np.nan)\n",
    "#This needs work - Unable to remove 0.00 values TCE\n",
    "\n",
    "#avg_delay = sum(df_delayed_flights['ARRIVAL_DELAY'] != 0) / len(df_delayed_flights['ARRIVAL_DELAY'] != 0)\n",
    "#print(\"Avg Arrival Delay =\",avg_delay)\n"
   ]
  },
  {
   "cell_type": "markdown",
   "metadata": {},
   "source": [
    "### 3.2. Delete unneeded Columns"
   ]
  },
  {
   "cell_type": "code",
   "execution_count": null,
   "metadata": {},
   "outputs": [],
   "source": [
    "df_airports = df_airports[['IATA_CODE','AIRPORT']]\n",
    "print(df_airports.columns)\n"
   ]
  },
  {
   "cell_type": "markdown",
   "metadata": {},
   "source": [
    "## 4. Removing Outliers"
   ]
  },
  {
   "cell_type": "code",
   "execution_count": null,
   "metadata": {
    "scrolled": true
   },
   "outputs": [],
   "source": [
    "df_delayed_flights[[\"DEPARTURE_DELAY\",\"ARRIVAL_DELAY\"]].plot.box()\n",
    "plt.show()"
   ]
  },
  {
   "cell_type": "code",
   "execution_count": null,
   "metadata": {
    "scrolled": true
   },
   "outputs": [],
   "source": [
    "# Excessive Arrival Delays \n",
    "plt.hist(df_delayed_flights['ARRIVAL_DELAY'], bins=100)\n",
    "plt.show()\n",
    "\n",
    "\n",
    "#print(df_delayed_flights['ARRIVAL_DELAY'].value_counts())\n",
    "#print('mean', np.mean(df_delayed_flights['ARRIVAL_DELAY']))\n",
    "#print('std', np.std(df_delayed_flights['ARRIVAL_DELAY']))\n",
    "\n",
    "\n",
    "#Must remove 0.00 from average and STD TCE"
   ]
  },
  {
   "cell_type": "markdown",
   "metadata": {},
   "source": [
    "## 5. Merging datasets"
   ]
  },
  {
   "cell_type": "code",
   "execution_count": null,
   "metadata": {},
   "outputs": [],
   "source": [
    "\n",
    "#df_delayed_flights[\"AIRLINE_NAME\"]=df_delayed_flights.apply(lambda x: df_airlines.loc[df_airlines['IATA_CODE'] == x[\"AIRLINE\"],\"AIRLINE\"].values[0],axis=1)\n",
    "#df_delayed_flights[\"ORIGIN_AIRPORT_NAME\"]=df_delayed_flights.apply(lambda x: df_airports.loc[df_airports['IATA_CODE'] == x[\"ORIGIN_AIRPORT\"],\"AIRPORT\"].values[0],axis=1)"
   ]
  },
  {
   "cell_type": "code",
   "execution_count": null,
   "metadata": {
    "scrolled": true
   },
   "outputs": [],
   "source": [
    "df_merge = df_delayed_flights.copy()\n",
    "\n",
    "#Merge Airlines and Flights df on `Airline` column\n",
    "df_merge = df_merge.merge(df_airlines, on='AIRLINE', how ='left')\n",
    "\n",
    "#Merge Airports and Merged df on `IATA_CODE` column\n",
    "df_merge = df_merge.merge(df_airports, on='IATA_CODE', how ='left')"
   ]
  },
  {
   "cell_type": "code",
   "execution_count": null,
   "metadata": {},
   "outputs": [],
   "source": [
    "print(\"Merged Dataframe Columns: \\n\", df_merge.columns)\n",
    "print(df_merge)"
   ]
  },
  {
   "cell_type": "markdown",
   "metadata": {},
   "source": [
    "## Save file"
   ]
  },
  {
   "cell_type": "code",
   "execution_count": null,
   "metadata": {},
   "outputs": [],
   "source": [
    "df_merge.to_csv('data/flightsmerged.csv', index=False)"
   ]
  }
 ],
 "metadata": {
  "anaconda-cloud": {},
  "kernelspec": {
   "display_name": "Python 3",
   "language": "python",
   "name": "python3"
  },
  "language_info": {
   "codemirror_mode": {
    "name": "ipython",
    "version": 3
   },
   "file_extension": ".py",
   "mimetype": "text/x-python",
   "name": "python",
   "nbconvert_exporter": "python",
   "pygments_lexer": "ipython3",
   "version": "3.7.1"
  }
 },
 "nbformat": 4,
 "nbformat_minor": 1
}
