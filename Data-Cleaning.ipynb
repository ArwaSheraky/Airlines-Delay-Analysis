{
 "cells": [
  {
   "cell_type": "markdown",
   "metadata": {},
   "source": [
    "# Data Cleaning"
   ]
  },
  {
   "cell_type": "code",
   "execution_count": 1,
   "metadata": {},
   "outputs": [],
   "source": [
    "# import the library\n",
    "%matplotlib inline\n",
    "\n",
    "import pandas as pd\n",
    "import numpy as np\n",
    "import scipy\n",
    "import matplotlib.pyplot as plt\n",
    "import seaborn as sns\n",
    "\n",
    "sns.set_style('whitegrid')\n",
    "\n",
    "# convert scientific notation to decimals\n",
    "pd.set_option('display.float_format', lambda x: '%.2f' % x)"
   ]
  },
  {
   "cell_type": "markdown",
   "metadata": {},
   "source": [
    "## 1. Load Datasets"
   ]
  },
  {
   "cell_type": "code",
   "execution_count": 2,
   "metadata": {},
   "outputs": [],
   "source": [
    "#Source file: https://www.kaggle.com/usdot/flight-delays#flights.csv\n",
    "\n",
    "#Main dataset\n",
    "df_delayed_flights = pd.read_csv('data/flights.csv', low_memory=False)\n",
    "\n",
    "#Complementary datasets\n",
    "df_airports = pd.read_csv('data/airports.csv', low_memory=False)\n",
    "df_airlines = pd.read_csv('data/airlines.csv', low_memory=False)"
   ]
  },
  {
   "cell_type": "markdown",
   "metadata": {},
   "source": [
    "## 2. Summarize the data"
   ]
  },
  {
   "cell_type": "code",
   "execution_count": 3,
   "metadata": {
    "scrolled": true
   },
   "outputs": [
    {
     "name": "stdout",
     "output_type": "stream",
     "text": [
      "------- Main Dataset, Flights -------\n",
      "(5819079, 31)\n",
      "Index(['YEAR', 'MONTH', 'DAY', 'DAY_OF_WEEK', 'AIRLINE', 'FLIGHT_NUMBER',\n",
      "       'TAIL_NUMBER', 'ORIGIN_AIRPORT', 'DESTINATION_AIRPORT',\n",
      "       'SCHEDULED_DEPARTURE', 'DEPARTURE_TIME', 'DEPARTURE_DELAY', 'TAXI_OUT',\n",
      "       'WHEELS_OFF', 'SCHEDULED_TIME', 'ELAPSED_TIME', 'AIR_TIME', 'DISTANCE',\n",
      "       'WHEELS_ON', 'TAXI_IN', 'SCHEDULED_ARRIVAL', 'ARRIVAL_TIME',\n",
      "       'ARRIVAL_DELAY', 'DIVERTED', 'CANCELLED', 'CANCELLATION_REASON',\n",
      "       'AIR_SYSTEM_DELAY', 'SECURITY_DELAY', 'AIRLINE_DELAY',\n",
      "       'LATE_AIRCRAFT_DELAY', 'WEATHER_DELAY'],\n",
      "      dtype='object')\n",
      "   YEAR  MONTH  DAY  DAY_OF_WEEK AIRLINE  FLIGHT_NUMBER TAIL_NUMBER  \\\n",
      "0  2015      1    1            4      AS             98      N407AS   \n",
      "1  2015      1    1            4      AA           2336      N3KUAA   \n",
      "2  2015      1    1            4      US            840      N171US   \n",
      "3  2015      1    1            4      AA            258      N3HYAA   \n",
      "4  2015      1    1            4      AS            135      N527AS   \n",
      "\n",
      "  ORIGIN_AIRPORT DESTINATION_AIRPORT  SCHEDULED_DEPARTURE  ...  ARRIVAL_TIME  \\\n",
      "0            ANC                 SEA                    5  ...        408.00   \n",
      "1            LAX                 PBI                   10  ...        741.00   \n",
      "2            SFO                 CLT                   20  ...        811.00   \n",
      "3            LAX                 MIA                   20  ...        756.00   \n",
      "4            SEA                 ANC                   25  ...        259.00   \n",
      "\n",
      "   ARRIVAL_DELAY  DIVERTED  CANCELLED  CANCELLATION_REASON  AIR_SYSTEM_DELAY  \\\n",
      "0         -22.00         0          0                  NaN               nan   \n",
      "1          -9.00         0          0                  NaN               nan   \n",
      "2           5.00         0          0                  NaN               nan   \n",
      "3          -9.00         0          0                  NaN               nan   \n",
      "4         -21.00         0          0                  NaN               nan   \n",
      "\n",
      "   SECURITY_DELAY  AIRLINE_DELAY  LATE_AIRCRAFT_DELAY  WEATHER_DELAY  \n",
      "0             nan            nan                  nan            nan  \n",
      "1             nan            nan                  nan            nan  \n",
      "2             nan            nan                  nan            nan  \n",
      "3             nan            nan                  nan            nan  \n",
      "4             nan            nan                  nan            nan  \n",
      "\n",
      "[5 rows x 31 columns]\n",
      "            YEAR      MONTH        DAY  DAY_OF_WEEK  FLIGHT_NUMBER  \\\n",
      "count 5819079.00 5819079.00 5819079.00   5819079.00     5819079.00   \n",
      "mean     2015.00       6.52      15.70         3.93        2173.09   \n",
      "std         0.00       3.41       8.78         1.99        1757.06   \n",
      "min      2015.00       1.00       1.00         1.00           1.00   \n",
      "25%      2015.00       4.00       8.00         2.00         730.00   \n",
      "50%      2015.00       7.00      16.00         4.00        1690.00   \n",
      "75%      2015.00       9.00      23.00         6.00        3230.00   \n",
      "max      2015.00      12.00      31.00         7.00        9855.00   \n",
      "\n",
      "       SCHEDULED_DEPARTURE  DEPARTURE_TIME  DEPARTURE_DELAY   TAXI_OUT  \\\n",
      "count           5819079.00      5732926.00       5732926.00 5730032.00   \n",
      "mean               1329.60         1335.20             9.37      16.07   \n",
      "std                 483.75          496.42            37.08       8.90   \n",
      "min                   1.00            1.00           -82.00       1.00   \n",
      "25%                 917.00          921.00            -5.00      11.00   \n",
      "50%                1325.00         1330.00            -2.00      14.00   \n",
      "75%                1730.00         1740.00             7.00      19.00   \n",
      "max                2359.00         2400.00          1988.00     225.00   \n",
      "\n",
      "       WHEELS_OFF  ...  SCHEDULED_ARRIVAL  ARRIVAL_TIME  ARRIVAL_DELAY  \\\n",
      "count  5730032.00  ...         5819079.00    5726566.00     5714008.00   \n",
      "mean      1357.17  ...            1493.81       1476.49           4.41   \n",
      "std        498.01  ...             507.16        526.32          39.27   \n",
      "min          1.00  ...               1.00          1.00         -87.00   \n",
      "25%        935.00  ...            1110.00       1059.00         -13.00   \n",
      "50%       1343.00  ...            1520.00       1512.00          -5.00   \n",
      "75%       1754.00  ...            1918.00       1917.00           8.00   \n",
      "max       2400.00  ...            2400.00       2400.00        1971.00   \n",
      "\n",
      "        DIVERTED  CANCELLED  AIR_SYSTEM_DELAY  SECURITY_DELAY  AIRLINE_DELAY  \\\n",
      "count 5819079.00 5819079.00        1063439.00      1063439.00     1063439.00   \n",
      "mean        0.00       0.02             13.48            0.08          18.97   \n",
      "std         0.05       0.12             28.00            2.14          48.16   \n",
      "min         0.00       0.00              0.00            0.00           0.00   \n",
      "25%         0.00       0.00              0.00            0.00           0.00   \n",
      "50%         0.00       0.00              2.00            0.00           2.00   \n",
      "75%         0.00       0.00             18.00            0.00          19.00   \n",
      "max         1.00       1.00           1134.00          573.00        1971.00   \n",
      "\n",
      "       LATE_AIRCRAFT_DELAY  WEATHER_DELAY  \n",
      "count           1063439.00     1063439.00  \n",
      "mean                 23.47           2.92  \n",
      "std                  43.20          20.43  \n",
      "min                   0.00           0.00  \n",
      "25%                   0.00           0.00  \n",
      "50%                   3.00           0.00  \n",
      "75%                  29.00           0.00  \n",
      "max                1331.00        1211.00  \n",
      "\n",
      "[8 rows x 26 columns]\n",
      "\n",
      " ------- Airports -------\n",
      "(322, 7)\n",
      "Index(['IATA_CODE', 'AIRPORT', 'CITY', 'STATE', 'COUNTRY', 'LATITUDE',\n",
      "       'LONGITUDE'],\n",
      "      dtype='object')\n",
      "  IATA_CODE                              AIRPORT         CITY STATE COUNTRY  \\\n",
      "0       ABE  Lehigh Valley International Airport    Allentown    PA     USA   \n",
      "1       ABI             Abilene Regional Airport      Abilene    TX     USA   \n",
      "2       ABQ    Albuquerque International Sunport  Albuquerque    NM     USA   \n",
      "3       ABR            Aberdeen Regional Airport     Aberdeen    SD     USA   \n",
      "4       ABY   Southwest Georgia Regional Airport       Albany    GA     USA   \n",
      "\n",
      "   LATITUDE  LONGITUDE  \n",
      "0     40.65     -75.44  \n",
      "1     32.41     -99.68  \n",
      "2     35.04    -106.61  \n",
      "3     45.45     -98.42  \n",
      "4     31.54     -84.19  \n",
      "       LATITUDE  LONGITUDE\n",
      "count    319.00     319.00\n",
      "mean      38.98     -98.38\n",
      "std        8.62      21.52\n",
      "min       13.48    -176.65\n",
      "25%       33.65    -110.84\n",
      "50%       39.30     -93.40\n",
      "75%       43.15     -82.72\n",
      "max       71.29     -64.80\n",
      "\n",
      " ------- Airlines -------\n",
      "(14, 2)\n",
      "Index(['IATA_CODE', 'AIRLINE'], dtype='object')\n",
      "  IATA_CODE                 AIRLINE\n",
      "0        UA   United Air Lines Inc.\n",
      "1        AA  American Airlines Inc.\n",
      "2        US         US Airways Inc.\n",
      "3        F9  Frontier Airlines Inc.\n",
      "4        B6         JetBlue Airways\n",
      "       IATA_CODE         AIRLINE\n",
      "count         14              14\n",
      "unique        14              14\n",
      "top           EV  Virgin America\n",
      "freq           1               1\n"
     ]
    }
   ],
   "source": [
    "print('------- Main Dataset, Flights -------')\n",
    "print(df_delayed_flights.shape)\n",
    "print(df_delayed_flights.columns)\n",
    "print(df_delayed_flights.head())\n",
    "print(df_delayed_flights.describe())\n",
    "\n",
    "print('\\n ------- Airports -------')\n",
    "print(df_airports.shape)\n",
    "print(df_airports.columns)\n",
    "print(df_airports.head())\n",
    "print(df_airports.describe())\n",
    "\n",
    "print('\\n ------- Airlines -------')\n",
    "print(df_airlines.shape)\n",
    "print(df_airlines.columns)\n",
    "print(df_airlines.head())\n",
    "print(df_airlines.describe())"
   ]
  },
  {
   "cell_type": "markdown",
   "metadata": {},
   "source": [
    "## 3. Data Cleaning"
   ]
  },
  {
   "cell_type": "markdown",
   "metadata": {},
   "source": [
    "### 3.1. Missing values"
   ]
  },
  {
   "cell_type": "code",
   "execution_count": 4,
   "metadata": {},
   "outputs": [
    {
     "name": "stdout",
     "output_type": "stream",
     "text": [
      "Delayed Flights Missing Values:\n",
      " YEAR                         0\n",
      "MONTH                        0\n",
      "DAY                          0\n",
      "DAY_OF_WEEK                  0\n",
      "AIRLINE                      0\n",
      "FLIGHT_NUMBER                0\n",
      "TAIL_NUMBER              14721\n",
      "ORIGIN_AIRPORT               0\n",
      "DESTINATION_AIRPORT          0\n",
      "SCHEDULED_DEPARTURE          0\n",
      "DEPARTURE_TIME           86153\n",
      "DEPARTURE_DELAY          86153\n",
      "TAXI_OUT                 89047\n",
      "WHEELS_OFF               89047\n",
      "SCHEDULED_TIME               6\n",
      "ELAPSED_TIME            105071\n",
      "AIR_TIME                105071\n",
      "DISTANCE                     0\n",
      "WHEELS_ON                92513\n",
      "TAXI_IN                  92513\n",
      "SCHEDULED_ARRIVAL            0\n",
      "ARRIVAL_TIME             92513\n",
      "ARRIVAL_DELAY           105071\n",
      "DIVERTED                     0\n",
      "CANCELLED                    0\n",
      "CANCELLATION_REASON    5729195\n",
      "AIR_SYSTEM_DELAY       4755640\n",
      "SECURITY_DELAY         4755640\n",
      "AIRLINE_DELAY          4755640\n",
      "LATE_AIRCRAFT_DELAY    4755640\n",
      "WEATHER_DELAY          4755640\n",
      "dtype: int64\n",
      "Airlines Missing Values:\n",
      " IATA_CODE    0\n",
      "AIRLINE      0\n",
      "dtype: int64\n",
      "Airports Missing Values:\n",
      " IATA_CODE    0\n",
      "AIRPORT      0\n",
      "CITY         0\n",
      "STATE        0\n",
      "COUNTRY      0\n",
      "LATITUDE     3\n",
      "LONGITUDE    3\n",
      "dtype: int64\n"
     ]
    }
   ],
   "source": [
    "print(\"Delayed Flights Missing Values:\\n\", df_delayed_flights.isnull().sum())\n",
    "print(\"Airlines Missing Values:\\n\", df_airlines.isnull().sum())\n",
    "print(\"Airports Missing Values:\\n\", df_airports.isnull().sum())"
   ]
  },
  {
   "cell_type": "markdown",
   "metadata": {},
   "source": [
    "### Missing Values: CANCELLATION_REASON"
   ]
  },
  {
   "cell_type": "code",
   "execution_count": 6,
   "metadata": {},
   "outputs": [
    {
     "name": "stdout",
     "output_type": "stream",
     "text": [
      "Total number of delayed flights:  5819079\n",
      "Cancelled flights=  89884\n",
      "B    48851\n",
      "A    25262\n",
      "C    15749\n",
      "D       22\n",
      "Name: CANCELLATION_REASON, dtype: int64\n"
     ]
    }
   ],
   "source": [
    "print(\"Total number of delayed flights: \", len(df_delayed_flights))\n",
    "print(\"Cancelled flights= \", sum(df_delayed_flights['CANCELLED']))\n",
    "print(df_delayed_flights['CANCELLATION_REASON'].value_counts())"
   ]
  },
  {
   "cell_type": "markdown",
   "metadata": {},
   "source": [
    "#### Conclusion: Number of missing data under the variable \"CANCELLATION_REASON\" is large since when the flight was not cancelled, no reason code was assigned. To replace no values with a NC \"Not Cancelled\"."
   ]
  },
  {
   "cell_type": "code",
   "execution_count": 7,
   "metadata": {},
   "outputs": [
    {
     "name": "stdout",
     "output_type": "stream",
     "text": [
      "NC    5729195\n",
      "B       48851\n",
      "A       25262\n",
      "C       15749\n",
      "D          22\n",
      "Name: CANCELLATION_REASON, dtype: int64\n"
     ]
    }
   ],
   "source": [
    "#We can fill the missing value with a new defined value `NC` = Not Cancelled\n",
    "\n",
    "df_delayed_flights['CANCELLATION_REASON'] = df_delayed_flights['CANCELLATION_REASON'].fillna('NC')\n",
    "df_delayed_flights['CANCELLATION_REASON'].isnull().sum()\n",
    "print(df_delayed_flights['CANCELLATION_REASON'].value_counts())\n"
   ]
  },
  {
   "cell_type": "markdown",
   "metadata": {},
   "source": [
    "#### Conclusion: Weather is the top reason for cancelled flights"
   ]
  },
  {
   "cell_type": "markdown",
   "metadata": {},
   "source": [
    "### 3.2. Merge Columns - DATE"
   ]
  },
  {
   "cell_type": "code",
   "execution_count": 8,
   "metadata": {},
   "outputs": [
    {
     "name": "stdout",
     "output_type": "stream",
     "text": [
      "Index(['YEAR', 'MONTH', 'DAY', 'DAY_OF_WEEK', 'AIRLINE', 'FLIGHT_NUMBER',\n",
      "       'TAIL_NUMBER', 'ORIGIN_AIRPORT', 'DESTINATION_AIRPORT',\n",
      "       'SCHEDULED_DEPARTURE', 'DEPARTURE_TIME', 'DEPARTURE_DELAY', 'TAXI_OUT',\n",
      "       'WHEELS_OFF', 'SCHEDULED_TIME', 'ELAPSED_TIME', 'AIR_TIME', 'DISTANCE',\n",
      "       'WHEELS_ON', 'TAXI_IN', 'SCHEDULED_ARRIVAL', 'ARRIVAL_TIME',\n",
      "       'ARRIVAL_DELAY', 'DIVERTED', 'CANCELLED', 'CANCELLATION_REASON',\n",
      "       'AIR_SYSTEM_DELAY', 'SECURITY_DELAY', 'AIRLINE_DELAY',\n",
      "       'LATE_AIRCRAFT_DELAY', 'WEATHER_DELAY', 'DATE'],\n",
      "      dtype='object')\n"
     ]
    }
   ],
   "source": [
    "df_delayed_flights['DATE'] = pd.to_datetime(df_delayed_flights[['YEAR','MONTH', 'DAY']])\n",
    "print(df_delayed_flights.columns)"
   ]
  },
  {
   "cell_type": "markdown",
   "metadata": {},
   "source": [
    "### 3.3. Remove not relevant and duplicated columns"
   ]
  },
  {
   "cell_type": "code",
   "execution_count": 10,
   "metadata": {
    "collapsed": true
   },
   "outputs": [
    {
     "name": "stdout",
     "output_type": "stream",
     "text": [
      "Index(['AIRLINE', 'FLIGHT_NUMBER', 'TAIL_NUMBER', 'ORIGIN_AIRPORT',\n",
      "       'DESTINATION_AIRPORT', 'SCHEDULED_DEPARTURE', 'DEPARTURE_TIME',\n",
      "       'DEPARTURE_DELAY', 'SCHEDULED_TIME', 'ELAPSED_TIME', 'AIR_TIME',\n",
      "       'DISTANCE', 'SCHEDULED_ARRIVAL', 'ARRIVAL_TIME', 'ARRIVAL_DELAY',\n",
      "       'DIVERTED', 'CANCELLED', 'CANCELLATION_REASON', 'AIR_SYSTEM_DELAY',\n",
      "       'SECURITY_DELAY', 'AIRLINE_DELAY', 'LATE_AIRCRAFT_DELAY',\n",
      "       'WEATHER_DELAY', 'DATE'],\n",
      "      dtype='object')\n",
      "Index(['IATA_CODE', 'AIRPORT'], dtype='object')\n"
     ]
    }
   ],
   "source": [
    "df_delayed_flights = df_delayed_flights.drop(['YEAR','MONTH', 'DAY','DAY_OF_WEEK'], axis=1)\n",
    "df_delayed_flights = df_delayed_flights.drop(['TAXI_OUT','TAXI_IN','WHEELS_OFF', 'WHEELS_ON'], axis=1)\n",
    "print(df_delayed_flights.columns)\n",
    "\n",
    "df_airports = df_airports[['IATA_CODE','AIRPORT']]\n",
    "print(df_airports.columns)\n"
   ]
  },
  {
   "cell_type": "markdown",
   "metadata": {},
   "source": [
    "### 3.4. Rename Columns"
   ]
  },
  {
   "cell_type": "code",
   "execution_count": 11,
   "metadata": {},
   "outputs": [],
   "source": [
    "df_airports.columns = ['AIRPORT_CODE','AIRPORT_NAME']\n",
    "df_airlines.columns = ['AIRLINE_CODE','AIRLINE_NAME']"
   ]
  },
  {
   "cell_type": "markdown",
   "metadata": {},
   "source": [
    "### 3.5. Change type"
   ]
  },
  {
   "cell_type": "code",
   "execution_count": 12,
   "metadata": {},
   "outputs": [],
   "source": [
    "# Function to convert from 'HHMM' string to datetime.time\n",
    "# Reference: https://www.kaggle.com/fabiendaniel/predicting-flight-delays-tutorial\n",
    "\n",
    "import datetime\n",
    "\n",
    "def format_time(time_string):\n",
    "    \n",
    "    if isinstance(time_string, datetime.time):\n",
    "        return time_string\n",
    "    \n",
    "    if pd.isnull(time_string):\n",
    "        return np.nan\n",
    "    \n",
    "    else:\n",
    "        if time_string == 2400: #12 midnight\n",
    "            time_string = 0\n",
    "            \n",
    "        time_string = \"{0:04d}\".format(int(time_string)) #Format the string to be as 4 decimals (hh:mm)\n",
    "        formated_time = datetime.time(int(time_string[0:2]), int(time_string[2:4])) #Split the 4 digits into 2 parts\n",
    "        return formated_time"
   ]
  },
  {
   "cell_type": "code",
   "execution_count": 16,
   "metadata": {
    "scrolled": true
   },
   "outputs": [
    {
     "data": {
      "text/html": [
       "<div>\n",
       "<style scoped>\n",
       "    .dataframe tbody tr th:only-of-type {\n",
       "        vertical-align: middle;\n",
       "    }\n",
       "\n",
       "    .dataframe tbody tr th {\n",
       "        vertical-align: top;\n",
       "    }\n",
       "\n",
       "    .dataframe thead th {\n",
       "        text-align: right;\n",
       "    }\n",
       "</style>\n",
       "<table border=\"1\" class=\"dataframe\">\n",
       "  <thead>\n",
       "    <tr style=\"text-align: right;\">\n",
       "      <th></th>\n",
       "      <th>SCHEDULED_DEPARTURE</th>\n",
       "      <th>SCHEDULED_ARRIVAL</th>\n",
       "      <th>DEPARTURE_TIME</th>\n",
       "      <th>ARRIVAL_TIME</th>\n",
       "      <th>DEPARTURE_DELAY</th>\n",
       "      <th>ARRIVAL_DELAY</th>\n",
       "    </tr>\n",
       "  </thead>\n",
       "  <tbody>\n",
       "    <tr>\n",
       "      <th>0</th>\n",
       "      <td>00:05:00</td>\n",
       "      <td>04:30:00</td>\n",
       "      <td>23:54:00</td>\n",
       "      <td>04:08:00</td>\n",
       "      <td>-11.00</td>\n",
       "      <td>-22.00</td>\n",
       "    </tr>\n",
       "    <tr>\n",
       "      <th>1</th>\n",
       "      <td>00:10:00</td>\n",
       "      <td>07:50:00</td>\n",
       "      <td>00:02:00</td>\n",
       "      <td>07:41:00</td>\n",
       "      <td>-8.00</td>\n",
       "      <td>-9.00</td>\n",
       "    </tr>\n",
       "    <tr>\n",
       "      <th>2</th>\n",
       "      <td>00:20:00</td>\n",
       "      <td>08:06:00</td>\n",
       "      <td>00:18:00</td>\n",
       "      <td>08:11:00</td>\n",
       "      <td>-2.00</td>\n",
       "      <td>5.00</td>\n",
       "    </tr>\n",
       "    <tr>\n",
       "      <th>3</th>\n",
       "      <td>00:20:00</td>\n",
       "      <td>08:05:00</td>\n",
       "      <td>00:15:00</td>\n",
       "      <td>07:56:00</td>\n",
       "      <td>-5.00</td>\n",
       "      <td>-9.00</td>\n",
       "    </tr>\n",
       "    <tr>\n",
       "      <th>4</th>\n",
       "      <td>00:25:00</td>\n",
       "      <td>03:20:00</td>\n",
       "      <td>00:24:00</td>\n",
       "      <td>02:59:00</td>\n",
       "      <td>-1.00</td>\n",
       "      <td>-21.00</td>\n",
       "    </tr>\n",
       "    <tr>\n",
       "      <th>5</th>\n",
       "      <td>00:25:00</td>\n",
       "      <td>06:02:00</td>\n",
       "      <td>00:20:00</td>\n",
       "      <td>06:10:00</td>\n",
       "      <td>-5.00</td>\n",
       "      <td>8.00</td>\n",
       "    </tr>\n",
       "  </tbody>\n",
       "</table>\n",
       "</div>"
      ],
      "text/plain": [
       "  SCHEDULED_DEPARTURE SCHEDULED_ARRIVAL DEPARTURE_TIME ARRIVAL_TIME  \\\n",
       "0            00:05:00          04:30:00       23:54:00     04:08:00   \n",
       "1            00:10:00          07:50:00       00:02:00     07:41:00   \n",
       "2            00:20:00          08:06:00       00:18:00     08:11:00   \n",
       "3            00:20:00          08:05:00       00:15:00     07:56:00   \n",
       "4            00:25:00          03:20:00       00:24:00     02:59:00   \n",
       "5            00:25:00          06:02:00       00:20:00     06:10:00   \n",
       "\n",
       "   DEPARTURE_DELAY  ARRIVAL_DELAY  \n",
       "0           -11.00         -22.00  \n",
       "1            -8.00          -9.00  \n",
       "2            -2.00           5.00  \n",
       "3            -5.00          -9.00  \n",
       "4            -1.00         -21.00  \n",
       "5            -5.00           8.00  "
      ]
     },
     "execution_count": 16,
     "metadata": {},
     "output_type": "execute_result"
    }
   ],
   "source": [
    "# Call the Function:\n",
    "\n",
    "df_delayed_flights['SCHEDULED_DEPARTURE'] = df_delayed_flights['SCHEDULED_DEPARTURE'].apply(format_time)\n",
    "df_delayed_flights['DEPARTURE_TIME'] = df_delayed_flights['DEPARTURE_TIME'].apply(format_time)\n",
    "df_delayed_flights['SCHEDULED_ARRIVAL'] =df_delayed_flights['SCHEDULED_ARRIVAL'].apply(format_time)\n",
    "df_delayed_flights['ARRIVAL_TIME'] = df_delayed_flights['ARRIVAL_TIME'].apply(format_time)\n",
    "\n",
    "#Print a sample..\n",
    "df_delayed_flights.loc[:5, ['SCHEDULED_DEPARTURE', 'SCHEDULED_ARRIVAL', 'DEPARTURE_TIME',\n",
    "                            'ARRIVAL_TIME', 'DEPARTURE_DELAY', 'ARRIVAL_DELAY']]"
   ]
  },
  {
   "cell_type": "markdown",
   "metadata": {},
   "source": [
    "## 4. Remove Outliers"
   ]
  },
  {
   "cell_type": "code",
   "execution_count": 17,
   "metadata": {
    "scrolled": true
   },
   "outputs": [
    {
     "data": {
      "image/png": "[encoded data removed]",
      "text/plain": [
       "<Figure size 432x288 with 1 Axes>"
      ]
     },
     "metadata": {
      "needs_background": "light"
     },
     "output_type": "display_data"
    }
   ],
   "source": [
    "df_delayed_flights[[\"DEPARTURE_DELAY\",\"ARRIVAL_DELAY\"]].plot.box()\n",
    "plt.show()"
   ]
  },
  {
   "cell_type": "code",
   "execution_count": 15,
   "metadata": {
    "collapsed": true
   },
   "outputs": [
    {
     "name": "stderr",
     "output_type": "stream",
     "text": [
      "/home/tiffany/anaconda3/lib/python3.7/site-packages/numpy/lib/histograms.py:824: RuntimeWarning: invalid value encountered in greater_equal\n",
      "  keep = (tmp_a >= first_edge)\n",
      "/home/tiffany/anaconda3/lib/python3.7/site-packages/numpy/lib/histograms.py:825: RuntimeWarning: invalid value encountered in less_equal\n",
      "  keep &= (tmp_a <= last_edge)\n"
     ]
    },
    {
     "data": {
      "image/png": "[encoded data removed]",
      "text/plain": [
       "<Figure size 432x288 with 1 Axes>"
      ]
     },
     "metadata": {
      "needs_background": "light"
     },
     "output_type": "display_data"
    },
    {
     "data": {
      "image/png": "[encoded data removed]",
      "text/plain": [
       "<Figure size 432x288 with 1 Axes>"
      ]
     },
     "metadata": {
      "needs_background": "light"
     },
     "output_type": "display_data"
    }
   ],
   "source": [
    "plt.hist(df_delayed_flights['ARRIVAL_DELAY'], bins=150)\n",
    "plt.title(\"Arrival Delays\")\n",
    "plt.show()\n",
    "\n",
    "plt.hist(df_delayed_flights['DEPARTURE_DELAY'], bins=150)\n",
    "plt.title(\"Departure Delays\")\n",
    "plt.show()"
   ]
  },
  {
   "cell_type": "code",
   "execution_count": 18,
   "metadata": {},
   "outputs": [
    {
     "name": "stdout",
     "output_type": "stream",
     "text": [
      "Arrival Delays:\t \t Mean = 4.407057357987598 \t SD = 39.27129365752419\n",
      "Departure Delays:\t Mean = 9.370158275198389 \t SD = 37.080939262729146\n"
     ]
    }
   ],
   "source": [
    "#Determine Outliers\n",
    "\n",
    "mean_arrival_delays = np.mean(df_delayed_flights['ARRIVAL_DELAY'] )\n",
    "sd_arrival_delays = np.std(df_delayed_flights['ARRIVAL_DELAY'])\n",
    "\n",
    "mean_departure_delays = np.mean(df_delayed_flights['DEPARTURE_DELAY'])\n",
    "sd_departure_delays = np.std(df_delayed_flights['DEPARTURE_DELAY'])\n",
    "\n",
    "print('Arrival Delays:\\t \\t Mean = {0} \\t SD = {1}'.format(mean_arrival_delays, sd_arrival_delays))\n",
    "print('Departure Delays:\\t Mean = {0} \\t SD = {1}'.format(mean_departure_delays, sd_departure_delays))\n"
   ]
  },
  {
   "cell_type": "code",
   "execution_count": 19,
   "metadata": {},
   "outputs": [],
   "source": [
    "#Arrrival_delay or Departure_delay <= 0 from calculations\n",
    "\n",
    "#arrival_delays = df_delayed_flights[df_delayed_flights['ARRIVAL_DELAY'] > 0.00]['ARRIVAL_DELAY']\n",
    "#departure_delays = df_delayed_flights[df_delayed_flights['DEPARTURE_DELAY'] > 0.00]['DEPARTURE_DELAY']\n"
   ]
  },
  {
   "cell_type": "code",
   "execution_count": 20,
   "metadata": {},
   "outputs": [
    {
     "name": "stdout",
     "output_type": "stream",
     "text": [
      "\n",
      "# Flights to remove 226984\n"
     ]
    }
   ],
   "source": [
    "# Removing\n",
    "flights_to_remove = []\n",
    "\n",
    "# remove based on arrival and departure delays (normal distribution)\n",
    "flights_to_remove = flights_to_remove + list(df_delayed_flights[df_delayed_flights['ARRIVAL_DELAY'] > mean_arrival_delays + 3.0* sd_arrival_delays].index)\n",
    "flights_to_remove = flights_to_remove + list(df_delayed_flights[df_delayed_flights['ARRIVAL_DELAY'] < mean_arrival_delays - 3.0* sd_arrival_delays].index)\n",
    "\n",
    "flights_to_remove = flights_to_remove + list(df_delayed_flights[df_delayed_flights['DEPARTURE_DELAY'] > mean_departure_delays + 3.0* sd_departure_delays].index)\n",
    "flights_to_remove = flights_to_remove + list(df_delayed_flights[df_delayed_flights['DEPARTURE_DELAY'] < mean_departure_delays - 3.0* sd_departure_delays].index)\n",
    "\n",
    "# remove based on arrival and departure delays ( <= 0 )\n",
    "#flights_to_remove = flights_to_remove + list(df_delayed_flights[df_delayed_flights['ARRIVAL_DELAY'] <= 0].index)\n",
    "#flights_to_remove = flights_to_remove + list(df_delayed_flights[df_delayed_flights['DEPARTURE_DELAY'] <= 0].index)\n",
    "\n",
    "print('')\n",
    "print('# Flights to remove', len(flights_to_remove))\n"
   ]
  },
  {
   "cell_type": "code",
   "execution_count": 21,
   "metadata": {},
   "outputs": [
    {
     "name": "stdout",
     "output_type": "stream",
     "text": [
      "Was:  (5819079, 24)  Now:  (5692011, 24)\n"
     ]
    }
   ],
   "source": [
    "\n",
    "new_delayed_flights = df_delayed_flights[~df_delayed_flights.index.isin(flights_to_remove)]\n",
    "print(\"Was: \", df_delayed_flights.shape, \" Now: \", new_delayed_flights.shape)\n"
   ]
  },
  {
   "cell_type": "code",
   "execution_count": 22,
   "metadata": {},
   "outputs": [
    {
     "data": {
      "image/png": "[encoded data removed]",
      "text/plain": [
       "<Figure size 432x288 with 1 Axes>"
      ]
     },
     "metadata": {
      "needs_background": "light"
     },
     "output_type": "display_data"
    },
    {
     "data": {
      "image/png": "[encoded data removed]",
      "text/plain": [
       "<Figure size 432x288 with 1 Axes>"
      ]
     },
     "metadata": {
      "needs_background": "light"
     },
     "output_type": "display_data"
    }
   ],
   "source": [
    "\n",
    "plt.hist(new_delayed_flights['ARRIVAL_DELAY'], bins=150)\n",
    "plt.title(\"Arrival Delays\")\n",
    "plt.show()\n",
    "\n",
    "plt.hist(new_delayed_flights['DEPARTURE_DELAY'], bins=150)\n",
    "plt.title(\"Departure Delays\")\n",
    "plt.show()"
   ]
  },
  {
   "cell_type": "markdown",
   "metadata": {},
   "source": [
    "## 5. Merging datasets"
   ]
  },
  {
   "cell_type": "code",
   "execution_count": null,
   "metadata": {
    "scrolled": true
   },
   "outputs": [],
   "source": [
    "df_merge_v1 = new_delayed_flights.copy()\n",
    "\n",
    "#Merge Airlines and Flights dfs\n",
    "df_merge_v1 = pd.merge(new_delayed_flights, df_airlines, left_on='AIRLINE', right_on='AIRLINE_CODE', how='left')\n",
    "\n",
    "#Merge Airports and Flights dfs on Origin_Airport and Airport_Code\n",
    "df_merge_v1 = pd.merge(df_merge_v1, df_airports, left_on='ORIGIN_AIRPORT', right_on='AIRPORT_CODE', how='left')\n",
    "df_merge_v1.rename(columns={'ORIGIN_AIRPORT':'ORIGIN_AC', #Origin Airport Code\n",
    "                            'AIRPORT_NAME':'ORIGIN_AIRPORT', #Origin Airport Name\n",
    "                            'DESTINATION_AIRPORT': 'DESTINATION_AC'}, inplace=True) #Dest Airport Code\n",
    "df_merge_v1.drop(['AIRLINE','AIRPORT_CODE'], axis=1, inplace=True)\n",
    "\n",
    "#Merge Airports and Flights dfs on Destination_Airport and Airport_Code\n",
    "df_merge_v1 = pd.merge(df_merge_v1, df_airports, left_on='DESTINATION_AC', right_on='AIRPORT_CODE', how='left')\n",
    "df_merge_v1.rename(columns={'AIRPORT_NAME':'DESTINATION_AIRPORT'}, inplace=True) #Dest Airport Name\n",
    "\n",
    "df_merge_v1.drop('AIRPORT_CODE', axis=1, inplace=True)"
   ]
  },
  {
   "cell_type": "code",
   "execution_count": null,
   "metadata": {},
   "outputs": [],
   "source": [
    "print(\"Merged Dataframe Columns: \\n\", df_merge_v1.columns)\n",
    "\n",
    "df_merge_v1[['ORIGIN_AIRPORT', 'ORIGIN_AC','DESTINATION_AIRPORT', 'DESTINATION_AC']]"
   ]
  },
  {
   "cell_type": "markdown",
   "metadata": {},
   "source": [
    "## Save file"
   ]
  },
  {
   "cell_type": "code",
   "execution_count": null,
   "metadata": {},
   "outputs": [],
   "source": [
    "df_merge_v1.to_csv('data/flightsmerged.csv', index=False)"
   ]
  }
 ],
 "metadata": {
  "anaconda-cloud": {},
  "kernelspec": {
   "display_name": "Python 3",
   "language": "python",
   "name": "python3"
  },
  "language_info": {
   "codemirror_mode": {
    "name": "ipython",
    "version": 3
   },
   "file_extension": ".py",
   "mimetype": "text/x-python",
   "name": "python",
   "nbconvert_exporter": "python",
   "pygments_lexer": "ipython3",
   "version": "3.7.3"
  }
 },
 "nbformat": 4,
 "nbformat_minor": 1
}
