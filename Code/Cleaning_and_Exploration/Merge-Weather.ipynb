{
 "cells": [
  {
   "cell_type": "code",
   "execution_count": 1,
   "metadata": {},
   "outputs": [],
   "source": [
    "# import the libraries\n",
    "\n",
    "%matplotlib inline\n",
    "\n",
    "import pandas as pd\n",
    "import numpy as np\n",
    "import scipy\n",
    "import matplotlib.pyplot as plt\n",
    "import seaborn as sns\n",
    "from datetime import datetime\n",
    "\n",
    "# convert scientific notation to decimals\n",
    "pd.set_option('display.float_format', lambda x: '%.2f' % x)\n",
    "sns.set_style('whitegrid')"
   ]
  },
  {
   "cell_type": "markdown",
   "metadata": {},
   "source": [
    "________________________\n",
    "# Load Data"
   ]
  },
  {
   "cell_type": "markdown",
   "metadata": {},
   "source": [
    "### Cleaned, Merged dataset can be downloaded from here: https://www.kaggle.com/arwasheraky/cleaned-flight-delays-2015"
   ]
  },
  {
   "cell_type": "code",
   "execution_count": 2,
   "metadata": {},
   "outputs": [],
   "source": [
    "df_flights = pd.read_csv('../../Data/flightsmerged.csv', low_memory=False)"
   ]
  },
  {
   "cell_type": "code",
   "execution_count": 3,
   "metadata": {},
   "outputs": [
    {
     "data": {
      "text/html": [
       "<div>\n",
       "<style scoped>\n",
       "    .dataframe tbody tr th:only-of-type {\n",
       "        vertical-align: middle;\n",
       "    }\n",
       "\n",
       "    .dataframe tbody tr th {\n",
       "        vertical-align: top;\n",
       "    }\n",
       "\n",
       "    .dataframe thead th {\n",
       "        text-align: right;\n",
       "    }\n",
       "</style>\n",
       "<table border=\"1\" class=\"dataframe\">\n",
       "  <thead>\n",
       "    <tr style=\"text-align: right;\">\n",
       "      <th></th>\n",
       "      <th>MONTH</th>\n",
       "      <th>DAY</th>\n",
       "      <th>FLIGHT_NUMBER</th>\n",
       "      <th>TAIL_NUMBER</th>\n",
       "      <th>SCHEDULED_DEPARTURE</th>\n",
       "      <th>DEPARTURE_TIME</th>\n",
       "      <th>DEPARTURE_DELAY</th>\n",
       "      <th>SCHEDULED_TIME</th>\n",
       "      <th>DISTANCE</th>\n",
       "      <th>SCHEDULED_ARRIVAL</th>\n",
       "      <th>...</th>\n",
       "      <th>ORIGIN_AC</th>\n",
       "      <th>ORIGIN_NAME</th>\n",
       "      <th>ORIGIN_STATE</th>\n",
       "      <th>ORIGIN_LATITUDE</th>\n",
       "      <th>ORIGIN_LONGITUDE</th>\n",
       "      <th>DESTINATION_AC</th>\n",
       "      <th>DESTINATION_NAME</th>\n",
       "      <th>DEST_STATE</th>\n",
       "      <th>DEST_LATITUDE</th>\n",
       "      <th>DEST_LONGITUDE</th>\n",
       "    </tr>\n",
       "  </thead>\n",
       "  <tbody>\n",
       "    <tr>\n",
       "      <th>0</th>\n",
       "      <td>1</td>\n",
       "      <td>1</td>\n",
       "      <td>98</td>\n",
       "      <td>N407AS</td>\n",
       "      <td>00:05:00</td>\n",
       "      <td>23:54:00</td>\n",
       "      <td>-11.00</td>\n",
       "      <td>205.00</td>\n",
       "      <td>1448</td>\n",
       "      <td>04:30:00</td>\n",
       "      <td>...</td>\n",
       "      <td>ANC</td>\n",
       "      <td>Ted Stevens Anchorage International Airport</td>\n",
       "      <td>AK</td>\n",
       "      <td>61.17</td>\n",
       "      <td>-150.00</td>\n",
       "      <td>SEA</td>\n",
       "      <td>Seattle-Tacoma International Airport</td>\n",
       "      <td>WA</td>\n",
       "      <td>47.45</td>\n",
       "      <td>-122.31</td>\n",
       "    </tr>\n",
       "    <tr>\n",
       "      <th>1</th>\n",
       "      <td>1</td>\n",
       "      <td>1</td>\n",
       "      <td>2336</td>\n",
       "      <td>N3KUAA</td>\n",
       "      <td>00:10:00</td>\n",
       "      <td>00:02:00</td>\n",
       "      <td>-8.00</td>\n",
       "      <td>280.00</td>\n",
       "      <td>2330</td>\n",
       "      <td>07:50:00</td>\n",
       "      <td>...</td>\n",
       "      <td>LAX</td>\n",
       "      <td>Los Angeles International Airport</td>\n",
       "      <td>CA</td>\n",
       "      <td>33.94</td>\n",
       "      <td>-118.41</td>\n",
       "      <td>PBI</td>\n",
       "      <td>Palm Beach International Airport</td>\n",
       "      <td>FL</td>\n",
       "      <td>26.68</td>\n",
       "      <td>-80.10</td>\n",
       "    </tr>\n",
       "    <tr>\n",
       "      <th>2</th>\n",
       "      <td>1</td>\n",
       "      <td>1</td>\n",
       "      <td>840</td>\n",
       "      <td>N171US</td>\n",
       "      <td>00:20:00</td>\n",
       "      <td>00:18:00</td>\n",
       "      <td>-2.00</td>\n",
       "      <td>286.00</td>\n",
       "      <td>2296</td>\n",
       "      <td>08:06:00</td>\n",
       "      <td>...</td>\n",
       "      <td>SFO</td>\n",
       "      <td>San Francisco International Airport</td>\n",
       "      <td>CA</td>\n",
       "      <td>37.62</td>\n",
       "      <td>-122.37</td>\n",
       "      <td>CLT</td>\n",
       "      <td>Charlotte Douglas International Airport</td>\n",
       "      <td>NC</td>\n",
       "      <td>35.21</td>\n",
       "      <td>-80.94</td>\n",
       "    </tr>\n",
       "    <tr>\n",
       "      <th>3</th>\n",
       "      <td>1</td>\n",
       "      <td>1</td>\n",
       "      <td>258</td>\n",
       "      <td>N3HYAA</td>\n",
       "      <td>00:20:00</td>\n",
       "      <td>00:15:00</td>\n",
       "      <td>-5.00</td>\n",
       "      <td>285.00</td>\n",
       "      <td>2342</td>\n",
       "      <td>08:05:00</td>\n",
       "      <td>...</td>\n",
       "      <td>LAX</td>\n",
       "      <td>Los Angeles International Airport</td>\n",
       "      <td>CA</td>\n",
       "      <td>33.94</td>\n",
       "      <td>-118.41</td>\n",
       "      <td>MIA</td>\n",
       "      <td>Miami International Airport</td>\n",
       "      <td>FL</td>\n",
       "      <td>25.79</td>\n",
       "      <td>-80.29</td>\n",
       "    </tr>\n",
       "    <tr>\n",
       "      <th>4</th>\n",
       "      <td>1</td>\n",
       "      <td>1</td>\n",
       "      <td>135</td>\n",
       "      <td>N527AS</td>\n",
       "      <td>00:25:00</td>\n",
       "      <td>00:24:00</td>\n",
       "      <td>-1.00</td>\n",
       "      <td>235.00</td>\n",
       "      <td>1448</td>\n",
       "      <td>03:20:00</td>\n",
       "      <td>...</td>\n",
       "      <td>SEA</td>\n",
       "      <td>Seattle-Tacoma International Airport</td>\n",
       "      <td>WA</td>\n",
       "      <td>47.45</td>\n",
       "      <td>-122.31</td>\n",
       "      <td>ANC</td>\n",
       "      <td>Ted Stevens Anchorage International Airport</td>\n",
       "      <td>AK</td>\n",
       "      <td>61.17</td>\n",
       "      <td>-150.00</td>\n",
       "    </tr>\n",
       "  </tbody>\n",
       "</table>\n",
       "<p>5 rows × 34 columns</p>\n",
       "</div>"
      ],
      "text/plain": [
       "   MONTH  DAY  FLIGHT_NUMBER TAIL_NUMBER SCHEDULED_DEPARTURE DEPARTURE_TIME  \\\n",
       "0      1    1             98      N407AS            00:05:00       23:54:00   \n",
       "1      1    1           2336      N3KUAA            00:10:00       00:02:00   \n",
       "2      1    1            840      N171US            00:20:00       00:18:00   \n",
       "3      1    1            258      N3HYAA            00:20:00       00:15:00   \n",
       "4      1    1            135      N527AS            00:25:00       00:24:00   \n",
       "\n",
       "   DEPARTURE_DELAY  SCHEDULED_TIME  DISTANCE SCHEDULED_ARRIVAL  \\\n",
       "0           -11.00          205.00      1448          04:30:00   \n",
       "1            -8.00          280.00      2330          07:50:00   \n",
       "2            -2.00          286.00      2296          08:06:00   \n",
       "3            -5.00          285.00      2342          08:05:00   \n",
       "4            -1.00          235.00      1448          03:20:00   \n",
       "\n",
       "        ...       ORIGIN_AC                                  ORIGIN_NAME  \\\n",
       "0       ...             ANC  Ted Stevens Anchorage International Airport   \n",
       "1       ...             LAX            Los Angeles International Airport   \n",
       "2       ...             SFO          San Francisco International Airport   \n",
       "3       ...             LAX            Los Angeles International Airport   \n",
       "4       ...             SEA         Seattle-Tacoma International Airport   \n",
       "\n",
       "   ORIGIN_STATE  ORIGIN_LATITUDE ORIGIN_LONGITUDE  DESTINATION_AC  \\\n",
       "0            AK            61.17          -150.00             SEA   \n",
       "1            CA            33.94          -118.41             PBI   \n",
       "2            CA            37.62          -122.37             CLT   \n",
       "3            CA            33.94          -118.41             MIA   \n",
       "4            WA            47.45          -122.31             ANC   \n",
       "\n",
       "                              DESTINATION_NAME  DEST_STATE  DEST_LATITUDE  \\\n",
       "0         Seattle-Tacoma International Airport          WA          47.45   \n",
       "1             Palm Beach International Airport          FL          26.68   \n",
       "2      Charlotte Douglas International Airport          NC          35.21   \n",
       "3                  Miami International Airport          FL          25.79   \n",
       "4  Ted Stevens Anchorage International Airport          AK          61.17   \n",
       "\n",
       "   DEST_LONGITUDE  \n",
       "0         -122.31  \n",
       "1          -80.10  \n",
       "2          -80.94  \n",
       "3          -80.29  \n",
       "4         -150.00  \n",
       "\n",
       "[5 rows x 34 columns]"
      ]
     },
     "execution_count": 3,
     "metadata": {},
     "output_type": "execute_result"
    }
   ],
   "source": [
    "df_flights.head()"
   ]
  },
  {
   "cell_type": "code",
   "execution_count": 4,
   "metadata": {},
   "outputs": [
    {
     "data": {
      "text/html": [
       "<div>\n",
       "<style scoped>\n",
       "    .dataframe tbody tr th:only-of-type {\n",
       "        vertical-align: middle;\n",
       "    }\n",
       "\n",
       "    .dataframe tbody tr th {\n",
       "        vertical-align: top;\n",
       "    }\n",
       "\n",
       "    .dataframe thead th {\n",
       "        text-align: right;\n",
       "    }\n",
       "</style>\n",
       "<table border=\"1\" class=\"dataframe\">\n",
       "  <thead>\n",
       "    <tr style=\"text-align: right;\">\n",
       "      <th></th>\n",
       "      <th>STATION</th>\n",
       "      <th>STATION_NAME</th>\n",
       "      <th>LATITUDE</th>\n",
       "      <th>LONGITUDE</th>\n",
       "      <th>LATLONG</th>\n",
       "      <th>AvgTemp</th>\n",
       "      <th>MaxTemp</th>\n",
       "      <th>MinTemp</th>\n",
       "      <th>StateName</th>\n",
       "      <th>Zip</th>\n",
       "      <th>State</th>\n",
       "      <th>Date</th>\n",
       "    </tr>\n",
       "  </thead>\n",
       "  <tbody>\n",
       "    <tr>\n",
       "      <th>0</th>\n",
       "      <td>GHCND:USW00094746</td>\n",
       "      <td>WORCESTER MA US</td>\n",
       "      <td>42.27</td>\n",
       "      <td>-71.87</td>\n",
       "      <td>42.2706, -71.8731</td>\n",
       "      <td>55.00</td>\n",
       "      <td>58.00</td>\n",
       "      <td>47.00</td>\n",
       "      <td>Massachusetts</td>\n",
       "      <td>1602.00</td>\n",
       "      <td>MA</td>\n",
       "      <td>10/1/15 12:00 AM</td>\n",
       "    </tr>\n",
       "    <tr>\n",
       "      <th>1</th>\n",
       "      <td>GHCND:USW00094746</td>\n",
       "      <td>WORCESTER MA US</td>\n",
       "      <td>42.27</td>\n",
       "      <td>-71.87</td>\n",
       "      <td>42.2706, -71.8731</td>\n",
       "      <td>47.00</td>\n",
       "      <td>49.00</td>\n",
       "      <td>44.00</td>\n",
       "      <td>Massachusetts</td>\n",
       "      <td>1602.00</td>\n",
       "      <td>MA</td>\n",
       "      <td>10/2/15 12:00 AM</td>\n",
       "    </tr>\n",
       "    <tr>\n",
       "      <th>2</th>\n",
       "      <td>GHCND:USW00094746</td>\n",
       "      <td>WORCESTER MA US</td>\n",
       "      <td>42.27</td>\n",
       "      <td>-71.87</td>\n",
       "      <td>42.2706, -71.8731</td>\n",
       "      <td>45.00</td>\n",
       "      <td>49.00</td>\n",
       "      <td>42.00</td>\n",
       "      <td>Massachusetts</td>\n",
       "      <td>1602.00</td>\n",
       "      <td>MA</td>\n",
       "      <td>10/3/15 12:00 AM</td>\n",
       "    </tr>\n",
       "    <tr>\n",
       "      <th>3</th>\n",
       "      <td>GHCND:USW00094746</td>\n",
       "      <td>WORCESTER MA US</td>\n",
       "      <td>42.27</td>\n",
       "      <td>-71.87</td>\n",
       "      <td>42.2706, -71.8731</td>\n",
       "      <td>47.00</td>\n",
       "      <td>53.00</td>\n",
       "      <td>41.00</td>\n",
       "      <td>Massachusetts</td>\n",
       "      <td>1602.00</td>\n",
       "      <td>MA</td>\n",
       "      <td>10/4/15 12:00 AM</td>\n",
       "    </tr>\n",
       "    <tr>\n",
       "      <th>4</th>\n",
       "      <td>GHCND:USW00094746</td>\n",
       "      <td>WORCESTER MA US</td>\n",
       "      <td>42.27</td>\n",
       "      <td>-71.87</td>\n",
       "      <td>42.2706, -71.8731</td>\n",
       "      <td>49.00</td>\n",
       "      <td>59.00</td>\n",
       "      <td>44.00</td>\n",
       "      <td>Massachusetts</td>\n",
       "      <td>1602.00</td>\n",
       "      <td>MA</td>\n",
       "      <td>10/5/15 12:00 AM</td>\n",
       "    </tr>\n",
       "  </tbody>\n",
       "</table>\n",
       "</div>"
      ],
      "text/plain": [
       "             STATION     STATION_NAME  LATITUDE  LONGITUDE            LATLONG  \\\n",
       "0  GHCND:USW00094746  WORCESTER MA US     42.27     -71.87  42.2706, -71.8731   \n",
       "1  GHCND:USW00094746  WORCESTER MA US     42.27     -71.87  42.2706, -71.8731   \n",
       "2  GHCND:USW00094746  WORCESTER MA US     42.27     -71.87  42.2706, -71.8731   \n",
       "3  GHCND:USW00094746  WORCESTER MA US     42.27     -71.87  42.2706, -71.8731   \n",
       "4  GHCND:USW00094746  WORCESTER MA US     42.27     -71.87  42.2706, -71.8731   \n",
       "\n",
       "   AvgTemp  MaxTemp  MinTemp      StateName     Zip State              Date  \n",
       "0    55.00    58.00    47.00  Massachusetts 1602.00    MA  10/1/15 12:00 AM  \n",
       "1    47.00    49.00    44.00  Massachusetts 1602.00    MA  10/2/15 12:00 AM  \n",
       "2    45.00    49.00    42.00  Massachusetts 1602.00    MA  10/3/15 12:00 AM  \n",
       "3    47.00    53.00    41.00  Massachusetts 1602.00    MA  10/4/15 12:00 AM  \n",
       "4    49.00    59.00    44.00  Massachusetts 1602.00    MA  10/5/15 12:00 AM  "
      ]
     },
     "execution_count": 4,
     "metadata": {},
     "output_type": "execute_result"
    }
   ],
   "source": [
    "# load complementary data\n",
    "# Source: https://data.world/mattwinter225/2015-usa-weather-avg-max-min\n",
    "\n",
    "df_weather = pd.read_csv('../../Data/2015_USA_Weather_Data.csv', sep=\";\")\n",
    "df_weather.head()"
   ]
  },
  {
   "cell_type": "markdown",
   "metadata": {},
   "source": [
    "____________\n",
    "# Preparing Weather Data"
   ]
  },
  {
   "cell_type": "code",
   "execution_count": 6,
   "metadata": {},
   "outputs": [
    {
     "data": {
      "text/plain": [
       "STATION            0\n",
       "STATION_NAME       0\n",
       "LATITUDE           0\n",
       "LONGITUDE          0\n",
       "LATLONG            0\n",
       "AvgTemp            0\n",
       "MaxTemp            0\n",
       "MinTemp            0\n",
       "StateName          0\n",
       "Zip                0\n",
       "State           1283\n",
       "Date               0\n",
       "dtype: int64"
      ]
     },
     "execution_count": 6,
     "metadata": {},
     "output_type": "execute_result"
    }
   ],
   "source": [
    "df_weather.isnull().sum()"
   ]
  },
  {
   "cell_type": "code",
   "execution_count": 7,
   "metadata": {},
   "outputs": [],
   "source": [
    "df_weather = df_weather.dropna()"
   ]
  },
  {
   "cell_type": "markdown",
   "metadata": {},
   "source": [
    "## Remove Columns"
   ]
  },
  {
   "cell_type": "code",
   "execution_count": 8,
   "metadata": {},
   "outputs": [
    {
     "data": {
      "text/plain": [
       "Index(['State', 'Date', 'AvgTemp', 'MaxTemp', 'MinTemp'], dtype='object')"
      ]
     },
     "execution_count": 8,
     "metadata": {},
     "output_type": "execute_result"
    }
   ],
   "source": [
    "df_weather = df_weather[['State','Date','AvgTemp','MaxTemp','MinTemp']]\n",
    "df_weather.columns"
   ]
  },
  {
   "cell_type": "markdown",
   "metadata": {},
   "source": [
    "## Add Columns"
   ]
  },
  {
   "cell_type": "code",
   "execution_count": 9,
   "metadata": {},
   "outputs": [],
   "source": [
    "# Extract the month from date\n",
    "\n",
    "def extract_month(str_date):\n",
    "    \n",
    "    if type(str_date) != str:\n",
    "        return str_date\n",
    "    \n",
    "    date_month = datetime.strptime(str_date, '%m/%d/%y %I:%M %p')\n",
    "    date_month = date_month.month\n",
    "    \n",
    "    return date_month"
   ]
  },
  {
   "cell_type": "code",
   "execution_count": 10,
   "metadata": {},
   "outputs": [
    {
     "data": {
      "text/plain": [
       "5     71397\n",
       "7     71282\n",
       "1     71009\n",
       "3     71001\n",
       "8     70957\n",
       "10    70721\n",
       "12    70380\n",
       "4     68999\n",
       "9     68654\n",
       "11    68337\n",
       "2     64141\n",
       "6     52968\n",
       "Name: Month, dtype: int64"
      ]
     },
     "execution_count": 10,
     "metadata": {},
     "output_type": "execute_result"
    }
   ],
   "source": [
    "df_weather['Month'] = df_weather['Date'].apply(extract_month)\n",
    "df_weather['Month'].value_counts()"
   ]
  },
  {
   "cell_type": "code",
   "execution_count": 11,
   "metadata": {},
   "outputs": [],
   "source": [
    "# Group by State and month, to set a unified value\n",
    "\n",
    "state_avg_temp = df_weather.groupby(by =['State','Month'])['AvgTemp'].mean()\n",
    "state_min_temp = df_weather.groupby(by =['State','Month'])['MinTemp'].mean()\n",
    "state_max_temp = df_weather.groupby(by =['State','Month'])['MaxTemp'].mean()"
   ]
  },
  {
   "cell_type": "code",
   "execution_count": 12,
   "metadata": {},
   "outputs": [],
   "source": [
    "# Default value of new columns\n",
    "\n",
    "df_weather['State_Avg_Temp'], df_weather['State_Min_Temp'], df_weather['State_Max_Temp'] = 0, 0, 0"
   ]
  },
  {
   "cell_type": "code",
   "execution_count": 13,
   "metadata": {},
   "outputs": [
    {
     "data": {
      "text/plain": [
       "50"
      ]
     },
     "execution_count": 13,
     "metadata": {},
     "output_type": "execute_result"
    }
   ],
   "source": [
    "unique_states = set(df_weather['State'])\n",
    "len(unique_states)"
   ]
  },
  {
   "cell_type": "code",
   "execution_count": 14,
   "metadata": {},
   "outputs": [],
   "source": [
    "for state in unique_states:\n",
    "    \n",
    "    for idx in df_weather.index[df_weather['State'] == state]:\n",
    "        this_month = df_weather.loc[idx,'Month']\n",
    "        \n",
    "        df_weather.at[idx,'State_Avg_Temp'] = state_avg_temp.loc[(state,this_month)]\n",
    "        df_weather.at[idx,'State_Min_Temp'] = state_min_temp.loc[(state,this_month)]\n",
    "        df_weather.at[idx,'State_Max_Temp'] = state_max_temp.loc[(state,this_month)]\n"
   ]
  },
  {
   "cell_type": "code",
   "execution_count": 15,
   "metadata": {},
   "outputs": [
    {
     "data": {
      "text/html": [
       "<div>\n",
       "<style scoped>\n",
       "    .dataframe tbody tr th:only-of-type {\n",
       "        vertical-align: middle;\n",
       "    }\n",
       "\n",
       "    .dataframe tbody tr th {\n",
       "        vertical-align: top;\n",
       "    }\n",
       "\n",
       "    .dataframe thead th {\n",
       "        text-align: right;\n",
       "    }\n",
       "</style>\n",
       "<table border=\"1\" class=\"dataframe\">\n",
       "  <thead>\n",
       "    <tr style=\"text-align: right;\">\n",
       "      <th></th>\n",
       "      <th>State</th>\n",
       "      <th>Month</th>\n",
       "      <th>State_Avg_Temp</th>\n",
       "      <th>State_Min_Temp</th>\n",
       "      <th>State_Max_Temp</th>\n",
       "    </tr>\n",
       "  </thead>\n",
       "  <tbody>\n",
       "    <tr>\n",
       "      <th>0</th>\n",
       "      <td>MA</td>\n",
       "      <td>10</td>\n",
       "      <td>52</td>\n",
       "      <td>45</td>\n",
       "      <td>60</td>\n",
       "    </tr>\n",
       "    <tr>\n",
       "      <th>1</th>\n",
       "      <td>MA</td>\n",
       "      <td>10</td>\n",
       "      <td>52</td>\n",
       "      <td>45</td>\n",
       "      <td>60</td>\n",
       "    </tr>\n",
       "    <tr>\n",
       "      <th>2</th>\n",
       "      <td>MA</td>\n",
       "      <td>10</td>\n",
       "      <td>52</td>\n",
       "      <td>45</td>\n",
       "      <td>60</td>\n",
       "    </tr>\n",
       "    <tr>\n",
       "      <th>3</th>\n",
       "      <td>MA</td>\n",
       "      <td>10</td>\n",
       "      <td>52</td>\n",
       "      <td>45</td>\n",
       "      <td>60</td>\n",
       "    </tr>\n",
       "    <tr>\n",
       "      <th>4</th>\n",
       "      <td>MA</td>\n",
       "      <td>10</td>\n",
       "      <td>52</td>\n",
       "      <td>45</td>\n",
       "      <td>60</td>\n",
       "    </tr>\n",
       "  </tbody>\n",
       "</table>\n",
       "</div>"
      ],
      "text/plain": [
       "  State  Month  State_Avg_Temp  State_Min_Temp  State_Max_Temp\n",
       "0    MA     10              52              45              60\n",
       "1    MA     10              52              45              60\n",
       "2    MA     10              52              45              60\n",
       "3    MA     10              52              45              60\n",
       "4    MA     10              52              45              60"
      ]
     },
     "execution_count": 15,
     "metadata": {},
     "output_type": "execute_result"
    }
   ],
   "source": [
    "df_weather = df_weather[['State','Month','State_Avg_Temp','State_Min_Temp','State_Max_Temp']]\n",
    "df_weather.head()"
   ]
  },
  {
   "cell_type": "markdown",
   "metadata": {},
   "source": [
    "## Remove Duplicated States"
   ]
  },
  {
   "cell_type": "code",
   "execution_count": 16,
   "metadata": {},
   "outputs": [
    {
     "name": "stdout",
     "output_type": "stream",
     "text": [
      "Length of DF =  819846\n",
      "Length of Unique States =  50\n"
     ]
    }
   ],
   "source": [
    "print(\"Length of DF = \", len(df_weather))\n",
    "print(\"Length of Unique States = \", len(set(df_weather['State'])))"
   ]
  },
  {
   "cell_type": "code",
   "execution_count": 17,
   "metadata": {},
   "outputs": [
    {
     "data": {
      "text/plain": [
       "597"
      ]
     },
     "execution_count": 17,
     "metadata": {},
     "output_type": "execute_result"
    }
   ],
   "source": [
    "# Remove duplicated state,month tupples.\n",
    "\n",
    "new_df_weather = df_weather.drop_duplicates(subset = [\"State\",'Month'])\n",
    "len(new_df_weather)"
   ]
  },
  {
   "cell_type": "markdown",
   "metadata": {},
   "source": [
    "____________________\n",
    "# Merging"
   ]
  },
  {
   "cell_type": "code",
   "execution_count": 18,
   "metadata": {},
   "outputs": [
    {
     "name": "stdout",
     "output_type": "stream",
     "text": [
      "Original dataset :  (5697506, 34)\n",
      "Now :  (5608236, 31)\n"
     ]
    }
   ],
   "source": [
    "# Keep just the delayed and on_time flights, remove the cancelled and early flights.\n",
    "\n",
    "new_df = df_flights[(df_flights['CLASS'] == 'On_Time') | (df_flights['CLASS'] == 'Delayed')]\n",
    "new_df = new_df.drop(columns = ['CANCELLATION_REASON','CANCELLED','DIVERTED'])\n",
    "print(\"Original dataset : \",df_flights.shape)\n",
    "print(\"Now : \",new_df.shape)"
   ]
  },
  {
   "cell_type": "code",
   "execution_count": 19,
   "metadata": {},
   "outputs": [],
   "source": [
    "df = pd.merge(new_df, new_df_weather, left_on=['ORIGIN_STATE','MONTH'], right_on=['State','Month'], how='left')\n",
    "df.drop(['State','Month'], axis=1, inplace=True)\n",
    "df.rename(columns={'State_Avg_Temp':'ORIGIN_AVG_TEMP',\n",
    "                       'State_Min_Temp':'ORIGIN_MIN_TEMP',\n",
    "                       'State_Max_Temp':'ORIGIN_MAX_TEMP'} , inplace=True)\n",
    "\n",
    "df = pd.merge(df, new_df_weather, left_on=['DEST_STATE','MONTH'], right_on=['State','Month'], how='left')\n",
    "df.drop(['State','Month'], axis=1, inplace=True)\n",
    "df.rename(columns={'State_Avg_Temp':'DEST_AVG_TEMP',\n",
    "                       'State_Min_Temp':'DEST_MIN_TEMP',\n",
    "                       'State_Max_Temp':'DEST_MAX_TEMP'} , inplace=True)"
   ]
  },
  {
   "cell_type": "code",
   "execution_count": 20,
   "metadata": {
    "scrolled": true
   },
   "outputs": [
    {
     "data": {
      "text/plain": [
       "Index(['ORIGIN_AVG_TEMP', 'ORIGIN_MIN_TEMP', 'ORIGIN_MAX_TEMP',\n",
       "       'DEST_AVG_TEMP', 'DEST_MIN_TEMP', 'DEST_MAX_TEMP'],\n",
       "      dtype='object')"
      ]
     },
     "execution_count": 20,
     "metadata": {},
     "output_type": "execute_result"
    }
   ],
   "source": [
    "df.columns[-6:]"
   ]
  },
  {
   "cell_type": "markdown",
   "metadata": {},
   "source": [
    "_____\n",
    "# Save file"
   ]
  },
  {
   "cell_type": "code",
   "execution_count": 21,
   "metadata": {},
   "outputs": [],
   "source": [
    "df.to_csv('../../Data/flightsmerged_final.csv', index=False)"
   ]
  }
 ],
 "metadata": {
  "kernelspec": {
   "display_name": "Python 3",
   "language": "python",
   "name": "python3"
  },
  "language_info": {
   "codemirror_mode": {
    "name": "ipython",
    "version": 3
   },
   "file_extension": ".py",
   "mimetype": "text/x-python",
   "name": "python",
   "nbconvert_exporter": "python",
   "pygments_lexer": "ipython3",
   "version": "3.7.1"
  }
 },
 "nbformat": 4,
 "nbformat_minor": 2
}
