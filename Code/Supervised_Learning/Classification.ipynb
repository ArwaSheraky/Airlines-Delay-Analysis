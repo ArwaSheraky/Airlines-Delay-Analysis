{
 "cells": [
  {
   "cell_type": "markdown",
   "metadata": {},
   "source": [
    "# Classification"
   ]
  },
  {
   "cell_type": "code",
   "execution_count": 4,
   "metadata": {},
   "outputs": [],
   "source": [
    "# import the libraries\n",
    "\n",
    "%matplotlib inline\n",
    "\n",
    "import pandas as pd\n",
    "import numpy as np\n",
    "import scipy\n",
    "import matplotlib.pyplot as plt\n",
    "import seaborn as sns\n",
    "\n",
    "# sklearn :: utils\n",
    "from sklearn.model_selection import train_test_split\n",
    "from sklearn.metrics import confusion_matrix\n",
    "from sklearn.model_selection import KFold\n",
    "\n",
    "# sklearn :: models\n",
    "from sklearn.naive_bayes import GaussianNB\n",
    "from sklearn.ensemble import RandomForestClassifier\n",
    "from sklearn.neighbors import KNeighborsClassifier\n",
    "from sklearn.tree import DecisionTreeClassifier\n",
    "from sklearn.ensemble import GradientBoostingClassifier\n",
    "\n",
    "# sklearn :: evaluation metrics\n",
    "from sklearn.metrics import cohen_kappa_score\n",
    "\n",
    "# convert scientific notation to decimals\n",
    "pd.set_option('display.float_format', lambda x: '%.2f' % x)\n",
    "sns.set_style('whitegrid')"
   ]
  },
  {
   "cell_type": "markdown",
   "metadata": {},
   "source": [
    "# Problem definition"
   ]
  },
  {
   "cell_type": "markdown",
   "metadata": {},
   "source": [
    "Predict the class of a flight ( Early, On-Time, Delayed, Cancelled)"
   ]
  },
  {
   "cell_type": "markdown",
   "metadata": {},
   "source": [
    "________________________\n",
    "# Load Data"
   ]
  },
  {
   "cell_type": "code",
   "execution_count": 5,
   "metadata": {},
   "outputs": [],
   "source": [
    "df_flights = pd.read_csv('../../Data/flightsmerged.csv', low_memory=False)"
   ]
  },
  {
   "cell_type": "code",
   "execution_count": 6,
   "metadata": {},
   "outputs": [
    {
     "data": {
      "text/html": [
       "<div>\n",
       "<style scoped>\n",
       "    .dataframe tbody tr th:only-of-type {\n",
       "        vertical-align: middle;\n",
       "    }\n",
       "\n",
       "    .dataframe tbody tr th {\n",
       "        vertical-align: top;\n",
       "    }\n",
       "\n",
       "    .dataframe thead th {\n",
       "        text-align: right;\n",
       "    }\n",
       "</style>\n",
       "<table border=\"1\" class=\"dataframe\">\n",
       "  <thead>\n",
       "    <tr style=\"text-align: right;\">\n",
       "      <th></th>\n",
       "      <th>MONTH</th>\n",
       "      <th>FLIGHT_NUMBER</th>\n",
       "      <th>TAIL_NUMBER</th>\n",
       "      <th>ORIGIN_AC</th>\n",
       "      <th>DESTINATION_AC</th>\n",
       "      <th>SCHEDULED_DEPARTURE</th>\n",
       "      <th>DEPARTURE_TIME</th>\n",
       "      <th>DEPARTURE_DELAY</th>\n",
       "      <th>SCHEDULED_TIME</th>\n",
       "      <th>DISTANCE</th>\n",
       "      <th>...</th>\n",
       "      <th>SECURITY_DELAY</th>\n",
       "      <th>AIRLINE_DELAY</th>\n",
       "      <th>LATE_AIRCRAFT_DELAY</th>\n",
       "      <th>WEATHER_DELAY</th>\n",
       "      <th>DATE</th>\n",
       "      <th>CLASS</th>\n",
       "      <th>AIRLINE_CODE</th>\n",
       "      <th>AIRLINE_NAME</th>\n",
       "      <th>ORIGIN_AIRPORT</th>\n",
       "      <th>DESTINATION_AIRPORT</th>\n",
       "    </tr>\n",
       "  </thead>\n",
       "  <tbody>\n",
       "    <tr>\n",
       "      <th>0</th>\n",
       "      <td>1</td>\n",
       "      <td>98</td>\n",
       "      <td>N407AS</td>\n",
       "      <td>ANC</td>\n",
       "      <td>SEA</td>\n",
       "      <td>00:05:00</td>\n",
       "      <td>23:54:00</td>\n",
       "      <td>-11.00</td>\n",
       "      <td>205.00</td>\n",
       "      <td>1448</td>\n",
       "      <td>...</td>\n",
       "      <td>0.00</td>\n",
       "      <td>0.00</td>\n",
       "      <td>0.00</td>\n",
       "      <td>0.00</td>\n",
       "      <td>2015-01-01</td>\n",
       "      <td>Early</td>\n",
       "      <td>AS</td>\n",
       "      <td>Alaska Airlines Inc.</td>\n",
       "      <td>Ted Stevens Anchorage International Airport</td>\n",
       "      <td>Seattle-Tacoma International Airport</td>\n",
       "    </tr>\n",
       "    <tr>\n",
       "      <th>1</th>\n",
       "      <td>1</td>\n",
       "      <td>2336</td>\n",
       "      <td>N3KUAA</td>\n",
       "      <td>LAX</td>\n",
       "      <td>PBI</td>\n",
       "      <td>00:10:00</td>\n",
       "      <td>00:02:00</td>\n",
       "      <td>-8.00</td>\n",
       "      <td>280.00</td>\n",
       "      <td>2330</td>\n",
       "      <td>...</td>\n",
       "      <td>0.00</td>\n",
       "      <td>0.00</td>\n",
       "      <td>0.00</td>\n",
       "      <td>0.00</td>\n",
       "      <td>2015-01-01</td>\n",
       "      <td>Early</td>\n",
       "      <td>AA</td>\n",
       "      <td>American Airlines Inc.</td>\n",
       "      <td>Los Angeles International Airport</td>\n",
       "      <td>Palm Beach International Airport</td>\n",
       "    </tr>\n",
       "    <tr>\n",
       "      <th>2</th>\n",
       "      <td>1</td>\n",
       "      <td>840</td>\n",
       "      <td>N171US</td>\n",
       "      <td>SFO</td>\n",
       "      <td>CLT</td>\n",
       "      <td>00:20:00</td>\n",
       "      <td>00:18:00</td>\n",
       "      <td>-2.00</td>\n",
       "      <td>286.00</td>\n",
       "      <td>2296</td>\n",
       "      <td>...</td>\n",
       "      <td>0.00</td>\n",
       "      <td>0.00</td>\n",
       "      <td>0.00</td>\n",
       "      <td>0.00</td>\n",
       "      <td>2015-01-01</td>\n",
       "      <td>Delayed</td>\n",
       "      <td>US</td>\n",
       "      <td>US Airways Inc.</td>\n",
       "      <td>San Francisco International Airport</td>\n",
       "      <td>Charlotte Douglas International Airport</td>\n",
       "    </tr>\n",
       "    <tr>\n",
       "      <th>3</th>\n",
       "      <td>1</td>\n",
       "      <td>258</td>\n",
       "      <td>N3HYAA</td>\n",
       "      <td>LAX</td>\n",
       "      <td>MIA</td>\n",
       "      <td>00:20:00</td>\n",
       "      <td>00:15:00</td>\n",
       "      <td>-5.00</td>\n",
       "      <td>285.00</td>\n",
       "      <td>2342</td>\n",
       "      <td>...</td>\n",
       "      <td>0.00</td>\n",
       "      <td>0.00</td>\n",
       "      <td>0.00</td>\n",
       "      <td>0.00</td>\n",
       "      <td>2015-01-01</td>\n",
       "      <td>Early</td>\n",
       "      <td>AA</td>\n",
       "      <td>American Airlines Inc.</td>\n",
       "      <td>Los Angeles International Airport</td>\n",
       "      <td>Miami International Airport</td>\n",
       "    </tr>\n",
       "    <tr>\n",
       "      <th>4</th>\n",
       "      <td>1</td>\n",
       "      <td>135</td>\n",
       "      <td>N527AS</td>\n",
       "      <td>SEA</td>\n",
       "      <td>ANC</td>\n",
       "      <td>00:25:00</td>\n",
       "      <td>00:24:00</td>\n",
       "      <td>-1.00</td>\n",
       "      <td>235.00</td>\n",
       "      <td>1448</td>\n",
       "      <td>...</td>\n",
       "      <td>0.00</td>\n",
       "      <td>0.00</td>\n",
       "      <td>0.00</td>\n",
       "      <td>0.00</td>\n",
       "      <td>2015-01-01</td>\n",
       "      <td>Early</td>\n",
       "      <td>AS</td>\n",
       "      <td>Alaska Airlines Inc.</td>\n",
       "      <td>Seattle-Tacoma International Airport</td>\n",
       "      <td>Ted Stevens Anchorage International Airport</td>\n",
       "    </tr>\n",
       "  </tbody>\n",
       "</table>\n",
       "<p>5 rows × 27 columns</p>\n",
       "</div>"
      ],
      "text/plain": [
       "   MONTH  FLIGHT_NUMBER TAIL_NUMBER ORIGIN_AC DESTINATION_AC  \\\n",
       "0      1             98      N407AS       ANC            SEA   \n",
       "1      1           2336      N3KUAA       LAX            PBI   \n",
       "2      1            840      N171US       SFO            CLT   \n",
       "3      1            258      N3HYAA       LAX            MIA   \n",
       "4      1            135      N527AS       SEA            ANC   \n",
       "\n",
       "  SCHEDULED_DEPARTURE DEPARTURE_TIME  DEPARTURE_DELAY  SCHEDULED_TIME  \\\n",
       "0            00:05:00       23:54:00           -11.00          205.00   \n",
       "1            00:10:00       00:02:00            -8.00          280.00   \n",
       "2            00:20:00       00:18:00            -2.00          286.00   \n",
       "3            00:20:00       00:15:00            -5.00          285.00   \n",
       "4            00:25:00       00:24:00            -1.00          235.00   \n",
       "\n",
       "   DISTANCE                     ...                      SECURITY_DELAY  \\\n",
       "0      1448                     ...                                0.00   \n",
       "1      2330                     ...                                0.00   \n",
       "2      2296                     ...                                0.00   \n",
       "3      2342                     ...                                0.00   \n",
       "4      1448                     ...                                0.00   \n",
       "\n",
       "  AIRLINE_DELAY  LATE_AIRCRAFT_DELAY  WEATHER_DELAY        DATE    CLASS  \\\n",
       "0          0.00                 0.00           0.00  2015-01-01    Early   \n",
       "1          0.00                 0.00           0.00  2015-01-01    Early   \n",
       "2          0.00                 0.00           0.00  2015-01-01  Delayed   \n",
       "3          0.00                 0.00           0.00  2015-01-01    Early   \n",
       "4          0.00                 0.00           0.00  2015-01-01    Early   \n",
       "\n",
       "   AIRLINE_CODE            AIRLINE_NAME  \\\n",
       "0            AS    Alaska Airlines Inc.   \n",
       "1            AA  American Airlines Inc.   \n",
       "2            US         US Airways Inc.   \n",
       "3            AA  American Airlines Inc.   \n",
       "4            AS    Alaska Airlines Inc.   \n",
       "\n",
       "                                ORIGIN_AIRPORT  \\\n",
       "0  Ted Stevens Anchorage International Airport   \n",
       "1            Los Angeles International Airport   \n",
       "2          San Francisco International Airport   \n",
       "3            Los Angeles International Airport   \n",
       "4         Seattle-Tacoma International Airport   \n",
       "\n",
       "                           DESTINATION_AIRPORT  \n",
       "0         Seattle-Tacoma International Airport  \n",
       "1             Palm Beach International Airport  \n",
       "2      Charlotte Douglas International Airport  \n",
       "3                  Miami International Airport  \n",
       "4  Ted Stevens Anchorage International Airport  \n",
       "\n",
       "[5 rows x 27 columns]"
      ]
     },
     "execution_count": 6,
     "metadata": {},
     "output_type": "execute_result"
    }
   ],
   "source": [
    "df_flights.head()"
   ]
  },
  {
   "cell_type": "code",
   "execution_count": 7,
   "metadata": {},
   "outputs": [
    {
     "data": {
      "text/plain": [
       "Index(['MONTH', 'FLIGHT_NUMBER', 'TAIL_NUMBER', 'ORIGIN_AC', 'DESTINATION_AC',\n",
       "       'SCHEDULED_DEPARTURE', 'DEPARTURE_TIME', 'DEPARTURE_DELAY',\n",
       "       'SCHEDULED_TIME', 'DISTANCE', 'SCHEDULED_ARRIVAL', 'ARRIVAL_TIME',\n",
       "       'ARRIVAL_DELAY', 'DIVERTED', 'CANCELLED', 'CANCELLATION_REASON',\n",
       "       'AIR_SYSTEM_DELAY', 'SECURITY_DELAY', 'AIRLINE_DELAY',\n",
       "       'LATE_AIRCRAFT_DELAY', 'WEATHER_DELAY', 'DATE', 'CLASS', 'AIRLINE_CODE',\n",
       "       'AIRLINE_NAME', 'ORIGIN_AIRPORT', 'DESTINATION_AIRPORT'],\n",
       "      dtype='object')"
      ]
     },
     "execution_count": 7,
     "metadata": {},
     "output_type": "execute_result"
    }
   ],
   "source": [
    "df_flights.columns"
   ]
  },
  {
   "cell_type": "markdown",
   "metadata": {},
   "source": [
    "____\n",
    "\n",
    "# Feature Engineering"
   ]
  },
  {
   "cell_type": "markdown",
   "metadata": {},
   "source": [
    "## Label encoding"
   ]
  },
  {
   "cell_type": "code",
   "execution_count": 8,
   "metadata": {},
   "outputs": [],
   "source": [
    "# get_dummies\n",
    "\n",
    "categorical = ['AIRLINE_NAME','MONTH']\n",
    "\n",
    "for col in categorical:\n",
    "    df_dummies = pd.get_dummies(df_flights[col], prefix=col)\n",
    "    df_flights = pd.concat([df_flights, df_dummies], axis=1)\n",
    "    # Remove the original columns\n",
    "    del df_flights[col]\n"
   ]
  },
  {
   "cell_type": "code",
   "execution_count": 9,
   "metadata": {},
   "outputs": [
    {
     "data": {
      "text/plain": [
       "Index(['FLIGHT_NUMBER', 'TAIL_NUMBER', 'ORIGIN_AC', 'DESTINATION_AC',\n",
       "       'SCHEDULED_DEPARTURE', 'DEPARTURE_TIME', 'DEPARTURE_DELAY',\n",
       "       'SCHEDULED_TIME', 'DISTANCE', 'SCHEDULED_ARRIVAL', 'ARRIVAL_TIME',\n",
       "       'ARRIVAL_DELAY', 'DIVERTED', 'CANCELLED', 'CANCELLATION_REASON',\n",
       "       'AIR_SYSTEM_DELAY', 'SECURITY_DELAY', 'AIRLINE_DELAY',\n",
       "       'LATE_AIRCRAFT_DELAY', 'WEATHER_DELAY', 'DATE', 'CLASS', 'AIRLINE_CODE',\n",
       "       'ORIGIN_AIRPORT', 'DESTINATION_AIRPORT',\n",
       "       'AIRLINE_NAME_Alaska Airlines Inc.',\n",
       "       'AIRLINE_NAME_American Airlines Inc.',\n",
       "       'AIRLINE_NAME_American Eagle Airlines Inc.',\n",
       "       'AIRLINE_NAME_Atlantic Southeast Airlines',\n",
       "       'AIRLINE_NAME_Delta Air Lines Inc.',\n",
       "       'AIRLINE_NAME_Frontier Airlines Inc.',\n",
       "       'AIRLINE_NAME_Hawaiian Airlines Inc.', 'AIRLINE_NAME_JetBlue Airways',\n",
       "       'AIRLINE_NAME_Skywest Airlines Inc.',\n",
       "       'AIRLINE_NAME_Southwest Airlines Co.', 'AIRLINE_NAME_Spirit Air Lines',\n",
       "       'AIRLINE_NAME_US Airways Inc.', 'AIRLINE_NAME_United Air Lines Inc.',\n",
       "       'AIRLINE_NAME_Virgin America', 'MONTH_1', 'MONTH_2', 'MONTH_3',\n",
       "       'MONTH_4', 'MONTH_5', 'MONTH_6', 'MONTH_7', 'MONTH_8', 'MONTH_9',\n",
       "       'MONTH_10', 'MONTH_11', 'MONTH_12'],\n",
       "      dtype='object')"
      ]
     },
     "execution_count": 9,
     "metadata": {},
     "output_type": "execute_result"
    }
   ],
   "source": [
    "df_flights.columns"
   ]
  },
  {
   "cell_type": "markdown",
   "metadata": {},
   "source": [
    "## Select Model Columns"
   ]
  },
  {
   "cell_type": "code",
   "execution_count": null,
   "metadata": {},
   "outputs": [],
   "source": []
  },
  {
   "cell_type": "code",
   "execution_count": 16,
   "metadata": {},
   "outputs": [],
   "source": [
    "# selecting the columns\n",
    "\n",
    "X_columns = ['AIRLINE_NAME_Alaska Airlines Inc.',\n",
    "             'AIRLINE_NAME_American Airlines Inc.',\n",
    "             'AIRLINE_NAME_American Eagle Airlines Inc.',\n",
    "             'AIRLINE_NAME_Atlantic Southeast Airlines',\n",
    "             'AIRLINE_NAME_Delta Air Lines Inc.',\n",
    "             'AIRLINE_NAME_Frontier Airlines Inc.',\n",
    "             'AIRLINE_NAME_Hawaiian Airlines Inc.', 'AIRLINE_NAME_JetBlue Airways',\n",
    "             'AIRLINE_NAME_Skywest Airlines Inc.',\n",
    "             'AIRLINE_NAME_Southwest Airlines Co.', 'AIRLINE_NAME_Spirit Air Lines',\n",
    "             'AIRLINE_NAME_US Airways Inc.', 'AIRLINE_NAME_United Air Lines Inc.',\n",
    "             'AIRLINE_NAME_Virgin America', 'MONTH_1', 'MONTH_10', 'MONTH_11',\n",
    "             'MONTH_12', 'MONTH_2', 'MONTH_3', 'MONTH_4', 'MONTH_5', 'MONTH_6', 'MONTH_7', 'MONTH_8', 'MONTH_9',\n",
    "             'DISTANCE']\n",
    "\n",
    "y_column = ['CLASS']"
   ]
  },
  {
   "cell_type": "code",
   "execution_count": 17,
   "metadata": {},
   "outputs": [
    {
     "name": "stdout",
     "output_type": "stream",
     "text": [
      "X_train (3988254, 27)\n",
      "y_train (3988254, 1)\n",
      "X_test (1709252, 27)\n",
      "y_test (1709252, 1)\n"
     ]
    }
   ],
   "source": [
    "# splitting the data\n",
    "\n",
    "threshold = 0.7\n",
    "\n",
    "X = df_flights[X_columns]\n",
    "y = df_flights[y_column]\n",
    "X_train, X_test, y_train, y_test = train_test_split(X, y, test_size=1.0-threshold, shuffle=True, random_state=50)\n",
    "\n",
    "print('X_train', X_train.shape)\n",
    "print('y_train', y_train.shape)\n",
    "print('X_test', X_test.shape)\n",
    "print('y_test', y_test.shape)"
   ]
  },
  {
   "cell_type": "markdown",
   "metadata": {},
   "source": [
    "_________\n",
    "# Training and Testing The Models"
   ]
  },
  {
   "cell_type": "code",
   "execution_count": 18,
   "metadata": {},
   "outputs": [],
   "source": [
    "# # sklearn :: utils\n",
    "# from sklearn.model_selection import train_test_split\n",
    "# from sklearn.model_selection import KFold\n",
    "# from sklearn.metrics import confusion_matrix\n",
    "# from sklearn.metrics import precision_score\n",
    "# from sklearn.metrics import recall_score\n",
    "\n",
    "# models = [\n",
    "#     ('Naive Bayes', GaussianNB()),\n",
    "#     ('RandomForestClassifier-100', RandomForestClassifier(n_estimators=100, random_state=42)),\n",
    "#     ('KNeighborsClassifier-10', KNeighborsClassifier(n_neighbors=10)),\n",
    "#     ('GradientBoostingClassifier-150', GradientBoostingClassifier(n_estimators=150))\n",
    "# ]\n",
    "\n",
    "# results = []\n",
    "# for m in models:\n",
    "#     print('MODEL', m[0])\n",
    "#     model = m[1]\n",
    "#     model.fit(X_train, y_train.values.ravel())\n",
    "#     y_pred = model.predict(X_test)\n",
    "#     precision = precision_score(y_test, y_pred, average='weighted')\n",
    "#     recall = recall_score(y_test, y_pred, average='weighted')\n",
    "#     print(confusion_matrix(y_test, y_pred))\n",
    "#     print('Precision', precision)\n",
    "#     print('Recall', recall)\n",
    "#     results.append([m[0], precision, recall])\n",
    "    \n",
    "#     # print top 5feature importance\n",
    "#     importance = []\n",
    "    \n",
    "#     if hasattr(model, 'feature_importances_'):\n",
    "#         print('Feature Importance')\n",
    "#         importance = []\n",
    "#         for i in range(len(X_columns)):\n",
    "#             importance.append([X_columns[i], model.feature_importances_[i]])\n",
    "#         print(pd.DataFrame(importance).sort_values(by=1, ascending=False).head(10))\n",
    "#     elif hasattr(model, 'coef_'):\n",
    "#         print('Feature Importance')\n",
    "#         for i in range(len(X_columns)):\n",
    "#             importance.append([X_columns[i], model.coef_[i]])\n",
    "#         print(pd.DataFrame(importance).sort_values(by=1, ascending=False).head(10))\n",
    "        \n",
    "#     print('')\n"
   ]
  },
  {
   "cell_type": "code",
   "execution_count": 19,
   "metadata": {},
   "outputs": [],
   "source": [
    "\n",
    "# # sort the results and print as a table\n",
    "# df_results = pd.DataFrame(results)\n",
    "# df_results.columns = ['model', 'precision', 'recall']\n",
    "# df_results = df_results.sort_values(by='precision', ascending=False)\n",
    "# df_results"
   ]
  },
  {
   "cell_type": "code",
   "execution_count": 20,
   "metadata": {},
   "outputs": [],
   "source": [
    "X_train = X_train.iloc[:1000000,:]\n",
    "y_train = y_train.iloc[:1000000,:]\n",
    "X_test = X_test.iloc[:200000,:]\n",
    "y_test = y_test.iloc[:200000,:]"
   ]
  },
  {
   "cell_type": "code",
   "execution_count": 21,
   "metadata": {},
   "outputs": [
    {
     "name": "stderr",
     "output_type": "stream",
     "text": [
      "C:\\Users\\A-Sha\\Anaconda3\\lib\\site-packages\\sklearn\\ensemble\\forest.py:246: FutureWarning: The default value of n_estimators will change from 10 in version 0.20 to 100 in 0.22.\n",
      "  \"10 in version 0.20 to 100 in 0.22.\", FutureWarning)\n"
     ]
    }
   ],
   "source": [
    "rf_model = RandomForestClassifier()\n",
    "rf_model.fit(X_train, y_train.values.ravel())\n",
    "rf_pred = rf_model.predict(X_test)"
   ]
  },
  {
   "cell_type": "code",
   "execution_count": 22,
   "metadata": {},
   "outputs": [
    {
     "ename": "KeyboardInterrupt",
     "evalue": "",
     "output_type": "error",
     "traceback": [
      "\u001b[1;31m---------------------------------------------------------------------------\u001b[0m",
      "\u001b[1;31mKeyboardInterrupt\u001b[0m                         Traceback (most recent call last)",
      "\u001b[1;32m<ipython-input-22-13e2e3fc35ff>\u001b[0m in \u001b[0;36m<module>\u001b[1;34m\u001b[0m\n\u001b[0;32m      1\u001b[0m \u001b[0mgb_model\u001b[0m \u001b[1;33m=\u001b[0m \u001b[0mGradientBoostingClassifier\u001b[0m\u001b[1;33m(\u001b[0m\u001b[1;33m)\u001b[0m\u001b[1;33m\u001b[0m\u001b[1;33m\u001b[0m\u001b[0m\n\u001b[1;32m----> 2\u001b[1;33m \u001b[0mgb_model\u001b[0m\u001b[1;33m.\u001b[0m\u001b[0mfit\u001b[0m\u001b[1;33m(\u001b[0m\u001b[0mX_train\u001b[0m\u001b[1;33m,\u001b[0m \u001b[0my_train\u001b[0m\u001b[1;33m.\u001b[0m\u001b[0mvalues\u001b[0m\u001b[1;33m.\u001b[0m\u001b[0mravel\u001b[0m\u001b[1;33m(\u001b[0m\u001b[1;33m)\u001b[0m\u001b[1;33m)\u001b[0m\u001b[1;33m\u001b[0m\u001b[1;33m\u001b[0m\u001b[0m\n\u001b[0m\u001b[0;32m      3\u001b[0m \u001b[0mgb_pred\u001b[0m \u001b[1;33m=\u001b[0m \u001b[0mgb_model\u001b[0m\u001b[1;33m.\u001b[0m\u001b[0mpredict\u001b[0m\u001b[1;33m(\u001b[0m\u001b[0mX_test\u001b[0m\u001b[1;33m)\u001b[0m\u001b[1;33m\u001b[0m\u001b[1;33m\u001b[0m\u001b[0m\n",
      "\u001b[1;32m~\\Anaconda3\\lib\\site-packages\\sklearn\\ensemble\\gradient_boosting.py\u001b[0m in \u001b[0;36mfit\u001b[1;34m(self, X, y, sample_weight, monitor)\u001b[0m\n\u001b[0;32m   1463\u001b[0m         n_stages = self._fit_stages(X, y, y_pred, sample_weight, self._rng,\n\u001b[0;32m   1464\u001b[0m                                     \u001b[0mX_val\u001b[0m\u001b[1;33m,\u001b[0m \u001b[0my_val\u001b[0m\u001b[1;33m,\u001b[0m \u001b[0msample_weight_val\u001b[0m\u001b[1;33m,\u001b[0m\u001b[1;33m\u001b[0m\u001b[1;33m\u001b[0m\u001b[0m\n\u001b[1;32m-> 1465\u001b[1;33m                                     begin_at_stage, monitor, X_idx_sorted)\n\u001b[0m\u001b[0;32m   1466\u001b[0m \u001b[1;33m\u001b[0m\u001b[0m\n\u001b[0;32m   1467\u001b[0m         \u001b[1;31m# change shape of arrays after fit (early-stopping or additional ests)\u001b[0m\u001b[1;33m\u001b[0m\u001b[1;33m\u001b[0m\u001b[1;33m\u001b[0m\u001b[0m\n",
      "\u001b[1;32m~\\Anaconda3\\lib\\site-packages\\sklearn\\ensemble\\gradient_boosting.py\u001b[0m in \u001b[0;36m_fit_stages\u001b[1;34m(self, X, y, y_pred, sample_weight, random_state, X_val, y_val, sample_weight_val, begin_at_stage, monitor, X_idx_sorted)\u001b[0m\n\u001b[0;32m   1527\u001b[0m             y_pred = self._fit_stage(i, X, y, y_pred, sample_weight,\n\u001b[0;32m   1528\u001b[0m                                      \u001b[0msample_mask\u001b[0m\u001b[1;33m,\u001b[0m \u001b[0mrandom_state\u001b[0m\u001b[1;33m,\u001b[0m \u001b[0mX_idx_sorted\u001b[0m\u001b[1;33m,\u001b[0m\u001b[1;33m\u001b[0m\u001b[1;33m\u001b[0m\u001b[0m\n\u001b[1;32m-> 1529\u001b[1;33m                                      X_csc, X_csr)\n\u001b[0m\u001b[0;32m   1530\u001b[0m \u001b[1;33m\u001b[0m\u001b[0m\n\u001b[0;32m   1531\u001b[0m             \u001b[1;31m# track deviance (= loss)\u001b[0m\u001b[1;33m\u001b[0m\u001b[1;33m\u001b[0m\u001b[1;33m\u001b[0m\u001b[0m\n",
      "\u001b[1;32m~\\Anaconda3\\lib\\site-packages\\sklearn\\ensemble\\gradient_boosting.py\u001b[0m in \u001b[0;36m_fit_stage\u001b[1;34m(self, i, X, y, y_pred, sample_weight, sample_mask, random_state, X_idx_sorted, X_csc, X_csr)\u001b[0m\n\u001b[0;32m   1169\u001b[0m \u001b[1;33m\u001b[0m\u001b[0m\n\u001b[0;32m   1170\u001b[0m             residual = loss.negative_gradient(y, y_pred, k=k,\n\u001b[1;32m-> 1171\u001b[1;33m                                               sample_weight=sample_weight)\n\u001b[0m\u001b[0;32m   1172\u001b[0m \u001b[1;33m\u001b[0m\u001b[0m\n\u001b[0;32m   1173\u001b[0m             \u001b[1;31m# induce regression tree on residuals\u001b[0m\u001b[1;33m\u001b[0m\u001b[1;33m\u001b[0m\u001b[1;33m\u001b[0m\u001b[0m\n",
      "\u001b[1;32m~\\Anaconda3\\lib\\site-packages\\sklearn\\ensemble\\gradient_boosting.py\u001b[0m in \u001b[0;36mnegative_gradient\u001b[1;34m(self, y, pred, k, **kwargs)\u001b[0m\n\u001b[0;32m    915\u001b[0m         \"\"\"\n\u001b[0;32m    916\u001b[0m         return y - np.nan_to_num(np.exp(pred[:, k] -\n\u001b[1;32m--> 917\u001b[1;33m                                         logsumexp(pred, axis=1)))\n\u001b[0m\u001b[0;32m    918\u001b[0m \u001b[1;33m\u001b[0m\u001b[0m\n\u001b[0;32m    919\u001b[0m     def _update_terminal_region(self, tree, terminal_regions, leaf, X, y,\n",
      "\u001b[1;31mKeyboardInterrupt\u001b[0m: "
     ]
    }
   ],
   "source": [
    "gb_model = GradientBoostingClassifier()\n",
    "gb_model.fit(X_train, y_train.values.ravel())\n",
    "gb_pred = gb_model.predict(X_test)"
   ]
  },
  {
   "cell_type": "markdown",
   "metadata": {},
   "source": [
    "____________\n",
    "# Model Evaluation"
   ]
  },
  {
   "cell_type": "code",
   "execution_count": null,
   "metadata": {},
   "outputs": [],
   "source": [
    "rf_kappa = cohen_kappa_score(y_test, rf_pred, weights ='quadratic')\n",
    "print('kappa', round(rf_kappa, 4))\n",
    "print(confusion_matrix(y_test, rf_pred))"
   ]
  },
  {
   "cell_type": "code",
   "execution_count": null,
   "metadata": {},
   "outputs": [],
   "source": [
    "gb_kappa = cohen_kappa_score(y_test, gb_pred, weights ='quadratic')\n",
    "print('kappa', round(gb_kappa, 4))\n",
    "print(confusion_matrix(y_test, gb_pred))"
   ]
  },
  {
   "cell_type": "markdown",
   "metadata": {},
   "source": [
    "Using Cross Validation"
   ]
  },
  {
   "cell_type": "code",
   "execution_count": null,
   "metadata": {},
   "outputs": [],
   "source": [
    "k = 10\n",
    "results = []\n",
    "kf = KFold(n_splits=k)\n",
    "for train_index, test_index in kf.split(X):\n",
    "    X_train, X_test = X.values[train_index], X.values[test_index]\n",
    "    y_train, y_test = y.values[train_index], y.values[test_index]\n",
    "    model.fit(X_train, y_train.ravel())\n",
    "    y_pred = model.predict(X_test)\n",
    "    kappa = cohen_kappa_score(y_test, y_pred, weights ='quadratic')\n",
    "    results.append(round(kappa, 4))\n",
    "\n",
    "print('Kappa for each fold:', results)\n",
    "print('AVG(kappa)', round(np.mean(results), 4))\n",
    "print('STD(kappa)', round(np.std(results), 4))"
   ]
  },
  {
   "cell_type": "markdown",
   "metadata": {},
   "source": [
    "# Tuning the Thresholds\n"
   ]
  },
  {
   "cell_type": "code",
   "execution_count": null,
   "metadata": {},
   "outputs": [],
   "source": [
    "model = RandomForestClassifier(n_estimators=100)\n",
    "model.fit(X_train, y_train)\n",
    "for i in range(1,10):\n",
    "    print(i)\n",
    "    y_pred = model.predict_proba(X_test)[:,1]\n",
    "    y_pred = [1 if x > i/10.0 else 0 for x in y_pred]\n",
    "    precision = precision_score(y_test, y_pred,average='weighted')\n",
    "    recall = recall_score(y_test, y_pred,average='weighted')\n",
    "    print(confusion_matrix(y_test, y_pred))\n",
    "    print('Precision', precision)\n",
    "    print('Recall', recall)"
   ]
  }
 ],
 "metadata": {
  "kernelspec": {
   "display_name": "Python 3",
   "language": "python",
   "name": "python3"
  },
  "language_info": {
   "codemirror_mode": {
    "name": "ipython",
    "version": 3
   },
   "file_extension": ".py",
   "mimetype": "text/x-python",
   "name": "python",
   "nbconvert_exporter": "python",
   "pygments_lexer": "ipython3",
   "version": "3.7.1"
  }
 },
 "nbformat": 4,
 "nbformat_minor": 2
}
