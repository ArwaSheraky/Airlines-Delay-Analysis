{
 "cells": [
  {
   "cell_type": "markdown",
   "metadata": {},
   "source": [
    "# REGRESSION"
   ]
  },
  {
   "cell_type": "code",
   "execution_count": 1,
   "metadata": {},
   "outputs": [],
   "source": [
    "# import the libraries\n",
    "\n",
    "%matplotlib inline\n",
    "\n",
    "import pandas as pd\n",
    "import numpy as np\n",
    "import scipy\n",
    "import matplotlib.pyplot as plt\n",
    "import seaborn as sns\n",
    "\n",
    "# sklearn :: utils\n",
    "from sklearn.model_selection import train_test_split\n",
    "\n",
    "# sklearn :: models\n",
    "from sklearn.ensemble import RandomForestRegressor\n",
    "from sklearn.ensemble import GradientBoostingRegressor\n",
    "\n",
    "# sklearn :: evaluation\n",
    "from sklearn.metrics import mean_squared_error\n",
    "\n",
    "# convert scientific notation to decimals\n",
    "pd.set_option('display.float_format', lambda x: '%.2f' % x)\n",
    "sns.set_style('whitegrid')"
   ]
  },
  {
   "cell_type": "markdown",
   "metadata": {},
   "source": [
    "# Problem definition"
   ]
  },
  {
   "cell_type": "markdown",
   "metadata": {},
   "source": [
    "Predict the avg. expected delay."
   ]
  },
  {
   "cell_type": "markdown",
   "metadata": {},
   "source": [
    "________________________\n",
    "# Load Data"
   ]
  },
  {
   "cell_type": "markdown",
   "metadata": {},
   "source": [
    "### Cleaned, Merged dataset can be downloaded from here: https://www.kaggle.com/arwasheraky/cleaned_flight_delays_2015"
   ]
  },
  {
   "cell_type": "code",
   "execution_count": 2,
   "metadata": {},
   "outputs": [],
   "source": [
    "df_flights = pd.read_csv('../data/flightsmerged.csv', low_memory=False)"
   ]
  },
  {
   "cell_type": "code",
   "execution_count": 3,
   "metadata": {},
   "outputs": [
    {
     "data": {
      "text/html": [
       "<div>\n",
       "<style scoped>\n",
       "    .dataframe tbody tr th:only-of-type {\n",
       "        vertical-align: middle;\n",
       "    }\n",
       "\n",
       "    .dataframe tbody tr th {\n",
       "        vertical-align: top;\n",
       "    }\n",
       "\n",
       "    .dataframe thead th {\n",
       "        text-align: right;\n",
       "    }\n",
       "</style>\n",
       "<table border=\"1\" class=\"dataframe\">\n",
       "  <thead>\n",
       "    <tr style=\"text-align: right;\">\n",
       "      <th></th>\n",
       "      <th>MONTH</th>\n",
       "      <th>DAY</th>\n",
       "      <th>FLIGHT_NUMBER</th>\n",
       "      <th>TAIL_NUMBER</th>\n",
       "      <th>SCHEDULED_DEPARTURE</th>\n",
       "      <th>DEPARTURE_TIME</th>\n",
       "      <th>DEPARTURE_DELAY</th>\n",
       "      <th>SCHEDULED_TIME</th>\n",
       "      <th>DISTANCE</th>\n",
       "      <th>SCHEDULED_ARRIVAL</th>\n",
       "      <th>...</th>\n",
       "      <th>ORIGIN_AC</th>\n",
       "      <th>ORIGIN_NAME</th>\n",
       "      <th>ORIGIN_STATE</th>\n",
       "      <th>ORIGIN_LATITUDE</th>\n",
       "      <th>ORIGIN_LONGITUDE</th>\n",
       "      <th>DESTINATION_AC</th>\n",
       "      <th>DESTINATION_NAME</th>\n",
       "      <th>DEST_STATE</th>\n",
       "      <th>DEST_LATITUDE</th>\n",
       "      <th>DEST_LONGITUDE</th>\n",
       "    </tr>\n",
       "  </thead>\n",
       "  <tbody>\n",
       "    <tr>\n",
       "      <th>0</th>\n",
       "      <td>1</td>\n",
       "      <td>1</td>\n",
       "      <td>98</td>\n",
       "      <td>N407AS</td>\n",
       "      <td>00:05:00</td>\n",
       "      <td>23:54:00</td>\n",
       "      <td>-11.00</td>\n",
       "      <td>205.00</td>\n",
       "      <td>1448</td>\n",
       "      <td>04:30:00</td>\n",
       "      <td>...</td>\n",
       "      <td>ANC</td>\n",
       "      <td>Ted Stevens Anchorage International Airport</td>\n",
       "      <td>AK</td>\n",
       "      <td>61.17</td>\n",
       "      <td>-150.00</td>\n",
       "      <td>SEA</td>\n",
       "      <td>Seattle-Tacoma International Airport</td>\n",
       "      <td>WA</td>\n",
       "      <td>47.45</td>\n",
       "      <td>-122.31</td>\n",
       "    </tr>\n",
       "    <tr>\n",
       "      <th>1</th>\n",
       "      <td>1</td>\n",
       "      <td>1</td>\n",
       "      <td>2336</td>\n",
       "      <td>N3KUAA</td>\n",
       "      <td>00:10:00</td>\n",
       "      <td>00:02:00</td>\n",
       "      <td>-8.00</td>\n",
       "      <td>280.00</td>\n",
       "      <td>2330</td>\n",
       "      <td>07:50:00</td>\n",
       "      <td>...</td>\n",
       "      <td>LAX</td>\n",
       "      <td>Los Angeles International Airport</td>\n",
       "      <td>CA</td>\n",
       "      <td>33.94</td>\n",
       "      <td>-118.41</td>\n",
       "      <td>PBI</td>\n",
       "      <td>Palm Beach International Airport</td>\n",
       "      <td>FL</td>\n",
       "      <td>26.68</td>\n",
       "      <td>-80.10</td>\n",
       "    </tr>\n",
       "    <tr>\n",
       "      <th>2</th>\n",
       "      <td>1</td>\n",
       "      <td>1</td>\n",
       "      <td>840</td>\n",
       "      <td>N171US</td>\n",
       "      <td>00:20:00</td>\n",
       "      <td>00:18:00</td>\n",
       "      <td>-2.00</td>\n",
       "      <td>286.00</td>\n",
       "      <td>2296</td>\n",
       "      <td>08:06:00</td>\n",
       "      <td>...</td>\n",
       "      <td>SFO</td>\n",
       "      <td>San Francisco International Airport</td>\n",
       "      <td>CA</td>\n",
       "      <td>37.62</td>\n",
       "      <td>-122.37</td>\n",
       "      <td>CLT</td>\n",
       "      <td>Charlotte Douglas International Airport</td>\n",
       "      <td>NC</td>\n",
       "      <td>35.21</td>\n",
       "      <td>-80.94</td>\n",
       "    </tr>\n",
       "    <tr>\n",
       "      <th>3</th>\n",
       "      <td>1</td>\n",
       "      <td>1</td>\n",
       "      <td>258</td>\n",
       "      <td>N3HYAA</td>\n",
       "      <td>00:20:00</td>\n",
       "      <td>00:15:00</td>\n",
       "      <td>-5.00</td>\n",
       "      <td>285.00</td>\n",
       "      <td>2342</td>\n",
       "      <td>08:05:00</td>\n",
       "      <td>...</td>\n",
       "      <td>LAX</td>\n",
       "      <td>Los Angeles International Airport</td>\n",
       "      <td>CA</td>\n",
       "      <td>33.94</td>\n",
       "      <td>-118.41</td>\n",
       "      <td>MIA</td>\n",
       "      <td>Miami International Airport</td>\n",
       "      <td>FL</td>\n",
       "      <td>25.79</td>\n",
       "      <td>-80.29</td>\n",
       "    </tr>\n",
       "    <tr>\n",
       "      <th>4</th>\n",
       "      <td>1</td>\n",
       "      <td>1</td>\n",
       "      <td>135</td>\n",
       "      <td>N527AS</td>\n",
       "      <td>00:25:00</td>\n",
       "      <td>00:24:00</td>\n",
       "      <td>-1.00</td>\n",
       "      <td>235.00</td>\n",
       "      <td>1448</td>\n",
       "      <td>03:20:00</td>\n",
       "      <td>...</td>\n",
       "      <td>SEA</td>\n",
       "      <td>Seattle-Tacoma International Airport</td>\n",
       "      <td>WA</td>\n",
       "      <td>47.45</td>\n",
       "      <td>-122.31</td>\n",
       "      <td>ANC</td>\n",
       "      <td>Ted Stevens Anchorage International Airport</td>\n",
       "      <td>AK</td>\n",
       "      <td>61.17</td>\n",
       "      <td>-150.00</td>\n",
       "    </tr>\n",
       "  </tbody>\n",
       "</table>\n",
       "<p>5 rows × 34 columns</p>\n",
       "</div>"
      ],
      "text/plain": [
       "   MONTH  DAY  FLIGHT_NUMBER TAIL_NUMBER SCHEDULED_DEPARTURE DEPARTURE_TIME  \\\n",
       "0      1    1             98      N407AS            00:05:00       23:54:00   \n",
       "1      1    1           2336      N3KUAA            00:10:00       00:02:00   \n",
       "2      1    1            840      N171US            00:20:00       00:18:00   \n",
       "3      1    1            258      N3HYAA            00:20:00       00:15:00   \n",
       "4      1    1            135      N527AS            00:25:00       00:24:00   \n",
       "\n",
       "   DEPARTURE_DELAY  SCHEDULED_TIME  DISTANCE SCHEDULED_ARRIVAL  \\\n",
       "0           -11.00          205.00      1448          04:30:00   \n",
       "1            -8.00          280.00      2330          07:50:00   \n",
       "2            -2.00          286.00      2296          08:06:00   \n",
       "3            -5.00          285.00      2342          08:05:00   \n",
       "4            -1.00          235.00      1448          03:20:00   \n",
       "\n",
       "        ...       ORIGIN_AC                                  ORIGIN_NAME  \\\n",
       "0       ...             ANC  Ted Stevens Anchorage International Airport   \n",
       "1       ...             LAX            Los Angeles International Airport   \n",
       "2       ...             SFO          San Francisco International Airport   \n",
       "3       ...             LAX            Los Angeles International Airport   \n",
       "4       ...             SEA         Seattle-Tacoma International Airport   \n",
       "\n",
       "   ORIGIN_STATE  ORIGIN_LATITUDE ORIGIN_LONGITUDE  DESTINATION_AC  \\\n",
       "0            AK            61.17          -150.00             SEA   \n",
       "1            CA            33.94          -118.41             PBI   \n",
       "2            CA            37.62          -122.37             CLT   \n",
       "3            CA            33.94          -118.41             MIA   \n",
       "4            WA            47.45          -122.31             ANC   \n",
       "\n",
       "                              DESTINATION_NAME  DEST_STATE  DEST_LATITUDE  \\\n",
       "0         Seattle-Tacoma International Airport          WA          47.45   \n",
       "1             Palm Beach International Airport          FL          26.68   \n",
       "2      Charlotte Douglas International Airport          NC          35.21   \n",
       "3                  Miami International Airport          FL          25.79   \n",
       "4  Ted Stevens Anchorage International Airport          AK          61.17   \n",
       "\n",
       "   DEST_LONGITUDE  \n",
       "0         -122.31  \n",
       "1          -80.10  \n",
       "2          -80.94  \n",
       "3          -80.29  \n",
       "4         -150.00  \n",
       "\n",
       "[5 rows x 34 columns]"
      ]
     },
     "execution_count": 3,
     "metadata": {},
     "output_type": "execute_result"
    }
   ],
   "source": [
    "df_flights.head()"
   ]
  },
  {
   "cell_type": "code",
   "execution_count": 4,
   "metadata": {},
   "outputs": [
    {
     "data": {
      "text/plain": [
       "Index(['MONTH', 'DAY', 'FLIGHT_NUMBER', 'TAIL_NUMBER', 'SCHEDULED_DEPARTURE',\n",
       "       'DEPARTURE_TIME', 'DEPARTURE_DELAY', 'SCHEDULED_TIME', 'DISTANCE',\n",
       "       'SCHEDULED_ARRIVAL', 'ARRIVAL_TIME', 'ARRIVAL_DELAY', 'DIVERTED',\n",
       "       'CANCELLED', 'CANCELLATION_REASON', 'AIR_SYSTEM_DELAY',\n",
       "       'SECURITY_DELAY', 'AIRLINE_DELAY', 'LATE_AIRCRAFT_DELAY',\n",
       "       'WEATHER_DELAY', 'DATE', 'CLASS', 'AIRLINE_CODE', 'AIRLINE_NAME',\n",
       "       'ORIGIN_AC', 'ORIGIN_NAME', 'ORIGIN_STATE', 'ORIGIN_LATITUDE',\n",
       "       'ORIGIN_LONGITUDE', 'DESTINATION_AC', 'DESTINATION_NAME', 'DEST_STATE',\n",
       "       'DEST_LATITUDE', 'DEST_LONGITUDE'],\n",
       "      dtype='object')"
      ]
     },
     "execution_count": 4,
     "metadata": {},
     "output_type": "execute_result"
    }
   ],
   "source": [
    "df_flights.columns"
   ]
  },
  {
   "cell_type": "markdown",
   "metadata": {},
   "source": [
    "____\n",
    "\n",
    "# Feature Engineering"
   ]
  },
  {
   "cell_type": "code",
   "execution_count": 6,
   "metadata": {},
   "outputs": [
    {
     "name": "stdout",
     "output_type": "stream",
     "text": [
      "Original dataset :  (5697506, 34)\n",
      "Now :  (5608236, 31)\n"
     ]
    }
   ],
   "source": [
    "# Keep just the delayed and on_time flights, remove the cancelled and early flights.\n",
    "\n",
    "df = df_flights[(df_flights['CLASS'] == 'On_Time') | (df_flights['CLASS'] == 'Delayed')]\n",
    "df = df.drop(columns = ['CANCELLATION_REASON','CANCELLED','DIVERTED'])\n",
    "print(\"Original dataset : \",df_flights.shape)\n",
    "print(\"Now : \",df.shape)"
   ]
  },
  {
   "cell_type": "markdown",
   "metadata": {},
   "source": [
    "## Missing Values"
   ]
  },
  {
   "cell_type": "code",
   "execution_count": 7,
   "metadata": {},
   "outputs": [
    {
     "data": {
      "text/plain": [
       "MONTH                       0\n",
       "DAY                         0\n",
       "FLIGHT_NUMBER               0\n",
       "TAIL_NUMBER                 0\n",
       "SCHEDULED_DEPARTURE         0\n",
       "DEPARTURE_TIME              0\n",
       "DEPARTURE_DELAY             0\n",
       "SCHEDULED_TIME              0\n",
       "DISTANCE                    0\n",
       "SCHEDULED_ARRIVAL           0\n",
       "ARRIVAL_TIME             2198\n",
       "ARRIVAL_DELAY               0\n",
       "AIR_SYSTEM_DELAY            0\n",
       "SECURITY_DELAY              0\n",
       "AIRLINE_DELAY               0\n",
       "LATE_AIRCRAFT_DELAY         0\n",
       "WEATHER_DELAY               0\n",
       "DATE                        0\n",
       "CLASS                       0\n",
       "AIRLINE_CODE                0\n",
       "AIRLINE_NAME                0\n",
       "ORIGIN_AC              477776\n",
       "ORIGIN_NAME            477776\n",
       "ORIGIN_STATE           477776\n",
       "ORIGIN_LATITUDE        482259\n",
       "ORIGIN_LONGITUDE       482259\n",
       "DESTINATION_AC         477776\n",
       "DESTINATION_NAME       477776\n",
       "DEST_STATE             477776\n",
       "DEST_LATITUDE          482281\n",
       "DEST_LONGITUDE         482281\n",
       "dtype: int64"
      ]
     },
     "execution_count": 7,
     "metadata": {},
     "output_type": "execute_result"
    }
   ],
   "source": [
    "df.isnull().sum()"
   ]
  },
  {
   "cell_type": "code",
   "execution_count": 8,
   "metadata": {},
   "outputs": [
    {
     "data": {
      "text/plain": [
       "5119373"
      ]
     },
     "execution_count": 8,
     "metadata": {},
     "output_type": "execute_result"
    }
   ],
   "source": [
    "df = df.dropna()\n",
    "len(df)"
   ]
  },
  {
   "cell_type": "markdown",
   "metadata": {},
   "source": [
    "## Add a column"
   ]
  },
  {
   "cell_type": "code",
   "execution_count": 9,
   "metadata": {},
   "outputs": [
    {
     "data": {
      "text/plain": [
       "0   -16.50\n",
       "1    -8.50\n",
       "2     1.50\n",
       "3    -7.00\n",
       "4   -11.00\n",
       "5     1.50\n",
       "6   -11.50\n",
       "7     2.00\n",
       "8   -12.00\n",
       "9    -6.00\n",
       "Name: AVG_DELAY, dtype: float64"
      ]
     },
     "execution_count": 9,
     "metadata": {},
     "output_type": "execute_result"
    }
   ],
   "source": [
    "# Average delay column --> Predicited column\n",
    "\n",
    "df['AVG_DELAY'] = (df['DEPARTURE_DELAY'] + df['ARRIVAL_DELAY']) / 2.0\n",
    "df['AVG_DELAY'].head(10)"
   ]
  },
  {
   "cell_type": "code",
   "execution_count": 10,
   "metadata": {},
   "outputs": [
    {
     "data": {
      "image/png": "[encoded data removed]",
      "text/plain": [
       "<Figure size 720x432 with 1 Axes>"
      ]
     },
     "metadata": {
      "needs_background": "light"
     },
     "output_type": "display_data"
    }
   ],
   "source": [
    "plt.figure(figsize=(10,6))\n",
    "plt.hist(df['AVG_DELAY'], bins=50, color='purple')\n",
    "plt.xlabel(\"Average Delay\")\n",
    "plt.ylabel(\"Frequency\")\n",
    "plt.show()"
   ]
  },
  {
   "cell_type": "code",
   "execution_count": 11,
   "metadata": {},
   "outputs": [],
   "source": [
    "# sns.regplot(x = df['DEPARTURE_DELAY'] , y = df['ARRIVAL_DELAY'], color = \"r\")\n",
    "# plt.title(\"DEPARTURE_DELAY vs ARRIVAL_DELAY\")\n",
    "# plt.xlabel(\"DEPARTURE_DELAY\")\n",
    "# plt.ylabel(\"ARRIVAL_DELAY\")\n",
    "# plt.show()"
   ]
  },
  {
   "cell_type": "markdown",
   "metadata": {},
   "source": [
    "## Label encoding"
   ]
  },
  {
   "cell_type": "code",
   "execution_count": 15,
   "metadata": {},
   "outputs": [],
   "source": [
    "# get_dummies\n",
    "\n",
    "# Convert FLIGHT_NUMBER to STRING\n",
    "#for idx in df.index:\n",
    "#    df.at[idx,'FLIGHT_NUMBER'] = str(df.at[idx,'FLIGHT_NUMBER'])\n",
    "\n",
    "# Convert MONTH to STRING\n",
    "df['MONTH'] = df['MONTH'].replace(to_replace = list(range(1, 13)),\n",
    "                                  value=['1','2','3','4','5','6','7','8','9','10','11','12'])\n",
    "\n",
    "categorical = ['AIRLINE_NAME','MONTH','DEST_STATE','ORIGIN_STATE']\n",
    "\n",
    "df_dummies = pd.get_dummies(df[categorical])\n",
    "df = pd.concat([df, df_dummies], axis=1)\n"
   ]
  },
  {
   "cell_type": "code",
   "execution_count": 16,
   "metadata": {},
   "outputs": [
    {
     "data": {
      "text/plain": [
       "Index(['MONTH', 'DAY', 'FLIGHT_NUMBER', 'TAIL_NUMBER', 'SCHEDULED_DEPARTURE',\n",
       "       'DEPARTURE_TIME', 'DEPARTURE_DELAY', 'SCHEDULED_TIME', 'DISTANCE',\n",
       "       'SCHEDULED_ARRIVAL',\n",
       "       ...\n",
       "       'ORIGIN_STATE_TN', 'ORIGIN_STATE_TX', 'ORIGIN_STATE_UT',\n",
       "       'ORIGIN_STATE_VA', 'ORIGIN_STATE_VI', 'ORIGIN_STATE_VT',\n",
       "       'ORIGIN_STATE_WA', 'ORIGIN_STATE_WI', 'ORIGIN_STATE_WV',\n",
       "       'ORIGIN_STATE_WY'],\n",
       "      dtype='object', length=165)"
      ]
     },
     "execution_count": 16,
     "metadata": {},
     "output_type": "execute_result"
    }
   ],
   "source": [
    "df.columns"
   ]
  },
  {
   "cell_type": "markdown",
   "metadata": {},
   "source": [
    "## Change Time to Int"
   ]
  },
  {
   "cell_type": "code",
   "execution_count": 17,
   "metadata": {},
   "outputs": [],
   "source": [
    "# Convert the time to seconds\n",
    "\n",
    "def time_to_num (time_str):\n",
    "    \n",
    "    if type(time_str) is int:\n",
    "        return time_str\n",
    "    \n",
    "    h,m,s = time_str.split(':')\n",
    "    result = int(h) * 3600 + int(m) * 60 + int(s)\n",
    "    return result"
   ]
  },
  {
   "cell_type": "code",
   "execution_count": 18,
   "metadata": {
    "scrolled": false
   },
   "outputs": [
    {
     "data": {
      "text/html": [
       "<div>\n",
       "<style scoped>\n",
       "    .dataframe tbody tr th:only-of-type {\n",
       "        vertical-align: middle;\n",
       "    }\n",
       "\n",
       "    .dataframe tbody tr th {\n",
       "        vertical-align: top;\n",
       "    }\n",
       "\n",
       "    .dataframe thead th {\n",
       "        text-align: right;\n",
       "    }\n",
       "</style>\n",
       "<table border=\"1\" class=\"dataframe\">\n",
       "  <thead>\n",
       "    <tr style=\"text-align: right;\">\n",
       "      <th></th>\n",
       "      <th>SCHEDULED_DEPARTURE</th>\n",
       "      <th>SCHEDULED_ARRIVAL</th>\n",
       "    </tr>\n",
       "  </thead>\n",
       "  <tbody>\n",
       "    <tr>\n",
       "      <th>0</th>\n",
       "      <td>300</td>\n",
       "      <td>16200</td>\n",
       "    </tr>\n",
       "    <tr>\n",
       "      <th>1</th>\n",
       "      <td>600</td>\n",
       "      <td>28200</td>\n",
       "    </tr>\n",
       "    <tr>\n",
       "      <th>2</th>\n",
       "      <td>1200</td>\n",
       "      <td>29160</td>\n",
       "    </tr>\n",
       "    <tr>\n",
       "      <th>3</th>\n",
       "      <td>1200</td>\n",
       "      <td>29100</td>\n",
       "    </tr>\n",
       "    <tr>\n",
       "      <th>4</th>\n",
       "      <td>1500</td>\n",
       "      <td>12000</td>\n",
       "    </tr>\n",
       "  </tbody>\n",
       "</table>\n",
       "</div>"
      ],
      "text/plain": [
       "   SCHEDULED_DEPARTURE  SCHEDULED_ARRIVAL\n",
       "0                  300              16200\n",
       "1                  600              28200\n",
       "2                 1200              29160\n",
       "3                 1200              29100\n",
       "4                 1500              12000"
      ]
     },
     "execution_count": 18,
     "metadata": {},
     "output_type": "execute_result"
    }
   ],
   "source": [
    "# Call the Function:\n",
    "\n",
    "df['SCHEDULED_DEPARTURE'] = df['SCHEDULED_DEPARTURE'].apply(time_to_num)\n",
    "df['SCHEDULED_ARRIVAL'] =df['SCHEDULED_ARRIVAL'].apply(time_to_num)\n",
    "\n",
    "#Print a sample..\n",
    "df[['SCHEDULED_DEPARTURE', 'SCHEDULED_ARRIVAL']].head()"
   ]
  },
  {
   "cell_type": "markdown",
   "metadata": {},
   "source": [
    "## Select Model Columns"
   ]
  },
  {
   "cell_type": "code",
   "execution_count": 19,
   "metadata": {},
   "outputs": [
    {
     "data": {
      "text/plain": [
       "141"
      ]
     },
     "execution_count": 19,
     "metadata": {},
     "output_type": "execute_result"
    }
   ],
   "source": [
    "# After first run: Get the columns with feature importance > 0.0001\n",
    "#X_columns = features_imp_005[0].values\n",
    "\n",
    "# Original columns\n",
    "X_columns = ['DISTANCE','SCHEDULED_ARRIVAL','SCHEDULED_DEPARTURE','DAY','ORIGIN_LATITUDE',\n",
    "             'ORIGIN_LONGITUDE', 'DEST_LATITUDE','DEST_LONGITUDE'] + list(df_dummies.columns)\n",
    "\n",
    "y_column = ['AVG_DELAY']\n",
    "\n",
    "len(X_columns)"
   ]
  },
  {
   "cell_type": "code",
   "execution_count": 20,
   "metadata": {},
   "outputs": [
    {
     "name": "stdout",
     "output_type": "stream",
     "text": [
      "X_train (3583561, 141)\n",
      "y_train (3583561, 1)\n",
      "X_test (1535812, 141)\n",
      "y_test (1535812, 1)\n"
     ]
    }
   ],
   "source": [
    "# splitting the data\n",
    "\n",
    "threshold = 0.7\n",
    "\n",
    "X = df[X_columns]\n",
    "y = df[y_column]\n",
    "X_train, X_test, y_train, y_test = train_test_split(X, y, test_size=1.0-threshold, shuffle=True, random_state=50)\n",
    "\n",
    "print('X_train', X_train.shape)\n",
    "print('y_train', y_train.shape)\n",
    "print('X_test', X_test.shape)\n",
    "print('y_test', y_test.shape)"
   ]
  },
  {
   "cell_type": "code",
   "execution_count": 21,
   "metadata": {
    "scrolled": true
   },
   "outputs": [],
   "source": [
    "# corr_matrix = df.corr()\n",
    "# corr_matrix.sort_values(by='DEPARTURE_DELAY')"
   ]
  },
  {
   "cell_type": "markdown",
   "metadata": {},
   "source": [
    "_________\n",
    "# Training and Testing The Models"
   ]
  },
  {
   "cell_type": "code",
   "execution_count": 22,
   "metadata": {},
   "outputs": [],
   "source": [
    "# Select a subset of the data, to avoid waiting long time beacause of it's enormous size.\n",
    "\n",
    "X_train = X_train.iloc[:250000,:]\n",
    "y_train = y_train.iloc[:250000,:]\n",
    "X_test = X_test.iloc[:50000,:]\n",
    "y_test = y_test.iloc[:50000,:]"
   ]
  },
  {
   "cell_type": "code",
   "execution_count": null,
   "metadata": {},
   "outputs": [],
   "source": [
    "rf_model = RandomForestRegressor(n_estimators =100)\n",
    "rf_model.fit(X_train, y_train.values.ravel())\n",
    "rf_pred = rf_model.predict(X_test)"
   ]
  },
  {
   "cell_type": "code",
   "execution_count": null,
   "metadata": {},
   "outputs": [],
   "source": [
    "gb_model = GradientBoostingRegressor(n_estimators =100)\n",
    "gb_model.fit(X_train, y_train.values.ravel())\n",
    "gb_pred = gb_model.predict(X_test)"
   ]
  },
  {
   "cell_type": "markdown",
   "metadata": {},
   "source": [
    "____________\n",
    "# Models Evaluation"
   ]
  },
  {
   "cell_type": "code",
   "execution_count": null,
   "metadata": {},
   "outputs": [],
   "source": [
    "rmse = np.sqrt(mean_squared_error(y_test, rf_pred))\n",
    "print('RMSE', rmse)\n",
    "\n",
    "plt.figure(figsize=(12,7))\n",
    "sns.regplot(y_test, rf_pred, color='navy', scatter_kws={'alpha':0.3}, line_kws={'color': 'red'})\n",
    "plt.title('Random Forest Regression')\n",
    "plt.xlabel('True Value')\n",
    "plt.ylabel('Predict Value')\n",
    "plt.show()"
   ]
  },
  {
   "cell_type": "code",
   "execution_count": null,
   "metadata": {},
   "outputs": [],
   "source": [
    "rmse = np.sqrt(mean_squared_error(y_test, gb_pred))\n",
    "print('RMSE', rmse)\n",
    "\n",
    "plt.figure(figsize=(12,7))\n",
    "sns.regplot(y_test, gb_pred, color = 'green', scatter_kws={'alpha':0.3}, line_kws={'color': 'red'})\n",
    "plt.title('Gradient Boosting Regression')\n",
    "plt.xlabel('True Value')\n",
    "plt.ylabel('Predict Value')\n",
    "plt.show()"
   ]
  },
  {
   "cell_type": "markdown",
   "metadata": {},
   "source": [
    "________________\n",
    "# Error Analysis"
   ]
  },
  {
   "cell_type": "code",
   "execution_count": null,
   "metadata": {},
   "outputs": [],
   "source": [
    "# identify the feature importance\n",
    "\n",
    "importance = []\n",
    "model = gb_model\n",
    "\n",
    "for i in range(len(X_columns)):\n",
    "    importance.append([X_columns[i], model.feature_importances_[i]])\n",
    "\n",
    "features_imp = pd.DataFrame(importance).sort_values(by=1, ascending=False)\n",
    "features_imp"
   ]
  },
  {
   "cell_type": "code",
   "execution_count": null,
   "metadata": {},
   "outputs": [],
   "source": [
    "features_imp_0001 = features_imp[features_imp[1] > 0.0001]\n",
    "features_imp_0001"
   ]
  }
 ],
 "metadata": {
  "kernelspec": {
   "display_name": "Python 3",
   "language": "python",
   "name": "python3"
  },
  "language_info": {
   "codemirror_mode": {
    "name": "ipython",
    "version": 3
   },
   "file_extension": ".py",
   "mimetype": "text/x-python",
   "name": "python",
   "nbconvert_exporter": "python",
   "pygments_lexer": "ipython3",
   "version": "3.7.1"
  }
 },
 "nbformat": 4,
 "nbformat_minor": 2
}
