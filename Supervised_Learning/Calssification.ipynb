{
 "cells": [
  {
   "cell_type": "markdown",
   "metadata": {},
   "source": [
    "# Classification"
   ]
  },
  {
   "cell_type": "code",
   "execution_count": null,
   "metadata": {},
   "outputs": [],
   "source": [
    "# import the libraries\n",
    "\n",
    "%matplotlib inline\n",
    "\n",
    "import pandas as pd\n",
    "import numpy as np\n",
    "import scipy\n",
    "import matplotlib.pyplot as plt\n",
    "import seaborn as sns\n",
    "\n",
    "# sklearn :: utils\n",
    "from sklearn.model_selection import train_test_split\n",
    "from sklearn.metrics import confusion_matrix\n",
    "from sklearn.model_selection import KFold\n",
    "\n",
    "# sklearn :: models\n",
    "from sklearn.naive_bayes import GaussianNB\n",
    "from sklearn.neighbors import KNeighborsClassifier\n",
    "from sklearn.ensemble import RandomForestClassifier\n",
    "from sklearn.ensemble import GradientBoostingClassifier\n",
    "\n",
    "\n",
    "# sklearn :: evaluation metrics\n",
    "from sklearn.metrics import cohen_kappa_score\n",
    "\n",
    "# convert scientific notation to decimals\n",
    "pd.set_option('display.float_format', lambda x: '%.2f' % x)\n",
    "sns.set_style('whitegrid')"
   ]
  },
  {
   "cell_type": "markdown",
   "metadata": {},
   "source": [
    "________________________\n",
    "# Load Data"
   ]
  },
  {
   "cell_type": "code",
   "execution_count": null,
   "metadata": {},
   "outputs": [],
   "source": [
    "# Cleaned data can be downloaded here:\n",
    "# \n",
    "\n",
    "df_flights = pd.read_csv('../data/flightsmerged.csv', low_memory=False)"
   ]
  },
  {
   "cell_type": "code",
   "execution_count": null,
   "metadata": {
    "scrolled": false
   },
   "outputs": [],
   "source": [
    "df_flights.columns"
   ]
  },
  {
   "cell_type": "markdown",
   "metadata": {},
   "source": [
    "____________________\n",
    "# Change Format"
   ]
  },
  {
   "cell_type": "code",
   "execution_count": null,
   "metadata": {},
   "outputs": [],
   "source": [
    "bool_cols = ['CANCELLED', 'DIVERTED']\n",
    "df_flights[bool_cols] = df_flights[bool_cols].replace(to_replace=[0,1], value=[False,True])\n",
    "df_flights[bool_cols].head()"
   ]
  },
  {
   "cell_type": "markdown",
   "metadata": {},
   "source": [
    "_____________________\n",
    "# Missing Values"
   ]
  },
  {
   "cell_type": "code",
   "execution_count": null,
   "metadata": {
    "scrolled": false
   },
   "outputs": [],
   "source": [
    "print(\"Missing Values:\\n\", df_flights.isnull().sum())"
   ]
  },
  {
   "cell_type": "markdown",
   "metadata": {},
   "source": [
    "## DELAY CAUSES"
   ]
  },
  {
   "cell_type": "code",
   "execution_count": null,
   "metadata": {},
   "outputs": [],
   "source": [
    "delay_cause_cols = ['AIR_SYSTEM_DELAY', 'SECURITY_DELAY', 'AIRLINE_DELAY', 'LATE_AIRCRAFT_DELAY', 'WEATHER_DELAY']\n",
    "df_flights[delay_cause_cols] = df_flights[delay_cause_cols].fillna(0.0)"
   ]
  },
  {
   "cell_type": "markdown",
   "metadata": {},
   "source": [
    "## DEPARTURE_DELAY & ARRIVAL_DELAY"
   ]
  },
  {
   "cell_type": "code",
   "execution_count": null,
   "metadata": {},
   "outputs": [],
   "source": [
    "print(\"Departure Delays Missing Values = \", df_flights['DEPARTURE_DELAY'].isnull().sum())\n",
    "print(\"Arrival Delays Missing Values = \", df_flights['ARRIVAL_DELAY'].isnull().sum())\n",
    "print(\"Cancelled flights = \", df_flights['CANCELLED'].sum())"
   ]
  },
  {
   "cell_type": "code",
   "execution_count": null,
   "metadata": {},
   "outputs": [],
   "source": [
    "print(\"Flights without departure and arrival delays = \",\n",
    "      len(df_flights[(df_flights['DEPARTURE_DELAY'].isnull()) & (df_flights['ARRIVAL_DELAY'].isnull())].index))\n",
    "\n",
    "print(\"Cancelled flights without arrival delay = \",\n",
    "      len(df_flights[(df_flights['ARRIVAL_DELAY'].isnull()) & (df_flights['CANCELLED'] == 1)].index))\n",
    "\n",
    "print(\"Cancelled flights without departure delay = \",\n",
    "      len(df_flights[(df_flights['DEPARTURE_DELAY'].isnull()) & (df_flights['CANCELLED'] == 1)].index))"
   ]
  },
  {
   "cell_type": "markdown",
   "metadata": {},
   "source": [
    "#### Conclosions:\n",
    "- Flights without departure delay, doesn't have arrival delay too. However, there are some flights without arrival delay, although having departure delay.\n",
    "-  All cancelled flights, doesn't have arrival delay. > Makes sense."
   ]
  },
  {
   "cell_type": "code",
   "execution_count": null,
   "metadata": {},
   "outputs": [],
   "source": [
    "# Mean delay for each airline.\n",
    "\n",
    "airlines_dep_delays = df_flights.groupby('AIRLINE_NAME', sort=False)['DEPARTURE_DELAY'].mean()\n",
    "airlines_arr_delays = df_flights.groupby('AIRLINE_NAME', sort=False)['ARRIVAL_DELAY'].mean()\n",
    "\n",
    "print(airlines_dep_delays.sort_values())\n",
    "print(airlines_arr_delays.sort_values())"
   ]
  },
  {
   "cell_type": "code",
   "execution_count": null,
   "metadata": {},
   "outputs": [],
   "source": [
    "\n",
    "for idx in df_flights.index[df_flights['DEPARTURE_DELAY'].isnull()]:    \n",
    "    \n",
    "    # If the flight isn't cancelled, fill arr and dep delays with mean delay of that airline\n",
    "    if(df_flights.loc[idx,'CANCELLED'] == 0):\n",
    "    \n",
    "        airline_code = df_flights.loc[idx,'AIRLINE_NAME']\n",
    "        df_flights.at[idx,'DEPARTURE_DELAY'] = airlines_dep_delays.at[airline_code]\n",
    "        df_flights.at[idx,'ARRIVAL_DELAY'] = airlines_arr_delays.at[airline_code]\n"
   ]
  },
  {
   "cell_type": "code",
   "execution_count": null,
   "metadata": {},
   "outputs": [],
   "source": [
    "# for the rest missing values in arrival delay\n",
    "for idx in df_flights.index[df_flights['ARRIVAL_DELAY'].isnull()]:    \n",
    "    \n",
    "    # If the flight isn't cancelled, replace arrival delay with departure delay\n",
    "    if(df_flights.loc[idx,'CANCELLED'] == 0):\n",
    "        df_flights.at[idx,'ARRIVAL_DELAY'] = df_flights.loc[idx,'DEPARTURE_DELAY']\n"
   ]
  },
  {
   "cell_type": "code",
   "execution_count": null,
   "metadata": {},
   "outputs": [],
   "source": [
    "\n",
    "missing = []\n",
    "missing += list(df_flights[(df_flights['DEPARTURE_DELAY'].isnull())\n",
    "                                   | df_flights['ARRIVAL_DELAY'].isnull()].index)\n",
    "\n",
    "len(missing)"
   ]
  },
  {
   "cell_type": "markdown",
   "metadata": {},
   "source": [
    "#### Missing values in Arrival and Departure Delays = Cancelled flights"
   ]
  },
  {
   "cell_type": "code",
   "execution_count": null,
   "metadata": {},
   "outputs": [],
   "source": [
    "df_flights.isnull().sum()"
   ]
  },
  {
   "cell_type": "markdown",
   "metadata": {},
   "source": [
    "________________\n",
    "## Add Columns"
   ]
  },
  {
   "cell_type": "code",
   "execution_count": null,
   "metadata": {},
   "outputs": [],
   "source": [
    "# Add column for flight Class (Early, On_Time, Delayed, Cancelled)\n",
    "\n",
    "# Default value:\n",
    "df_flights['CLASS'] = 'On_Time'"
   ]
  },
  {
   "cell_type": "code",
   "execution_count": null,
   "metadata": {},
   "outputs": [],
   "source": [
    "df_flights['CANCELLED'].value_counts()"
   ]
  },
  {
   "cell_type": "code",
   "execution_count": null,
   "metadata": {},
   "outputs": [],
   "source": [
    "# 1- Cancelled flights\n",
    "\n",
    "cancelled_flights = list(df_flights[df_flights['CANCELLED'] == True].index)    \n",
    "df_flights.at[cancelled_flights, 'CLASS'] = 'Cancelled'\n",
    "    \n",
    "print(\"# Cancelled flights = \", len(df_flights[df_flights['CLASS'] == 'Cancelled']))"
   ]
  },
  {
   "cell_type": "code",
   "execution_count": null,
   "metadata": {},
   "outputs": [],
   "source": [
    "# 2- Delayed flights\n",
    "    \n",
    "delayed_flights = list(df_flights[(df_flights['DEPARTURE_DELAY'] > 0) | (df_flights['ARRIVAL_DELAY'] > 0)].index)    \n",
    "df_flights.at[delayed_flights, 'CLASS'] = 'Delayed'\n",
    "\n",
    "print(\"# Delayed flights = \", len(df_flights[df_flights['CLASS'] == 'Delayed']))"
   ]
  },
  {
   "cell_type": "code",
   "execution_count": null,
   "metadata": {},
   "outputs": [],
   "source": [
    "# 3- Early flights\n",
    "\n",
    "early_flights = list(df_flights[(df_flights['DEPARTURE_DELAY'] < 0) & (df_flights['ARRIVAL_DELAY'] < 0)].index)\n",
    "df_flights.at[early_flights, 'CLASS'] = 'Early'\n",
    "print(\"# Early flights = \", len(early_flights))\n",
    "\n",
    "# Remove the early flights\n",
    "#df = df[~df.index.isin(early_flights)]\n",
    "#print(\"Was: \", df.shape, \" Now: \", df.shape)\n"
   ]
  },
  {
   "cell_type": "code",
   "execution_count": null,
   "metadata": {},
   "outputs": [],
   "source": [
    "# 4- On-time flights\n",
    "\n",
    "print(\"On-time flights = \",len(df_flights[df_flights['CLASS'] == 'On_Time']))"
   ]
  },
  {
   "cell_type": "code",
   "execution_count": null,
   "metadata": {},
   "outputs": [],
   "source": [
    "df_flights['CLASS'].value_counts()"
   ]
  },
  {
   "cell_type": "markdown",
   "metadata": {},
   "source": [
    "____\n",
    "\n",
    "# Feature Engineering"
   ]
  },
  {
   "cell_type": "markdown",
   "metadata": {},
   "source": [
    "## Categorical Columns"
   ]
  },
  {
   "cell_type": "code",
   "execution_count": null,
   "metadata": {},
   "outputs": [],
   "source": [
    "# get_dummies\n",
    "\n",
    "def get_dum(df):\n",
    "    categorical = ['MONTH','FLIGHT_NUMBER ', 'AIRLINE_NAME']\n",
    "    df_dummies = pd.get_dummies(df[categorical])\n",
    "    new_df = pd.concat([df_dummies, df], axis =1)    \n",
    "    \n",
    "    return new_df, df_dummies"
   ]
  },
  {
   "cell_type": "code",
   "execution_count": null,
   "metadata": {},
   "outputs": [],
   "source": [
    "new_df, df_dummies = get_dum(df_flights)"
   ]
  },
  {
   "cell_type": "markdown",
   "metadata": {},
   "source": [
    "__________________\n",
    "# Training The Models"
   ]
  },
  {
   "cell_type": "code",
   "execution_count": null,
   "metadata": {},
   "outputs": [],
   "source": []
  },
  {
   "cell_type": "markdown",
   "metadata": {},
   "source": [
    "_________\n",
    "# Testing The Models"
   ]
  },
  {
   "cell_type": "code",
   "execution_count": null,
   "metadata": {},
   "outputs": [],
   "source": []
  },
  {
   "cell_type": "markdown",
   "metadata": {},
   "source": [
    "____________\n",
    "# Model Evaluation"
   ]
  },
  {
   "cell_type": "code",
   "execution_count": null,
   "metadata": {},
   "outputs": [],
   "source": []
  }
 ],
 "metadata": {
  "kernelspec": {
   "display_name": "Python 3",
   "language": "python",
   "name": "python3"
  },
  "language_info": {
   "codemirror_mode": {
    "name": "ipython",
    "version": 3
   },
   "file_extension": ".py",
   "mimetype": "text/x-python",
   "name": "python",
   "nbconvert_exporter": "python",
   "pygments_lexer": "ipython3",
   "version": "3.7.1"
  }
 },
 "nbformat": 4,
 "nbformat_minor": 2
}
