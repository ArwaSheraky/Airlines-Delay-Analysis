{
 "cells": [
  {
   "cell_type": "markdown",
   "metadata": {},
   "source": [
    "# Classification"
   ]
  },
  {
   "cell_type": "code",
   "execution_count": 11,
   "metadata": {},
   "outputs": [],
   "source": [
    "# import the libraries\n",
    "\n",
    "%matplotlib inline\n",
    "\n",
    "import pandas as pd\n",
    "import numpy as np\n",
    "import scipy\n",
    "import matplotlib.pyplot as plt\n",
    "import seaborn as sns\n",
    "\n",
    "# sklearn :: utils\n",
    "from sklearn.model_selection import train_test_split\n",
    "from sklearn.metrics import confusion_matrix\n",
    "from sklearn.model_selection import KFold\n",
    "\n",
    "# sklearn :: models\n",
    "from sklearn.naive_bayes import GaussianNB\n",
    "from sklearn.ensemble import RandomForestClassifier\n",
    "from sklearn.neighbors import KNeighborsClassifier\n",
    "from sklearn.tree import DecisionTreeClassifier\n",
    "\n",
    "# sklearn :: evaluation metrics\n",
    "from sklearn.metrics import cohen_kappa_score\n",
    "\n",
    "# convert scientific notation to decimals\n",
    "pd.set_option('display.float_format', lambda x: '%.2f' % x)\n",
    "sns.set_style('whitegrid')"
   ]
  },
  {
   "cell_type": "markdown",
   "metadata": {},
   "source": [
    "________________________\n",
    "# Load Data"
   ]
  },
  {
   "cell_type": "code",
   "execution_count": 12,
   "metadata": {},
   "outputs": [],
   "source": [
    "# Cleaned data can be downloaded here:\n",
    "# \n",
    "\n",
    "df_flights = pd.read_csv('../data/flightsmerged.csv', low_memory=False)"
   ]
  },
  {
   "cell_type": "code",
   "execution_count": 13,
   "metadata": {
    "scrolled": false
   },
   "outputs": [
    {
     "data": {
      "text/html": [
       "<div>\n",
       "<style scoped>\n",
       "    .dataframe tbody tr th:only-of-type {\n",
       "        vertical-align: middle;\n",
       "    }\n",
       "\n",
       "    .dataframe tbody tr th {\n",
       "        vertical-align: top;\n",
       "    }\n",
       "\n",
       "    .dataframe thead th {\n",
       "        text-align: right;\n",
       "    }\n",
       "</style>\n",
       "<table border=\"1\" class=\"dataframe\">\n",
       "  <thead>\n",
       "    <tr style=\"text-align: right;\">\n",
       "      <th></th>\n",
       "      <th>MONTH</th>\n",
       "      <th>FLIGHT_NUMBER</th>\n",
       "      <th>TAIL_NUMBER</th>\n",
       "      <th>ORIGIN_AC</th>\n",
       "      <th>DESTINATION_AC</th>\n",
       "      <th>SCHEDULED_DEPARTURE</th>\n",
       "      <th>DEPARTURE_TIME</th>\n",
       "      <th>DEPARTURE_DELAY</th>\n",
       "      <th>SCHEDULED_TIME</th>\n",
       "      <th>DISTANCE</th>\n",
       "      <th>...</th>\n",
       "      <th>AIR_SYSTEM_DELAY</th>\n",
       "      <th>SECURITY_DELAY</th>\n",
       "      <th>AIRLINE_DELAY</th>\n",
       "      <th>LATE_AIRCRAFT_DELAY</th>\n",
       "      <th>WEATHER_DELAY</th>\n",
       "      <th>DATE</th>\n",
       "      <th>AIRLINE_CODE</th>\n",
       "      <th>AIRLINE_NAME</th>\n",
       "      <th>ORIGIN_AIRPORT</th>\n",
       "      <th>DESTINATION_AIRPORT</th>\n",
       "    </tr>\n",
       "  </thead>\n",
       "  <tbody>\n",
       "    <tr>\n",
       "      <th>0</th>\n",
       "      <td>1</td>\n",
       "      <td>98</td>\n",
       "      <td>N407AS</td>\n",
       "      <td>ANC</td>\n",
       "      <td>SEA</td>\n",
       "      <td>00:05:00</td>\n",
       "      <td>23:54:00</td>\n",
       "      <td>-11.00</td>\n",
       "      <td>205.00</td>\n",
       "      <td>1448</td>\n",
       "      <td>...</td>\n",
       "      <td>nan</td>\n",
       "      <td>nan</td>\n",
       "      <td>nan</td>\n",
       "      <td>nan</td>\n",
       "      <td>nan</td>\n",
       "      <td>2015-01-01</td>\n",
       "      <td>AS</td>\n",
       "      <td>Alaska Airlines Inc.</td>\n",
       "      <td>Ted Stevens Anchorage International Airport</td>\n",
       "      <td>Seattle-Tacoma International Airport</td>\n",
       "    </tr>\n",
       "    <tr>\n",
       "      <th>1</th>\n",
       "      <td>1</td>\n",
       "      <td>2336</td>\n",
       "      <td>N3KUAA</td>\n",
       "      <td>LAX</td>\n",
       "      <td>PBI</td>\n",
       "      <td>00:10:00</td>\n",
       "      <td>00:02:00</td>\n",
       "      <td>-8.00</td>\n",
       "      <td>280.00</td>\n",
       "      <td>2330</td>\n",
       "      <td>...</td>\n",
       "      <td>nan</td>\n",
       "      <td>nan</td>\n",
       "      <td>nan</td>\n",
       "      <td>nan</td>\n",
       "      <td>nan</td>\n",
       "      <td>2015-01-01</td>\n",
       "      <td>AA</td>\n",
       "      <td>American Airlines Inc.</td>\n",
       "      <td>Los Angeles International Airport</td>\n",
       "      <td>Palm Beach International Airport</td>\n",
       "    </tr>\n",
       "    <tr>\n",
       "      <th>2</th>\n",
       "      <td>1</td>\n",
       "      <td>840</td>\n",
       "      <td>N171US</td>\n",
       "      <td>SFO</td>\n",
       "      <td>CLT</td>\n",
       "      <td>00:20:00</td>\n",
       "      <td>00:18:00</td>\n",
       "      <td>-2.00</td>\n",
       "      <td>286.00</td>\n",
       "      <td>2296</td>\n",
       "      <td>...</td>\n",
       "      <td>nan</td>\n",
       "      <td>nan</td>\n",
       "      <td>nan</td>\n",
       "      <td>nan</td>\n",
       "      <td>nan</td>\n",
       "      <td>2015-01-01</td>\n",
       "      <td>US</td>\n",
       "      <td>US Airways Inc.</td>\n",
       "      <td>San Francisco International Airport</td>\n",
       "      <td>Charlotte Douglas International Airport</td>\n",
       "    </tr>\n",
       "    <tr>\n",
       "      <th>3</th>\n",
       "      <td>1</td>\n",
       "      <td>258</td>\n",
       "      <td>N3HYAA</td>\n",
       "      <td>LAX</td>\n",
       "      <td>MIA</td>\n",
       "      <td>00:20:00</td>\n",
       "      <td>00:15:00</td>\n",
       "      <td>-5.00</td>\n",
       "      <td>285.00</td>\n",
       "      <td>2342</td>\n",
       "      <td>...</td>\n",
       "      <td>nan</td>\n",
       "      <td>nan</td>\n",
       "      <td>nan</td>\n",
       "      <td>nan</td>\n",
       "      <td>nan</td>\n",
       "      <td>2015-01-01</td>\n",
       "      <td>AA</td>\n",
       "      <td>American Airlines Inc.</td>\n",
       "      <td>Los Angeles International Airport</td>\n",
       "      <td>Miami International Airport</td>\n",
       "    </tr>\n",
       "    <tr>\n",
       "      <th>4</th>\n",
       "      <td>1</td>\n",
       "      <td>135</td>\n",
       "      <td>N527AS</td>\n",
       "      <td>SEA</td>\n",
       "      <td>ANC</td>\n",
       "      <td>00:25:00</td>\n",
       "      <td>00:24:00</td>\n",
       "      <td>-1.00</td>\n",
       "      <td>235.00</td>\n",
       "      <td>1448</td>\n",
       "      <td>...</td>\n",
       "      <td>nan</td>\n",
       "      <td>nan</td>\n",
       "      <td>nan</td>\n",
       "      <td>nan</td>\n",
       "      <td>nan</td>\n",
       "      <td>2015-01-01</td>\n",
       "      <td>AS</td>\n",
       "      <td>Alaska Airlines Inc.</td>\n",
       "      <td>Seattle-Tacoma International Airport</td>\n",
       "      <td>Ted Stevens Anchorage International Airport</td>\n",
       "    </tr>\n",
       "  </tbody>\n",
       "</table>\n",
       "<p>5 rows × 26 columns</p>\n",
       "</div>"
      ],
      "text/plain": [
       "   MONTH  FLIGHT_NUMBER TAIL_NUMBER ORIGIN_AC DESTINATION_AC  \\\n",
       "0      1             98      N407AS       ANC            SEA   \n",
       "1      1           2336      N3KUAA       LAX            PBI   \n",
       "2      1            840      N171US       SFO            CLT   \n",
       "3      1            258      N3HYAA       LAX            MIA   \n",
       "4      1            135      N527AS       SEA            ANC   \n",
       "\n",
       "  SCHEDULED_DEPARTURE DEPARTURE_TIME  DEPARTURE_DELAY  SCHEDULED_TIME  \\\n",
       "0            00:05:00       23:54:00           -11.00          205.00   \n",
       "1            00:10:00       00:02:00            -8.00          280.00   \n",
       "2            00:20:00       00:18:00            -2.00          286.00   \n",
       "3            00:20:00       00:15:00            -5.00          285.00   \n",
       "4            00:25:00       00:24:00            -1.00          235.00   \n",
       "\n",
       "   DISTANCE                     ...                      AIR_SYSTEM_DELAY  \\\n",
       "0      1448                     ...                                   nan   \n",
       "1      2330                     ...                                   nan   \n",
       "2      2296                     ...                                   nan   \n",
       "3      2342                     ...                                   nan   \n",
       "4      1448                     ...                                   nan   \n",
       "\n",
       "  SECURITY_DELAY  AIRLINE_DELAY  LATE_AIRCRAFT_DELAY  WEATHER_DELAY  \\\n",
       "0            nan            nan                  nan            nan   \n",
       "1            nan            nan                  nan            nan   \n",
       "2            nan            nan                  nan            nan   \n",
       "3            nan            nan                  nan            nan   \n",
       "4            nan            nan                  nan            nan   \n",
       "\n",
       "         DATE  AIRLINE_CODE            AIRLINE_NAME  \\\n",
       "0  2015-01-01            AS    Alaska Airlines Inc.   \n",
       "1  2015-01-01            AA  American Airlines Inc.   \n",
       "2  2015-01-01            US         US Airways Inc.   \n",
       "3  2015-01-01            AA  American Airlines Inc.   \n",
       "4  2015-01-01            AS    Alaska Airlines Inc.   \n",
       "\n",
       "                                ORIGIN_AIRPORT  \\\n",
       "0  Ted Stevens Anchorage International Airport   \n",
       "1            Los Angeles International Airport   \n",
       "2          San Francisco International Airport   \n",
       "3            Los Angeles International Airport   \n",
       "4         Seattle-Tacoma International Airport   \n",
       "\n",
       "                           DESTINATION_AIRPORT  \n",
       "0         Seattle-Tacoma International Airport  \n",
       "1             Palm Beach International Airport  \n",
       "2      Charlotte Douglas International Airport  \n",
       "3                  Miami International Airport  \n",
       "4  Ted Stevens Anchorage International Airport  \n",
       "\n",
       "[5 rows x 26 columns]"
      ]
     },
     "execution_count": 13,
     "metadata": {},
     "output_type": "execute_result"
    }
   ],
   "source": [
    "df_flights.head()"
   ]
  },
  {
   "cell_type": "markdown",
   "metadata": {},
   "source": [
    "_____________________\n",
    "# Missing Values"
   ]
  },
  {
   "cell_type": "code",
   "execution_count": 15,
   "metadata": {},
   "outputs": [
    {
     "name": "stdout",
     "output_type": "stream",
     "text": [
      "Delayed Flights Missing Values:\n",
      " MONTH                        0\n",
      "FLIGHT_NUMBER                0\n",
      "TAIL_NUMBER              14721\n",
      "ORIGIN_AC                    0\n",
      "DESTINATION_AC               0\n",
      "SCHEDULED_DEPARTURE          0\n",
      "DEPARTURE_TIME           86153\n",
      "DEPARTURE_DELAY          86153\n",
      "SCHEDULED_TIME               4\n",
      "DISTANCE                     0\n",
      "SCHEDULED_ARRIVAL            0\n",
      "ARRIVAL_TIME             91472\n",
      "ARRIVAL_DELAY           103522\n",
      "DIVERTED                     0\n",
      "CANCELLED                    0\n",
      "CANCELLATION_REASON          0\n",
      "AIR_SYSTEM_DELAY       4754090\n",
      "SECURITY_DELAY         4754090\n",
      "AIRLINE_DELAY          4754090\n",
      "LATE_AIRCRAFT_DELAY    4754090\n",
      "WEATHER_DELAY          4754090\n",
      "DATE                         0\n",
      "AIRLINE_CODE                 0\n",
      "AIRLINE_NAME                 0\n",
      "ORIGIN_AIRPORT          480211\n",
      "DESTINATION_AIRPORT     480211\n",
      "dtype: int64\n"
     ]
    }
   ],
   "source": [
    "print(\"Delayed Flights Missing Values:\\n\", df_flights.isnull().sum())"
   ]
  },
  {
   "cell_type": "code",
   "execution_count": 29,
   "metadata": {},
   "outputs": [
    {
     "data": {
      "text/plain": [
       "469     3913\n",
       "326     3460\n",
       "327     3459\n",
       "188     3304\n",
       "667     3298\n",
       "403     3266\n",
       "315     3248\n",
       "407     3235\n",
       "61      3226\n",
       "761     3197\n",
       "223     3194\n",
       "657     3172\n",
       "330     3128\n",
       "719     3127\n",
       "404     3122\n",
       "520     3119\n",
       "604     3116\n",
       "511     3112\n",
       "466     3108\n",
       "357     3105\n",
       "311     3090\n",
       "470     3074\n",
       "711     3068\n",
       "50      3057\n",
       "660     3054\n",
       "612     3014\n",
       "15      3011\n",
       "746     3003\n",
       "720     3002\n",
       "406     2948\n",
       "        ... \n",
       "6812       1\n",
       "6799       1\n",
       "6645       1\n",
       "6625       1\n",
       "9320       1\n",
       "8445       1\n",
       "6793       1\n",
       "8442       1\n",
       "6828       1\n",
       "6794       1\n",
       "6783       1\n",
       "6777       1\n",
       "6623       1\n",
       "6850       1\n",
       "6752       1\n",
       "9793       1\n",
       "6689       1\n",
       "6775       1\n",
       "6690       1\n",
       "6657       1\n",
       "6765       1\n",
       "6731       1\n",
       "6705       1\n",
       "8409       1\n",
       "8410       1\n",
       "6663       1\n",
       "6757       1\n",
       "6758       1\n",
       "6759       1\n",
       "6096       1\n",
       "Name: FLIGHT_NUMBER, Length: 6952, dtype: int64"
      ]
     },
     "execution_count": 29,
     "metadata": {},
     "output_type": "execute_result"
    }
   ],
   "source": [
    "df_flights['FLIGHT_NUMBER'].value_counts()"
   ]
  },
  {
   "cell_type": "markdown",
   "metadata": {},
   "source": [
    "### DEPARTURE_DELAY & ARRIVAL_DELAY"
   ]
  },
  {
   "cell_type": "code",
   "execution_count": 20,
   "metadata": {},
   "outputs": [
    {
     "name": "stdout",
     "output_type": "stream",
     "text": [
      "Departure Delays Missing Values =  86153\n",
      "Arrival Delays Missing Values =  103522\n",
      "Cancelled flights =  89270\n"
     ]
    }
   ],
   "source": [
    "print(\"Departure Delays Missing Values = \", df_flights['DEPARTURE_DELAY'].isnull().sum())\n",
    "print(\"Arrival Delays Missing Values = \", df_flights['ARRIVAL_DELAY'].isnull().sum())\n",
    "print(\"Cancelled flights = \", df_flights['CANCELLED'].sum())"
   ]
  },
  {
   "cell_type": "code",
   "execution_count": 23,
   "metadata": {},
   "outputs": [
    {
     "name": "stdout",
     "output_type": "stream",
     "text": [
      "Flights without departure and arrival delays =  86153\n",
      "Cancelled flights without arrival delay =  89270\n",
      "Cancelled flights without departure delay =  86153\n"
     ]
    }
   ],
   "source": [
    "print(\"Flights without departure and arrival delays = \", len(df_flights[(df_flights['DEPARTURE_DELAY'].isnull()) &\n",
    "                                                             (df_flights['ARRIVAL_DELAY'].isnull())].index))\n",
    "\n",
    "print(\"Cancelled flights without arrival delay = \", len(df_flights[(df_flights['ARRIVAL_DELAY'].isnull()) &\n",
    "                                                               (df_flights['CANCELLED'] == 1)].index))\n",
    "\n",
    "print(\"Cancelled flights without departure delay = \", len(df_flights[(df_flights['DEPARTURE_DELAY'].isnull()) &\n",
    "                                                                     (df_flights['CANCELLED'] == 1)].index))"
   ]
  },
  {
   "cell_type": "markdown",
   "metadata": {},
   "source": [
    "#### Conclosions:\n",
    "- Flights without departure delay, doesn't have arrival delay too. However, there are some flights without arrival delay, although having departure delay.\n",
    "-  All cancelled flights, doesn't have arrival delay. > Makes sense."
   ]
  },
  {
   "cell_type": "code",
   "execution_count": null,
   "metadata": {},
   "outputs": [],
   "source": [
    "# Fill missing values with mean delay for each airline.\n",
    "\n",
    "# airlines_dep_delays = df_flights.groupby('AIRLINE', sort=False)['DEPARTURE_DELAY'].mean()\n",
    "# airlines_arr_delays = df_flights.groupby('AIRLINE', sort=False)['ARRIVAL_DELAY'].mean()\n",
    "\n",
    "# print(airlines_dep_delays.sort_values())\n",
    "# print(airlines_arr_delays.sort_values())"
   ]
  },
  {
   "cell_type": "code",
   "execution_count": null,
   "metadata": {},
   "outputs": [],
   "source": [
    "\n",
    "# for idx in df_flights.index[df_flights['DEPARTURE_DELAY'].isnull()]:    \n",
    "    \n",
    "#     # If the flight is cancelled, delay = max delay\n",
    "#     if(df_flights.loc[idx,'CANCELLED'] == 1):\n",
    "#         df_flights.at[idx,'DEPARTURE_DELAY'] = airlines_dep_delays.max()\n",
    "#         df_flights.at[idx,'ARRIVAL_DELAY'] = airlines_arr_delays.max()\n",
    "    \n",
    "#     else:\n",
    "#         airline_code = df_flights.loc[idx,'AIRLINE']\n",
    "#         df_flights.at[idx,'DEPARTURE_DELAY'] = airlines_dep_delays.at[airline_code]\n",
    "#         df_flights.at[idx,'ARRIVAL_DELAY'] = airlines_arr_delays.at[airline_code]\n"
   ]
  },
  {
   "cell_type": "code",
   "execution_count": 19,
   "metadata": {},
   "outputs": [
    {
     "data": {
      "text/plain": [
       "18918"
      ]
     },
     "execution_count": 19,
     "metadata": {},
     "output_type": "execute_result"
    }
   ],
   "source": [
    "# Remove flights with missing delays\n",
    "\n",
    "missing = []\n",
    "missing += list(df_flights[(df_flights['DEPARTURE_DELAY'].isnull())\n",
    "                                   | df_flights['ARRIVAL_DELAY'].isnull()].index)\n",
    "\n",
    "len(missing)"
   ]
  },
  {
   "cell_type": "code",
   "execution_count": 21,
   "metadata": {},
   "outputs": [
    {
     "name": "stdout",
     "output_type": "stream",
     "text": [
      "5714008\n"
     ]
    }
   ],
   "source": [
    "df_flights = df_flights[~df_flights.index.isin(missing)]\n",
    "print(len(df_flights))"
   ]
  },
  {
   "cell_type": "markdown",
   "metadata": {},
   "source": [
    "____\n",
    "\n",
    "# Feature Engineering"
   ]
  },
  {
   "cell_type": "markdown",
   "metadata": {},
   "source": [
    "## Add Columns"
   ]
  },
  {
   "cell_type": "code",
   "execution_count": 4,
   "metadata": {},
   "outputs": [],
   "source": [
    "# Add column for flight Class (Early, On_Time, Delayed, Cancelled)\n",
    "\n",
    "# Default value:\n",
    "df_flights['CLASS'] = 'On_Time'"
   ]
  },
  {
   "cell_type": "code",
   "execution_count": 9,
   "metadata": {},
   "outputs": [
    {
     "data": {
      "text/plain": [
       "0    5592910\n",
       "Name: CANCELLED, dtype: int64"
      ]
     },
     "execution_count": 9,
     "metadata": {},
     "output_type": "execute_result"
    }
   ],
   "source": [
    "df_flights['CANCELLED'].value_counts()"
   ]
  },
  {
   "cell_type": "code",
   "execution_count": 7,
   "metadata": {},
   "outputs": [
    {
     "name": "stdout",
     "output_type": "stream",
     "text": [
      "# Cancelled flights =  0\n"
     ]
    }
   ],
   "source": [
    "# 1- Cancelled flights\n",
    "\n",
    "cancelled_flights = list(df_flights[df_flights['CANCELLED'] == 1].index)    \n",
    "df_flights.at[cancelled_flights, 'CLASS'] = 'Cancelled'\n",
    "    \n",
    "print(\"# Cancelled flights = \", len(df_flights[df_flights['CLASS'] == 'Cancelled']))"
   ]
  },
  {
   "cell_type": "code",
   "execution_count": 6,
   "metadata": {},
   "outputs": [
    {
     "name": "stdout",
     "output_type": "stream",
     "text": [
      "# Delayed flights =  2572700\n"
     ]
    }
   ],
   "source": [
    "# 2- Delayed flights\n",
    "    \n",
    "delayed_flights = list(df_flights[(df_flights['DEPARTURE_DELAY'] > 0) | (df_flights['ARRIVAL_DELAY'] > 0)].index)    \n",
    "df_flights.at[delayed_flights, 'CLASS'] = 'Delayed'\n",
    "\n",
    "print(\"# Delayed flights = \", len(df_flights[df_flights['CLASS'] == 'Delayed']))"
   ]
  },
  {
   "cell_type": "code",
   "execution_count": null,
   "metadata": {},
   "outputs": [],
   "source": [
    "# 3- Early flights\n",
    "\n",
    "early_flights = list(df_flights[(df_flights['DEPARTURE_DELAY'] < 0) & (df_flights['ARRIVAL_DELAY'] < 0)].index)\n",
    "df_flights.at[early_flights, 'CLASS'] = 'Early'\n",
    "print(\"# Early flights = \", len(early_flights))\n",
    "\n",
    "# Remove the early flights\n",
    "#df = df[~df.index.isin(early_flights)]\n",
    "#print(\"Was: \", df.shape, \" Now: \", df.shape)\n"
   ]
  },
  {
   "cell_type": "code",
   "execution_count": null,
   "metadata": {},
   "outputs": [],
   "source": [
    "# 4- On-time flights\n",
    "\n",
    "print(\"On-time flights = \",len(df_flights[df_flights['CLASS'] == 'On_Time']))"
   ]
  },
  {
   "cell_type": "code",
   "execution_count": null,
   "metadata": {},
   "outputs": [],
   "source": [
    "df_flights['CLASS'].value_counts()"
   ]
  },
  {
   "cell_type": "markdown",
   "metadata": {},
   "source": [
    "## Missing Values"
   ]
  },
  {
   "cell_type": "code",
   "execution_count": null,
   "metadata": {},
   "outputs": [],
   "source": [
    "df_flights.isnull().sum()"
   ]
  },
  {
   "cell_type": "code",
   "execution_count": null,
   "metadata": {},
   "outputs": [],
   "source": [
    "msv_columns = ['AIR_SYSTEM_DELAY', 'SECURITY_DELAY' ,'AIRLINE_DELAY' ,'LATE_AIRCRAFT_DELAY' ,'WEATHER_DELAY']\n",
    "df_flights[msv_columns] = df_flights[msv_columns].fillna(0.0)"
   ]
  },
  {
   "cell_type": "code",
   "execution_count": null,
   "metadata": {},
   "outputs": [],
   "source": [
    "df_flights.isnull().sum()"
   ]
  },
  {
   "cell_type": "markdown",
   "metadata": {},
   "source": [
    "## Categorical Columns"
   ]
  },
  {
   "cell_type": "code",
   "execution_count": null,
   "metadata": {},
   "outputs": [],
   "source": [
    "# get_dummies\n",
    "\n",
    "def get_dum(df):\n",
    "    categorical = ['MONTH','ORIGIN_AC','DESTINATION_AC', 'AIRLINE_CODE']\n",
    "    df_dummies = pd.get_dummies(df[categorical])\n",
    "    new_df = pd.concat([df_dummies, df], axis =1)    \n",
    "    \n",
    "    return new_df, df_dummies"
   ]
  },
  {
   "cell_type": "code",
   "execution_count": null,
   "metadata": {},
   "outputs": [],
   "source": [
    "new_df, df_dummies = get_dum(df_flights)"
   ]
  },
  {
   "cell_type": "markdown",
   "metadata": {},
   "source": [
    "__________________\n",
    "# Training The Models"
   ]
  },
  {
   "cell_type": "code",
   "execution_count": null,
   "metadata": {},
   "outputs": [],
   "source": []
  },
  {
   "cell_type": "markdown",
   "metadata": {},
   "source": [
    "_________\n",
    "# Testing The Models"
   ]
  },
  {
   "cell_type": "code",
   "execution_count": null,
   "metadata": {},
   "outputs": [],
   "source": []
  },
  {
   "cell_type": "markdown",
   "metadata": {},
   "source": [
    "____________\n",
    "# Model Evaluation"
   ]
  },
  {
   "cell_type": "code",
   "execution_count": null,
   "metadata": {},
   "outputs": [],
   "source": []
  }
 ],
 "metadata": {
  "kernelspec": {
   "display_name": "Python 3",
   "language": "python",
   "name": "python3"
  },
  "language_info": {
   "codemirror_mode": {
    "name": "ipython",
    "version": 3
   },
   "file_extension": ".py",
   "mimetype": "text/x-python",
   "name": "python",
   "nbconvert_exporter": "python",
   "pygments_lexer": "ipython3",
   "version": "3.7.1"
  }
 },
 "nbformat": 4,
 "nbformat_minor": 2
}
