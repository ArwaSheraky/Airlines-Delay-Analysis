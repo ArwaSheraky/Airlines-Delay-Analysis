{
 "cells": [
  {
   "cell_type": "markdown",
   "metadata": {},
   "source": [
    "# Exploratory Data Analysis"
   ]
  },
  {
   "cell_type": "code",
   "execution_count": null,
   "metadata": {},
   "outputs": [],
   "source": [
    "# import the library\n",
    "%matplotlib inline\n",
    "\n",
    "import pandas as pd\n",
    "import numpy as np\n",
    "import scipy\n",
    "import matplotlib.pyplot as plt\n",
    "import seaborn as sns\n",
    "import datetime\n",
    "from scipy.stats import kurtosis\n",
    "from scipy.stats import skew\n",
    "\n",
    "sns.set_style('whitegrid')\n",
    "\n",
    "pd.set_option('display.float_format', lambda x: '%.2f' % x)"
   ]
  },
  {
   "cell_type": "markdown",
   "metadata": {},
   "source": [
    "## Data Perspective\n",
    "- One variable\n",
    "    - Numeric variables:\n",
    "        - continuous: average income\n",
    "        - discrete: population\n",
    "    - Categorical variables:\n",
    "        - ordinal: grade\n",
    "        - nominal: house, apartment, townhouse, etc.\n",
    "- Multiple variables:\n",
    "    - Numeric x Numeric\n",
    "    - Categorical x Numeric\n",
    "    - Categorical x Categorical"
   ]
  },
  {
   "cell_type": "markdown",
   "metadata": {},
   "source": [
    "## 1. Load Cleaned Data"
   ]
  },
  {
   "cell_type": "code",
   "execution_count": null,
   "metadata": {},
   "outputs": [],
   "source": [
    "df = pd.read_csv('data/flightsmerged.csv', low_memory=False)\n",
    "print(df.columns)\n",
    "df.head()"
   ]
  },
  {
   "cell_type": "markdown",
   "metadata": {},
   "source": [
    "## 2. One Variable"
   ]
  },
  {
   "cell_type": "markdown",
   "metadata": {},
   "source": [
    "### 2.1. Numeric"
   ]
  },
  {
   "cell_type": "code",
   "execution_count": null,
   "metadata": {},
   "outputs": [],
   "source": [
    "#Analyze arrival delay distribution\n",
    "\n",
    "print('Arrival delays (minutes)')\n",
    "print(df['ARRIVAL_DELAY'].describe())\n",
    "plt.hist(df['ARRIVAL_DELAY'], bins=100)\n",
    "plt.show()\n",
    "\n",
    "print(\"mean : \", np.mean(df['ARRIVAL_DELAY']))\n",
    "print(\"variance  : \", np.var(df['ARRIVAL_DELAY']))\n",
    "print(\"skewness : \",df['ARRIVAL_DELAY'].skew())\n",
    "print(\"kurtosis : \",df['ARRIVAL_DELAY'].kurtosis())\n",
    "print('')\n",
    "\n",
    "print('Departure delays (minutes)')\n",
    "print(df['DEPARTURE_DELAY'].describe())\n",
    "plt.hist(df['DEPARTURE_DELAY'], bins=100)\n",
    "plt.show()\n",
    "\n",
    "print(\"mean : \", np.mean(df['DEPARTURE_DELAY']))\n",
    "print(\"variance  : \", np.var(df['DEPARTURE_DELAY']))\n",
    "print(\"skewness : \",df['DEPARTURE_DELAY'].skew())\n",
    "print(\"kurtosis : \",df['DEPARTURE_DELAY'].kurtosis())"
   ]
  },
  {
   "cell_type": "markdown",
   "metadata": {},
   "source": [
    "##### Conclusion: The arrival and departure delay data is highly positively skewed with heavy outliers "
   ]
  },
  {
   "cell_type": "markdown",
   "metadata": {},
   "source": [
    "### 2.2. Categorical"
   ]
  },
  {
   "cell_type": "code",
   "execution_count": null,
   "metadata": {
    "scrolled": false
   },
   "outputs": [],
   "source": [
    "print(df['CANCELLATION_REASON'].value_counts())\n",
    "\n",
    "# Bar Chart\n",
    "plt.figure(figsize=(12,6))\n",
    "plt.title('# Flight Cancelled')\n",
    "plt.xlabel('Cancellation Reasons')\n",
    "plt.ylabel('# Flights')\n",
    "\n",
    "labels = df['CANCELLATION_REASON'].value_counts().index\n",
    "values = df['CANCELLATION_REASON'].value_counts().values\n",
    "\n",
    "y_pos = range(len(labels))\n",
    "plt.bar(y_pos, values, align='center', alpha=0.5, color=['red','purple','navy','gray'])\n",
    "plt.xticks(y_pos, labels)\n",
    "\n",
    "plt.show()"
   ]
  },
  {
   "cell_type": "markdown",
   "metadata": {},
   "source": [
    "#### Conclusion: 'Weather' is the main reason of flight cancellation."
   ]
  },
  {
   "cell_type": "markdown",
   "metadata": {},
   "source": [
    "## 3. Multiple Variables"
   ]
  },
  {
   "cell_type": "markdown",
   "metadata": {},
   "source": [
    "### 3.1. Numeric X Numeric"
   ]
  },
  {
   "cell_type": "code",
   "execution_count": null,
   "metadata": {
    "scrolled": false
   },
   "outputs": [],
   "source": [
    "#Correlation\n",
    "\n",
    "correlation_matrix = df.corr()\n",
    "plt.figure(figsize=(16, 9))\n",
    "sns.heatmap(correlation_matrix, square=True)\n",
    "plt.show()\n"
   ]
  },
  {
   "cell_type": "markdown",
   "metadata": {},
   "source": [
    "### 3.2. Numeric X Categorical"
   ]
  },
  {
   "cell_type": "code",
   "execution_count": null,
   "metadata": {
    "scrolled": false
   },
   "outputs": [],
   "source": [
    "# Linechart of arrival delay distribution by month \n",
    "f,ax=plt.subplots(1,2,figsize=(12,6))\n",
    "\n",
    "df[['MONTH','ARRIVAL_DELAY']].groupby(['MONTH']).mean().plot(ax=ax[0])\n",
    "ax[0].set_title('Average delay per month')\n",
    "\n",
    "df[['MONTH','ARRIVAL_DELAY']].groupby(['MONTH']).sum().plot(ax=ax[1],color=['purple'])\n",
    "ax[1].set_title('Delay (minutes) per month')\n",
    "plt.show()"
   ]
  },
  {
   "cell_type": "markdown",
   "metadata": {},
   "source": [
    "###### Conclusion: April has the lowest average arrival delays and June has highest "
   ]
  },
  {
   "cell_type": "markdown",
   "metadata": {},
   "source": [
    "## 4. Business Prespective"
   ]
  },
  {
   "cell_type": "markdown",
   "metadata": {},
   "source": [
    "### 4.1. What is the average delay for each airline ?"
   ]
  },
  {
   "cell_type": "code",
   "execution_count": null,
   "metadata": {},
   "outputs": [],
   "source": [
    "\n",
    "airline_arr_group = df.groupby('AIRLINE_NAME')['ARRIVAL_DELAY'].mean().round().sort_values()\n",
    "airline_dep_group = df.groupby('AIRLINE_NAME')['DEPARTURE_DELAY'].mean().round().sort_values()\n",
    "\n",
    "#Plotting\n",
    "pd.concat(\n",
    "    [airline_arr_group.rename('Mean Arrival Delay'), airline_dep_group.rename('Mean Departure Delay')],\n",
    "    axis=1, sort=False).plot.bar(figsize=(16,8), title='Mean Delays for Airlines' )\n"
   ]
  },
  {
   "cell_type": "code",
   "execution_count": null,
   "metadata": {},
   "outputs": [],
   "source": [
    "#Another Visualization\n",
    "\n",
    "fig = plt.figure(figsize=(12, 16))\n",
    "ax1 = plt.subplot(211)\n",
    "\n",
    "plt.title('Average Arrival Delays for Airlines')\n",
    "plt.xlabel('Average delay per minutes')\n",
    "plt.ylabel('Airlines Names')\n",
    "sns.barplot(x=airline_arr_group.values, y=airline_arr_group.index, orient='h')\n",
    "\n",
    "ax2 = plt.subplot(212, sharex = ax1, sharey = ax1)\n",
    "\n",
    "plt.title('Average Departure Delays for Airlines')\n",
    "plt.xlabel('Average delay per minutes')\n",
    "plt.ylabel('Airlines Names')\n",
    "sns.barplot(x=airline_dep_group.values, y=airline_dep_group.index, orient='h')\n",
    "\n",
    "plt.show()\n"
   ]
  },
  {
   "cell_type": "markdown",
   "metadata": {},
   "source": [
    "### 4.2. What is the average arrival and departure delay times based on airport ?"
   ]
  },
  {
   "cell_type": "code",
   "execution_count": null,
   "metadata": {
    "scrolled": false
   },
   "outputs": [],
   "source": [
    "\n",
    "origin_airport_group = df.groupby(by='ORIGIN_AIRPORT')['DEPARTURE_DELAY'].mean().round().sort_values()\n",
    "dest_airport_group = df.groupby(by='DESTINATION_AIRPORT')['ARRIVAL_DELAY'].mean().round().sort_values()\n",
    "\n",
    "print(\"Average Departure delays:\\n\",origin_airport_group)\n",
    "print(\"_______________________\\n\")\n",
    "print(\"Average Arrival delays:\\n\",dest_airport_group)\n"
   ]
  },
  {
   "cell_type": "markdown",
   "metadata": {},
   "source": [
    "##### Conclusion:\n",
    "1. Flights departing from Gustavus Airport have the highest average delays.\n",
    "2. Flights arriving to St. Cloud Regional Airport have the highest average delays.\n",
    "3. Flights depart early from Valdez Airport, and also arrive early to it."
   ]
  },
  {
   "cell_type": "markdown",
   "metadata": {},
   "source": [
    "### 4.3. What is the impact of the weather on flights?"
   ]
  },
  {
   "cell_type": "code",
   "execution_count": null,
   "metadata": {},
   "outputs": [],
   "source": [
    "#As discussed above, weather is the most common reason for cancellation.\n",
    "#For more illustration:\n",
    "\n",
    "month_cancel_group = df.groupby('MONTH')['CANCELLED'].sum().sort_values()\n",
    "print(month_cancel_group)\n",
    "\n",
    "plt.figure(figsize=(12,7))\n",
    "\n",
    "plt.title('Cancelled flights per month')\n",
    "plt.xlabel('# Cancelled flights')\n",
    "plt.ylabel('Month')\n",
    "sns.barplot(x=month_cancel_group.values, y=month_cancel_group.index, orient='h')\n",
    "\n",
    "plt.show()"
   ]
  },
  {
   "cell_type": "markdown",
   "metadata": {},
   "source": [
    "#### Feb has the higher number of cancelled flights, then Jan and March - Winter."
   ]
  }
 ],
 "metadata": {
  "kernelspec": {
   "display_name": "Python 3",
   "language": "python",
   "name": "python3"
  },
  "language_info": {
   "codemirror_mode": {
    "name": "ipython",
    "version": 3
   },
   "file_extension": ".py",
   "mimetype": "text/x-python",
   "name": "python",
   "nbconvert_exporter": "python",
   "pygments_lexer": "ipython3",
   "version": "3.7.1"
  }
 },
 "nbformat": 4,
 "nbformat_minor": 2
}
