{
 "cells": [
  {
   "cell_type": "markdown",
   "metadata": {},
   "source": [
    "# Data Cleaning"
   ]
  },
  {
   "cell_type": "code",
   "execution_count": 1,
   "metadata": {},
   "outputs": [],
   "source": [
    "# import the library\n",
    "%matplotlib inline\n",
    "\n",
    "import pandas as pd\n",
    "import numpy as np\n",
    "import scipy\n",
    "import matplotlib.pyplot as plt\n",
    "import seaborn as sns\n",
    "\n",
    "sns.set_style('whitegrid')\n",
    "\n",
    "# convert scientific notation to decimals\n",
    "pd.set_option('display.float_format', lambda x: '%.2f' % x)"
   ]
  },
  {
   "cell_type": "markdown",
   "metadata": {},
   "source": [
    "## 1. Load Datasets"
   ]
  },
  {
   "cell_type": "code",
   "execution_count": null,
   "metadata": {},
   "outputs": [],
   "source": [
    "#Source file: https://www.kaggle.com/usdot/flight-delays#flights.csv\n",
    "\n",
    "#Main dataset\n",
    "df_delayed_flights = pd.read_csv('../data/flights.csv', low_memory=False)\n",
    "\n",
    "#Complementary datasets\n",
    "df_airports = pd.read_csv('../data/airports.csv', low_memory=False)\n",
    "df_airlines = pd.read_csv('../data/airlines.csv', low_memory=False)"
   ]
  },
  {
   "cell_type": "markdown",
   "metadata": {},
   "source": [
    "## 2. Summarize the data"
   ]
  },
  {
   "cell_type": "code",
   "execution_count": null,
   "metadata": {
    "scrolled": true
   },
   "outputs": [],
   "source": [
    "print('------- Main Dataset, Flights -------')\n",
    "print(df_delayed_flights.shape)\n",
    "print(df_delayed_flights.columns)\n",
    "print(df_delayed_flights.head())\n",
    "print(df_delayed_flights.describe())\n",
    "\n",
    "print('\\n ------- Airports -------')\n",
    "print(df_airports.shape)\n",
    "print(df_airports.columns)\n",
    "print(df_airports.head())\n",
    "print(df_airports.describe())\n",
    "\n",
    "print('\\n ------- Airlines -------')\n",
    "print(df_airlines.shape)\n",
    "print(df_airlines.columns)\n",
    "print(df_airlines.head())\n",
    "print(df_airlines.describe())"
   ]
  },
  {
   "cell_type": "markdown",
   "metadata": {},
   "source": [
    "## 3. Data Cleaning"
   ]
  },
  {
   "cell_type": "markdown",
   "metadata": {},
   "source": [
    "### 3.1. Missing values"
   ]
  },
  {
   "cell_type": "code",
   "execution_count": null,
   "metadata": {},
   "outputs": [],
   "source": [
    "print(\"Delayed Flights Missing Values:\\n\", df_delayed_flights.isnull().sum())\n",
    "print(\"Airlines Missing Values:\\n\", df_airlines.isnull().sum())\n",
    "print(\"Airports Missing Values:\\n\", df_airports.isnull().sum())"
   ]
  },
  {
   "cell_type": "markdown",
   "metadata": {},
   "source": [
    "### Missing Values: CANCELLATION_REASON"
   ]
  },
  {
   "cell_type": "code",
   "execution_count": null,
   "metadata": {},
   "outputs": [],
   "source": [
    "print(\"Total number of delayed flights: \", len(df_delayed_flights))\n",
    "print(\"Cancelled flights= \", sum(df_delayed_flights['CANCELLED']))\n",
    "print(df_delayed_flights['CANCELLATION_REASON'].value_counts())"
   ]
  },
  {
   "cell_type": "markdown",
   "metadata": {},
   "source": [
    "#### Conclusion: Number of missing data under the variable \"CANCELLATION_REASON\" is large since when the flight was not cancelled, no reason code was assigned. We can replace no values with a NC \"Not Cancelled\":"
   ]
  },
  {
   "cell_type": "code",
   "execution_count": null,
   "metadata": {},
   "outputs": [],
   "source": [
    "df_delayed_flights['CANCELLATION_REASON'] = df_delayed_flights['CANCELLATION_REASON'].fillna('Not_Cancelled')\n",
    "df_delayed_flights['CANCELLATION_REASON'].isnull().sum()\n",
    "print(df_delayed_flights['CANCELLATION_REASON'].value_counts())\n"
   ]
  },
  {
   "cell_type": "markdown",
   "metadata": {},
   "source": [
    "### 3.2. Merge Columns - DATE"
   ]
  },
  {
   "cell_type": "code",
   "execution_count": null,
   "metadata": {},
   "outputs": [],
   "source": [
    "df_delayed_flights['DATE'] = pd.to_datetime(df_delayed_flights[['YEAR','MONTH', 'DAY']])\n",
    "print(df_delayed_flights.columns)"
   ]
  },
  {
   "cell_type": "markdown",
   "metadata": {},
   "source": [
    "### 3.3. Remove not relevant and duplicated columns"
   ]
  },
  {
   "cell_type": "code",
   "execution_count": null,
   "metadata": {},
   "outputs": [],
   "source": [
    "df_delayed_flights = df_delayed_flights.drop(['YEAR','DAY','DAY_OF_WEEK'], axis=1)\n",
    "df_delayed_flights = df_delayed_flights.drop(['TAXI_OUT','TAXI_IN','WHEELS_OFF', 'WHEELS_ON'], axis=1)\n",
    "print(df_delayed_flights.columns)\n",
    "\n",
    "df_airports = df_airports[['IATA_CODE','AIRPORT']]\n",
    "print(df_airports.columns)\n"
   ]
  },
  {
   "cell_type": "markdown",
   "metadata": {},
   "source": [
    "### 3.4. Rename Columns"
   ]
  },
  {
   "cell_type": "code",
   "execution_count": null,
   "metadata": {},
   "outputs": [],
   "source": [
    "df_airports.columns = ['AIRPORT_CODE','AIRPORT_NAME']\n",
    "df_airlines.columns = ['AIRLINE_CODE','AIRLINE_NAME']"
   ]
  },
  {
   "cell_type": "markdown",
   "metadata": {},
   "source": [
    "### 3.5. Change type"
   ]
  },
  {
   "cell_type": "code",
   "execution_count": null,
   "metadata": {},
   "outputs": [],
   "source": [
    "# Function to convert from 'HHMM' string to datetime.time\n",
    "# Reference: https://www.kaggle.com/fabiendaniel/predicting-flight-delays-tutorial\n",
    "\n",
    "import datetime\n",
    "\n",
    "def format_time(time_string):\n",
    "    \n",
    "    if isinstance(time_string, datetime.time):\n",
    "        return time_string\n",
    "    \n",
    "    if pd.isnull(time_string):\n",
    "        return np.nan\n",
    "    \n",
    "    else:\n",
    "        if time_string == 2400: #12 midnight\n",
    "            time_string = 0\n",
    "            \n",
    "        time_string = \"{0:04d}\".format(int(time_string)) #Format the string to be as 4 decimals (hh:mm)\n",
    "        formated_time = datetime.time(int(time_string[0:2]), int(time_string[2:4])) #Split the 4 digits into 2 parts\n",
    "        return formated_time"
   ]
  },
  {
   "cell_type": "code",
   "execution_count": null,
   "metadata": {
    "scrolled": true
   },
   "outputs": [],
   "source": [
    "# Call the Function:\n",
    "\n",
    "df_delayed_flights['SCHEDULED_DEPARTURE'] = df_delayed_flights['SCHEDULED_DEPARTURE'].apply(format_time)\n",
    "df_delayed_flights['DEPARTURE_TIME'] = df_delayed_flights['DEPARTURE_TIME'].apply(format_time)\n",
    "df_delayed_flights['SCHEDULED_ARRIVAL'] =df_delayed_flights['SCHEDULED_ARRIVAL'].apply(format_time)\n",
    "df_delayed_flights['ARRIVAL_TIME'] = df_delayed_flights['ARRIVAL_TIME'].apply(format_time)\n",
    "\n",
    "#Print a sample..\n",
    "df_delayed_flights.loc[:5, ['SCHEDULED_DEPARTURE', 'SCHEDULED_ARRIVAL', 'DEPARTURE_TIME',\n",
    "                            'ARRIVAL_TIME', 'DEPARTURE_DELAY', 'ARRIVAL_DELAY']]"
   ]
  },
  {
   "cell_type": "code",
   "execution_count": null,
   "metadata": {},
   "outputs": [],
   "source": [
    "#Replace cancallation reason with meaningful values\n",
    "df_delayed_flights[\"CANCELLATION_REASON\"].replace({'A':'Airline',\n",
    "                                                   'B':'Weather',\n",
    "                                                   'C':'National Air System',\n",
    "                                                   'D':'Security'}, inplace=True)\n",
    "\n",
    "df_delayed_flights[\"CANCELLATION_REASON\"].value_counts()"
   ]
  },
  {
   "cell_type": "markdown",
   "metadata": {},
   "source": [
    "## 4. Remove Outliers"
   ]
  },
  {
   "cell_type": "code",
   "execution_count": null,
   "metadata": {
    "scrolled": true
   },
   "outputs": [],
   "source": [
    "df_delayed_flights[[\"DEPARTURE_DELAY\",\"ARRIVAL_DELAY\"]].plot.box()\n",
    "plt.show()"
   ]
  },
  {
   "cell_type": "code",
   "execution_count": null,
   "metadata": {},
   "outputs": [],
   "source": [
    "plt.hist(df_delayed_flights['ARRIVAL_DELAY'], bins=150)\n",
    "plt.title(\"Arrival Delays\")\n",
    "plt.show()\n",
    "\n",
    "plt.hist(df_delayed_flights['DEPARTURE_DELAY'], bins=150)\n",
    "plt.title(\"Departure Delays\")\n",
    "plt.show()"
   ]
  },
  {
   "cell_type": "code",
   "execution_count": null,
   "metadata": {},
   "outputs": [],
   "source": [
    "#Determine Outliers\n",
    "\n",
    "mean_arrival_delays = np.mean(df_delayed_flights['ARRIVAL_DELAY'] )\n",
    "sd_arrival_delays = np.std(df_delayed_flights['ARRIVAL_DELAY'])\n",
    "\n",
    "mean_departure_delays = np.mean(df_delayed_flights['DEPARTURE_DELAY'])\n",
    "sd_departure_delays = np.std(df_delayed_flights['DEPARTURE_DELAY'])\n",
    "\n",
    "print('Arrival Delays:\\t \\t Mean = {0} \\t SD = {1}'.format(mean_arrival_delays, sd_arrival_delays))\n",
    "print('Departure Delays:\\t Mean = {0} \\t SD = {1}'.format(mean_departure_delays, sd_departure_delays))\n"
   ]
  },
  {
   "cell_type": "code",
   "execution_count": null,
   "metadata": {},
   "outputs": [],
   "source": [
    "#Arrrival_delay or Departure_delay != 0 \n",
    "\n",
    "arrival_delays = df_delayed_flights[df_delayed_flights['ARRIVAL_DELAY'] != 0.00]['ARRIVAL_DELAY']\n",
    "departure_delays = df_delayed_flights[df_delayed_flights['DEPARTURE_DELAY'] != 0.00]['DEPARTURE_DELAY']\n",
    "\n",
    "print(arrival_delays.shape)\n",
    "\n",
    "\n",
    "mean_ad = np.mean(arrival_delays)\n",
    "sd_ad = np.std(arrival_delays)\n",
    "\n",
    "mean_dd = np.mean(departure_delays)\n",
    "sd_dd = np.std(departure_delays)\n",
    "\n",
    "print(\"With removing on-time flights:\")\n",
    "\n",
    "print('Arrival Delays:\\t \\t Mean = {0} \\t SD = {1}'.format(mean_ad, sd_ad))\n",
    "print('Departure Delays:\\t Mean = {0} \\t SD = {1}'.format(mean_dd, sd_dd))\n"
   ]
  },
  {
   "cell_type": "code",
   "execution_count": null,
   "metadata": {},
   "outputs": [],
   "source": [
    "# Removing\n",
    "flights_to_remove = []\n",
    "\n",
    "# remove based on arrival and departure delays (normal distribution)\n",
    "flights_to_remove = flights_to_remove + list(df_delayed_flights[df_delayed_flights['ARRIVAL_DELAY'] > mean_ad + 3.0* sd_ad].index)\n",
    "flights_to_remove = flights_to_remove + list(df_delayed_flights[df_delayed_flights['ARRIVAL_DELAY'] < mean_ad - 3.0* sd_ad].index)\n",
    "\n",
    "flights_to_remove = flights_to_remove + list(df_delayed_flights[df_delayed_flights['DEPARTURE_DELAY'] > mean_dd + 3.0* sd_dd].index)\n",
    "flights_to_remove = flights_to_remove + list(df_delayed_flights[df_delayed_flights['DEPARTURE_DELAY'] < mean_dd - 3.0* sd_dd].index)\n",
    "\n",
    "print('')\n",
    "print('# Flights to remove', len(flights_to_remove))\n"
   ]
  },
  {
   "cell_type": "code",
   "execution_count": null,
   "metadata": {},
   "outputs": [],
   "source": [
    "\n",
    "new_delayed_flights = df_delayed_flights[~df_delayed_flights.index.isin(flights_to_remove)]\n",
    "print(\"Was: \", df_delayed_flights.shape, \" Now: \", new_delayed_flights.shape)\n"
   ]
  },
  {
   "cell_type": "code",
   "execution_count": null,
   "metadata": {},
   "outputs": [],
   "source": [
    "\n",
    "plt.hist(new_delayed_flights['ARRIVAL_DELAY'], bins=150)\n",
    "plt.title(\"Arrival Delays\")\n",
    "plt.show()\n",
    "\n",
    "plt.hist(new_delayed_flights['DEPARTURE_DELAY'], bins=150)\n",
    "plt.title(\"Departure Delays\")\n",
    "plt.show()"
   ]
  },
  {
   "cell_type": "markdown",
   "metadata": {},
   "source": [
    "## 5. Merging datasets"
   ]
  },
  {
   "cell_type": "code",
   "execution_count": null,
   "metadata": {
    "scrolled": true
   },
   "outputs": [],
   "source": [
    "df_merge_v1 = new_delayed_flights.copy()\n",
    "\n",
    "#Merge Airlines and Flights dfs\n",
    "df_merge_v1 = pd.merge(new_delayed_flights, df_airlines, left_on='AIRLINE', right_on='AIRLINE_CODE', how='left')\n",
    "\n",
    "#Merge Airports and Flights dfs on Origin_Airport and Airport_Code\n",
    "df_merge_v1 = pd.merge(df_merge_v1, df_airports, left_on='ORIGIN_AIRPORT', right_on='AIRPORT_CODE', how='left')\n",
    "df_merge_v1.rename(columns={'ORIGIN_AIRPORT':'ORIGIN_AC', #Origin Airport Code\n",
    "                            'AIRPORT_NAME':'ORIGIN_AIRPORT', #Origin Airport Name\n",
    "                            'DESTINATION_AIRPORT': 'DESTINATION_AC'}, inplace=True) #Dest Airport Code\n",
    "df_merge_v1.drop(['AIRLINE','AIRPORT_CODE'], axis=1, inplace=True)\n",
    "\n",
    "#Merge Airports and Flights dfs on Destination_Airport and Airport_Code\n",
    "df_merge_v1 = pd.merge(df_merge_v1, df_airports, left_on='DESTINATION_AC', right_on='AIRPORT_CODE', how='left')\n",
    "df_merge_v1.rename(columns={'AIRPORT_NAME':'DESTINATION_AIRPORT'}, inplace=True) #Dest Airport Name\n",
    "\n",
    "df_merge_v1.drop('AIRPORT_CODE', axis=1, inplace=True)"
   ]
  },
  {
   "cell_type": "code",
   "execution_count": null,
   "metadata": {},
   "outputs": [],
   "source": [
    "print(\"Merged Dataframe Columns: \\n\", df_merge_v1.columns)\n",
    "\n",
    "df_merge_v1[['ORIGIN_AIRPORT', 'ORIGIN_AC','DESTINATION_AIRPORT', 'DESTINATION_AC']]"
   ]
  },
  {
   "cell_type": "markdown",
   "metadata": {},
   "source": [
    "## Save file"
   ]
  },
  {
   "cell_type": "code",
   "execution_count": null,
   "metadata": {},
   "outputs": [],
   "source": [
    "df_merge_v1.to_csv('data/flightsmerged.csv', index=False)"
   ]
  }
 ],
 "metadata": {
  "anaconda-cloud": {},
  "kernelspec": {
   "display_name": "Python 3",
   "language": "python",
   "name": "python3"
  },
  "language_info": {
   "codemirror_mode": {
    "name": "ipython",
    "version": 3
   },
   "file_extension": ".py",
   "mimetype": "text/x-python",
   "name": "python",
   "nbconvert_exporter": "python",
   "pygments_lexer": "ipython3",
   "version": "3.7.1"
  }
 },
 "nbformat": 4,
 "nbformat_minor": 1
}
