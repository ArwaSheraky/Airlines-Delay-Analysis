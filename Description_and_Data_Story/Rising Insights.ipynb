{
 "cells": [
  {
   "cell_type": "markdown",
   "metadata": {},
   "source": [
    "# Rising Insights"
   ]
  },
  {
   "cell_type": "code",
   "execution_count": 1,
   "metadata": {},
   "outputs": [],
   "source": [
    "# import the library\n",
    "%matplotlib inline\n",
    "\n",
    "import pandas as pd\n",
    "import numpy as np\n",
    "import scipy\n",
    "import matplotlib.pyplot as plt\n",
    "import seaborn as sns\n",
    "\n",
    "sns.set_style('whitegrid')\n",
    "\n",
    "# convert scientific notation to decimals\n",
    "pd.set_option('display.float_format', lambda x: '%.2f' % x)"
   ]
  },
  {
   "cell_type": "markdown",
   "metadata": {},
   "source": [
    "## Load Data"
   ]
  },
  {
   "cell_type": "code",
   "execution_count": 10,
   "metadata": {},
   "outputs": [
    {
     "name": "stdout",
     "output_type": "stream",
     "text": [
      "Index(['MONTH', 'FLIGHT_NUMBER', 'TAIL_NUMBER', 'ORIGIN_AC', 'DESTINATION_AC',\n",
      "       'SCHEDULED_DEPARTURE', 'DEPARTURE_TIME', 'DEPARTURE_DELAY',\n",
      "       'SCHEDULED_TIME', 'ELAPSED_TIME', 'AIR_TIME', 'DISTANCE',\n",
      "       'SCHEDULED_ARRIVAL', 'ARRIVAL_TIME', 'ARRIVAL_DELAY', 'DIVERTED',\n",
      "       'CANCELLED', 'CANCELLATION_REASON', 'AIR_SYSTEM_DELAY',\n",
      "       'SECURITY_DELAY', 'AIRLINE_DELAY', 'LATE_AIRCRAFT_DELAY',\n",
      "       'WEATHER_DELAY', 'DATE', 'AIRLINE_CODE', 'AIRLINE_NAME',\n",
      "       'ORIGIN_AIRPORT', 'DESTINATION_AIRPORT'],\n",
      "      dtype='object')\n"
     ]
    },
    {
     "data": {
      "text/html": [
       "<div>\n",
       "<style scoped>\n",
       "    .dataframe tbody tr th:only-of-type {\n",
       "        vertical-align: middle;\n",
       "    }\n",
       "\n",
       "    .dataframe tbody tr th {\n",
       "        vertical-align: top;\n",
       "    }\n",
       "\n",
       "    .dataframe thead th {\n",
       "        text-align: right;\n",
       "    }\n",
       "</style>\n",
       "<table border=\"1\" class=\"dataframe\">\n",
       "  <thead>\n",
       "    <tr style=\"text-align: right;\">\n",
       "      <th></th>\n",
       "      <th>MONTH</th>\n",
       "      <th>FLIGHT_NUMBER</th>\n",
       "      <th>TAIL_NUMBER</th>\n",
       "      <th>ORIGIN_AC</th>\n",
       "      <th>DESTINATION_AC</th>\n",
       "      <th>SCHEDULED_DEPARTURE</th>\n",
       "      <th>DEPARTURE_TIME</th>\n",
       "      <th>DEPARTURE_DELAY</th>\n",
       "      <th>SCHEDULED_TIME</th>\n",
       "      <th>ELAPSED_TIME</th>\n",
       "      <th>...</th>\n",
       "      <th>AIR_SYSTEM_DELAY</th>\n",
       "      <th>SECURITY_DELAY</th>\n",
       "      <th>AIRLINE_DELAY</th>\n",
       "      <th>LATE_AIRCRAFT_DELAY</th>\n",
       "      <th>WEATHER_DELAY</th>\n",
       "      <th>DATE</th>\n",
       "      <th>AIRLINE_CODE</th>\n",
       "      <th>AIRLINE_NAME</th>\n",
       "      <th>ORIGIN_AIRPORT</th>\n",
       "      <th>DESTINATION_AIRPORT</th>\n",
       "    </tr>\n",
       "  </thead>\n",
       "  <tbody>\n",
       "    <tr>\n",
       "      <th>0</th>\n",
       "      <td>1</td>\n",
       "      <td>98</td>\n",
       "      <td>N407AS</td>\n",
       "      <td>ANC</td>\n",
       "      <td>SEA</td>\n",
       "      <td>00:05:00</td>\n",
       "      <td>23:54:00</td>\n",
       "      <td>-11.00</td>\n",
       "      <td>205.00</td>\n",
       "      <td>194.00</td>\n",
       "      <td>...</td>\n",
       "      <td>nan</td>\n",
       "      <td>nan</td>\n",
       "      <td>nan</td>\n",
       "      <td>nan</td>\n",
       "      <td>nan</td>\n",
       "      <td>2015-01-01</td>\n",
       "      <td>AS</td>\n",
       "      <td>Alaska Airlines Inc.</td>\n",
       "      <td>Ted Stevens Anchorage International Airport</td>\n",
       "      <td>Seattle-Tacoma International Airport</td>\n",
       "    </tr>\n",
       "    <tr>\n",
       "      <th>1</th>\n",
       "      <td>1</td>\n",
       "      <td>2336</td>\n",
       "      <td>N3KUAA</td>\n",
       "      <td>LAX</td>\n",
       "      <td>PBI</td>\n",
       "      <td>00:10:00</td>\n",
       "      <td>00:02:00</td>\n",
       "      <td>-8.00</td>\n",
       "      <td>280.00</td>\n",
       "      <td>279.00</td>\n",
       "      <td>...</td>\n",
       "      <td>nan</td>\n",
       "      <td>nan</td>\n",
       "      <td>nan</td>\n",
       "      <td>nan</td>\n",
       "      <td>nan</td>\n",
       "      <td>2015-01-01</td>\n",
       "      <td>AA</td>\n",
       "      <td>American Airlines Inc.</td>\n",
       "      <td>Los Angeles International Airport</td>\n",
       "      <td>Palm Beach International Airport</td>\n",
       "    </tr>\n",
       "    <tr>\n",
       "      <th>2</th>\n",
       "      <td>1</td>\n",
       "      <td>840</td>\n",
       "      <td>N171US</td>\n",
       "      <td>SFO</td>\n",
       "      <td>CLT</td>\n",
       "      <td>00:20:00</td>\n",
       "      <td>00:18:00</td>\n",
       "      <td>-2.00</td>\n",
       "      <td>286.00</td>\n",
       "      <td>293.00</td>\n",
       "      <td>...</td>\n",
       "      <td>nan</td>\n",
       "      <td>nan</td>\n",
       "      <td>nan</td>\n",
       "      <td>nan</td>\n",
       "      <td>nan</td>\n",
       "      <td>2015-01-01</td>\n",
       "      <td>US</td>\n",
       "      <td>US Airways Inc.</td>\n",
       "      <td>San Francisco International Airport</td>\n",
       "      <td>Charlotte Douglas International Airport</td>\n",
       "    </tr>\n",
       "    <tr>\n",
       "      <th>3</th>\n",
       "      <td>1</td>\n",
       "      <td>258</td>\n",
       "      <td>N3HYAA</td>\n",
       "      <td>LAX</td>\n",
       "      <td>MIA</td>\n",
       "      <td>00:20:00</td>\n",
       "      <td>00:15:00</td>\n",
       "      <td>-5.00</td>\n",
       "      <td>285.00</td>\n",
       "      <td>281.00</td>\n",
       "      <td>...</td>\n",
       "      <td>nan</td>\n",
       "      <td>nan</td>\n",
       "      <td>nan</td>\n",
       "      <td>nan</td>\n",
       "      <td>nan</td>\n",
       "      <td>2015-01-01</td>\n",
       "      <td>AA</td>\n",
       "      <td>American Airlines Inc.</td>\n",
       "      <td>Los Angeles International Airport</td>\n",
       "      <td>Miami International Airport</td>\n",
       "    </tr>\n",
       "    <tr>\n",
       "      <th>4</th>\n",
       "      <td>1</td>\n",
       "      <td>135</td>\n",
       "      <td>N527AS</td>\n",
       "      <td>SEA</td>\n",
       "      <td>ANC</td>\n",
       "      <td>00:25:00</td>\n",
       "      <td>00:24:00</td>\n",
       "      <td>-1.00</td>\n",
       "      <td>235.00</td>\n",
       "      <td>215.00</td>\n",
       "      <td>...</td>\n",
       "      <td>nan</td>\n",
       "      <td>nan</td>\n",
       "      <td>nan</td>\n",
       "      <td>nan</td>\n",
       "      <td>nan</td>\n",
       "      <td>2015-01-01</td>\n",
       "      <td>AS</td>\n",
       "      <td>Alaska Airlines Inc.</td>\n",
       "      <td>Seattle-Tacoma International Airport</td>\n",
       "      <td>Ted Stevens Anchorage International Airport</td>\n",
       "    </tr>\n",
       "  </tbody>\n",
       "</table>\n",
       "<p>5 rows × 28 columns</p>\n",
       "</div>"
      ],
      "text/plain": [
       "   MONTH  FLIGHT_NUMBER TAIL_NUMBER ORIGIN_AC DESTINATION_AC  \\\n",
       "0      1             98      N407AS       ANC            SEA   \n",
       "1      1           2336      N3KUAA       LAX            PBI   \n",
       "2      1            840      N171US       SFO            CLT   \n",
       "3      1            258      N3HYAA       LAX            MIA   \n",
       "4      1            135      N527AS       SEA            ANC   \n",
       "\n",
       "  SCHEDULED_DEPARTURE DEPARTURE_TIME  DEPARTURE_DELAY  SCHEDULED_TIME  \\\n",
       "0            00:05:00       23:54:00           -11.00          205.00   \n",
       "1            00:10:00       00:02:00            -8.00          280.00   \n",
       "2            00:20:00       00:18:00            -2.00          286.00   \n",
       "3            00:20:00       00:15:00            -5.00          285.00   \n",
       "4            00:25:00       00:24:00            -1.00          235.00   \n",
       "\n",
       "   ELAPSED_TIME                     ...                       \\\n",
       "0        194.00                     ...                        \n",
       "1        279.00                     ...                        \n",
       "2        293.00                     ...                        \n",
       "3        281.00                     ...                        \n",
       "4        215.00                     ...                        \n",
       "\n",
       "   AIR_SYSTEM_DELAY  SECURITY_DELAY AIRLINE_DELAY LATE_AIRCRAFT_DELAY  \\\n",
       "0               nan             nan           nan                 nan   \n",
       "1               nan             nan           nan                 nan   \n",
       "2               nan             nan           nan                 nan   \n",
       "3               nan             nan           nan                 nan   \n",
       "4               nan             nan           nan                 nan   \n",
       "\n",
       "   WEATHER_DELAY        DATE  AIRLINE_CODE            AIRLINE_NAME  \\\n",
       "0            nan  2015-01-01            AS    Alaska Airlines Inc.   \n",
       "1            nan  2015-01-01            AA  American Airlines Inc.   \n",
       "2            nan  2015-01-01            US         US Airways Inc.   \n",
       "3            nan  2015-01-01            AA  American Airlines Inc.   \n",
       "4            nan  2015-01-01            AS    Alaska Airlines Inc.   \n",
       "\n",
       "                                ORIGIN_AIRPORT  \\\n",
       "0  Ted Stevens Anchorage International Airport   \n",
       "1            Los Angeles International Airport   \n",
       "2          San Francisco International Airport   \n",
       "3            Los Angeles International Airport   \n",
       "4         Seattle-Tacoma International Airport   \n",
       "\n",
       "                           DESTINATION_AIRPORT  \n",
       "0         Seattle-Tacoma International Airport  \n",
       "1             Palm Beach International Airport  \n",
       "2      Charlotte Douglas International Airport  \n",
       "3                  Miami International Airport  \n",
       "4  Ted Stevens Anchorage International Airport  \n",
       "\n",
       "[5 rows x 28 columns]"
      ]
     },
     "execution_count": 10,
     "metadata": {},
     "output_type": "execute_result"
    }
   ],
   "source": [
    "df = pd.read_csv('data/flightsmerged.csv', low_memory=False)\n",
    "print(df.columns)\n",
    "df.head()"
   ]
  },
  {
   "cell_type": "markdown",
   "metadata": {},
   "source": [
    "## Months x Delays"
   ]
  },
  {
   "cell_type": "markdown",
   "metadata": {},
   "source": [
    "### From Exploratory phase, June has the highest arrival delay. WHY?"
   ]
  },
  {
   "cell_type": "code",
   "execution_count": 19,
   "metadata": {},
   "outputs": [],
   "source": [
    "june_wd = df[df['MONTH'] == 6]['WEATHER_DELAY'].mean()\n",
    "june_ad = df[df['MONTH'] == 6]['AIRLINE_DELAY'].mean()\n",
    "june_asd = df[df['MONTH'] == 6]['AIR_SYSTEM_DELAY'].mean()\n",
    "june_sd = df[df['MONTH'] == 6]['SECURITY_DELAY'].mean()\n",
    "june_lad = df[df['MONTH'] == 6]['LATE_AIRCRAFT_DELAY'].mean()"
   ]
  },
  {
   "cell_type": "code",
   "execution_count": 24,
   "metadata": {
    "scrolled": false
   },
   "outputs": [
    {
     "data": {
      "image/png": "[encoded data removed]",
      "text/plain": [
       "<Figure size 648x432 with 1 Axes>"
      ]
     },
     "metadata": {},
     "output_type": "display_data"
    },
    {
     "name": "stdout",
     "output_type": "stream",
     "text": [
      "Mean Weather Delay =  1.7869037510613854\n",
      "Mean Airline Delay =  12.892462913940363\n",
      "Mean Air System Delay =  11.4077318815244\n",
      "Mean Security Delay =  0.05864841915988212\n",
      "Mean Late Aircraft Delay =  17.64226562109785\n"
     ]
    }
   ],
   "source": [
    "plt.figure(figsize=(9,6))\n",
    "\n",
    "plt.bar(x = ['Weather Delay','Airline Delay','Air System Delay','Security Delay','Late Aircraft Delay'],\n",
    "        height=[june_wd, june_ad, june_asd, june_sd, june_lad],\n",
    "       alpha=0.8, color=['b','r','purple','orange','gray'], width=0.6)\n",
    "\n",
    "plt.title('Delay Causes in June')\n",
    "plt.xlabel('Delay Causes')\n",
    "plt.ylabel('Average Delay in minutes')\n",
    "\n",
    "plt.savefig('Charts/june_delay_reasons.png', dpi=100)\n",
    "plt.show()\n",
    "\n",
    "\n",
    "print(\"Mean Weather Delay = \", june_wd)\n",
    "print(\"Mean Airline Delay = \",june_ad)\n",
    "print(\"Mean Air System Delay = \", june_asd)\n",
    "print(\"Mean Security Delay = \",june_sd)\n",
    "print(\"Mean Late Aircraft Delay = \",june_lad)"
   ]
  },
  {
   "cell_type": "markdown",
   "metadata": {},
   "source": [
    "#### Late Aircraft Delay and Airline Delay is the main reason of flight delays in june."
   ]
  },
  {
   "cell_type": "code",
   "execution_count": null,
   "metadata": {},
   "outputs": [],
   "source": [
    "feb_cancellation = df[df['MONTH'] == 2]['CANCELLATION_REASON']\n",
    "\n",
    "# Bar Chart\n",
    "plt.figure(figsize=(12,6))\n",
    "plt.title('# Flight Cancelled')\n",
    "plt.xlabel('Cancellation Reasons')\n",
    "plt.ylabel('# Flights')\n",
    "\n",
    "plt.bar(feb_cancellation.index, feb_cancellation.values, align='center', alpha=0.5, color=['red','purple','navy','gray'])\n",
    "\n",
    "plt.savefig('Charts/cancellation_causes.png', dpi=100)\n",
    "plt.show()"
   ]
  },
  {
   "cell_type": "markdown",
   "metadata": {},
   "source": [
    "## Airlines x Delays"
   ]
  },
  {
   "cell_type": "markdown",
   "metadata": {},
   "source": [
    "### United Airlines has the highest arrival and Departure delay. WHY?"
   ]
  },
  {
   "cell_type": "code",
   "execution_count": 14,
   "metadata": {},
   "outputs": [],
   "source": [
    "united_wd = df[df['AIRLINE_CODE'] == 'UA']['WEATHER_DELAY'].mean()\n",
    "united_ad = df[df['AIRLINE_CODE'] == 'UA']['AIRLINE_DELAY'].mean()\n",
    "united_asd = df[df['AIRLINE_CODE'] == 'UA']['AIR_SYSTEM_DELAY'].mean()\n",
    "united_sd = df[df['AIRLINE_CODE'] == 'UA']['SECURITY_DELAY'].mean()\n",
    "united_lad = df[df['AIRLINE_CODE'] == 'UA']['LATE_AIRCRAFT_DELAY'].mean()"
   ]
  },
  {
   "cell_type": "code",
   "execution_count": 22,
   "metadata": {},
   "outputs": [
    {
     "data": {
      "image/png": "[encoded data removed]",
      "text/plain": [
       "<Figure size 648x432 with 1 Axes>"
      ]
     },
     "metadata": {},
     "output_type": "display_data"
    },
    {
     "name": "stdout",
     "output_type": "stream",
     "text": [
      "Mean Weather Delay =  1.8399717339853958\n",
      "Mean Airline Delay =  15.0789092907698\n",
      "Mean Air System Delay =  11.5980841923435\n",
      "Mean Security Delay =  0.01326932352248382\n",
      "Mean Late Aircraft Delay =  14.513667515394882\n"
     ]
    }
   ],
   "source": [
    "plt.figure(figsize=(9, 6))\n",
    "\n",
    "plt.bar(x = ['Weather Delay','Airline Delay','Air System Delay','Security Delay','Late Aircraft Delay'],\n",
    "        height=[united_wd, united_ad, united_asd, united_sd, united_lad],\n",
    "       alpha=0.8, width=0.6, color=['navy','r','purple','orange','gray'])\n",
    "\n",
    "plt.title('Delay Causes of United Airlines')\n",
    "plt.xlabel('Delay Causes')\n",
    "plt.ylabel('Average Delay in minutes')\n",
    "\n",
    "plt.savefig('Charts/united_delay_reasons.png', dpi=100)\n",
    "plt.show()\n",
    "\n",
    "print(\"Mean Weather Delay = \", united_wd)\n",
    "print(\"Mean Airline Delay = \",united_ad)\n",
    "print(\"Mean Air System Delay = \", united_asd)\n",
    "print(\"Mean Security Delay = \",united_sd)\n",
    "print(\"Mean Late Aircraft Delay = \",united_lad)"
   ]
  },
  {
   "cell_type": "code",
   "execution_count": null,
   "metadata": {},
   "outputs": [],
   "source": []
  }
 ],
 "metadata": {
  "kernelspec": {
   "display_name": "Python 3",
   "language": "python",
   "name": "python3"
  },
  "language_info": {
   "codemirror_mode": {
    "name": "ipython",
    "version": 3
   },
   "file_extension": ".py",
   "mimetype": "text/x-python",
   "name": "python",
   "nbconvert_exporter": "python",
   "pygments_lexer": "ipython3",
   "version": "3.7.1"
  }
 },
 "nbformat": 4,
 "nbformat_minor": 2
}
